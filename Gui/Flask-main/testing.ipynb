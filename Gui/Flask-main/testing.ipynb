{
 "cells": [
  {
   "cell_type": "code",
   "execution_count": 4,
   "metadata": {},
   "outputs": [],
   "source": [
    "import preprocessing\n",
    "import util"
   ]
  },
  {
   "cell_type": "code",
   "execution_count": 2,
   "outputs": [],
   "source": [
    "filename = \"DAY_1.txt\"\n",
    "type = \"HouseA\""
   ],
   "metadata": {
    "collapsed": false,
    "pycharm": {
     "name": "#%%\n"
    }
   }
  },
  {
   "cell_type": "code",
   "execution_count": 3,
   "metadata": {},
   "outputs": [
    {
     "name": "stdout",
     "output_type": "stream",
     "text": [
      "0\n",
      "20000\n",
      "40000\n",
      "60000\n",
      "80000\n",
      "1158\n"
     ]
    }
   ],
   "source": [
    "df = preprocessing.process_data_Aras(\"DAY_1.txt\", \"HouseA\")"
   ]
  },
  {
   "cell_type": "code",
   "execution_count": 3,
   "metadata": {},
   "outputs": [
    {
     "data": {
      "text/plain": "      sensor_id  value   time  old_sen\n0          5889      1     49        3\n1          5889      0    252        3\n2          5889      1    301        3\n3          5889      0    504        3\n4          5889      1    505        3\n...         ...    ...    ...      ...\n1153       7125      1  86125       16\n1154       7125      0  86128       16\n1155       7125      1  86152       16\n1156       7125      0  86154       16\n1157       5889      1  86219        4\n\n[1158 rows x 4 columns]",
      "text/html": "<div>\n<style scoped>\n    .dataframe tbody tr th:only-of-type {\n        vertical-align: middle;\n    }\n\n    .dataframe tbody tr th {\n        vertical-align: top;\n    }\n\n    .dataframe thead th {\n        text-align: right;\n    }\n</style>\n<table border=\"1\" class=\"dataframe\">\n  <thead>\n    <tr style=\"text-align: right;\">\n      <th></th>\n      <th>sensor_id</th>\n      <th>value</th>\n      <th>time</th>\n      <th>old_sen</th>\n    </tr>\n  </thead>\n  <tbody>\n    <tr>\n      <th>0</th>\n      <td>5889</td>\n      <td>1</td>\n      <td>49</td>\n      <td>3</td>\n    </tr>\n    <tr>\n      <th>1</th>\n      <td>5889</td>\n      <td>0</td>\n      <td>252</td>\n      <td>3</td>\n    </tr>\n    <tr>\n      <th>2</th>\n      <td>5889</td>\n      <td>1</td>\n      <td>301</td>\n      <td>3</td>\n    </tr>\n    <tr>\n      <th>3</th>\n      <td>5889</td>\n      <td>0</td>\n      <td>504</td>\n      <td>3</td>\n    </tr>\n    <tr>\n      <th>4</th>\n      <td>5889</td>\n      <td>1</td>\n      <td>505</td>\n      <td>3</td>\n    </tr>\n    <tr>\n      <th>...</th>\n      <td>...</td>\n      <td>...</td>\n      <td>...</td>\n      <td>...</td>\n    </tr>\n    <tr>\n      <th>1153</th>\n      <td>7125</td>\n      <td>1</td>\n      <td>86125</td>\n      <td>16</td>\n    </tr>\n    <tr>\n      <th>1154</th>\n      <td>7125</td>\n      <td>0</td>\n      <td>86128</td>\n      <td>16</td>\n    </tr>\n    <tr>\n      <th>1155</th>\n      <td>7125</td>\n      <td>1</td>\n      <td>86152</td>\n      <td>16</td>\n    </tr>\n    <tr>\n      <th>1156</th>\n      <td>7125</td>\n      <td>0</td>\n      <td>86154</td>\n      <td>16</td>\n    </tr>\n    <tr>\n      <th>1157</th>\n      <td>5889</td>\n      <td>1</td>\n      <td>86219</td>\n      <td>4</td>\n    </tr>\n  </tbody>\n</table>\n<p>1158 rows × 4 columns</p>\n</div>"
     },
     "execution_count": 3,
     "metadata": {},
     "output_type": "execute_result"
    }
   ],
   "source": [
    "df"
   ]
  },
  {
   "cell_type": "code",
   "execution_count": 4,
   "metadata": {},
   "outputs": [
    {
     "name": "stdout",
     "output_type": "stream",
     "text": [
      "0\n",
      "20000\n",
      "40000\n",
      "60000\n",
      "80000\n"
     ]
    },
    {
     "data": {
      "text/plain": "       3  4  7  11  12  13  15  16  17  19  20  21   time\n0      0  0  0   0   0   0   0   0   0   0  12  17      1\n48     1  0  0   0   0   0   0   0   0   0  12  17     49\n251    0  0  0   0   0   0   0   0   0   0  12  17    252\n300    1  0  0   0   0   0   0   0   0   0  12  17    301\n503    0  0  0   0   0   0   0   0   0   0  12  17    504\n...   .. .. ..  ..  ..  ..  ..  ..  ..  ..  ..  ..    ...\n86124  1  0  0   0   0   0   0   1   0   0  21  12  86125\n86127  1  0  0   0   0   0   0   0   0   0  21  12  86128\n86151  1  0  0   0   0   0   0   1   0   0  21  12  86152\n86153  1  0  0   0   0   0   0   0   0   0  21  12  86154\n86218  1  1  0   0   0   0   0   0   0   0  12  12  86219\n\n[1159 rows x 13 columns]",
      "text/html": "<div>\n<style scoped>\n    .dataframe tbody tr th:only-of-type {\n        vertical-align: middle;\n    }\n\n    .dataframe tbody tr th {\n        vertical-align: top;\n    }\n\n    .dataframe thead th {\n        text-align: right;\n    }\n</style>\n<table border=\"1\" class=\"dataframe\">\n  <thead>\n    <tr style=\"text-align: right;\">\n      <th></th>\n      <th>3</th>\n      <th>4</th>\n      <th>7</th>\n      <th>11</th>\n      <th>12</th>\n      <th>13</th>\n      <th>15</th>\n      <th>16</th>\n      <th>17</th>\n      <th>19</th>\n      <th>20</th>\n      <th>21</th>\n      <th>time</th>\n    </tr>\n  </thead>\n  <tbody>\n    <tr>\n      <th>0</th>\n      <td>0</td>\n      <td>0</td>\n      <td>0</td>\n      <td>0</td>\n      <td>0</td>\n      <td>0</td>\n      <td>0</td>\n      <td>0</td>\n      <td>0</td>\n      <td>0</td>\n      <td>12</td>\n      <td>17</td>\n      <td>1</td>\n    </tr>\n    <tr>\n      <th>48</th>\n      <td>1</td>\n      <td>0</td>\n      <td>0</td>\n      <td>0</td>\n      <td>0</td>\n      <td>0</td>\n      <td>0</td>\n      <td>0</td>\n      <td>0</td>\n      <td>0</td>\n      <td>12</td>\n      <td>17</td>\n      <td>49</td>\n    </tr>\n    <tr>\n      <th>251</th>\n      <td>0</td>\n      <td>0</td>\n      <td>0</td>\n      <td>0</td>\n      <td>0</td>\n      <td>0</td>\n      <td>0</td>\n      <td>0</td>\n      <td>0</td>\n      <td>0</td>\n      <td>12</td>\n      <td>17</td>\n      <td>252</td>\n    </tr>\n    <tr>\n      <th>300</th>\n      <td>1</td>\n      <td>0</td>\n      <td>0</td>\n      <td>0</td>\n      <td>0</td>\n      <td>0</td>\n      <td>0</td>\n      <td>0</td>\n      <td>0</td>\n      <td>0</td>\n      <td>12</td>\n      <td>17</td>\n      <td>301</td>\n    </tr>\n    <tr>\n      <th>503</th>\n      <td>0</td>\n      <td>0</td>\n      <td>0</td>\n      <td>0</td>\n      <td>0</td>\n      <td>0</td>\n      <td>0</td>\n      <td>0</td>\n      <td>0</td>\n      <td>0</td>\n      <td>12</td>\n      <td>17</td>\n      <td>504</td>\n    </tr>\n    <tr>\n      <th>...</th>\n      <td>...</td>\n      <td>...</td>\n      <td>...</td>\n      <td>...</td>\n      <td>...</td>\n      <td>...</td>\n      <td>...</td>\n      <td>...</td>\n      <td>...</td>\n      <td>...</td>\n      <td>...</td>\n      <td>...</td>\n      <td>...</td>\n    </tr>\n    <tr>\n      <th>86124</th>\n      <td>1</td>\n      <td>0</td>\n      <td>0</td>\n      <td>0</td>\n      <td>0</td>\n      <td>0</td>\n      <td>0</td>\n      <td>1</td>\n      <td>0</td>\n      <td>0</td>\n      <td>21</td>\n      <td>12</td>\n      <td>86125</td>\n    </tr>\n    <tr>\n      <th>86127</th>\n      <td>1</td>\n      <td>0</td>\n      <td>0</td>\n      <td>0</td>\n      <td>0</td>\n      <td>0</td>\n      <td>0</td>\n      <td>0</td>\n      <td>0</td>\n      <td>0</td>\n      <td>21</td>\n      <td>12</td>\n      <td>86128</td>\n    </tr>\n    <tr>\n      <th>86151</th>\n      <td>1</td>\n      <td>0</td>\n      <td>0</td>\n      <td>0</td>\n      <td>0</td>\n      <td>0</td>\n      <td>0</td>\n      <td>1</td>\n      <td>0</td>\n      <td>0</td>\n      <td>21</td>\n      <td>12</td>\n      <td>86152</td>\n    </tr>\n    <tr>\n      <th>86153</th>\n      <td>1</td>\n      <td>0</td>\n      <td>0</td>\n      <td>0</td>\n      <td>0</td>\n      <td>0</td>\n      <td>0</td>\n      <td>0</td>\n      <td>0</td>\n      <td>0</td>\n      <td>21</td>\n      <td>12</td>\n      <td>86154</td>\n    </tr>\n    <tr>\n      <th>86218</th>\n      <td>1</td>\n      <td>1</td>\n      <td>0</td>\n      <td>0</td>\n      <td>0</td>\n      <td>0</td>\n      <td>0</td>\n      <td>0</td>\n      <td>0</td>\n      <td>0</td>\n      <td>12</td>\n      <td>12</td>\n      <td>86219</td>\n    </tr>\n  </tbody>\n</table>\n<p>1159 rows × 13 columns</p>\n</div>"
     },
     "execution_count": 4,
     "metadata": {},
     "output_type": "execute_result"
    }
   ],
   "source": [
    "data = util.load_aras(filename, type)\n",
    "data"
   ]
  },
  {
   "cell_type": "code",
   "execution_count": 5,
   "outputs": [
    {
     "data": {
      "text/plain": "      3  4  7  11  12  13  15  16  17  19  20  21   time  sensor  value\n1     1  0  0   0   0   0   0   0   0   0  12  17     49       3      1\n2     0  0  0   0   0   0   0   0   0   0  12  17    252       3      0\n3     1  0  0   0   0   0   0   0   0   0  12  17    301       3      1\n4     0  0  0   0   0   0   0   0   0   0  12  17    504       3      0\n5     1  0  0   0   0   0   0   0   0   0  12  17    505       3      1\n...  .. .. ..  ..  ..  ..  ..  ..  ..  ..  ..  ..    ...     ...    ...\n1154  1  0  0   0   0   0   0   1   0   0  21  12  86125      16      1\n1155  1  0  0   0   0   0   0   0   0   0  21  12  86128      16      0\n1156  1  0  0   0   0   0   0   1   0   0  21  12  86152      16      1\n1157  1  0  0   0   0   0   0   0   0   0  21  12  86154      16      0\n1158  1  1  0   0   0   0   0   0   0   0  12  12  86219       4      1\n\n[1158 rows x 15 columns]",
      "text/html": "<div>\n<style scoped>\n    .dataframe tbody tr th:only-of-type {\n        vertical-align: middle;\n    }\n\n    .dataframe tbody tr th {\n        vertical-align: top;\n    }\n\n    .dataframe thead th {\n        text-align: right;\n    }\n</style>\n<table border=\"1\" class=\"dataframe\">\n  <thead>\n    <tr style=\"text-align: right;\">\n      <th></th>\n      <th>3</th>\n      <th>4</th>\n      <th>7</th>\n      <th>11</th>\n      <th>12</th>\n      <th>13</th>\n      <th>15</th>\n      <th>16</th>\n      <th>17</th>\n      <th>19</th>\n      <th>20</th>\n      <th>21</th>\n      <th>time</th>\n      <th>sensor</th>\n      <th>value</th>\n    </tr>\n  </thead>\n  <tbody>\n    <tr>\n      <th>1</th>\n      <td>1</td>\n      <td>0</td>\n      <td>0</td>\n      <td>0</td>\n      <td>0</td>\n      <td>0</td>\n      <td>0</td>\n      <td>0</td>\n      <td>0</td>\n      <td>0</td>\n      <td>12</td>\n      <td>17</td>\n      <td>49</td>\n      <td>3</td>\n      <td>1</td>\n    </tr>\n    <tr>\n      <th>2</th>\n      <td>0</td>\n      <td>0</td>\n      <td>0</td>\n      <td>0</td>\n      <td>0</td>\n      <td>0</td>\n      <td>0</td>\n      <td>0</td>\n      <td>0</td>\n      <td>0</td>\n      <td>12</td>\n      <td>17</td>\n      <td>252</td>\n      <td>3</td>\n      <td>0</td>\n    </tr>\n    <tr>\n      <th>3</th>\n      <td>1</td>\n      <td>0</td>\n      <td>0</td>\n      <td>0</td>\n      <td>0</td>\n      <td>0</td>\n      <td>0</td>\n      <td>0</td>\n      <td>0</td>\n      <td>0</td>\n      <td>12</td>\n      <td>17</td>\n      <td>301</td>\n      <td>3</td>\n      <td>1</td>\n    </tr>\n    <tr>\n      <th>4</th>\n      <td>0</td>\n      <td>0</td>\n      <td>0</td>\n      <td>0</td>\n      <td>0</td>\n      <td>0</td>\n      <td>0</td>\n      <td>0</td>\n      <td>0</td>\n      <td>0</td>\n      <td>12</td>\n      <td>17</td>\n      <td>504</td>\n      <td>3</td>\n      <td>0</td>\n    </tr>\n    <tr>\n      <th>5</th>\n      <td>1</td>\n      <td>0</td>\n      <td>0</td>\n      <td>0</td>\n      <td>0</td>\n      <td>0</td>\n      <td>0</td>\n      <td>0</td>\n      <td>0</td>\n      <td>0</td>\n      <td>12</td>\n      <td>17</td>\n      <td>505</td>\n      <td>3</td>\n      <td>1</td>\n    </tr>\n    <tr>\n      <th>...</th>\n      <td>...</td>\n      <td>...</td>\n      <td>...</td>\n      <td>...</td>\n      <td>...</td>\n      <td>...</td>\n      <td>...</td>\n      <td>...</td>\n      <td>...</td>\n      <td>...</td>\n      <td>...</td>\n      <td>...</td>\n      <td>...</td>\n      <td>...</td>\n      <td>...</td>\n    </tr>\n    <tr>\n      <th>1154</th>\n      <td>1</td>\n      <td>0</td>\n      <td>0</td>\n      <td>0</td>\n      <td>0</td>\n      <td>0</td>\n      <td>0</td>\n      <td>1</td>\n      <td>0</td>\n      <td>0</td>\n      <td>21</td>\n      <td>12</td>\n      <td>86125</td>\n      <td>16</td>\n      <td>1</td>\n    </tr>\n    <tr>\n      <th>1155</th>\n      <td>1</td>\n      <td>0</td>\n      <td>0</td>\n      <td>0</td>\n      <td>0</td>\n      <td>0</td>\n      <td>0</td>\n      <td>0</td>\n      <td>0</td>\n      <td>0</td>\n      <td>21</td>\n      <td>12</td>\n      <td>86128</td>\n      <td>16</td>\n      <td>0</td>\n    </tr>\n    <tr>\n      <th>1156</th>\n      <td>1</td>\n      <td>0</td>\n      <td>0</td>\n      <td>0</td>\n      <td>0</td>\n      <td>0</td>\n      <td>0</td>\n      <td>1</td>\n      <td>0</td>\n      <td>0</td>\n      <td>21</td>\n      <td>12</td>\n      <td>86152</td>\n      <td>16</td>\n      <td>1</td>\n    </tr>\n    <tr>\n      <th>1157</th>\n      <td>1</td>\n      <td>0</td>\n      <td>0</td>\n      <td>0</td>\n      <td>0</td>\n      <td>0</td>\n      <td>0</td>\n      <td>0</td>\n      <td>0</td>\n      <td>0</td>\n      <td>21</td>\n      <td>12</td>\n      <td>86154</td>\n      <td>16</td>\n      <td>0</td>\n    </tr>\n    <tr>\n      <th>1158</th>\n      <td>1</td>\n      <td>1</td>\n      <td>0</td>\n      <td>0</td>\n      <td>0</td>\n      <td>0</td>\n      <td>0</td>\n      <td>0</td>\n      <td>0</td>\n      <td>0</td>\n      <td>12</td>\n      <td>12</td>\n      <td>86219</td>\n      <td>4</td>\n      <td>1</td>\n    </tr>\n  </tbody>\n</table>\n<p>1158 rows × 15 columns</p>\n</div>"
     },
     "execution_count": 5,
     "metadata": {},
     "output_type": "execute_result"
    }
   ],
   "source": [
    "data = util.transform_House(data)\n",
    "data"
   ],
   "metadata": {
    "collapsed": false,
    "pycharm": {
     "name": "#%%\n"
    }
   }
  },
  {
   "cell_type": "code",
   "execution_count": 6,
   "outputs": [
    {
     "name": "stdout",
     "output_type": "stream",
     "text": [
      "1158\n"
     ]
    },
    {
     "data": {
      "text/plain": "      sensor_id  value   time  old_sen\n0          5889      1     49        3\n1          5889      0    252        3\n2          5889      1    301        3\n3          5889      0    504        3\n4          5889      1    505        3\n...         ...    ...    ...      ...\n1153       7125      1  86125       16\n1154       7125      0  86128       16\n1155       7125      1  86152       16\n1156       7125      0  86154       16\n1157       5889      1  86219        4\n\n[1158 rows x 4 columns]",
      "text/html": "<div>\n<style scoped>\n    .dataframe tbody tr th:only-of-type {\n        vertical-align: middle;\n    }\n\n    .dataframe tbody tr th {\n        vertical-align: top;\n    }\n\n    .dataframe thead th {\n        text-align: right;\n    }\n</style>\n<table border=\"1\" class=\"dataframe\">\n  <thead>\n    <tr style=\"text-align: right;\">\n      <th></th>\n      <th>sensor_id</th>\n      <th>value</th>\n      <th>time</th>\n      <th>old_sen</th>\n    </tr>\n  </thead>\n  <tbody>\n    <tr>\n      <th>0</th>\n      <td>5889</td>\n      <td>1</td>\n      <td>49</td>\n      <td>3</td>\n    </tr>\n    <tr>\n      <th>1</th>\n      <td>5889</td>\n      <td>0</td>\n      <td>252</td>\n      <td>3</td>\n    </tr>\n    <tr>\n      <th>2</th>\n      <td>5889</td>\n      <td>1</td>\n      <td>301</td>\n      <td>3</td>\n    </tr>\n    <tr>\n      <th>3</th>\n      <td>5889</td>\n      <td>0</td>\n      <td>504</td>\n      <td>3</td>\n    </tr>\n    <tr>\n      <th>4</th>\n      <td>5889</td>\n      <td>1</td>\n      <td>505</td>\n      <td>3</td>\n    </tr>\n    <tr>\n      <th>...</th>\n      <td>...</td>\n      <td>...</td>\n      <td>...</td>\n      <td>...</td>\n    </tr>\n    <tr>\n      <th>1153</th>\n      <td>7125</td>\n      <td>1</td>\n      <td>86125</td>\n      <td>16</td>\n    </tr>\n    <tr>\n      <th>1154</th>\n      <td>7125</td>\n      <td>0</td>\n      <td>86128</td>\n      <td>16</td>\n    </tr>\n    <tr>\n      <th>1155</th>\n      <td>7125</td>\n      <td>1</td>\n      <td>86152</td>\n      <td>16</td>\n    </tr>\n    <tr>\n      <th>1156</th>\n      <td>7125</td>\n      <td>0</td>\n      <td>86154</td>\n      <td>16</td>\n    </tr>\n    <tr>\n      <th>1157</th>\n      <td>5889</td>\n      <td>1</td>\n      <td>86219</td>\n      <td>4</td>\n    </tr>\n  </tbody>\n</table>\n<p>1158 rows × 4 columns</p>\n</div>"
     },
     "execution_count": 6,
     "metadata": {},
     "output_type": "execute_result"
    }
   ],
   "source": [
    "data = util.convert_to_multi(data, type)\n",
    "data"
   ],
   "metadata": {
    "collapsed": false,
    "pycharm": {
     "name": "#%%\n"
    }
   }
  },
  {
   "cell_type": "code",
   "execution_count": 7,
   "outputs": [],
   "source": [
    "filename = \"DAY_2.txt\"\n",
    "type = \"HouseB\""
   ],
   "metadata": {
    "collapsed": false,
    "pycharm": {
     "name": "#%%\n"
    }
   }
  },
  {
   "cell_type": "code",
   "execution_count": 9,
   "outputs": [
    {
     "name": "stdout",
     "output_type": "stream",
     "text": [
      "0\n",
      "20000\n",
      "40000\n",
      "60000\n",
      "80000\n",
      "366\n"
     ]
    }
   ],
   "source": [
    "data = preprocessing.process_data_Aras(filename, type)"
   ],
   "metadata": {
    "collapsed": false,
    "pycharm": {
     "name": "#%%\n"
    }
   }
  },
  {
   "cell_type": "code",
   "execution_count": 10,
   "outputs": [
    {
     "name": "stdout",
     "output_type": "stream",
     "text": [
      "0\n",
      "20000\n",
      "40000\n",
      "60000\n",
      "80000\n"
     ]
    },
    {
     "data": {
      "text/plain": "       2  5  6  10  12  13  14  15  16  17  18  19  20  21   time\n0      0  0  0   0   1   1   0   0   0   0   0   0  12  12      1\n643    0  0  0   0   0   1   0   0   0   0   0   0  12  12    644\n644    0  0  0   0   1   1   0   0   0   0   0   0  12  12    645\n962    0  0  0   0   0   0   0   0   0   0   0   0  12  12    963\n965    0  0  0   0   1   1   0   0   0   0   0   0  12  12    966\n...   .. .. ..  ..  ..  ..  ..  ..  ..  ..  ..  ..  ..  ..    ...\n81911  0  0  0   0   0   1   0   0   0   0   1   0  12  12  81912\n81912  0  0  0   0   0   1   0   0   0   0   0   0  12  12  81913\n81928  0  0  0   0   0   0   0   0   0   0   0   0  12  12  81929\n81951  0  0  0   0   0   0   1   0   0   0   0   0  12  11  81952\n81956  0  0  0   0   0   0   1   1   0   0   0   0  11  11  81957\n\n[367 rows x 15 columns]",
      "text/html": "<div>\n<style scoped>\n    .dataframe tbody tr th:only-of-type {\n        vertical-align: middle;\n    }\n\n    .dataframe tbody tr th {\n        vertical-align: top;\n    }\n\n    .dataframe thead th {\n        text-align: right;\n    }\n</style>\n<table border=\"1\" class=\"dataframe\">\n  <thead>\n    <tr style=\"text-align: right;\">\n      <th></th>\n      <th>2</th>\n      <th>5</th>\n      <th>6</th>\n      <th>10</th>\n      <th>12</th>\n      <th>13</th>\n      <th>14</th>\n      <th>15</th>\n      <th>16</th>\n      <th>17</th>\n      <th>18</th>\n      <th>19</th>\n      <th>20</th>\n      <th>21</th>\n      <th>time</th>\n    </tr>\n  </thead>\n  <tbody>\n    <tr>\n      <th>0</th>\n      <td>0</td>\n      <td>0</td>\n      <td>0</td>\n      <td>0</td>\n      <td>1</td>\n      <td>1</td>\n      <td>0</td>\n      <td>0</td>\n      <td>0</td>\n      <td>0</td>\n      <td>0</td>\n      <td>0</td>\n      <td>12</td>\n      <td>12</td>\n      <td>1</td>\n    </tr>\n    <tr>\n      <th>643</th>\n      <td>0</td>\n      <td>0</td>\n      <td>0</td>\n      <td>0</td>\n      <td>0</td>\n      <td>1</td>\n      <td>0</td>\n      <td>0</td>\n      <td>0</td>\n      <td>0</td>\n      <td>0</td>\n      <td>0</td>\n      <td>12</td>\n      <td>12</td>\n      <td>644</td>\n    </tr>\n    <tr>\n      <th>644</th>\n      <td>0</td>\n      <td>0</td>\n      <td>0</td>\n      <td>0</td>\n      <td>1</td>\n      <td>1</td>\n      <td>0</td>\n      <td>0</td>\n      <td>0</td>\n      <td>0</td>\n      <td>0</td>\n      <td>0</td>\n      <td>12</td>\n      <td>12</td>\n      <td>645</td>\n    </tr>\n    <tr>\n      <th>962</th>\n      <td>0</td>\n      <td>0</td>\n      <td>0</td>\n      <td>0</td>\n      <td>0</td>\n      <td>0</td>\n      <td>0</td>\n      <td>0</td>\n      <td>0</td>\n      <td>0</td>\n      <td>0</td>\n      <td>0</td>\n      <td>12</td>\n      <td>12</td>\n      <td>963</td>\n    </tr>\n    <tr>\n      <th>965</th>\n      <td>0</td>\n      <td>0</td>\n      <td>0</td>\n      <td>0</td>\n      <td>1</td>\n      <td>1</td>\n      <td>0</td>\n      <td>0</td>\n      <td>0</td>\n      <td>0</td>\n      <td>0</td>\n      <td>0</td>\n      <td>12</td>\n      <td>12</td>\n      <td>966</td>\n    </tr>\n    <tr>\n      <th>...</th>\n      <td>...</td>\n      <td>...</td>\n      <td>...</td>\n      <td>...</td>\n      <td>...</td>\n      <td>...</td>\n      <td>...</td>\n      <td>...</td>\n      <td>...</td>\n      <td>...</td>\n      <td>...</td>\n      <td>...</td>\n      <td>...</td>\n      <td>...</td>\n      <td>...</td>\n    </tr>\n    <tr>\n      <th>81911</th>\n      <td>0</td>\n      <td>0</td>\n      <td>0</td>\n      <td>0</td>\n      <td>0</td>\n      <td>1</td>\n      <td>0</td>\n      <td>0</td>\n      <td>0</td>\n      <td>0</td>\n      <td>1</td>\n      <td>0</td>\n      <td>12</td>\n      <td>12</td>\n      <td>81912</td>\n    </tr>\n    <tr>\n      <th>81912</th>\n      <td>0</td>\n      <td>0</td>\n      <td>0</td>\n      <td>0</td>\n      <td>0</td>\n      <td>1</td>\n      <td>0</td>\n      <td>0</td>\n      <td>0</td>\n      <td>0</td>\n      <td>0</td>\n      <td>0</td>\n      <td>12</td>\n      <td>12</td>\n      <td>81913</td>\n    </tr>\n    <tr>\n      <th>81928</th>\n      <td>0</td>\n      <td>0</td>\n      <td>0</td>\n      <td>0</td>\n      <td>0</td>\n      <td>0</td>\n      <td>0</td>\n      <td>0</td>\n      <td>0</td>\n      <td>0</td>\n      <td>0</td>\n      <td>0</td>\n      <td>12</td>\n      <td>12</td>\n      <td>81929</td>\n    </tr>\n    <tr>\n      <th>81951</th>\n      <td>0</td>\n      <td>0</td>\n      <td>0</td>\n      <td>0</td>\n      <td>0</td>\n      <td>0</td>\n      <td>1</td>\n      <td>0</td>\n      <td>0</td>\n      <td>0</td>\n      <td>0</td>\n      <td>0</td>\n      <td>12</td>\n      <td>11</td>\n      <td>81952</td>\n    </tr>\n    <tr>\n      <th>81956</th>\n      <td>0</td>\n      <td>0</td>\n      <td>0</td>\n      <td>0</td>\n      <td>0</td>\n      <td>0</td>\n      <td>1</td>\n      <td>1</td>\n      <td>0</td>\n      <td>0</td>\n      <td>0</td>\n      <td>0</td>\n      <td>11</td>\n      <td>11</td>\n      <td>81957</td>\n    </tr>\n  </tbody>\n</table>\n<p>367 rows × 15 columns</p>\n</div>"
     },
     "execution_count": 10,
     "metadata": {},
     "output_type": "execute_result"
    }
   ],
   "source": [
    "data = util.load_aras(filename, type)\n",
    "data"
   ],
   "metadata": {
    "collapsed": false,
    "pycharm": {
     "name": "#%%\n"
    }
   }
  },
  {
   "cell_type": "code",
   "execution_count": 11,
   "outputs": [
    {
     "data": {
      "text/plain": "     2  5  6  10  12  13  14  15  16  17  18  19  20  21   time  sensor  value\n1    0  0  0   0   0   1   0   0   0   0   0   0  12  12    644      12      0\n2    0  0  0   0   1   1   0   0   0   0   0   0  12  12    645      12      1\n3    0  0  0   0   0   0   0   0   0   0   0   0  12  12    963      12      0\n4    0  0  0   0   1   1   0   0   0   0   0   0  12  12    966      12      1\n5    0  0  0   0   0   0   0   0   0   0   0   0  12  12    974      12      0\n..  .. .. ..  ..  ..  ..  ..  ..  ..  ..  ..  ..  ..  ..    ...     ...    ...\n362  0  0  0   0   0   1   0   0   0   0   1   0  12  12  81912      18      1\n363  0  0  0   0   0   1   0   0   0   0   0   0  12  12  81913      18      0\n364  0  0  0   0   0   0   0   0   0   0   0   0  12  12  81929      13      0\n365  0  0  0   0   0   0   1   0   0   0   0   0  12  11  81952      14      1\n366  0  0  0   0   0   0   1   1   0   0   0   0  11  11  81957      15      1\n\n[366 rows x 17 columns]",
      "text/html": "<div>\n<style scoped>\n    .dataframe tbody tr th:only-of-type {\n        vertical-align: middle;\n    }\n\n    .dataframe tbody tr th {\n        vertical-align: top;\n    }\n\n    .dataframe thead th {\n        text-align: right;\n    }\n</style>\n<table border=\"1\" class=\"dataframe\">\n  <thead>\n    <tr style=\"text-align: right;\">\n      <th></th>\n      <th>2</th>\n      <th>5</th>\n      <th>6</th>\n      <th>10</th>\n      <th>12</th>\n      <th>13</th>\n      <th>14</th>\n      <th>15</th>\n      <th>16</th>\n      <th>17</th>\n      <th>18</th>\n      <th>19</th>\n      <th>20</th>\n      <th>21</th>\n      <th>time</th>\n      <th>sensor</th>\n      <th>value</th>\n    </tr>\n  </thead>\n  <tbody>\n    <tr>\n      <th>1</th>\n      <td>0</td>\n      <td>0</td>\n      <td>0</td>\n      <td>0</td>\n      <td>0</td>\n      <td>1</td>\n      <td>0</td>\n      <td>0</td>\n      <td>0</td>\n      <td>0</td>\n      <td>0</td>\n      <td>0</td>\n      <td>12</td>\n      <td>12</td>\n      <td>644</td>\n      <td>12</td>\n      <td>0</td>\n    </tr>\n    <tr>\n      <th>2</th>\n      <td>0</td>\n      <td>0</td>\n      <td>0</td>\n      <td>0</td>\n      <td>1</td>\n      <td>1</td>\n      <td>0</td>\n      <td>0</td>\n      <td>0</td>\n      <td>0</td>\n      <td>0</td>\n      <td>0</td>\n      <td>12</td>\n      <td>12</td>\n      <td>645</td>\n      <td>12</td>\n      <td>1</td>\n    </tr>\n    <tr>\n      <th>3</th>\n      <td>0</td>\n      <td>0</td>\n      <td>0</td>\n      <td>0</td>\n      <td>0</td>\n      <td>0</td>\n      <td>0</td>\n      <td>0</td>\n      <td>0</td>\n      <td>0</td>\n      <td>0</td>\n      <td>0</td>\n      <td>12</td>\n      <td>12</td>\n      <td>963</td>\n      <td>12</td>\n      <td>0</td>\n    </tr>\n    <tr>\n      <th>4</th>\n      <td>0</td>\n      <td>0</td>\n      <td>0</td>\n      <td>0</td>\n      <td>1</td>\n      <td>1</td>\n      <td>0</td>\n      <td>0</td>\n      <td>0</td>\n      <td>0</td>\n      <td>0</td>\n      <td>0</td>\n      <td>12</td>\n      <td>12</td>\n      <td>966</td>\n      <td>12</td>\n      <td>1</td>\n    </tr>\n    <tr>\n      <th>5</th>\n      <td>0</td>\n      <td>0</td>\n      <td>0</td>\n      <td>0</td>\n      <td>0</td>\n      <td>0</td>\n      <td>0</td>\n      <td>0</td>\n      <td>0</td>\n      <td>0</td>\n      <td>0</td>\n      <td>0</td>\n      <td>12</td>\n      <td>12</td>\n      <td>974</td>\n      <td>12</td>\n      <td>0</td>\n    </tr>\n    <tr>\n      <th>...</th>\n      <td>...</td>\n      <td>...</td>\n      <td>...</td>\n      <td>...</td>\n      <td>...</td>\n      <td>...</td>\n      <td>...</td>\n      <td>...</td>\n      <td>...</td>\n      <td>...</td>\n      <td>...</td>\n      <td>...</td>\n      <td>...</td>\n      <td>...</td>\n      <td>...</td>\n      <td>...</td>\n      <td>...</td>\n    </tr>\n    <tr>\n      <th>362</th>\n      <td>0</td>\n      <td>0</td>\n      <td>0</td>\n      <td>0</td>\n      <td>0</td>\n      <td>1</td>\n      <td>0</td>\n      <td>0</td>\n      <td>0</td>\n      <td>0</td>\n      <td>1</td>\n      <td>0</td>\n      <td>12</td>\n      <td>12</td>\n      <td>81912</td>\n      <td>18</td>\n      <td>1</td>\n    </tr>\n    <tr>\n      <th>363</th>\n      <td>0</td>\n      <td>0</td>\n      <td>0</td>\n      <td>0</td>\n      <td>0</td>\n      <td>1</td>\n      <td>0</td>\n      <td>0</td>\n      <td>0</td>\n      <td>0</td>\n      <td>0</td>\n      <td>0</td>\n      <td>12</td>\n      <td>12</td>\n      <td>81913</td>\n      <td>18</td>\n      <td>0</td>\n    </tr>\n    <tr>\n      <th>364</th>\n      <td>0</td>\n      <td>0</td>\n      <td>0</td>\n      <td>0</td>\n      <td>0</td>\n      <td>0</td>\n      <td>0</td>\n      <td>0</td>\n      <td>0</td>\n      <td>0</td>\n      <td>0</td>\n      <td>0</td>\n      <td>12</td>\n      <td>12</td>\n      <td>81929</td>\n      <td>13</td>\n      <td>0</td>\n    </tr>\n    <tr>\n      <th>365</th>\n      <td>0</td>\n      <td>0</td>\n      <td>0</td>\n      <td>0</td>\n      <td>0</td>\n      <td>0</td>\n      <td>1</td>\n      <td>0</td>\n      <td>0</td>\n      <td>0</td>\n      <td>0</td>\n      <td>0</td>\n      <td>12</td>\n      <td>11</td>\n      <td>81952</td>\n      <td>14</td>\n      <td>1</td>\n    </tr>\n    <tr>\n      <th>366</th>\n      <td>0</td>\n      <td>0</td>\n      <td>0</td>\n      <td>0</td>\n      <td>0</td>\n      <td>0</td>\n      <td>1</td>\n      <td>1</td>\n      <td>0</td>\n      <td>0</td>\n      <td>0</td>\n      <td>0</td>\n      <td>11</td>\n      <td>11</td>\n      <td>81957</td>\n      <td>15</td>\n      <td>1</td>\n    </tr>\n  </tbody>\n</table>\n<p>366 rows × 17 columns</p>\n</div>"
     },
     "execution_count": 11,
     "metadata": {},
     "output_type": "execute_result"
    }
   ],
   "source": [
    "data = util.transform_House(data)\n",
    "data"
   ],
   "metadata": {
    "collapsed": false,
    "pycharm": {
     "name": "#%%\n"
    }
   }
  },
  {
   "cell_type": "code",
   "execution_count": 12,
   "outputs": [
    {
     "name": "stdout",
     "output_type": "stream",
     "text": [
      "366\n"
     ]
    },
    {
     "data": {
      "text/plain": "     sensor_id  value   time  old_sen\n0         5889      0    644       12\n1         5889      1    645       12\n2         5889      0    963       12\n3         5889      1    966       12\n4         5889      0    974       12\n..         ...    ...    ...      ...\n361       5893      1  81912       18\n362       5893      0  81913       18\n363       5889      0  81929       13\n364       5896      1  81952       14\n365       5896      1  81957       15\n\n[366 rows x 4 columns]",
      "text/html": "<div>\n<style scoped>\n    .dataframe tbody tr th:only-of-type {\n        vertical-align: middle;\n    }\n\n    .dataframe tbody tr th {\n        vertical-align: top;\n    }\n\n    .dataframe thead th {\n        text-align: right;\n    }\n</style>\n<table border=\"1\" class=\"dataframe\">\n  <thead>\n    <tr style=\"text-align: right;\">\n      <th></th>\n      <th>sensor_id</th>\n      <th>value</th>\n      <th>time</th>\n      <th>old_sen</th>\n    </tr>\n  </thead>\n  <tbody>\n    <tr>\n      <th>0</th>\n      <td>5889</td>\n      <td>0</td>\n      <td>644</td>\n      <td>12</td>\n    </tr>\n    <tr>\n      <th>1</th>\n      <td>5889</td>\n      <td>1</td>\n      <td>645</td>\n      <td>12</td>\n    </tr>\n    <tr>\n      <th>2</th>\n      <td>5889</td>\n      <td>0</td>\n      <td>963</td>\n      <td>12</td>\n    </tr>\n    <tr>\n      <th>3</th>\n      <td>5889</td>\n      <td>1</td>\n      <td>966</td>\n      <td>12</td>\n    </tr>\n    <tr>\n      <th>4</th>\n      <td>5889</td>\n      <td>0</td>\n      <td>974</td>\n      <td>12</td>\n    </tr>\n    <tr>\n      <th>...</th>\n      <td>...</td>\n      <td>...</td>\n      <td>...</td>\n      <td>...</td>\n    </tr>\n    <tr>\n      <th>361</th>\n      <td>5893</td>\n      <td>1</td>\n      <td>81912</td>\n      <td>18</td>\n    </tr>\n    <tr>\n      <th>362</th>\n      <td>5893</td>\n      <td>0</td>\n      <td>81913</td>\n      <td>18</td>\n    </tr>\n    <tr>\n      <th>363</th>\n      <td>5889</td>\n      <td>0</td>\n      <td>81929</td>\n      <td>13</td>\n    </tr>\n    <tr>\n      <th>364</th>\n      <td>5896</td>\n      <td>1</td>\n      <td>81952</td>\n      <td>14</td>\n    </tr>\n    <tr>\n      <th>365</th>\n      <td>5896</td>\n      <td>1</td>\n      <td>81957</td>\n      <td>15</td>\n    </tr>\n  </tbody>\n</table>\n<p>366 rows × 4 columns</p>\n</div>"
     },
     "execution_count": 12,
     "metadata": {},
     "output_type": "execute_result"
    }
   ],
   "source": [
    "data = util.convert_to_multi(data, type)\n",
    "data"
   ],
   "metadata": {
    "collapsed": false,
    "pycharm": {
     "name": "#%%\n"
    }
   }
  },
  {
   "cell_type": "code",
   "execution_count": 5,
   "outputs": [],
   "source": [
    "filename_float = \"sensor_sample_float_3.csv\"\n",
    "filename_int = \"sensor_sample_int_52.csv\""
   ],
   "metadata": {
    "collapsed": false,
    "pycharm": {
     "name": "#%%\n"
    }
   }
  },
  {
   "cell_type": "code",
   "execution_count": 6,
   "outputs": [
    {
     "name": "stdout",
     "output_type": "stream",
     "text": [
      "0\n",
      "100000\n",
      "200000\n",
      "300000\n",
      "400000\n",
      "168,167   diff: 78\n",
      "288,287   diff: 57\n",
      "294,293   diff: 51\n",
      "300,299   diff: 56\n",
      "312,311   diff: 64\n",
      "316,315   diff: 55\n",
      "324,323   diff: 86\n",
      "336,335   diff: 120\n",
      "338,337   diff: 132\n",
      "352,351   diff: 54\n",
      "364,363   diff: 110\n",
      "366,365   diff: 82\n",
      "378,377   diff: 83\n",
      "382,381   diff: 53\n",
      "384,383   diff: 134\n",
      "386,385   diff: 53\n",
      "388,387   diff: 51\n",
      "400,399   diff: 62\n",
      "432,431   diff: 99\n",
      "438,437   diff: 56\n",
      "454,453   diff: 60\n",
      "492,491   diff: 51\n",
      "498,497   diff: 61\n",
      "592,591   diff: 60\n",
      "630,629   diff: 97\n",
      "644,643   diff: 74\n",
      "654,653   diff: 56\n",
      "672,671   diff: 50\n",
      "674,673   diff: 71\n",
      "742,741   diff: 56\n",
      "748,747   diff: 73\n",
      "752,751   diff: 98\n",
      "798,797   diff: 52\n",
      "812,811   diff: 56\n",
      "834,833   diff: 66\n",
      "880,879   diff: 54\n",
      "898,897   diff: 78\n",
      "902,901   diff: 76\n",
      "914,913   diff: 56\n",
      "922,921   diff: 127\n",
      "928,927   diff: 95\n",
      "936,935   diff: 59\n",
      "940,939   diff: 121\n",
      "948,947   diff: 85\n",
      "952,951   diff: 130\n",
      "960,959   diff: 66\n",
      "964,963   diff: 87\n",
      "972,971   diff: 104\n",
      "986,985   diff: 50\n",
      "990,989   diff: 60\n",
      "998,997   diff: 100\n",
      "1004,1003   diff: 58\n",
      "1016,1015   diff: 55\n",
      "1026,1025   diff: 64\n",
      "1028,1027   diff: 60\n",
      "1070,1069   diff: 102\n",
      "1078,1077   diff: 63\n",
      "1092,1091   diff: 79\n",
      "1094,1093   diff: 80\n",
      "1110,1109   diff: 57\n",
      "1116,1115   diff: 107\n",
      "1136,1135   diff: 73\n",
      "1144,1143   diff: 71\n",
      "1164,1163   diff: 50\n",
      "1176,1175   diff: 72\n",
      "1242,1241   diff: 54\n",
      "1290,1289   diff: 66\n",
      "1296,1295   diff: 88\n",
      "1372,1371   diff: 56\n",
      "1456,1455   diff: 67\n",
      "1464,1463   diff: 193\n",
      "1472,1471   diff: 112\n",
      "1476,1475   diff: 54\n",
      "1540,1539   diff: 86\n",
      "1626,1625   diff: 50\n",
      "1630,1629   diff: 125\n",
      "1670,1669   diff: 61\n",
      "1938,1937   diff: 51\n",
      "1940,1939   diff: 58\n",
      "1960,1959   diff: 57\n",
      "2052,2051   diff: 65\n",
      "2104,2103   diff: 56\n",
      "2162,2161   diff: 95\n",
      "2194,2193   diff: 57\n",
      "2250,2249   diff: 62\n",
      "2286,2285   diff: 113\n",
      "2288,2287   diff: 56\n",
      "2308,2307   diff: 59\n",
      "2312,2311   diff: 87\n",
      "2314,2313   diff: 87\n",
      "2316,2315   diff: 96\n",
      "2322,2321   diff: 61\n",
      "2324,2323   diff: 54\n",
      "2366,2365   diff: 84\n",
      "2382,2381   diff: 54\n",
      "2386,2385   diff: 64\n",
      "2402,2401   diff: 56\n",
      "2410,2409   diff: 53\n",
      "2424,2423   diff: 57\n",
      "2520,2519   diff: -86361\n",
      "2524,2523   diff: 132\n",
      "2600,2599   diff: 53\n",
      "2602,2601   diff: 57\n",
      "2618,2617   diff: 53\n",
      "2620,2619   diff: 84\n",
      "2628,2627   diff: 87\n",
      "2630,2629   diff: 60\n",
      "2638,2637   diff: 122\n",
      "2640,2639   diff: 59\n",
      "2650,2649   diff: 62\n",
      "2656,2655   diff: 65\n",
      "2756,2755   diff: 66\n",
      "2784,2783   diff: 91\n",
      "2792,2791   diff: 107\n",
      "3034,3033   diff: 71\n",
      "3214,3213   diff: 55\n",
      "3546,3545   diff: 90\n",
      "3558,3557   diff: 75\n",
      "3568,3567   diff: 56\n",
      "3570,3569   diff: 118\n",
      "3576,3575   diff: 100\n",
      "3596,3595   diff: 68\n",
      "3602,3601   diff: 65\n",
      "3606,3605   diff: 112\n",
      "3612,3611   diff: 90\n",
      "3614,3613   diff: 68\n",
      "3616,3615   diff: 69\n",
      "3622,3621   diff: 86\n",
      "3626,3625   diff: 142\n",
      "3628,3627   diff: 94\n",
      "3648,3647   diff: 111\n",
      "3658,3657   diff: 76\n",
      "3662,3661   diff: 59\n",
      "3664,3663   diff: 65\n",
      "3666,3665   diff: 53\n",
      "3676,3675   diff: 93\n",
      "3680,3679   diff: 86\n",
      "3694,3693   diff: 54\n",
      "3714,3713   diff: 67\n",
      "3718,3717   diff: 87\n",
      "3730,3729   diff: 65\n",
      "3740,3739   diff: 92\n",
      "3744,3743   diff: 78\n",
      "3748,3747   diff: 55\n",
      "3756,3755   diff: 75\n",
      "3790,3789   diff: 53\n",
      "3812,3811   diff: 92\n",
      "3820,3819   diff: 90\n",
      "3824,3823   diff: 106\n",
      "3828,3827   diff: 68\n",
      "3836,3835   diff: 79\n",
      "3842,3841   diff: 60\n",
      "3846,3845   diff: 106\n",
      "3854,3853   diff: 54\n",
      "3866,3865   diff: 76\n",
      "3868,3867   diff: 69\n",
      "3878,3877   diff: 83\n",
      "3902,3901   diff: 82\n",
      "3908,3907   diff: 56\n",
      "3910,3909   diff: 109\n",
      "3924,3923   diff: 105\n",
      "10,9   diff: 44\n",
      "16,15   diff: 67\n",
      "204,203   diff: 45\n",
      "262,261   diff: 36\n",
      "272,271   diff: 675\n",
      "296,295   diff: 11930\n",
      "332,331   diff: -71259\n",
      "340,339   diff: 5342\n"
     ]
    }
   ],
   "source": [
    "data = preprocessing.process_data_Multi(\"sensor_sample_float_3.csv\", \"sensor_sample_int_52.csv\")"
   ],
   "metadata": {
    "collapsed": false,
    "pycharm": {
     "name": "#%%\n"
    }
   }
  },
  {
   "cell_type": "code",
   "execution_count": 7,
   "outputs": [
    {
     "data": {
      "text/plain": "     sensor_id  value   time                   timestamp\n0         5895    0.0  60655  2020-03-24 16:50:55.754753\n1         5889    0.0  60656  2020-03-24 16:50:56.015072\n2         5896    0.0  60656  2020-03-24 16:50:56.068567\n3         6253    0.0  60656  2020-03-24 16:50:56.114845\n4         5887    0.0  60656  2020-03-24 16:50:56.145422\n..         ...    ...    ...                         ...\n427       6632    0.0  42987  2020-03-25 11:56:27.163437\n428       6633    1.0  57625  2020-03-25 16:00:25.135199\n429       6633    0.0  57844  2020-03-25 16:04:04.714640\n430       6633    1.0  58021  2020-03-25 16:07:01.320117\n431       6633    0.0  58105  2020-03-25 16:08:25.982548\n\n[451 rows x 4 columns]",
      "text/html": "<div>\n<style scoped>\n    .dataframe tbody tr th:only-of-type {\n        vertical-align: middle;\n    }\n\n    .dataframe tbody tr th {\n        vertical-align: top;\n    }\n\n    .dataframe thead th {\n        text-align: right;\n    }\n</style>\n<table border=\"1\" class=\"dataframe\">\n  <thead>\n    <tr style=\"text-align: right;\">\n      <th></th>\n      <th>sensor_id</th>\n      <th>value</th>\n      <th>time</th>\n      <th>timestamp</th>\n    </tr>\n  </thead>\n  <tbody>\n    <tr>\n      <th>0</th>\n      <td>5895</td>\n      <td>0.0</td>\n      <td>60655</td>\n      <td>2020-03-24 16:50:55.754753</td>\n    </tr>\n    <tr>\n      <th>1</th>\n      <td>5889</td>\n      <td>0.0</td>\n      <td>60656</td>\n      <td>2020-03-24 16:50:56.015072</td>\n    </tr>\n    <tr>\n      <th>2</th>\n      <td>5896</td>\n      <td>0.0</td>\n      <td>60656</td>\n      <td>2020-03-24 16:50:56.068567</td>\n    </tr>\n    <tr>\n      <th>3</th>\n      <td>6253</td>\n      <td>0.0</td>\n      <td>60656</td>\n      <td>2020-03-24 16:50:56.114845</td>\n    </tr>\n    <tr>\n      <th>4</th>\n      <td>5887</td>\n      <td>0.0</td>\n      <td>60656</td>\n      <td>2020-03-24 16:50:56.145422</td>\n    </tr>\n    <tr>\n      <th>...</th>\n      <td>...</td>\n      <td>...</td>\n      <td>...</td>\n      <td>...</td>\n    </tr>\n    <tr>\n      <th>427</th>\n      <td>6632</td>\n      <td>0.0</td>\n      <td>42987</td>\n      <td>2020-03-25 11:56:27.163437</td>\n    </tr>\n    <tr>\n      <th>428</th>\n      <td>6633</td>\n      <td>1.0</td>\n      <td>57625</td>\n      <td>2020-03-25 16:00:25.135199</td>\n    </tr>\n    <tr>\n      <th>429</th>\n      <td>6633</td>\n      <td>0.0</td>\n      <td>57844</td>\n      <td>2020-03-25 16:04:04.714640</td>\n    </tr>\n    <tr>\n      <th>430</th>\n      <td>6633</td>\n      <td>1.0</td>\n      <td>58021</td>\n      <td>2020-03-25 16:07:01.320117</td>\n    </tr>\n    <tr>\n      <th>431</th>\n      <td>6633</td>\n      <td>0.0</td>\n      <td>58105</td>\n      <td>2020-03-25 16:08:25.982548</td>\n    </tr>\n  </tbody>\n</table>\n<p>451 rows × 4 columns</p>\n</div>"
     },
     "execution_count": 7,
     "metadata": {},
     "output_type": "execute_result"
    }
   ],
   "source": [
    "data"
   ],
   "metadata": {
    "collapsed": false,
    "pycharm": {
     "name": "#%%\n"
    }
   }
  },
  {
   "cell_type": "code",
   "execution_count": 8,
   "outputs": [
    {
     "data": {
      "text/plain": "        value_id  sensor_id                   timestamp  value   time\n0        2349697       6632  2020-03-24 20:51:13.574159  0.000  75073\n2        2349699       6635  2020-03-24 20:51:14.263785  0.000  75074\n3        2349700       6633  2020-03-24 20:51:14.360718  0.409  75074\n6        2349703       6632  2020-03-24 20:51:14.822827  0.000  75074\n7        2349704       6635  2020-03-24 20:51:15.559019  0.000  75075\n...          ...        ...                         ...    ...    ...\n499994   2849691       6632  2020-03-26 05:31:28.808570  0.000  19888\n499995   2849692       6635  2020-03-26 05:31:28.872613  0.000  19888\n499997   2849694       6633  2020-03-26 05:31:29.380668  0.324  19889\n499999   2849696       6632  2020-03-26 05:31:30.111991  0.000  19890\n500000   2849697       6635  2020-03-26 05:31:30.183784  0.000  19890\n\n[264865 rows x 5 columns]",
      "text/html": "<div>\n<style scoped>\n    .dataframe tbody tr th:only-of-type {\n        vertical-align: middle;\n    }\n\n    .dataframe tbody tr th {\n        vertical-align: top;\n    }\n\n    .dataframe thead th {\n        text-align: right;\n    }\n</style>\n<table border=\"1\" class=\"dataframe\">\n  <thead>\n    <tr style=\"text-align: right;\">\n      <th></th>\n      <th>value_id</th>\n      <th>sensor_id</th>\n      <th>timestamp</th>\n      <th>value</th>\n      <th>time</th>\n    </tr>\n  </thead>\n  <tbody>\n    <tr>\n      <th>0</th>\n      <td>2349697</td>\n      <td>6632</td>\n      <td>2020-03-24 20:51:13.574159</td>\n      <td>0.000</td>\n      <td>75073</td>\n    </tr>\n    <tr>\n      <th>2</th>\n      <td>2349699</td>\n      <td>6635</td>\n      <td>2020-03-24 20:51:14.263785</td>\n      <td>0.000</td>\n      <td>75074</td>\n    </tr>\n    <tr>\n      <th>3</th>\n      <td>2349700</td>\n      <td>6633</td>\n      <td>2020-03-24 20:51:14.360718</td>\n      <td>0.409</td>\n      <td>75074</td>\n    </tr>\n    <tr>\n      <th>6</th>\n      <td>2349703</td>\n      <td>6632</td>\n      <td>2020-03-24 20:51:14.822827</td>\n      <td>0.000</td>\n      <td>75074</td>\n    </tr>\n    <tr>\n      <th>7</th>\n      <td>2349704</td>\n      <td>6635</td>\n      <td>2020-03-24 20:51:15.559019</td>\n      <td>0.000</td>\n      <td>75075</td>\n    </tr>\n    <tr>\n      <th>...</th>\n      <td>...</td>\n      <td>...</td>\n      <td>...</td>\n      <td>...</td>\n      <td>...</td>\n    </tr>\n    <tr>\n      <th>499994</th>\n      <td>2849691</td>\n      <td>6632</td>\n      <td>2020-03-26 05:31:28.808570</td>\n      <td>0.000</td>\n      <td>19888</td>\n    </tr>\n    <tr>\n      <th>499995</th>\n      <td>2849692</td>\n      <td>6635</td>\n      <td>2020-03-26 05:31:28.872613</td>\n      <td>0.000</td>\n      <td>19888</td>\n    </tr>\n    <tr>\n      <th>499997</th>\n      <td>2849694</td>\n      <td>6633</td>\n      <td>2020-03-26 05:31:29.380668</td>\n      <td>0.324</td>\n      <td>19889</td>\n    </tr>\n    <tr>\n      <th>499999</th>\n      <td>2849696</td>\n      <td>6632</td>\n      <td>2020-03-26 05:31:30.111991</td>\n      <td>0.000</td>\n      <td>19890</td>\n    </tr>\n    <tr>\n      <th>500000</th>\n      <td>2849697</td>\n      <td>6635</td>\n      <td>2020-03-26 05:31:30.183784</td>\n      <td>0.000</td>\n      <td>19890</td>\n    </tr>\n  </tbody>\n</table>\n<p>264865 rows × 5 columns</p>\n</div>"
     },
     "execution_count": 8,
     "metadata": {},
     "output_type": "execute_result"
    }
   ],
   "source": [
    "multi_float = util.load_multi_data(filename_float)\n",
    "multi_float"
   ],
   "metadata": {
    "collapsed": false,
    "pycharm": {
     "name": "#%%\n"
    }
   }
  },
  {
   "cell_type": "code",
   "execution_count": 9,
   "outputs": [
    {
     "data": {
      "text/plain": "        value_id  sensor_id                   timestamp  value   time\n1       61071474       5895  2020-03-24 16:50:55.754753      0  60655\n4       61071477       5889  2020-03-24 16:50:56.015072    261  60656\n5       61071479       5896  2020-03-24 16:50:56.068567    605  60656\n6       61071480       6253  2020-03-24 16:50:56.114845      0  60656\n7       61071482       5887  2020-03-24 16:50:56.145422    170  60656\n...          ...        ...                         ...    ...    ...\n499993  61844453       5893  2020-03-25 04:12:46.981211      0  15166\n499994  61844457       5895  2020-03-25 04:12:47.083506      0  15167\n499996  61844459       6253  2020-03-25 04:12:47.418688      0  15167\n499997  61844461       5889  2020-03-25 04:12:47.452053    272  15167\n499999  61844464       5896  2020-03-25 04:12:47.639601    643  15167\n\n[223842 rows x 5 columns]",
      "text/html": "<div>\n<style scoped>\n    .dataframe tbody tr th:only-of-type {\n        vertical-align: middle;\n    }\n\n    .dataframe tbody tr th {\n        vertical-align: top;\n    }\n\n    .dataframe thead th {\n        text-align: right;\n    }\n</style>\n<table border=\"1\" class=\"dataframe\">\n  <thead>\n    <tr style=\"text-align: right;\">\n      <th></th>\n      <th>value_id</th>\n      <th>sensor_id</th>\n      <th>timestamp</th>\n      <th>value</th>\n      <th>time</th>\n    </tr>\n  </thead>\n  <tbody>\n    <tr>\n      <th>1</th>\n      <td>61071474</td>\n      <td>5895</td>\n      <td>2020-03-24 16:50:55.754753</td>\n      <td>0</td>\n      <td>60655</td>\n    </tr>\n    <tr>\n      <th>4</th>\n      <td>61071477</td>\n      <td>5889</td>\n      <td>2020-03-24 16:50:56.015072</td>\n      <td>261</td>\n      <td>60656</td>\n    </tr>\n    <tr>\n      <th>5</th>\n      <td>61071479</td>\n      <td>5896</td>\n      <td>2020-03-24 16:50:56.068567</td>\n      <td>605</td>\n      <td>60656</td>\n    </tr>\n    <tr>\n      <th>6</th>\n      <td>61071480</td>\n      <td>6253</td>\n      <td>2020-03-24 16:50:56.114845</td>\n      <td>0</td>\n      <td>60656</td>\n    </tr>\n    <tr>\n      <th>7</th>\n      <td>61071482</td>\n      <td>5887</td>\n      <td>2020-03-24 16:50:56.145422</td>\n      <td>170</td>\n      <td>60656</td>\n    </tr>\n    <tr>\n      <th>...</th>\n      <td>...</td>\n      <td>...</td>\n      <td>...</td>\n      <td>...</td>\n      <td>...</td>\n    </tr>\n    <tr>\n      <th>499993</th>\n      <td>61844453</td>\n      <td>5893</td>\n      <td>2020-03-25 04:12:46.981211</td>\n      <td>0</td>\n      <td>15166</td>\n    </tr>\n    <tr>\n      <th>499994</th>\n      <td>61844457</td>\n      <td>5895</td>\n      <td>2020-03-25 04:12:47.083506</td>\n      <td>0</td>\n      <td>15167</td>\n    </tr>\n    <tr>\n      <th>499996</th>\n      <td>61844459</td>\n      <td>6253</td>\n      <td>2020-03-25 04:12:47.418688</td>\n      <td>0</td>\n      <td>15167</td>\n    </tr>\n    <tr>\n      <th>499997</th>\n      <td>61844461</td>\n      <td>5889</td>\n      <td>2020-03-25 04:12:47.452053</td>\n      <td>272</td>\n      <td>15167</td>\n    </tr>\n    <tr>\n      <th>499999</th>\n      <td>61844464</td>\n      <td>5896</td>\n      <td>2020-03-25 04:12:47.639601</td>\n      <td>643</td>\n      <td>15167</td>\n    </tr>\n  </tbody>\n</table>\n<p>223842 rows × 5 columns</p>\n</div>"
     },
     "execution_count": 9,
     "metadata": {},
     "output_type": "execute_result"
    }
   ],
   "source": [
    "multi_int   = util.load_multi_data(filename_int)\n",
    "multi_int"
   ],
   "metadata": {
    "collapsed": false,
    "pycharm": {
     "name": "#%%\n"
    }
   }
  },
  {
   "cell_type": "code",
   "execution_count": 10,
   "outputs": [
    {
     "data": {
      "text/plain": "        value_id  sensor_id                   timestamp    value   time\n0       61071474       5895  2020-03-24 16:50:55.754753    0.000  60655\n1       61071477       5889  2020-03-24 16:50:56.015072  261.000  60656\n2       61071479       5896  2020-03-24 16:50:56.068567  605.000  60656\n3       61071480       6253  2020-03-24 16:50:56.114845    0.000  60656\n4       61071482       5887  2020-03-24 16:50:56.145422  170.000  60656\n...          ...        ...                         ...      ...    ...\n488702   2849691       6632  2020-03-26 05:31:28.808570    0.000  19888\n488703   2849692       6635  2020-03-26 05:31:28.872613    0.000  19888\n488704   2849694       6633  2020-03-26 05:31:29.380668    0.324  19889\n488705   2849696       6632  2020-03-26 05:31:30.111991    0.000  19890\n488706   2849697       6635  2020-03-26 05:31:30.183784    0.000  19890\n\n[488707 rows x 5 columns]",
      "text/html": "<div>\n<style scoped>\n    .dataframe tbody tr th:only-of-type {\n        vertical-align: middle;\n    }\n\n    .dataframe tbody tr th {\n        vertical-align: top;\n    }\n\n    .dataframe thead th {\n        text-align: right;\n    }\n</style>\n<table border=\"1\" class=\"dataframe\">\n  <thead>\n    <tr style=\"text-align: right;\">\n      <th></th>\n      <th>value_id</th>\n      <th>sensor_id</th>\n      <th>timestamp</th>\n      <th>value</th>\n      <th>time</th>\n    </tr>\n  </thead>\n  <tbody>\n    <tr>\n      <th>0</th>\n      <td>61071474</td>\n      <td>5895</td>\n      <td>2020-03-24 16:50:55.754753</td>\n      <td>0.000</td>\n      <td>60655</td>\n    </tr>\n    <tr>\n      <th>1</th>\n      <td>61071477</td>\n      <td>5889</td>\n      <td>2020-03-24 16:50:56.015072</td>\n      <td>261.000</td>\n      <td>60656</td>\n    </tr>\n    <tr>\n      <th>2</th>\n      <td>61071479</td>\n      <td>5896</td>\n      <td>2020-03-24 16:50:56.068567</td>\n      <td>605.000</td>\n      <td>60656</td>\n    </tr>\n    <tr>\n      <th>3</th>\n      <td>61071480</td>\n      <td>6253</td>\n      <td>2020-03-24 16:50:56.114845</td>\n      <td>0.000</td>\n      <td>60656</td>\n    </tr>\n    <tr>\n      <th>4</th>\n      <td>61071482</td>\n      <td>5887</td>\n      <td>2020-03-24 16:50:56.145422</td>\n      <td>170.000</td>\n      <td>60656</td>\n    </tr>\n    <tr>\n      <th>...</th>\n      <td>...</td>\n      <td>...</td>\n      <td>...</td>\n      <td>...</td>\n      <td>...</td>\n    </tr>\n    <tr>\n      <th>488702</th>\n      <td>2849691</td>\n      <td>6632</td>\n      <td>2020-03-26 05:31:28.808570</td>\n      <td>0.000</td>\n      <td>19888</td>\n    </tr>\n    <tr>\n      <th>488703</th>\n      <td>2849692</td>\n      <td>6635</td>\n      <td>2020-03-26 05:31:28.872613</td>\n      <td>0.000</td>\n      <td>19888</td>\n    </tr>\n    <tr>\n      <th>488704</th>\n      <td>2849694</td>\n      <td>6633</td>\n      <td>2020-03-26 05:31:29.380668</td>\n      <td>0.324</td>\n      <td>19889</td>\n    </tr>\n    <tr>\n      <th>488705</th>\n      <td>2849696</td>\n      <td>6632</td>\n      <td>2020-03-26 05:31:30.111991</td>\n      <td>0.000</td>\n      <td>19890</td>\n    </tr>\n    <tr>\n      <th>488706</th>\n      <td>2849697</td>\n      <td>6635</td>\n      <td>2020-03-26 05:31:30.183784</td>\n      <td>0.000</td>\n      <td>19890</td>\n    </tr>\n  </tbody>\n</table>\n<p>488707 rows × 5 columns</p>\n</div>"
     },
     "execution_count": 10,
     "metadata": {},
     "output_type": "execute_result"
    }
   ],
   "source": [
    "df = util.merge_multi_data(multi_int, multi_float)\n",
    "df"
   ],
   "metadata": {
    "collapsed": false,
    "pycharm": {
     "name": "#%%\n"
    }
   }
  },
  {
   "cell_type": "code",
   "execution_count": 11,
   "outputs": [
    {
     "data": {
      "text/plain": "        value_id  sensor_id                   timestamp  value   time\n0       61071474       5895  2020-03-24 16:50:55.754753    0.0  60655\n1       61071477       5889  2020-03-24 16:50:56.015072    0.0  60656\n2       61071479       5896  2020-03-24 16:50:56.068567    0.0  60656\n3       61071480       6253  2020-03-24 16:50:56.114845    0.0  60656\n4       61071482       5887  2020-03-24 16:50:56.145422    0.0  60656\n...          ...        ...                         ...    ...    ...\n488702   2849691       6632  2020-03-26 05:31:28.808570    0.0  19888\n488703   2849692       6635  2020-03-26 05:31:28.872613    0.0  19888\n488704   2849694       6633  2020-03-26 05:31:29.380668    0.0  19889\n488705   2849696       6632  2020-03-26 05:31:30.111991    0.0  19890\n488706   2849697       6635  2020-03-26 05:31:30.183784    0.0  19890\n\n[488707 rows x 5 columns]",
      "text/html": "<div>\n<style scoped>\n    .dataframe tbody tr th:only-of-type {\n        vertical-align: middle;\n    }\n\n    .dataframe tbody tr th {\n        vertical-align: top;\n    }\n\n    .dataframe thead th {\n        text-align: right;\n    }\n</style>\n<table border=\"1\" class=\"dataframe\">\n  <thead>\n    <tr style=\"text-align: right;\">\n      <th></th>\n      <th>value_id</th>\n      <th>sensor_id</th>\n      <th>timestamp</th>\n      <th>value</th>\n      <th>time</th>\n    </tr>\n  </thead>\n  <tbody>\n    <tr>\n      <th>0</th>\n      <td>61071474</td>\n      <td>5895</td>\n      <td>2020-03-24 16:50:55.754753</td>\n      <td>0.0</td>\n      <td>60655</td>\n    </tr>\n    <tr>\n      <th>1</th>\n      <td>61071477</td>\n      <td>5889</td>\n      <td>2020-03-24 16:50:56.015072</td>\n      <td>0.0</td>\n      <td>60656</td>\n    </tr>\n    <tr>\n      <th>2</th>\n      <td>61071479</td>\n      <td>5896</td>\n      <td>2020-03-24 16:50:56.068567</td>\n      <td>0.0</td>\n      <td>60656</td>\n    </tr>\n    <tr>\n      <th>3</th>\n      <td>61071480</td>\n      <td>6253</td>\n      <td>2020-03-24 16:50:56.114845</td>\n      <td>0.0</td>\n      <td>60656</td>\n    </tr>\n    <tr>\n      <th>4</th>\n      <td>61071482</td>\n      <td>5887</td>\n      <td>2020-03-24 16:50:56.145422</td>\n      <td>0.0</td>\n      <td>60656</td>\n    </tr>\n    <tr>\n      <th>...</th>\n      <td>...</td>\n      <td>...</td>\n      <td>...</td>\n      <td>...</td>\n      <td>...</td>\n    </tr>\n    <tr>\n      <th>488702</th>\n      <td>2849691</td>\n      <td>6632</td>\n      <td>2020-03-26 05:31:28.808570</td>\n      <td>0.0</td>\n      <td>19888</td>\n    </tr>\n    <tr>\n      <th>488703</th>\n      <td>2849692</td>\n      <td>6635</td>\n      <td>2020-03-26 05:31:28.872613</td>\n      <td>0.0</td>\n      <td>19888</td>\n    </tr>\n    <tr>\n      <th>488704</th>\n      <td>2849694</td>\n      <td>6633</td>\n      <td>2020-03-26 05:31:29.380668</td>\n      <td>0.0</td>\n      <td>19889</td>\n    </tr>\n    <tr>\n      <th>488705</th>\n      <td>2849696</td>\n      <td>6632</td>\n      <td>2020-03-26 05:31:30.111991</td>\n      <td>0.0</td>\n      <td>19890</td>\n    </tr>\n    <tr>\n      <th>488706</th>\n      <td>2849697</td>\n      <td>6635</td>\n      <td>2020-03-26 05:31:30.183784</td>\n      <td>0.0</td>\n      <td>19890</td>\n    </tr>\n  </tbody>\n</table>\n<p>488707 rows × 5 columns</p>\n</div>"
     },
     "execution_count": 11,
     "metadata": {},
     "output_type": "execute_result"
    }
   ],
   "source": [
    "binary = util.convert_to_binary(df)\n",
    "binary"
   ],
   "metadata": {
    "collapsed": false,
    "pycharm": {
     "name": "#%%\n"
    }
   }
  },
  {
   "cell_type": "code",
   "execution_count": 12,
   "outputs": [],
   "source": [
    "df = binary[[\"sensor_id\", \"value\", \"time\", \"timestamp\"]]"
   ],
   "metadata": {
    "collapsed": false,
    "pycharm": {
     "name": "#%%\n"
    }
   }
  },
  {
   "cell_type": "code",
   "execution_count": 13,
   "outputs": [
    {
     "name": "stdout",
     "output_type": "stream",
     "text": [
      "0\n",
      "100000\n",
      "200000\n",
      "300000\n",
      "400000\n"
     ]
    },
    {
     "data": {
      "text/plain": "        sensor_id  value   time                   timestamp\n0            5895    0.0  60655  2020-03-24 16:50:55.754753\n1            5889    0.0  60656  2020-03-24 16:50:56.015072\n2            5896    0.0  60656  2020-03-24 16:50:56.068567\n3            6253    0.0  60656  2020-03-24 16:50:56.114845\n4            5887    0.0  60656  2020-03-24 16:50:56.145422\n...           ...    ...    ...                         ...\n345772       6632    0.0  42987  2020-03-25 11:56:27.163437\n378366       6633    1.0  57625  2020-03-25 16:00:25.135199\n378861       6633    0.0  57844  2020-03-25 16:04:04.714640\n379257       6633    1.0  58021  2020-03-25 16:07:01.320117\n379449       6633    0.0  58105  2020-03-25 16:08:25.982548\n\n[4375 rows x 4 columns]",
      "text/html": "<div>\n<style scoped>\n    .dataframe tbody tr th:only-of-type {\n        vertical-align: middle;\n    }\n\n    .dataframe tbody tr th {\n        vertical-align: top;\n    }\n\n    .dataframe thead th {\n        text-align: right;\n    }\n</style>\n<table border=\"1\" class=\"dataframe\">\n  <thead>\n    <tr style=\"text-align: right;\">\n      <th></th>\n      <th>sensor_id</th>\n      <th>value</th>\n      <th>time</th>\n      <th>timestamp</th>\n    </tr>\n  </thead>\n  <tbody>\n    <tr>\n      <th>0</th>\n      <td>5895</td>\n      <td>0.0</td>\n      <td>60655</td>\n      <td>2020-03-24 16:50:55.754753</td>\n    </tr>\n    <tr>\n      <th>1</th>\n      <td>5889</td>\n      <td>0.0</td>\n      <td>60656</td>\n      <td>2020-03-24 16:50:56.015072</td>\n    </tr>\n    <tr>\n      <th>2</th>\n      <td>5896</td>\n      <td>0.0</td>\n      <td>60656</td>\n      <td>2020-03-24 16:50:56.068567</td>\n    </tr>\n    <tr>\n      <th>3</th>\n      <td>6253</td>\n      <td>0.0</td>\n      <td>60656</td>\n      <td>2020-03-24 16:50:56.114845</td>\n    </tr>\n    <tr>\n      <th>4</th>\n      <td>5887</td>\n      <td>0.0</td>\n      <td>60656</td>\n      <td>2020-03-24 16:50:56.145422</td>\n    </tr>\n    <tr>\n      <th>...</th>\n      <td>...</td>\n      <td>...</td>\n      <td>...</td>\n      <td>...</td>\n    </tr>\n    <tr>\n      <th>345772</th>\n      <td>6632</td>\n      <td>0.0</td>\n      <td>42987</td>\n      <td>2020-03-25 11:56:27.163437</td>\n    </tr>\n    <tr>\n      <th>378366</th>\n      <td>6633</td>\n      <td>1.0</td>\n      <td>57625</td>\n      <td>2020-03-25 16:00:25.135199</td>\n    </tr>\n    <tr>\n      <th>378861</th>\n      <td>6633</td>\n      <td>0.0</td>\n      <td>57844</td>\n      <td>2020-03-25 16:04:04.714640</td>\n    </tr>\n    <tr>\n      <th>379257</th>\n      <td>6633</td>\n      <td>1.0</td>\n      <td>58021</td>\n      <td>2020-03-25 16:07:01.320117</td>\n    </tr>\n    <tr>\n      <th>379449</th>\n      <td>6633</td>\n      <td>0.0</td>\n      <td>58105</td>\n      <td>2020-03-25 16:08:25.982548</td>\n    </tr>\n  </tbody>\n</table>\n<p>4375 rows × 4 columns</p>\n</div>"
     },
     "execution_count": 13,
     "metadata": {},
     "output_type": "execute_result"
    }
   ],
   "source": [
    "df.reset_index(drop=True)\n",
    "\n",
    "## remove erros due to refreshing cycle\n",
    "df = util.remove_error_refresh_cycle(df)\n",
    "df"
   ],
   "metadata": {
    "collapsed": false,
    "pycharm": {
     "name": "#%%\n"
    }
   }
  },
  {
   "cell_type": "code",
   "execution_count": 14,
   "outputs": [
    {
     "name": "stdout",
     "output_type": "stream",
     "text": [
      "168,167   diff: 78\n",
      "288,287   diff: 57\n",
      "294,293   diff: 51\n",
      "300,299   diff: 56\n",
      "312,311   diff: 64\n",
      "316,315   diff: 55\n",
      "324,323   diff: 86\n",
      "336,335   diff: 120\n",
      "338,337   diff: 132\n",
      "352,351   diff: 54\n",
      "364,363   diff: 110\n",
      "366,365   diff: 82\n",
      "378,377   diff: 83\n",
      "382,381   diff: 53\n",
      "384,383   diff: 134\n",
      "386,385   diff: 53\n",
      "388,387   diff: 51\n",
      "400,399   diff: 62\n",
      "432,431   diff: 99\n",
      "438,437   diff: 56\n",
      "454,453   diff: 60\n",
      "492,491   diff: 51\n",
      "498,497   diff: 61\n",
      "592,591   diff: 60\n",
      "630,629   diff: 97\n",
      "644,643   diff: 74\n",
      "654,653   diff: 56\n",
      "672,671   diff: 50\n",
      "674,673   diff: 71\n",
      "742,741   diff: 56\n",
      "748,747   diff: 73\n",
      "752,751   diff: 98\n",
      "798,797   diff: 52\n",
      "812,811   diff: 56\n",
      "834,833   diff: 66\n",
      "880,879   diff: 54\n",
      "898,897   diff: 78\n",
      "902,901   diff: 76\n",
      "914,913   diff: 56\n",
      "922,921   diff: 127\n",
      "928,927   diff: 95\n",
      "936,935   diff: 59\n",
      "940,939   diff: 121\n",
      "948,947   diff: 85\n",
      "952,951   diff: 130\n",
      "960,959   diff: 66\n",
      "964,963   diff: 87\n",
      "972,971   diff: 104\n",
      "986,985   diff: 50\n",
      "990,989   diff: 60\n",
      "998,997   diff: 100\n",
      "1004,1003   diff: 58\n",
      "1016,1015   diff: 55\n",
      "1026,1025   diff: 64\n",
      "1028,1027   diff: 60\n",
      "1070,1069   diff: 102\n",
      "1078,1077   diff: 63\n",
      "1092,1091   diff: 79\n",
      "1094,1093   diff: 80\n",
      "1110,1109   diff: 57\n",
      "1116,1115   diff: 107\n",
      "1136,1135   diff: 73\n",
      "1144,1143   diff: 71\n",
      "1164,1163   diff: 50\n",
      "1176,1175   diff: 72\n",
      "1242,1241   diff: 54\n",
      "1290,1289   diff: 66\n",
      "1296,1295   diff: 88\n",
      "1372,1371   diff: 56\n",
      "1456,1455   diff: 67\n",
      "1464,1463   diff: 193\n",
      "1472,1471   diff: 112\n",
      "1476,1475   diff: 54\n",
      "1540,1539   diff: 86\n",
      "1626,1625   diff: 50\n",
      "1630,1629   diff: 125\n",
      "1670,1669   diff: 61\n",
      "1938,1937   diff: 51\n",
      "1940,1939   diff: 58\n",
      "1960,1959   diff: 57\n",
      "2052,2051   diff: 65\n",
      "2104,2103   diff: 56\n",
      "2162,2161   diff: 95\n",
      "2194,2193   diff: 57\n",
      "2250,2249   diff: 62\n",
      "2286,2285   diff: 113\n",
      "2288,2287   diff: 56\n",
      "2308,2307   diff: 59\n",
      "2312,2311   diff: 87\n",
      "2314,2313   diff: 87\n",
      "2316,2315   diff: 96\n",
      "2322,2321   diff: 61\n",
      "2324,2323   diff: 54\n",
      "2366,2365   diff: 84\n",
      "2382,2381   diff: 54\n",
      "2386,2385   diff: 64\n",
      "2402,2401   diff: 56\n",
      "2410,2409   diff: 53\n",
      "2424,2423   diff: 57\n",
      "2520,2519   diff: -86361\n",
      "2524,2523   diff: 132\n",
      "2600,2599   diff: 53\n",
      "2602,2601   diff: 57\n",
      "2618,2617   diff: 53\n",
      "2620,2619   diff: 84\n",
      "2628,2627   diff: 87\n",
      "2630,2629   diff: 60\n",
      "2638,2637   diff: 122\n",
      "2640,2639   diff: 59\n",
      "2650,2649   diff: 62\n",
      "2656,2655   diff: 65\n",
      "2756,2755   diff: 66\n",
      "2784,2783   diff: 91\n",
      "2792,2791   diff: 107\n",
      "3034,3033   diff: 71\n",
      "3214,3213   diff: 55\n",
      "3546,3545   diff: 90\n",
      "3558,3557   diff: 75\n",
      "3568,3567   diff: 56\n",
      "3570,3569   diff: 118\n",
      "3576,3575   diff: 100\n",
      "3596,3595   diff: 68\n",
      "3602,3601   diff: 65\n",
      "3606,3605   diff: 112\n",
      "3612,3611   diff: 90\n",
      "3614,3613   diff: 68\n",
      "3616,3615   diff: 69\n",
      "3622,3621   diff: 86\n",
      "3626,3625   diff: 142\n",
      "3628,3627   diff: 94\n",
      "3648,3647   diff: 111\n",
      "3658,3657   diff: 76\n",
      "3662,3661   diff: 59\n",
      "3664,3663   diff: 65\n",
      "3666,3665   diff: 53\n",
      "3676,3675   diff: 93\n",
      "3680,3679   diff: 86\n",
      "3694,3693   diff: 54\n",
      "3714,3713   diff: 67\n",
      "3718,3717   diff: 87\n",
      "3730,3729   diff: 65\n",
      "3740,3739   diff: 92\n",
      "3744,3743   diff: 78\n",
      "3748,3747   diff: 55\n",
      "3756,3755   diff: 75\n",
      "3790,3789   diff: 53\n",
      "3812,3811   diff: 92\n",
      "3820,3819   diff: 90\n",
      "3824,3823   diff: 106\n",
      "3828,3827   diff: 68\n",
      "3836,3835   diff: 79\n",
      "3842,3841   diff: 60\n",
      "3846,3845   diff: 106\n",
      "3854,3853   diff: 54\n",
      "3866,3865   diff: 76\n",
      "3868,3867   diff: 69\n",
      "3878,3877   diff: 83\n",
      "3902,3901   diff: 82\n",
      "3908,3907   diff: 56\n",
      "3910,3909   diff: 109\n",
      "3924,3923   diff: 105\n",
      "10,9   diff: 44\n",
      "16,15   diff: 67\n",
      "204,203   diff: 45\n",
      "262,261   diff: 36\n",
      "272,271   diff: 675\n",
      "296,295   diff: 11930\n",
      "332,331   diff: -71259\n",
      "340,339   diff: 5342\n"
     ]
    }
   ],
   "source": [
    "df = util.remove_error_motion(df)"
   ],
   "metadata": {
    "collapsed": false,
    "pycharm": {
     "name": "#%%\n"
    }
   }
  },
  {
   "cell_type": "code",
   "execution_count": 15,
   "outputs": [
    {
     "data": {
      "text/plain": "     sensor_id  value   time                   timestamp\n0         5895    0.0  60655  2020-03-24 16:50:55.754753\n1         5889    0.0  60656  2020-03-24 16:50:56.015072\n2         5896    0.0  60656  2020-03-24 16:50:56.068567\n3         6253    0.0  60656  2020-03-24 16:50:56.114845\n4         5887    0.0  60656  2020-03-24 16:50:56.145422\n..         ...    ...    ...                         ...\n427       6632    0.0  42987  2020-03-25 11:56:27.163437\n428       6633    1.0  57625  2020-03-25 16:00:25.135199\n429       6633    0.0  57844  2020-03-25 16:04:04.714640\n430       6633    1.0  58021  2020-03-25 16:07:01.320117\n431       6633    0.0  58105  2020-03-25 16:08:25.982548\n\n[451 rows x 4 columns]",
      "text/html": "<div>\n<style scoped>\n    .dataframe tbody tr th:only-of-type {\n        vertical-align: middle;\n    }\n\n    .dataframe tbody tr th {\n        vertical-align: top;\n    }\n\n    .dataframe thead th {\n        text-align: right;\n    }\n</style>\n<table border=\"1\" class=\"dataframe\">\n  <thead>\n    <tr style=\"text-align: right;\">\n      <th></th>\n      <th>sensor_id</th>\n      <th>value</th>\n      <th>time</th>\n      <th>timestamp</th>\n    </tr>\n  </thead>\n  <tbody>\n    <tr>\n      <th>0</th>\n      <td>5895</td>\n      <td>0.0</td>\n      <td>60655</td>\n      <td>2020-03-24 16:50:55.754753</td>\n    </tr>\n    <tr>\n      <th>1</th>\n      <td>5889</td>\n      <td>0.0</td>\n      <td>60656</td>\n      <td>2020-03-24 16:50:56.015072</td>\n    </tr>\n    <tr>\n      <th>2</th>\n      <td>5896</td>\n      <td>0.0</td>\n      <td>60656</td>\n      <td>2020-03-24 16:50:56.068567</td>\n    </tr>\n    <tr>\n      <th>3</th>\n      <td>6253</td>\n      <td>0.0</td>\n      <td>60656</td>\n      <td>2020-03-24 16:50:56.114845</td>\n    </tr>\n    <tr>\n      <th>4</th>\n      <td>5887</td>\n      <td>0.0</td>\n      <td>60656</td>\n      <td>2020-03-24 16:50:56.145422</td>\n    </tr>\n    <tr>\n      <th>...</th>\n      <td>...</td>\n      <td>...</td>\n      <td>...</td>\n      <td>...</td>\n    </tr>\n    <tr>\n      <th>427</th>\n      <td>6632</td>\n      <td>0.0</td>\n      <td>42987</td>\n      <td>2020-03-25 11:56:27.163437</td>\n    </tr>\n    <tr>\n      <th>428</th>\n      <td>6633</td>\n      <td>1.0</td>\n      <td>57625</td>\n      <td>2020-03-25 16:00:25.135199</td>\n    </tr>\n    <tr>\n      <th>429</th>\n      <td>6633</td>\n      <td>0.0</td>\n      <td>57844</td>\n      <td>2020-03-25 16:04:04.714640</td>\n    </tr>\n    <tr>\n      <th>430</th>\n      <td>6633</td>\n      <td>1.0</td>\n      <td>58021</td>\n      <td>2020-03-25 16:07:01.320117</td>\n    </tr>\n    <tr>\n      <th>431</th>\n      <td>6633</td>\n      <td>0.0</td>\n      <td>58105</td>\n      <td>2020-03-25 16:08:25.982548</td>\n    </tr>\n  </tbody>\n</table>\n<p>451 rows × 4 columns</p>\n</div>"
     },
     "execution_count": 15,
     "metadata": {},
     "output_type": "execute_result"
    }
   ],
   "source": [
    "df"
   ],
   "metadata": {
    "collapsed": false,
    "pycharm": {
     "name": "#%%\n"
    }
   }
  },
  {
   "cell_type": "code",
   "execution_count": null,
   "outputs": [],
   "source": [],
   "metadata": {
    "collapsed": false,
    "pycharm": {
     "name": "#%%\n"
    }
   }
  }
 ],
 "metadata": {
  "interpreter": {
   "hash": "b3ba2566441a7c06988d0923437866b63cedc61552a5af99d1f4fb67d367b25f"
  },
  "kernelspec": {
   "display_name": "Python 3.8.8 64-bit",
   "language": "python",
   "name": "python3"
  },
  "language_info": {
   "name": "python",
   "version": "3.8.8"
  },
  "orig_nbformat": 4
 },
 "nbformat": 4,
 "nbformat_minor": 2
}