{
 "nbformat": 4,
 "nbformat_minor": 0,
 "metadata": {
  "colab": {
   "name": "clean_speed_algo.ipynb",
   "provenance": [],
   "authorship_tag": "ABX9TyMQgpzRgK+8sn8664y0Hk6V"
  },
  "kernelspec": {
   "name": "python3",
   "display_name": "Python 3"
  },
  "language_info": {
   "name": "python"
  }
 },
 "cells": [
  {
   "cell_type": "code",
   "execution_count": null,
   "metadata": {
    "id": "jxye8TYZycpB",
    "executionInfo": {
     "status": "ok",
     "timestamp": 1643538858056,
     "user_tz": -60,
     "elapsed": 227,
     "user": {
      "displayName": "Seminar ahmias",
      "photoUrl": "https://lh3.googleusercontent.com/a/default-user=s64",
      "userId": "08863251838733967153"
     }
    },
    "pycharm": {
     "is_executing": true
    }
   },
   "outputs": [],
   "source": [
    "import matplotlib.pyplot as plt\n",
    "import pandas as pd\n",
    "import numpy as np"
   ]
  },
  {
   "cell_type": "markdown",
   "source": [
    "# Reading in the Data and processing"
   ],
   "metadata": {
    "id": "l5Z2Knumyk3m"
   }
  },
  {
   "cell_type": "code",
   "source": [
    "df_clean = pd.read_csv(\"processed_data/3_months_data.csv\")"
   ],
   "metadata": {
    "id": "8PxU-Ktjykjd",
    "executionInfo": {
     "status": "ok",
     "timestamp": 1643538875872,
     "user_tz": -60,
     "elapsed": 832,
     "user": {
      "displayName": "Seminar ahmias",
      "photoUrl": "https://lh3.googleusercontent.com/a/default-user=s64",
      "userId": "08863251838733967153"
     }
    }
   },
   "execution_count": 3,
   "outputs": []
  },
  {
   "cell_type": "code",
   "source": [
    "df_clean"
   ],
   "metadata": {
    "colab": {
     "base_uri": "https://localhost:8080/",
     "height": 423
    },
    "id": "l0yNRXsFyq55",
    "executionInfo": {
     "status": "ok",
     "timestamp": 1643541047650,
     "user_tz": -60,
     "elapsed": 273,
     "user": {
      "displayName": "Seminar ahmias",
      "photoUrl": "https://lh3.googleusercontent.com/a/default-user=s64",
      "userId": "08863251838733967153"
     }
    },
    "outputId": "7172331a-a89c-4195-93ac-e050b9deed51"
   },
   "execution_count": 108,
   "outputs": [
    {
     "output_type": "execute_result",
     "data": {
      "text/html": [
       "\n",
       "  <div id=\"df-7cd64ab5-d1e7-4acc-a69d-4fd0b6e7bec9\">\n",
       "    <div class=\"colab-df-container\">\n",
       "      <div>\n",
       "<style scoped>\n",
       "    .dataframe tbody tr th:only-of-type {\n",
       "        vertical-align: middle;\n",
       "    }\n",
       "\n",
       "    .dataframe tbody tr th {\n",
       "        vertical-align: top;\n",
       "    }\n",
       "\n",
       "    .dataframe thead th {\n",
       "        text-align: right;\n",
       "    }\n",
       "</style>\n",
       "<table border=\"1\" class=\"dataframe\">\n",
       "  <thead>\n",
       "    <tr style=\"text-align: right;\">\n",
       "      <th></th>\n",
       "      <th>Unnamed: 0</th>\n",
       "      <th>sensor_id</th>\n",
       "      <th>value</th>\n",
       "      <th>time_scal</th>\n",
       "      <th>event</th>\n",
       "    </tr>\n",
       "  </thead>\n",
       "  <tbody>\n",
       "    <tr>\n",
       "      <th>0</th>\n",
       "      <td>0</td>\n",
       "      <td>5895</td>\n",
       "      <td>0.0</td>\n",
       "      <td>0.070203</td>\n",
       "      <td>a</td>\n",
       "    </tr>\n",
       "    <tr>\n",
       "      <th>1</th>\n",
       "      <td>1</td>\n",
       "      <td>5889</td>\n",
       "      <td>0.0</td>\n",
       "      <td>0.070204</td>\n",
       "      <td>k</td>\n",
       "    </tr>\n",
       "    <tr>\n",
       "      <th>2</th>\n",
       "      <td>2</td>\n",
       "      <td>5896</td>\n",
       "      <td>0.0</td>\n",
       "      <td>0.070204</td>\n",
       "      <td>c</td>\n",
       "    </tr>\n",
       "    <tr>\n",
       "      <th>3</th>\n",
       "      <td>3</td>\n",
       "      <td>6253</td>\n",
       "      <td>0.0</td>\n",
       "      <td>0.070204</td>\n",
       "      <td>d</td>\n",
       "    </tr>\n",
       "    <tr>\n",
       "      <th>4</th>\n",
       "      <td>4</td>\n",
       "      <td>5887</td>\n",
       "      <td>0.0</td>\n",
       "      <td>0.070204</td>\n",
       "      <td>i</td>\n",
       "    </tr>\n",
       "    <tr>\n",
       "      <th>...</th>\n",
       "      <td>...</td>\n",
       "      <td>...</td>\n",
       "      <td>...</td>\n",
       "      <td>...</td>\n",
       "      <td>...</td>\n",
       "    </tr>\n",
       "    <tr>\n",
       "      <th>44218</th>\n",
       "      <td>44218</td>\n",
       "      <td>6632</td>\n",
       "      <td>0.0</td>\n",
       "      <td>0.037144</td>\n",
       "      <td>e</td>\n",
       "    </tr>\n",
       "    <tr>\n",
       "      <th>44219</th>\n",
       "      <td>44219</td>\n",
       "      <td>6632</td>\n",
       "      <td>1.0</td>\n",
       "      <td>0.037148</td>\n",
       "      <td>E</td>\n",
       "    </tr>\n",
       "    <tr>\n",
       "      <th>44220</th>\n",
       "      <td>44220</td>\n",
       "      <td>6632</td>\n",
       "      <td>0.0</td>\n",
       "      <td>0.037150</td>\n",
       "      <td>e</td>\n",
       "    </tr>\n",
       "    <tr>\n",
       "      <th>44221</th>\n",
       "      <td>44221</td>\n",
       "      <td>6632</td>\n",
       "      <td>1.0</td>\n",
       "      <td>0.037156</td>\n",
       "      <td>E</td>\n",
       "    </tr>\n",
       "    <tr>\n",
       "      <th>44222</th>\n",
       "      <td>44222</td>\n",
       "      <td>6632</td>\n",
       "      <td>0.0</td>\n",
       "      <td>0.037161</td>\n",
       "      <td>e</td>\n",
       "    </tr>\n",
       "  </tbody>\n",
       "</table>\n",
       "<p>44223 rows × 5 columns</p>\n",
       "</div>\n",
       "      <button class=\"colab-df-convert\" onclick=\"convertToInteractive('df-7cd64ab5-d1e7-4acc-a69d-4fd0b6e7bec9')\"\n",
       "              title=\"Convert this dataframe to an interactive table.\"\n",
       "              style=\"display:none;\">\n",
       "        \n",
       "  <svg xmlns=\"http://www.w3.org/2000/svg\" height=\"24px\"viewBox=\"0 0 24 24\"\n",
       "       width=\"24px\">\n",
       "    <path d=\"M0 0h24v24H0V0z\" fill=\"none\"/>\n",
       "    <path d=\"M18.56 5.44l.94 2.06.94-2.06 2.06-.94-2.06-.94-.94-2.06-.94 2.06-2.06.94zm-11 1L8.5 8.5l.94-2.06 2.06-.94-2.06-.94L8.5 2.5l-.94 2.06-2.06.94zm10 10l.94 2.06.94-2.06 2.06-.94-2.06-.94-.94-2.06-.94 2.06-2.06.94z\"/><path d=\"M17.41 7.96l-1.37-1.37c-.4-.4-.92-.59-1.43-.59-.52 0-1.04.2-1.43.59L10.3 9.45l-7.72 7.72c-.78.78-.78 2.05 0 2.83L4 21.41c.39.39.9.59 1.41.59.51 0 1.02-.2 1.41-.59l7.78-7.78 2.81-2.81c.8-.78.8-2.07 0-2.86zM5.41 20L4 18.59l7.72-7.72 1.47 1.35L5.41 20z\"/>\n",
       "  </svg>\n",
       "      </button>\n",
       "      \n",
       "  <style>\n",
       "    .colab-df-container {\n",
       "      display:flex;\n",
       "      flex-wrap:wrap;\n",
       "      gap: 12px;\n",
       "    }\n",
       "\n",
       "    .colab-df-convert {\n",
       "      background-color: #E8F0FE;\n",
       "      border: none;\n",
       "      border-radius: 50%;\n",
       "      cursor: pointer;\n",
       "      display: none;\n",
       "      fill: #1967D2;\n",
       "      height: 32px;\n",
       "      padding: 0 0 0 0;\n",
       "      width: 32px;\n",
       "    }\n",
       "\n",
       "    .colab-df-convert:hover {\n",
       "      background-color: #E2EBFA;\n",
       "      box-shadow: 0px 1px 2px rgba(60, 64, 67, 0.3), 0px 1px 3px 1px rgba(60, 64, 67, 0.15);\n",
       "      fill: #174EA6;\n",
       "    }\n",
       "\n",
       "    [theme=dark] .colab-df-convert {\n",
       "      background-color: #3B4455;\n",
       "      fill: #D2E3FC;\n",
       "    }\n",
       "\n",
       "    [theme=dark] .colab-df-convert:hover {\n",
       "      background-color: #434B5C;\n",
       "      box-shadow: 0px 1px 3px 1px rgba(0, 0, 0, 0.15);\n",
       "      filter: drop-shadow(0px 1px 2px rgba(0, 0, 0, 0.3));\n",
       "      fill: #FFFFFF;\n",
       "    }\n",
       "  </style>\n",
       "\n",
       "      <script>\n",
       "        const buttonEl =\n",
       "          document.querySelector('#df-7cd64ab5-d1e7-4acc-a69d-4fd0b6e7bec9 button.colab-df-convert');\n",
       "        buttonEl.style.display =\n",
       "          google.colab.kernel.accessAllowed ? 'block' : 'none';\n",
       "\n",
       "        async function convertToInteractive(key) {\n",
       "          const element = document.querySelector('#df-7cd64ab5-d1e7-4acc-a69d-4fd0b6e7bec9');\n",
       "          const dataTable =\n",
       "            await google.colab.kernel.invokeFunction('convertToInteractive',\n",
       "                                                     [key], {});\n",
       "          if (!dataTable) return;\n",
       "\n",
       "          const docLinkHtml = 'Like what you see? Visit the ' +\n",
       "            '<a target=\"_blank\" href=https://colab.research.google.com/notebooks/data_table.ipynb>data table notebook</a>'\n",
       "            + ' to learn more about interactive tables.';\n",
       "          element.innerHTML = '';\n",
       "          dataTable['output_type'] = 'display_data';\n",
       "          await google.colab.output.renderOutput(dataTable, element);\n",
       "          const docLink = document.createElement('div');\n",
       "          docLink.innerHTML = docLinkHtml;\n",
       "          element.appendChild(docLink);\n",
       "        }\n",
       "      </script>\n",
       "    </div>\n",
       "  </div>\n",
       "  "
      ],
      "text/plain": [
       "       Unnamed: 0  sensor_id  value  time_scal event\n",
       "0               0       5895    0.0   0.070203     a\n",
       "1               1       5889    0.0   0.070204     k\n",
       "2               2       5896    0.0   0.070204     c\n",
       "3               3       6253    0.0   0.070204     d\n",
       "4               4       5887    0.0   0.070204     i\n",
       "...           ...        ...    ...        ...   ...\n",
       "44218       44218       6632    0.0   0.037144     e\n",
       "44219       44219       6632    1.0   0.037148     E\n",
       "44220       44220       6632    0.0   0.037150     e\n",
       "44221       44221       6632    1.0   0.037156     E\n",
       "44222       44222       6632    0.0   0.037161     e\n",
       "\n",
       "[44223 rows x 5 columns]"
      ]
     },
     "metadata": {},
     "execution_count": 108
    }
   ]
  },
  {
   "cell_type": "markdown",
   "source": [
    "# Convertion to format for the SPEED algorithm"
   ],
   "metadata": {
    "id": "-wgd89NKy489"
   }
  },
  {
   "cell_type": "code",
   "source": [
    "def create_on_off_Multi_char():\n",
    "    dic_on_off = {}\n",
    "    dic_on_off[5895] = [\"a\",\"A\"]\n",
    "    dic_on_off[7125] = [\"b\", \"B\"]\n",
    "    dic_on_off[5896] = [\"c\", \"C\"]\n",
    "    dic_on_off[6253] = [\"d\", \"D\"]\n",
    "    dic_on_off[6632] = [\"e\", \"E\"]\n",
    "    dic_on_off[6633] = [\"f\", \"F\"]\n",
    "    dic_on_off[6635] = [\"g\", \"G\"]\n",
    "    dic_on_off[6896] = [\"h\", \"H\"]\n",
    "    dic_on_off[5887] = [\"i\", \"I\"]\n",
    "    dic_on_off[5888] = [\"j\", \"J\"]\n",
    "    dic_on_off[5889] = [\"k\", \"K\"]\n",
    "    dic_on_off[5893] = [\"l\", \"L\"]\n",
    "    return dic_on_off"
   ],
   "metadata": {
    "id": "nnKwb6Iuy6Yg",
    "executionInfo": {
     "status": "ok",
     "timestamp": 1643538877178,
     "user_tz": -60,
     "elapsed": 236,
     "user": {
      "displayName": "Seminar ahmias",
      "photoUrl": "https://lh3.googleusercontent.com/a/default-user=s64",
      "userId": "08863251838733967153"
     }
    }
   },
   "execution_count": 6,
   "outputs": []
  },
  {
   "cell_type": "code",
   "source": [
    "def create_on_off_Multi_int():\n",
    "    dic_on_off = {}\n",
    "    dic_on_off[5895] = [0,1]\n",
    "    dic_on_off[7125] = [2, 3]\n",
    "    dic_on_off[5896] = [4,5]\n",
    "    dic_on_off[6253] = [6, 7]\n",
    "    dic_on_off[6632] = [8, 9]\n",
    "    dic_on_off[6633] = [10, 11]\n",
    "    dic_on_off[6635] = [12, 13]\n",
    "    dic_on_off[6896] = [14, 15]\n",
    "    dic_on_off[5887] = [16, 17]\n",
    "    dic_on_off[5888] = [18, 19]\n",
    "    dic_on_off[5889] = [20, 21]\n",
    "    dic_on_off[5893] = [22, 23]\n",
    "    return dic_on_off"
   ],
   "metadata": {
    "id": "Laf280m5y9_F",
    "executionInfo": {
     "status": "ok",
     "timestamp": 1643538877453,
     "user_tz": -60,
     "elapsed": 6,
     "user": {
      "displayName": "Seminar ahmias",
      "photoUrl": "https://lh3.googleusercontent.com/a/default-user=s64",
      "userId": "08863251838733967153"
     }
    }
   },
   "execution_count": 7,
   "outputs": []
  },
  {
   "cell_type": "code",
   "source": [
    "dic_on_off = create_on_off_Multi_char()\n",
    "dic_on_off"
   ],
   "metadata": {
    "colab": {
     "base_uri": "https://localhost:8080/"
    },
    "id": "XxrPPc6dy-tJ",
    "executionInfo": {
     "status": "ok",
     "timestamp": 1643538877453,
     "user_tz": -60,
     "elapsed": 5,
     "user": {
      "displayName": "Seminar ahmias",
      "photoUrl": "https://lh3.googleusercontent.com/a/default-user=s64",
      "userId": "08863251838733967153"
     }
    },
    "outputId": "4a548716-1074-4b70-9221-8b23ccecaf2d"
   },
   "execution_count": 8,
   "outputs": [
    {
     "output_type": "execute_result",
     "data": {
      "text/plain": [
       "{5887: ['i', 'I'],\n",
       " 5888: ['j', 'J'],\n",
       " 5889: ['k', 'K'],\n",
       " 5893: ['l', 'L'],\n",
       " 5895: ['a', 'A'],\n",
       " 5896: ['c', 'C'],\n",
       " 6253: ['d', 'D'],\n",
       " 6632: ['e', 'E'],\n",
       " 6633: ['f', 'F'],\n",
       " 6635: ['g', 'G'],\n",
       " 6896: ['h', 'H'],\n",
       " 7125: ['b', 'B']}"
      ]
     },
     "metadata": {},
     "execution_count": 8
    }
   ]
  },
  {
   "cell_type": "code",
   "source": [
    "dic_on_off_int = create_on_off_Multi_int()\n",
    "dic_on_off_int"
   ],
   "metadata": {
    "colab": {
     "base_uri": "https://localhost:8080/"
    },
    "id": "AAfPzSRIzC8e",
    "executionInfo": {
     "status": "ok",
     "timestamp": 1643538877455,
     "user_tz": -60,
     "elapsed": 6,
     "user": {
      "displayName": "Seminar ahmias",
      "photoUrl": "https://lh3.googleusercontent.com/a/default-user=s64",
      "userId": "08863251838733967153"
     }
    },
    "outputId": "600aadad-9ba2-4645-bcf5-3b16d936ad64"
   },
   "execution_count": 9,
   "outputs": [
    {
     "output_type": "execute_result",
     "data": {
      "text/plain": [
       "{5887: [16, 17],\n",
       " 5888: [18, 19],\n",
       " 5889: [20, 21],\n",
       " 5893: [22, 23],\n",
       " 5895: [0, 1],\n",
       " 5896: [4, 5],\n",
       " 6253: [6, 7],\n",
       " 6632: [8, 9],\n",
       " 6633: [10, 11],\n",
       " 6635: [12, 13],\n",
       " 6896: [14, 15],\n",
       " 7125: [2, 3]}"
      ]
     },
     "metadata": {},
     "execution_count": 9
    }
   ]
  },
  {
   "cell_type": "code",
   "source": [
    "def add_event_col(df, dic):\n",
    "\n",
    "    add = []\n",
    "\n",
    "    for index, row in df.iterrows():\n",
    "\n",
    "        sensor = row[\"sensor_id\"]\n",
    "        value = int(row[\"value\"])\n",
    "\n",
    "        add.append(dic[sensor][value])\n",
    "\n",
    "    df[\"event\"] = np.array(add)\n",
    "    return df"
   ],
   "metadata": {
    "id": "9WE1XnQ0zEho",
    "executionInfo": {
     "status": "ok",
     "timestamp": 1643538877456,
     "user_tz": -60,
     "elapsed": 6,
     "user": {
      "displayName": "Seminar ahmias",
      "photoUrl": "https://lh3.googleusercontent.com/a/default-user=s64",
      "userId": "08863251838733967153"
     }
    }
   },
   "execution_count": 10,
   "outputs": []
  },
  {
   "cell_type": "code",
   "source": [
    "df = add_event_col(df_clean, dic_on_off)\n",
    "df = df[[\"time_scal\", \"event\"]]"
   ],
   "metadata": {
    "id": "ebh-rkVPzGE6",
    "executionInfo": {
     "status": "ok",
     "timestamp": 1643538880370,
     "user_tz": -60,
     "elapsed": 2920,
     "user": {
      "displayName": "Seminar ahmias",
      "photoUrl": "https://lh3.googleusercontent.com/a/default-user=s64",
      "userId": "08863251838733967153"
     }
    }
   },
   "execution_count": 11,
   "outputs": []
  },
  {
   "cell_type": "code",
   "source": [
    "df[\"event\"].value_counts()"
   ],
   "metadata": {
    "colab": {
     "base_uri": "https://localhost:8080/"
    },
    "id": "VfvA0dKrzHwM",
    "executionInfo": {
     "status": "ok",
     "timestamp": 1643538880370,
     "user_tz": -60,
     "elapsed": 5,
     "user": {
      "displayName": "Seminar ahmias",
      "photoUrl": "https://lh3.googleusercontent.com/a/default-user=s64",
      "userId": "08863251838733967153"
     }
    },
    "outputId": "561f7b90-b2f8-487c-8314-05a72d5e5ae3"
   },
   "execution_count": 12,
   "outputs": [
    {
     "output_type": "execute_result",
     "data": {
      "text/plain": [
       "k    6639\n",
       "K    6638\n",
       "a    3815\n",
       "A    3814\n",
       "i    3576\n",
       "I    3575\n",
       "l    3058\n",
       "L    3057\n",
       "c    1752\n",
       "C    1751\n",
       "e    1344\n",
       "E    1343\n",
       "d    1055\n",
       "D    1054\n",
       "B     374\n",
       "b     374\n",
       "j     344\n",
       "J     343\n",
       "f     111\n",
       "F     110\n",
       "h      38\n",
       "H      37\n",
       "g      11\n",
       "G      10\n",
       "Name: event, dtype: int64"
      ]
     },
     "metadata": {},
     "execution_count": 12
    }
   ]
  },
  {
   "cell_type": "markdown",
   "source": [
    "# The SPEED Algorithm"
   ],
   "metadata": {
    "id": "-zc_Y0pyzLZl"
   }
  },
  {
   "cell_type": "markdown",
   "source": [
    "# df and sequence list"
   ],
   "metadata": {
    "id": "zyaKspGpzU7G"
   }
  },
  {
   "cell_type": "code",
   "source": [
    "df"
   ],
   "metadata": {
    "colab": {
     "base_uri": "https://localhost:8080/",
     "height": 423
    },
    "id": "ar3qaouezNjR",
    "executionInfo": {
     "status": "ok",
     "timestamp": 1643538881578,
     "user_tz": -60,
     "elapsed": 9,
     "user": {
      "displayName": "Seminar ahmias",
      "photoUrl": "https://lh3.googleusercontent.com/a/default-user=s64",
      "userId": "08863251838733967153"
     }
    },
    "outputId": "cbfa8492-4332-4767-f50d-8fd19ca95550"
   },
   "execution_count": 13,
   "outputs": [
    {
     "output_type": "execute_result",
     "data": {
      "text/html": [
       "\n",
       "  <div id=\"df-09728bba-9832-40b7-92e1-4dffb6cca176\">\n",
       "    <div class=\"colab-df-container\">\n",
       "      <div>\n",
       "<style scoped>\n",
       "    .dataframe tbody tr th:only-of-type {\n",
       "        vertical-align: middle;\n",
       "    }\n",
       "\n",
       "    .dataframe tbody tr th {\n",
       "        vertical-align: top;\n",
       "    }\n",
       "\n",
       "    .dataframe thead th {\n",
       "        text-align: right;\n",
       "    }\n",
       "</style>\n",
       "<table border=\"1\" class=\"dataframe\">\n",
       "  <thead>\n",
       "    <tr style=\"text-align: right;\">\n",
       "      <th></th>\n",
       "      <th>time_scal</th>\n",
       "      <th>event</th>\n",
       "    </tr>\n",
       "  </thead>\n",
       "  <tbody>\n",
       "    <tr>\n",
       "      <th>0</th>\n",
       "      <td>0.070203</td>\n",
       "      <td>a</td>\n",
       "    </tr>\n",
       "    <tr>\n",
       "      <th>1</th>\n",
       "      <td>0.070204</td>\n",
       "      <td>k</td>\n",
       "    </tr>\n",
       "    <tr>\n",
       "      <th>2</th>\n",
       "      <td>0.070204</td>\n",
       "      <td>c</td>\n",
       "    </tr>\n",
       "    <tr>\n",
       "      <th>3</th>\n",
       "      <td>0.070204</td>\n",
       "      <td>d</td>\n",
       "    </tr>\n",
       "    <tr>\n",
       "      <th>4</th>\n",
       "      <td>0.070204</td>\n",
       "      <td>i</td>\n",
       "    </tr>\n",
       "    <tr>\n",
       "      <th>...</th>\n",
       "      <td>...</td>\n",
       "      <td>...</td>\n",
       "    </tr>\n",
       "    <tr>\n",
       "      <th>44218</th>\n",
       "      <td>0.037144</td>\n",
       "      <td>e</td>\n",
       "    </tr>\n",
       "    <tr>\n",
       "      <th>44219</th>\n",
       "      <td>0.037148</td>\n",
       "      <td>E</td>\n",
       "    </tr>\n",
       "    <tr>\n",
       "      <th>44220</th>\n",
       "      <td>0.037150</td>\n",
       "      <td>e</td>\n",
       "    </tr>\n",
       "    <tr>\n",
       "      <th>44221</th>\n",
       "      <td>0.037156</td>\n",
       "      <td>E</td>\n",
       "    </tr>\n",
       "    <tr>\n",
       "      <th>44222</th>\n",
       "      <td>0.037161</td>\n",
       "      <td>e</td>\n",
       "    </tr>\n",
       "  </tbody>\n",
       "</table>\n",
       "<p>44223 rows × 2 columns</p>\n",
       "</div>\n",
       "      <button class=\"colab-df-convert\" onclick=\"convertToInteractive('df-09728bba-9832-40b7-92e1-4dffb6cca176')\"\n",
       "              title=\"Convert this dataframe to an interactive table.\"\n",
       "              style=\"display:none;\">\n",
       "        \n",
       "  <svg xmlns=\"http://www.w3.org/2000/svg\" height=\"24px\"viewBox=\"0 0 24 24\"\n",
       "       width=\"24px\">\n",
       "    <path d=\"M0 0h24v24H0V0z\" fill=\"none\"/>\n",
       "    <path d=\"M18.56 5.44l.94 2.06.94-2.06 2.06-.94-2.06-.94-.94-2.06-.94 2.06-2.06.94zm-11 1L8.5 8.5l.94-2.06 2.06-.94-2.06-.94L8.5 2.5l-.94 2.06-2.06.94zm10 10l.94 2.06.94-2.06 2.06-.94-2.06-.94-.94-2.06-.94 2.06-2.06.94z\"/><path d=\"M17.41 7.96l-1.37-1.37c-.4-.4-.92-.59-1.43-.59-.52 0-1.04.2-1.43.59L10.3 9.45l-7.72 7.72c-.78.78-.78 2.05 0 2.83L4 21.41c.39.39.9.59 1.41.59.51 0 1.02-.2 1.41-.59l7.78-7.78 2.81-2.81c.8-.78.8-2.07 0-2.86zM5.41 20L4 18.59l7.72-7.72 1.47 1.35L5.41 20z\"/>\n",
       "  </svg>\n",
       "      </button>\n",
       "      \n",
       "  <style>\n",
       "    .colab-df-container {\n",
       "      display:flex;\n",
       "      flex-wrap:wrap;\n",
       "      gap: 12px;\n",
       "    }\n",
       "\n",
       "    .colab-df-convert {\n",
       "      background-color: #E8F0FE;\n",
       "      border: none;\n",
       "      border-radius: 50%;\n",
       "      cursor: pointer;\n",
       "      display: none;\n",
       "      fill: #1967D2;\n",
       "      height: 32px;\n",
       "      padding: 0 0 0 0;\n",
       "      width: 32px;\n",
       "    }\n",
       "\n",
       "    .colab-df-convert:hover {\n",
       "      background-color: #E2EBFA;\n",
       "      box-shadow: 0px 1px 2px rgba(60, 64, 67, 0.3), 0px 1px 3px 1px rgba(60, 64, 67, 0.15);\n",
       "      fill: #174EA6;\n",
       "    }\n",
       "\n",
       "    [theme=dark] .colab-df-convert {\n",
       "      background-color: #3B4455;\n",
       "      fill: #D2E3FC;\n",
       "    }\n",
       "\n",
       "    [theme=dark] .colab-df-convert:hover {\n",
       "      background-color: #434B5C;\n",
       "      box-shadow: 0px 1px 3px 1px rgba(0, 0, 0, 0.15);\n",
       "      filter: drop-shadow(0px 1px 2px rgba(0, 0, 0, 0.3));\n",
       "      fill: #FFFFFF;\n",
       "    }\n",
       "  </style>\n",
       "\n",
       "      <script>\n",
       "        const buttonEl =\n",
       "          document.querySelector('#df-09728bba-9832-40b7-92e1-4dffb6cca176 button.colab-df-convert');\n",
       "        buttonEl.style.display =\n",
       "          google.colab.kernel.accessAllowed ? 'block' : 'none';\n",
       "\n",
       "        async function convertToInteractive(key) {\n",
       "          const element = document.querySelector('#df-09728bba-9832-40b7-92e1-4dffb6cca176');\n",
       "          const dataTable =\n",
       "            await google.colab.kernel.invokeFunction('convertToInteractive',\n",
       "                                                     [key], {});\n",
       "          if (!dataTable) return;\n",
       "\n",
       "          const docLinkHtml = 'Like what you see? Visit the ' +\n",
       "            '<a target=\"_blank\" href=https://colab.research.google.com/notebooks/data_table.ipynb>data table notebook</a>'\n",
       "            + ' to learn more about interactive tables.';\n",
       "          element.innerHTML = '';\n",
       "          dataTable['output_type'] = 'display_data';\n",
       "          await google.colab.output.renderOutput(dataTable, element);\n",
       "          const docLink = document.createElement('div');\n",
       "          docLink.innerHTML = docLinkHtml;\n",
       "          element.appendChild(docLink);\n",
       "        }\n",
       "      </script>\n",
       "    </div>\n",
       "  </div>\n",
       "  "
      ],
      "text/plain": [
       "       time_scal event\n",
       "0       0.070203     a\n",
       "1       0.070204     k\n",
       "2       0.070204     c\n",
       "3       0.070204     d\n",
       "4       0.070204     i\n",
       "...          ...   ...\n",
       "44218   0.037144     e\n",
       "44219   0.037148     E\n",
       "44220   0.037150     e\n",
       "44221   0.037156     E\n",
       "44222   0.037161     e\n",
       "\n",
       "[44223 rows x 2 columns]"
      ]
     },
     "metadata": {},
     "execution_count": 13
    }
   ]
  },
  {
   "cell_type": "code",
   "source": [
    "sequence_list = df.values.tolist()    # [timestamp, single event]\n",
    "print(\"length of total sequence:\", len(sequence_list))\n",
    "print(\"length of training sequence:\", int(len(sequence_list)*0.8))\n",
    "print(\"length of testing sequence:\", int(len(sequence_list)*0.2))"
   ],
   "metadata": {
    "colab": {
     "base_uri": "https://localhost:8080/"
    },
    "id": "UkTh8L0zzXIC",
    "executionInfo": {
     "status": "ok",
     "timestamp": 1643538881842,
     "user_tz": -60,
     "elapsed": 6,
     "user": {
      "displayName": "Seminar ahmias",
      "photoUrl": "https://lh3.googleusercontent.com/a/default-user=s64",
      "userId": "08863251838733967153"
     }
    },
    "outputId": "1b6823b9-f562-43ca-af47-35807e8abd98"
   },
   "execution_count": 14,
   "outputs": [
    {
     "output_type": "stream",
     "name": "stdout",
     "text": [
      "length of total sequence: 44223\n",
      "length of training sequence: 35378\n",
      "length of testing sequence: 8844\n"
     ]
    }
   ]
  },
  {
   "cell_type": "code",
   "source": [
    "training_data = sequence_list[:int(len(sequence_list)*0.8)]\n",
    "testing_data = sequence_list[int(len(sequence_list)*0.8):]\n",
    "print(\"training:\", len(training_data))\n",
    "print(\"testing:\", len(testing_data))"
   ],
   "metadata": {
    "colab": {
     "base_uri": "https://localhost:8080/"
    },
    "id": "gkJ1odG_zaDo",
    "executionInfo": {
     "status": "ok",
     "timestamp": 1643538881842,
     "user_tz": -60,
     "elapsed": 5,
     "user": {
      "displayName": "Seminar ahmias",
      "photoUrl": "https://lh3.googleusercontent.com/a/default-user=s64",
      "userId": "08863251838733967153"
     }
    },
    "outputId": "c101a92d-fe8b-4141-fd42-d8be5affe22e"
   },
   "execution_count": 15,
   "outputs": [
    {
     "output_type": "stream",
     "name": "stdout",
     "text": [
      "training: 35378\n",
      "testing: 8845\n"
     ]
    }
   ]
  },
  {
   "cell_type": "markdown",
   "source": [
    "#Creating Episodes"
   ],
   "metadata": {
    "id": "0xPJ6MDb0usu"
   }
  },
  {
   "cell_type": "code",
   "source": [
    "caps = [\"A\", \"B\", \"C\", \"D\", \"E\", \"F\", \"G\", \"H\", \"I\", \"J\", \"K\", \"L\"]   # turning on\n",
    "lows = [\"a\", \"b\", \"c\", \"d\", \"e\", \"f\", \"g\", \"h\", \"i\", \"j\", \"k\", \"l\"]   # turning off"
   ],
   "metadata": {
    "id": "CiTU3KpW0uXg",
    "executionInfo": {
     "status": "ok",
     "timestamp": 1643538884075,
     "user_tz": -60,
     "elapsed": 269,
     "user": {
      "displayName": "Seminar ahmias",
      "photoUrl": "https://lh3.googleusercontent.com/a/default-user=s64",
      "userId": "08863251838733967153"
     }
    }
   },
   "execution_count": 16,
   "outputs": []
  },
  {
   "cell_type": "code",
   "source": [
    "def create_episodes(episode_seq, episode_list, sequence_list):\n",
    "  for item_id, item in enumerate(sequence_list):\n",
    "    item_time = item[0]\n",
    "    item_event = item[1]\n",
    "    episode_seq += item_event\n",
    "    if item_event in caps:      # start of episode\n",
    "      episode = item_event\n",
    "      #print(\"start of episode: \", item_event)\n",
    "      opp_event = False\n",
    "      plus_id = 1\n",
    "      while opp_event == False and item_id+plus_id < len(sequence_list)-1:\n",
    "        next_item = sequence_list[item_id + plus_id]\n",
    "        if next_item[1] == item_event.lower():        # end of episode\n",
    "          episode += next_item[1]\n",
    "          episode_list.append(episode)\n",
    "          opp_event = True\n",
    "        else:\n",
    "          episode += next_item[1]\n",
    "          plus_id += 1\n",
    "      #print(\"end of episode, episode: \", episode)\n",
    "\n",
    "  return episode_list, episode_seq"
   ],
   "metadata": {
    "id": "oK0cmi5a06m-",
    "executionInfo": {
     "status": "ok",
     "timestamp": 1643538884353,
     "user_tz": -60,
     "elapsed": 3,
     "user": {
      "displayName": "Seminar ahmias",
      "photoUrl": "https://lh3.googleusercontent.com/a/default-user=s64",
      "userId": "08863251838733967153"
     }
    }
   },
   "execution_count": 17,
   "outputs": []
  },
  {
   "cell_type": "code",
   "source": [
    "# tree[key] = [occurence of key, {\"seq1 following key\":occur of seq1, \"seq2 following key\":occur of seq2}]\n",
    "# episode_seq = sub_episode_seq   # to be deleted later after testing\n",
    "\n",
    "def create_dict_for_tree(episode_list):\n",
    "  for ep_id, ep in enumerate(episode_list):\n",
    "    #print(\"ep[0]: \", ep[0])\n",
    "    if ep[0] not in dict_tree.keys():\n",
    "      dict_tree[ep[0]] = [1, {}]\n",
    "    else:\n",
    "      dict_tree[ep[0]][0] += 1\n",
    "      cumu_seq = \"\"\n",
    "      for next_item in ep[1:]:\n",
    "        cumu_seq += next_item\n",
    "        if cumu_seq in dict_tree[ep[0]][1].keys():\n",
    "          dict_tree[ep[0]][1][cumu_seq] += 1\n",
    "        else:\n",
    "          dict_tree[ep[0]][1][cumu_seq] = 1\n",
    "\n",
    "  return dict_tree\n"
   ],
   "metadata": {
    "id": "Q8JAptgl7SzL",
    "executionInfo": {
     "status": "ok",
     "timestamp": 1643538884354,
     "user_tz": -60,
     "elapsed": 4,
     "user": {
      "displayName": "Seminar ahmias",
      "photoUrl": "https://lh3.googleusercontent.com/a/default-user=s64",
      "userId": "08863251838733967153"
     }
    }
   },
   "execution_count": 18,
   "outputs": []
  },
  {
   "cell_type": "code",
   "source": [
    "episode_seq = \"\"\n",
    "episode_list = list()\n",
    "dict_tree = dict()     # [occurences of the alphabet, [[list of things that follows, occurences]]]\n",
    "episode_list, episode_seq = create_episodes(episode_seq, episode_list, training_data)\n",
    "dict_tree = create_dict_for_tree(episode_list)"
   ],
   "metadata": {
    "id": "J3mqAVsh1elk",
    "executionInfo": {
     "status": "ok",
     "timestamp": 1643538884585,
     "user_tz": -60,
     "elapsed": 234,
     "user": {
      "displayName": "Seminar ahmias",
      "photoUrl": "https://lh3.googleusercontent.com/a/default-user=s64",
      "userId": "08863251838733967153"
     }
    }
   },
   "execution_count": 19,
   "outputs": []
  },
  {
   "cell_type": "code",
   "source": [
    "dict_tree.keys()"
   ],
   "metadata": {
    "colab": {
     "base_uri": "https://localhost:8080/"
    },
    "id": "D3uzWnQa77X5",
    "executionInfo": {
     "status": "ok",
     "timestamp": 1643538884586,
     "user_tz": -60,
     "elapsed": 3,
     "user": {
      "displayName": "Seminar ahmias",
      "photoUrl": "https://lh3.googleusercontent.com/a/default-user=s64",
      "userId": "08863251838733967153"
     }
    },
    "outputId": "7c476865-2a98-45fb-ee45-ae56a903a07c"
   },
   "execution_count": 20,
   "outputs": [
    {
     "output_type": "execute_result",
     "data": {
      "text/plain": [
       "dict_keys(['A', 'L', 'D', 'I', 'C', 'E', 'F', 'G', 'K', 'J', 'H', 'B'])"
      ]
     },
     "metadata": {},
     "execution_count": 20
    }
   ]
  },
  {
   "cell_type": "code",
   "source": [
    "dict_tree"
   ],
   "metadata": {
    "id": "qot5oSSJ78Eo"
   },
   "execution_count": null,
   "outputs": []
  },
  {
   "cell_type": "markdown",
   "source": [
    "#Create nested list as stat tree"
   ],
   "metadata": {
    "id": "x8CC8KlO8B6N"
   }
  },
  {
   "cell_type": "code",
   "source": [
    "# dictionary created above, used to map to decision tree\n",
    "for key, item in dict_tree.items():\n",
    "  print(\"root: \", key, \"\\tnumber of times as a root: \", item[0], \"\\tnumber of children: \", len(item[1]))"
   ],
   "metadata": {
    "colab": {
     "base_uri": "https://localhost:8080/"
    },
    "id": "0TKIVRvWAA7m",
    "executionInfo": {
     "status": "ok",
     "timestamp": 1643538888640,
     "user_tz": -60,
     "elapsed": 238,
     "user": {
      "displayName": "Seminar ahmias",
      "photoUrl": "https://lh3.googleusercontent.com/a/default-user=s64",
      "userId": "08863251838733967153"
     }
    },
    "outputId": "c5322cf8-d3f5-495e-d087-bc7360a20718"
   },
   "execution_count": 22,
   "outputs": [
    {
     "output_type": "stream",
     "name": "stdout",
     "text": [
      "root:  A \tnumber of times as a root:  3814 \tnumber of children:  9272\n",
      "root:  L \tnumber of times as a root:  2712 \tnumber of children:  2476\n",
      "root:  D \tnumber of times as a root:  951 \tnumber of children:  59\n",
      "root:  I \tnumber of times as a root:  2551 \tnumber of children:  7272\n",
      "root:  C \tnumber of times as a root:  1339 \tnumber of children:  5127\n",
      "root:  E \tnumber of times as a root:  1094 \tnumber of children:  2077\n",
      "root:  F \tnumber of times as a root:  92 \tnumber of children:  97\n",
      "root:  G \tnumber of times as a root:  9 \tnumber of children:  4\n",
      "root:  K \tnumber of times as a root:  4610 \tnumber of children:  10269\n",
      "root:  J \tnumber of times as a root:  273 \tnumber of children:  38\n",
      "root:  H \tnumber of times as a root:  32 \tnumber of children:  45\n",
      "root:  B \tnumber of times as a root:  205 \tnumber of children:  10229\n"
     ]
    }
   ]
  },
  {
   "cell_type": "code",
   "source": [
    "dict_tree['A']"
   ],
   "metadata": {
    "colab": {
     "base_uri": "https://localhost:8080/"
    },
    "id": "2Jv42VubAGXo",
    "executionInfo": {
     "status": "ok",
     "timestamp": 1643538888900,
     "user_tz": -60,
     "elapsed": 4,
     "user": {
      "displayName": "Seminar ahmias",
      "photoUrl": "https://lh3.googleusercontent.com/a/default-user=s64",
      "userId": "08863251838733967153"
     }
    },
    "outputId": "80400501-a055-415a-821d-1716e7e46348"
   },
   "execution_count": 23,
   "outputs": [
    {
     "output_type": "execute_result",
     "data": {
      "text/plain": [
       "[3814,\n",
       " {'L': 185,\n",
       "  'Ll': 112,\n",
       "  'Lla': 17,\n",
       "  'a': 3205,\n",
       "  'i': 34,\n",
       "  'iI': 31,\n",
       "  'iIi': 29,\n",
       "  'iIiI': 29,\n",
       "  'iIiIa': 1,\n",
       "  'Li': 14,\n",
       "  'LiD': 4,\n",
       "  'LiDd': 4,\n",
       "  'LiDdl': 1,\n",
       "  'LiDdlI': 1,\n",
       "  'LiDdlIa': 1,\n",
       "  'e': 3,\n",
       "  'eg': 1,\n",
       "  'egf': 1,\n",
       "  'egfa': 1,\n",
       "  'c': 74,\n",
       "  'cC': 43,\n",
       "  'cCa': 18,\n",
       "  'C': 63,\n",
       "  'Ca': 15,\n",
       "  'cCc': 21,\n",
       "  'cCca': 4,\n",
       "  'Cc': 46,\n",
       "  'Cca': 9,\n",
       "  'Lil': 4,\n",
       "  'LilC': 1,\n",
       "  'LilCc': 1,\n",
       "  'LilCcC': 1,\n",
       "  'LilCcCI': 1,\n",
       "  'LilCcCIa': 1,\n",
       "  'cCL': 2,\n",
       "  'cCLl': 2,\n",
       "  'cCLla': 1,\n",
       "  'ia': 1,\n",
       "  'I': 28,\n",
       "  'Ii': 24,\n",
       "  'IiI': 23,\n",
       "  'IiIi': 23,\n",
       "  'IiIiI': 20,\n",
       "  'IiIiIi': 20,\n",
       "  'IiIiIiI': 19,\n",
       "  'IiIiIiIi': 19,\n",
       "  'IiIiIiIiI': 16,\n",
       "  'IiIiIiIiIi': 15,\n",
       "  'IiIiIiIiIiI': 15,\n",
       "  'IiIiIiIiIiIi': 15,\n",
       "  'IiIiIiIiIiIia': 2,\n",
       "  'ca': 14,\n",
       "  'CcC': 26,\n",
       "  'CcCc': 23,\n",
       "  'CcCcC': 16,\n",
       "  'CcCcCc': 15,\n",
       "  'CcCcCcC': 8,\n",
       "  'CcCcCcCa': 1,\n",
       "  'cL': 14,\n",
       "  'cLl': 6,\n",
       "  'cLlL': 2,\n",
       "  'cLlLD': 1,\n",
       "  'cLlLDd': 1,\n",
       "  'cLlLDdE': 1,\n",
       "  'cLlLDdEe': 1,\n",
       "  'cLlLDdEeE': 1,\n",
       "  'cLlLDdEeED': 1,\n",
       "  'cLlLDdEeEDe': 1,\n",
       "  'cLlLDdEeEDeE': 1,\n",
       "  'cLlLDdEeEDeEd': 1,\n",
       "  'cLlLDdEeEDeEde': 1,\n",
       "  'cLlLDdEeEDeEdeE': 1,\n",
       "  'cLlLDdEeEDeEdeEe': 1,\n",
       "  'cLlLDdEeEDeEdeEeE': 1,\n",
       "  'cLlLDdEeEDeEdeEeEe': 1,\n",
       "  'cLlLDdEeEDeEdeEeEeE': 1,\n",
       "  'cLlLDdEeEDeEdeEeEeED': 1,\n",
       "  'cLlLDdEeEDeEdeEeEeEDe': 1,\n",
       "  'cLlLDdEeEDeEdeEeEeEDed': 1,\n",
       "  'cLlLDdEeEDeEdeEeEeEDedl': 1,\n",
       "  'cLlLDdEeEDeEdeEeEeEDedlE': 1,\n",
       "  'cLlLDdEeEDeEdeEeEeEDedlEe': 1,\n",
       "  'cLlLDdEeEDeEdeEeEeEDedlEeE': 1,\n",
       "  'cLlLDdEeEDeEdeEeEeEDedlEeEe': 1,\n",
       "  'cLlLDdEeEDeEdeEeEeEDedlEeEeE': 1,\n",
       "  'cLlLDdEeEDeEdeEeEeEDedlEeEeEe': 1,\n",
       "  'cLlLDdEeEDeEdeEeEeEDedlEeEeEeL': 1,\n",
       "  'cLlLDdEeEDeEdeEeEeEDedlEeEeEeLl': 1,\n",
       "  'cLlLDdEeEDeEdeEeEeEDedlEeEeEeLlE': 1,\n",
       "  'cLlLDdEeEDeEdeEeEeEDedlEeEeEeLlEe': 1,\n",
       "  'cLlLDdEeEDeEdeEeEeEDedlEeEeEeLlEeE': 1,\n",
       "  'cLlLDdEeEDeEdeEeEeEDedlEeEeEeLlEeEe': 1,\n",
       "  'cLlLDdEeEDeEdeEeEeEDedlEeEeEeLlEeEeE': 1,\n",
       "  'cLlLDdEeEDeEdeEeEeEDedlEeEeEeLlEeEeEe': 1,\n",
       "  'cLlLDdEeEDeEdeEeEeEDedlEeEeEeLlEeEeEeL': 1,\n",
       "  'cLlLDdEeEDeEdeEeEeEDedlEeEeEeLlEeEeEeLl': 1,\n",
       "  'cLlLDdEeEDeEdeEeEeEDedlEeEeEeLlEeEeEeLlL': 1,\n",
       "  'cLlLDdEeEDeEdeEeEeEDedlEeEeEeLlEeEeEeLlLa': 1,\n",
       "  'La': 16,\n",
       "  'E': 5,\n",
       "  'Ee': 4,\n",
       "  'EeL': 1,\n",
       "  'EeLl': 1,\n",
       "  'EeLla': 1,\n",
       "  'LlL': 69,\n",
       "  'LlLl': 55,\n",
       "  'LlLla': 9,\n",
       "  'LlLD': 8,\n",
       "  'LlLDd': 8,\n",
       "  'LlLDdD': 3,\n",
       "  'LlLDdDd': 3,\n",
       "  'LlLDdDdD': 2,\n",
       "  'LlLDdDdDd': 2,\n",
       "  'LlLDdDdDda': 1,\n",
       "  'l': 58,\n",
       "  'lL': 38,\n",
       "  'lLl': 30,\n",
       "  'lLlL': 25,\n",
       "  'lLlLl': 18,\n",
       "  'lLlLlL': 17,\n",
       "  'lLlLlLl': 16,\n",
       "  'lLlLlLlL': 11,\n",
       "  'lLlLlLlLl': 10,\n",
       "  'lLlLlLlLlL': 8,\n",
       "  'lLlLlLlLlLl': 7,\n",
       "  'lLlLlLlLlLlL': 7,\n",
       "  'lLlLlLlLlLlLl': 7,\n",
       "  'lLlLlLlLlLlLlL': 6,\n",
       "  'lLlLlLlLlLlLlLl': 4,\n",
       "  'lLlLlLlLlLlLlLlL': 4,\n",
       "  'lLlLlLlLlLlLlLlLl': 4,\n",
       "  'lLlLlLlLlLlLlLlLlL': 4,\n",
       "  'lLlLlLlLlLlLlLlLlLl': 4,\n",
       "  'lLlLlLlLlLlLlLlLlLlL': 3,\n",
       "  'lLlLlLlLlLlLlLlLlLlLl': 3,\n",
       "  'lLlLlLlLlLlLlLlLlLlLlL': 3,\n",
       "  'lLlLlLlLlLlLlLlLlLlLlLl': 3,\n",
       "  'lLlLlLlLlLlLlLlLlLlLlLlL': 2,\n",
       "  'lLlLlLlLlLlLlLlLlLlLlLlLl': 2,\n",
       "  'lLlLlLlLlLlLlLlLlLlLlLlLla': 1,\n",
       "  'LlLlL': 39,\n",
       "  'LlLlLl': 31,\n",
       "  'LlLlLlL': 24,\n",
       "  'LlLlLlLl': 22,\n",
       "  'LlLlLlLlL': 19,\n",
       "  'LlLlLlLlLa': 1,\n",
       "  'LlLlLlLlLl': 18,\n",
       "  'LlLlLlLlLlL': 16,\n",
       "  'LlLlLlLlLlLl': 15,\n",
       "  'LlLlLlLlLlLlL': 13,\n",
       "  'LlLlLlLlLlLlLl': 12,\n",
       "  'LlLlLlLlLlLlLla': 2,\n",
       "  'lLlLlLlLlLlLlLlLlLlLlLla': 1,\n",
       "  'lLlLlLD': 1,\n",
       "  'lLlLlLDd': 1,\n",
       "  'lLlLlLDda': 1,\n",
       "  'lLlLlLlLlLlLla': 1,\n",
       "  'LF': 4,\n",
       "  'LFD': 3,\n",
       "  'LFDd': 3,\n",
       "  'LFDdD': 2,\n",
       "  'LFDdDd': 2,\n",
       "  'LFDdDda': 1,\n",
       "  'D': 28,\n",
       "  'Dd': 26,\n",
       "  'DdF': 1,\n",
       "  'DdFD': 1,\n",
       "  'DdFDd': 1,\n",
       "  'DdFDdD': 1,\n",
       "  'DdFDdDd': 1,\n",
       "  'DdFDdDdf': 1,\n",
       "  'DdFDdDdfD': 1,\n",
       "  'DdFDdDdfDd': 1,\n",
       "  'DdFDdDdfDdl': 1,\n",
       "  'DdFDdDdfDdlL': 1,\n",
       "  'DdFDdDdfDdlLl': 1,\n",
       "  'DdFDdDdfDdlLlL': 1,\n",
       "  'DdFDdDdfDdlLlLl': 1,\n",
       "  'DdFDdDdfDdlLlLla': 1,\n",
       "  'IiIia': 2,\n",
       "  'iIiIi': 28,\n",
       "  'iIiIiI': 28,\n",
       "  'iIiIiIa': 1,\n",
       "  'LD': 29,\n",
       "  'LDd': 28,\n",
       "  'LDdl': 10,\n",
       "  'LDdlL': 8,\n",
       "  'LDdlLi': 1,\n",
       "  'LDdlLiD': 1,\n",
       "  'LDdlLiDd': 1,\n",
       "  'LDdlLiDdI': 1,\n",
       "  'LDdlLiDdIl': 1,\n",
       "  'LDdlLiDdIla': 1,\n",
       "  'Lia': 2,\n",
       "  'lLI': 1,\n",
       "  'lLIl': 1,\n",
       "  'lLIlC': 1,\n",
       "  'lLIlCa': 1,\n",
       "  'LDda': 1,\n",
       "  'lC': 4,\n",
       "  'lCc': 4,\n",
       "  'lCcL': 4,\n",
       "  'lCcLl': 3,\n",
       "  'lCcLlL': 3,\n",
       "  'lCcLlLD': 1,\n",
       "  'lCcLlLDd': 1,\n",
       "  'lCcLlLDdl': 1,\n",
       "  'lCcLlLDdlL': 1,\n",
       "  'lCcLlLDdlLa': 1,\n",
       "  'lLD': 3,\n",
       "  'lLDd': 3,\n",
       "  'lLDdl': 1,\n",
       "  'lLDdlL': 1,\n",
       "  'lLDdlLl': 1,\n",
       "  'lLDdlLlL': 1,\n",
       "  'lLDdlLlLl': 1,\n",
       "  'lLDdlLlLlL': 1,\n",
       "  'lLDdlLlLlLD': 1,\n",
       "  'lLDdlLlLlLDd': 1,\n",
       "  'lLDdlLlLlLDdD': 1,\n",
       "  'lLDdlLlLlLDdDd': 1,\n",
       "  'lLDdlLlLlLDdDdD': 1,\n",
       "  'lLDdlLlLlLDdDdDd': 1,\n",
       "  'lLDdlLlLlLDdDdDdl': 1,\n",
       "  'lLDdlLlLlLDdDdDdlL': 1,\n",
       "  'lLDdlLlLlLDdDdDdlLa': 1,\n",
       "  'lLlLD': 3,\n",
       "  'lLlLDd': 3,\n",
       "  'lLlLDdl': 1,\n",
       "  'lLlLDdlL': 1,\n",
       "  'lLlLDdlLl': 1,\n",
       "  'lLlLDdlLlL': 1,\n",
       "  'lLlLDdlLlLl': 1,\n",
       "  'lLlLDdlLlLlL': 1,\n",
       "  'lLlLDdlLlLlLl': 1,\n",
       "  'lLlLDdlLlLlLla': 1,\n",
       "  'Da': 2,\n",
       "  'F': 1,\n",
       "  'Fa': 1,\n",
       "  'DdD': 12,\n",
       "  'DdDd': 12,\n",
       "  'DdDdD': 6,\n",
       "  'DdDdDd': 6,\n",
       "  'DdDdDdl': 3,\n",
       "  'DdDdDdlL': 3,\n",
       "  'DdDdDdlLF': 1,\n",
       "  'DdDdDdlLFf': 1,\n",
       "  'DdDdDdlLFfF': 1,\n",
       "  'DdDdDdlLFfFf': 1,\n",
       "  'DdDdDdlLFfFfl': 1,\n",
       "  'DdDdDdlLFfFflL': 1,\n",
       "  'DdDdDdlLFfFflLl': 1,\n",
       "  'DdDdDdlLFfFflLlL': 1,\n",
       "  'DdDdDdlLFfFflLlLE': 1,\n",
       "  'DdDdDdlLFfFflLlLEe': 1,\n",
       "  'DdDdDdlLFfFflLlLEeD': 1,\n",
       "  'DdDdDdlLFfFflLlLEeDE': 1,\n",
       "  'DdDdDdlLFfFflLlLEeDEe': 1,\n",
       "  'DdDdDdlLFfFflLlLEeDEeE': 1,\n",
       "  'DdDdDdlLFfFflLlLEeDEeEe': 1,\n",
       "  'DdDdDdlLFfFflLlLEeDEeEeE': 1,\n",
       "  'DdDdDdlLFfFflLlLEeDEeEeEe': 1,\n",
       "  'DdDdDdlLFfFflLlLEeDEeEeEed': 1,\n",
       "  'DdDdDdlLFfFflLlLEeDEeEeEedE': 1,\n",
       "  'DdDdDdlLFfFflLlLEeDEeEeEedEe': 1,\n",
       "  'DdDdDdlLFfFflLlLEeDEeEeEedEeE': 1,\n",
       "  'DdDdDdlLFfFflLlLEeDEeEeEedEeEe': 1,\n",
       "  'DdDdDdlLFfFflLlLEeDEeEeEedEeEeE': 1,\n",
       "  'DdDdDdlLFfFflLlLEeDEeEeEedEeEeEe': 1,\n",
       "  'DdDdDdlLFfFflLlLEeDEeEeEedEeEeEeE': 1,\n",
       "  'DdDdDdlLFfFflLlLEeDEeEeEedEeEeEeEe': 1,\n",
       "  'DdDdDdlLFfFflLlLEeDEeEeEedEeEeEeEeE': 1,\n",
       "  'DdDdDdlLFfFflLlLEeDEeEeEedEeEeEeEeEe': 1,\n",
       "  'DdDdDdlLFfFflLlLEeDEeEeEedEeEeEeEeEeE': 1,\n",
       "  'DdDdDdlLFfFflLlLEeDEeEeEedEeEeEeEeEeEe': 1,\n",
       "  'DdDdDdlLFfFflLlLEeDEeEeEedEeEeEeEeEeEeE': 1,\n",
       "  'DdDdDdlLFfFflLlLEeDEeEeEedEeEeEeEeEeEeEe': 1,\n",
       "  'DdDdDdlLFfFflLlLEeDEeEeEedEeEeEeEeEeEeEeE': 1,\n",
       "  'DdDdDdlLFfFflLlLEeDEeEeEedEeEeEeEeEeEeEeEe': 1,\n",
       "  'DdDdDdlLFfFflLlLEeDEeEeEedEeEeEeEeEeEeEeEel': 1,\n",
       "  'DdDdDdlLFfFflLlLEeDEeEeEedEeEeEeEeEeEeEeEelL': 1,\n",
       "  'DdDdDdlLFfFflLlLEeDEeEeEedEeEeEeEeEeEeEeEelLE': 1,\n",
       "  'DdDdDdlLFfFflLlLEeDEeEeEedEeEeEeEeEeEeEeEelLEe': 1,\n",
       "  'DdDdDdlLFfFflLlLEeDEeEeEedEeEeEeEeEeEeEeEelLEeE': 1,\n",
       "  'DdDdDdlLFfFflLlLEeDEeEeEedEeEeEeEeEeEeEeEelLEeEe': 1,\n",
       "  'DdDdDdlLFfFflLlLEeDEeEeEedEeEeEeEeEeEeEeEelLEeEeE': 1,\n",
       "  'DdDdDdlLFfFflLlLEeDEeEeEedEeEeEeEeEeEeEeEelLEeEeEe': 1,\n",
       "  'DdDdDdlLFfFflLlLEeDEeEeEedEeEeEeEeEeEeEeEelLEeEeEeE': 1,\n",
       "  'DdDdDdlLFfFflLlLEeDEeEeEedEeEeEeEeEeEeEeEelLEeEeEeEe': 1,\n",
       "  'DdDdDdlLFfFflLlLEeDEeEeEedEeEeEeEeEeEeEeEelLEeEeEeEel': 1,\n",
       "  'DdDdDdlLFfFflLlLEeDEeEeEedEeEeEeEeEeEeEeEelLEeEeEeEela': 1,\n",
       "  'LlC': 7,\n",
       "  'LlCc': 7,\n",
       "  'LlCcC': 6,\n",
       "  'LlCcCc': 6,\n",
       "  'LlCcCcC': 4,\n",
       "  'LlCcCcCc': 4,\n",
       "  'LlCcCcCcC': 4,\n",
       "  'LlCcCcCcCc': 2,\n",
       "  'LlCcCcCcCcL': 1,\n",
       "  'LlCcCcCcCcLl': 1,\n",
       "  'LlCcCcCcCcLlL': 1,\n",
       "  'LlCcCcCcCcLlLD': 1,\n",
       "  'LlCcCcCcCcLlLDd': 1,\n",
       "  'LlCcCcCcCcLlLDdl': 1,\n",
       "  'LlCcCcCcCcLlLDdla': 1,\n",
       "  'lLlLlLlLlC': 1,\n",
       "  'lLlLlLlLlCc': 1,\n",
       "  'lLlLlLlLlCcL': 1,\n",
       "  'lLlLlLlLlCcLl': 1,\n",
       "  'lLlLlLlLlCcLlL': 1,\n",
       "  'lLlLlLlLlCcLlLl': 1,\n",
       "  'lLlLlLlLlCcLlLlL': 1,\n",
       "  'lLlLlLlLlCcLlLlLl': 1,\n",
       "  'lLlLlLlLlCcLlLlLlL': 1,\n",
       "  'lLlLlLlLlCcLlLlLlLl': 1,\n",
       "  'lLlLlLlLlCcLlLlLlLlL': 1,\n",
       "  'lLlLlLlLlCcLlLlLlLlLl': 1,\n",
       "  'lLlLlLlLlCcLlLlLlLlLlK': 1,\n",
       "  'lLlLlLlLlCcLlLlLlLlLlKa': 1,\n",
       "  'k': 70,\n",
       "  'kL': 16,\n",
       "  'kLa': 1,\n",
       "  'DdDdl': 6,\n",
       "  'DdDdlL': 5,\n",
       "  'DdDdlLl': 2,\n",
       "  'DdDdlLlL': 1,\n",
       "  'DdDdlLlLa': 1,\n",
       "  'LDdE': 1,\n",
       "  'LDdED': 1,\n",
       "  'LDdEDe': 1,\n",
       "  'LDdEDeE': 1,\n",
       "  'LDdEDeEe': 1,\n",
       "  'LDdEDeEed': 1,\n",
       "  'LDdEDeEedE': 1,\n",
       "  'LDdEDeEedEe': 1,\n",
       "  'LDdEDeEedEea': 1,\n",
       "  'eE': 2,\n",
       "  'eEe': 2,\n",
       "  'eEeE': 1,\n",
       "  'eEeEe': 1,\n",
       "  'eEeEeE': 1,\n",
       "  'eEeEeEe': 1,\n",
       "  'eEeEeEeE': 1,\n",
       "  'eEeEeEeEe': 1,\n",
       "  'eEeEeEeEeE': 1,\n",
       "  'eEeEeEeEeEe': 1,\n",
       "  'eEeEeEeEeEeE': 1,\n",
       "  'eEeEeEeEeEeEe': 1,\n",
       "  'eEeEeEeEeEeEeE': 1,\n",
       "  'eEeEeEeEeEeEeEe': 1,\n",
       "  'eEeEeEeEeEeEeEeE': 1,\n",
       "  'eEeEeEeEeEeEeEeEe': 1,\n",
       "  'eEeEeEeEeEeEeEeEeE': 1,\n",
       "  'eEeEeEeEeEeEeEeEeEe': 1,\n",
       "  'eEeEeEeEeEeEeEeEeEeE': 1,\n",
       "  'eEeEeEeEeEeEeEeEeEeEe': 1,\n",
       "  'eEeEeEeEeEeEeEeEeEeEeE': 1,\n",
       "  'eEeEeEeEeEeEeEeEeEeEeEe': 1,\n",
       "  'eEeEeEeEeEeEeEeEeEeEeEeE': 1,\n",
       "  'eEeEeEeEeEeEeEeEeEeEeEeEe': 1,\n",
       "  'eEeEeEeEeEeEeEeEeEeEeEeEeE': 1,\n",
       "  'eEeEeEeEeEeEeEeEeEeEeEeEeEe': 1,\n",
       "  'eEeEeEeEeEeEeEeEeEeEeEeEeEeE': 1,\n",
       "  'eEeEeEeEeEeEeEeEeEeEeEeEeEeEe': 1,\n",
       "  'eEeEeEeEeEeEeEeEeEeEeEeEeEeEeE': 1,\n",
       "  'eEeEeEeEeEeEeEeEeEeEeEeEeEeEeEe': 1,\n",
       "  'eEeEeEeEeEeEeEeEeEeEeEeEeEeEeEeE': 1,\n",
       "  'eEeEeEeEeEeEeEeEeEeEeEeEeEeEeEeEe': 1,\n",
       "  'eEeEeEeEeEeEeEeEeEeEeEeEeEeEeEeEeE': 1,\n",
       "  'eEeEeEeEeEeEeEeEeEeEeEeEeEeEeEeEeEe': 1,\n",
       "  'eEeEeEeEeEeEeEeEeEeEeEeEeEeEeEeEeEeE': 1,\n",
       "  'eEeEeEeEeEeEeEeEeEeEeEeEeEeEeEeEeEeEe': 1,\n",
       "  'eEeEeEeEeEeEeEeEeEeEeEeEeEeEeEeEeEeEeE': 1,\n",
       "  'eEeEeEeEeEeEeEeEeEeEeEeEeEeEeEeEeEeEeEe': 1,\n",
       "  'eEeEeEeEeEeEeEeEeEeEeEeEeEeEeEeEeEeEeEeE': 1,\n",
       "  'eEeEeEeEeEeEeEeEeEeEeEeEeEeEeEeEeEeEeEeEe': 1,\n",
       "  'eEeEeEeEeEeEeEeEeEeEeEeEeEeEeEeEeEeEeEeEeE': 1,\n",
       "  'eEeEeEeEeEeEeEeEeEeEeEeEeEeEeEeEeEeEeEeEeEe': 1,\n",
       "  'eEeEeEeEeEeEeEeEeEeEeEeEeEeEeEeEeEeEeEeEeEeE': 1,\n",
       "  'eEeEeEeEeEeEeEeEeEeEeEeEeEeEeEeEeEeEeEeEeEeEe': 1,\n",
       "  'eEeEeEeEeEeEeEeEeEeEeEeEeEeEeEeEeEeEeEeEeEeEeE': 1,\n",
       "  'eEeEeEeEeEeEeEeEeEeEeEeEeEeEeEeEeEeEeEeEeEeEeEe': 1,\n",
       "  'eEeEeEeEeEeEeEeEeEeEeEeEeEeEeEeEeEeEeEeEeEeEeEeE': 1,\n",
       "  'eEeEeEeEeEeEeEeEeEeEeEeEeEeEeEeEeEeEeEeEeEeEeEeEe': 1,\n",
       "  'eEeEeEeEeEeEeEeEeEeEeEeEeEeEeEeEeEeEeEeEeEeEeEeEeE': 1,\n",
       "  'eEeEeEeEeEeEeEeEeEeEeEeEeEeEeEeEeEeEeEeEeEeEeEeEeEe': 1,\n",
       "  'eEeEeEeEeEeEeEeEeEeEeEeEeEeEeEeEeEeEeEeEeEeEeEeEeEeE': 1,\n",
       "  'eEeEeEeEeEeEeEeEeEeEeEeEeEeEeEeEeEeEeEeEeEeEeEeEeEeEe': 1,\n",
       "  'eEeEeEeEeEeEeEeEeEeEeEeEeEeEeEeEeEeEeEeEeEeEeEeEeEeEeE': 1,\n",
       "  'eEeEeEeEeEeEeEeEeEeEeEeEeEeEeEeEeEeEeEeEeEeEeEeEeEeEeEe': 1,\n",
       "  'eEeEeEeEeEeEeEeEeEeEeEeEeEeEeEeEeEeEeEeEeEeEeEeEeEeEeEeE': 1,\n",
       "  'eEeEeEeEeEeEeEeEeEeEeEeEeEeEeEeEeEeEeEeEeEeEeEeEeEeEeEeEe': 1,\n",
       "  'eEeEeEeEeEeEeEeEeEeEeEeEeEeEeEeEeEeEeEeEeEeEeEeEeEeEeEeEel': 1,\n",
       "  'eEeEeEeEeEeEeEeEeEeEeEeEeEeEeEeEeEeEeEeEeEeEeEeEeEeEeEeEelK': 1,\n",
       "  'eEeEeEeEeEeEeEeEeEeEeEeEeEeEeEeEeEeEeEeEeEeEeEeEeEeEeEeEelKa': 1,\n",
       "  'IiIiIiIiIiIiI': 13,\n",
       "  'IiIiIiIiIiIiIi': 13,\n",
       "  'IiIiIiIiIiIiIiI': 13,\n",
       "  'IiIiIiIiIiIiIiIi': 12,\n",
       "  'IiIiIiIiIiIiIiIiI': 11,\n",
       "  'IiIiIiIiIiIiIiIiIi': 11,\n",
       "  'IiIiIiIiIiIiIiIiIiI': 11,\n",
       "  'IiIiIiIiIiIiIiIiIiIi': 11,\n",
       "  'IiIiIiIiIiIiIiIiIiIiI': 10,\n",
       "  'IiIiIiIiIiIiIiIiIiIiIi': 9,\n",
       "  'IiIiIiIiIiIiIiIiIiIiIiI': 9,\n",
       "  'IiIiIiIiIiIiIiIiIiIiIiIi': 8,\n",
       "  'IiIiIiIiIiIiIiIiIiIiIiIiI': 8,\n",
       "  'IiIiIiIiIiIiIiIiIiIiIiIiIi': 8,\n",
       "  'IiIiIiIiIiIiIiIiIiIiIiIiIiI': 8,\n",
       "  'IiIiIiIiIiIiIiIiIiIiIiIiIiIi': 8,\n",
       "  'IiIiIiIiIiIiIiIiIiIiIiIiIiIiI': 8,\n",
       "  'IiIiIiIiIiIiIiIiIiIiIiIiIiIiIi': 7,\n",
       "  'IiIiIiIiIiIiIiIiIiIiIiIiIiIiIiI': 7,\n",
       "  'IiIiIiIiIiIiIiIiIiIiIiIiIiIiIiIi': 7,\n",
       "  'IiIiIiIiIiIiIiIiIiIiIiIiIiIiIiIiI': 7,\n",
       "  'IiIiIiIiIiIiIiIiIiIiIiIiIiIiIiIiIL': 1,\n",
       "  'IiIiIiIiIiIiIiIiIiIiIiIiIiIiIiIiILl': 1,\n",
       "  'IiIiIiIiIiIiIiIiIiIiIiIiIiIiIiIiILla': 1,\n",
       "  'kK': 34,\n",
       "  'kKL': 1,\n",
       "  'kKLl': 1,\n",
       "  'kKLla': 1,\n",
       "  'ka': 11,\n",
       "  'K': 23,\n",
       "  'Kk': 20,\n",
       "  'KkK': 17,\n",
       "  'KkKk': 15,\n",
       "  'KkKkL': 1,\n",
       "  'KkKkLD': 1,\n",
       "  'KkKkLDd': 1,\n",
       "  'KkKkLDdl': 1,\n",
       "  'KkKkLDdlL': 1,\n",
       "  'KkKkLDdlLi': 1,\n",
       "  'KkKkLDdlLiD': 1,\n",
       "  'KkKkLDdlLiDd': 1,\n",
       "  'KkKkLDdlLiDdD': 1,\n",
       "  'KkKkLDdlLiDdDd': 1,\n",
       "  'KkKkLDdlLiDdDdI': 1,\n",
       "  'KkKkLDdlLiDdDdIl': 1,\n",
       "  'KkKkLDdlLiDdDdIla': 1,\n",
       "  'LDdi': 2,\n",
       "  'LDdiD': 1,\n",
       "  'LDdiDd': 1,\n",
       "  'LDdiDdI': 1,\n",
       "  'LDdiDdIl': 1,\n",
       "  'LDdiDdIla': 1,\n",
       "  'Lli': 4,\n",
       "  'LliI': 3,\n",
       "  'LliIa': 1,\n",
       "  'KkC': 1,\n",
       "  'KkCc': 1,\n",
       "  'KkCcL': 1,\n",
       "  'KkCcLi': 1,\n",
       "  'KkCcLiI': 1,\n",
       "  'KkCcLiIl': 1,\n",
       "  'KkCcLiIlC': 1,\n",
       "  'KkCcLiIlCa': 1,\n",
       "  'Ka': 2,\n",
       "  'IiIiIiIiIiIiIiIiIiIiIa': 1,\n",
       "  'LiDdD': 1,\n",
       "  'LiDdDd': 1,\n",
       "  'LiDdDdD': 1,\n",
       "  'LiDdDdDd': 1,\n",
       "  'LiDdDdDdD': 1,\n",
       "  'LiDdDdDdDd': 1,\n",
       "  'LiDdDdDdDdD': 1,\n",
       "  'LiDdDdDdDdDd': 1,\n",
       "  'LiDdDdDdDdDdF': 1,\n",
       "  'LiDdDdDdDdDdFf': 1,\n",
       "  'LiDdDdDdDdDdFfD': 1,\n",
       "  'LiDdDdDdDdDdFfDd': 1,\n",
       "  'LiDdDdDdDdDdFfDdD': 1,\n",
       "  'LiDdDdDdDdDdFfDdDd': 1,\n",
       "  'LiDdDdDdDdDdFfDdDdD': 1,\n",
       "  'LiDdDdDdDdDdFfDdDdDd': 1,\n",
       "  'LiDdDdDdDdDdFfDdDdDdD': 1,\n",
       "  'LiDdDdDdDdDdFfDdDdDdDd': 1,\n",
       "  'LiDdDdDdDdDdFfDdDdDdDdI': 1,\n",
       "  'LiDdDdDdDdDdFfDdDdDdDdIl': 1,\n",
       "  'LiDdDdDdDdDdFfDdDdDdDdIlC': 1,\n",
       "  'LiDdDdDdDdDdFfDdDdDdDdIlCc': 1,\n",
       "  'LiDdDdDdDdDdFfDdDdDdDdIlCcC': 1,\n",
       "  'LiDdDdDdDdDdFfDdDdDdDdIlCcCa': 1,\n",
       "  'cLlC': 3,\n",
       "  'cLlCa': 1,\n",
       "  'iIiIiIi': 27,\n",
       "  'iIiIiIiI': 27,\n",
       "  'iIiIiIiIi': 27,\n",
       "  'iIiIiIiIiI': 27,\n",
       "  'iIiIiIiIiIi': 27,\n",
       "  'iIiIiIiIiIiI': 25,\n",
       "  'iIiIiIiIiIiIi': 25,\n",
       "  'iIiIiIiIiIiIiI': 22,\n",
       "  'iIiIiIiIiIiIiIi': 21,\n",
       "  'iIiIiIiIiIiIiIiI': 19,\n",
       "  'iIiIiIiIiIiIiIiIi': 19,\n",
       "  'iIiIiIiIiIiIiIiIiI': 18,\n",
       "  'iIiIiIiIiIiIiIiIiIi': 18,\n",
       "  'iIiIiIiIiIiIiIiIiIiI': 15,\n",
       "  'iIiIiIiIiIiIiIiIiIiIi': 15,\n",
       "  'iIiIiIiIiIiIiIiIiIiIiI': 12,\n",
       "  'iIiIiIiIiIiIiIiIiIiIiIi': 12,\n",
       "  'iIiIiIiIiIiIiIiIiIiIiIiI': 9,\n",
       "  'iIiIiIiIiIiIiIiIiIiIiIiIi': 9,\n",
       "  'iIiIiIiIiIiIiIiIiIiIiIiIiI': 8,\n",
       "  'iIiIiIiIiIiIiIiIiIiIiIiIiIi': 8,\n",
       "  'iIiIiIiIiIiIiIiIiIiIiIiIiIia': 1,\n",
       "  'cCcC': 16,\n",
       "  'cCcCc': 14,\n",
       "  'cCcCcC': 11,\n",
       "  'cCcCcCc': 10,\n",
       "  'cCcCcCcL': 2,\n",
       "  'cCcCcCcLl': 1,\n",
       "  'cCcCcCcLlL': 1,\n",
       "  'cCcCcCcLlLl': 1,\n",
       "  'cCcCcCcLlLlL': 1,\n",
       "  'cCcCcCcLlLlLE': 1,\n",
       "  'cCcCcCcLlLlLEe': 1,\n",
       "  'cCcCcCcLlLlLEeE': 1,\n",
       "  'cCcCcCcLlLlLEeEe': 1,\n",
       "  'cCcCcCcLlLlLEeEeD': 1,\n",
       "  'cCcCcCcLlLlLEeEeDE': 1,\n",
       "  'cCcCcCcLlLlLEeEeDEe': 1,\n",
       "  'cCcCcCcLlLlLEeEeDEed': 1,\n",
       "  'cCcCcCcLlLlLEeEeDEedE': 1,\n",
       "  'cCcCcCcLlLlLEeEeDEedEe': 1,\n",
       "  'cCcCcCcLlLlLEeEeDEedEeE': 1,\n",
       "  'cCcCcCcLlLlLEeEeDEedEeEe': 1,\n",
       "  'cCcCcCcLlLlLEeEeDEedEeEeD': 1,\n",
       "  'cCcCcCcLlLlLEeEeDEedEeEeDE': 1,\n",
       "  'cCcCcCcLlLlLEeEeDEedEeEeDEd': 1,\n",
       "  'cCcCcCcLlLlLEeEeDEedEeEeDEde': 1,\n",
       "  'cCcCcCcLlLlLEeEeDEedEeEeDEdeE': 1,\n",
       "  'cCcCcCcLlLlLEeEeDEedEeEeDEdeEl': 1,\n",
       "  'cCcCcCcLlLlLEeEeDEedEeEeDEdeEle': 1,\n",
       "  'cCcCcCcLlLlLEeEeDEedEeEeDEdeEleE': 1,\n",
       "  'cCcCcCcLlLlLEeEeDEedEeEeDEdeEleEe': 1,\n",
       "  'cCcCcCcLlLlLEeEeDEedEeEeDEdeEleEeE': 1,\n",
       "  'cCcCcCcLlLlLEeEeDEedEeEeDEdeEleEeEe': 1,\n",
       "  'cCcCcCcLlLlLEeEeDEedEeEeDEdeEleEeEeE': 1,\n",
       "  'cCcCcCcLlLlLEeEeDEedEeEeDEdeEleEeEeEe': 1,\n",
       "  'cCcCcCcLlLlLEeEeDEedEeEeDEdeEleEeEeEeE': 1,\n",
       "  'cCcCcCcLlLlLEeEeDEedEeEeDEdeEleEeEeEeEe': 1,\n",
       "  'cCcCcCcLlLlLEeEeDEedEeEeDEdeEleEeEeEeEeE': 1,\n",
       "  'cCcCcCcLlLlLEeEeDEedEeEeDEdeEleEeEeEeEeEe': 1,\n",
       "  'cCcCcCcLlLlLEeEeDEedEeEeDEdeEleEeEeEeEeEeE': 1,\n",
       "  'cCcCcCcLlLlLEeEeDEedEeEeDEdeEleEeEeEeEeEeEe': 1,\n",
       "  'cCcCcCcLlLlLEeEeDEedEeEeDEdeEleEeEeEeEeEeEeL': 1,\n",
       "  'cCcCcCcLlLlLEeEeDEedEeEeDEdeEleEeEeEeEeEeEeLE': 1,\n",
       "  'cCcCcCcLlLlLEeEeDEedEeEeDEdeEleEeEeEeEeEeEeLEe': 1,\n",
       "  'cCcCcCcLlLlLEeEeDEedEeEeDEdeEleEeEeEeEeEeEeLEeE': 1,\n",
       "  'cCcCcCcLlLlLEeEeDEedEeEeDEdeEleEeEeEeEeEeEeLEeEe': 1,\n",
       "  'cCcCcCcLlLlLEeEeDEedEeEeDEdeEleEeEeEeEeEeEeLEeEeE': 1,\n",
       "  'cCcCcCcLlLlLEeEeDEedEeEeDEdeEleEeEeEeEeEeEeLEeEeEe': 1,\n",
       "  'cCcCcCcLlLlLEeEeDEedEeEeDEdeEleEeEeEeEeEeEeLEeEeEel': 1,\n",
       "  'cCcCcCcLlLlLEeEeDEedEeEeDEdeEleEeEeEeEeEeEeLEeEeEelE': 1,\n",
       "  'cCcCcCcLlLlLEeEeDEedEeEeDEdeEleEeEeEeEeEeEeLEeEeEelEe': 1,\n",
       "  'cCcCcCcLlLlLEeEeDEedEeEeDEdeEleEeEeEeEeEeEeLEeEeEelEeK': 1,\n",
       "  'cCcCcCcLlLlLEeEeDEedEeEeDEdeEleEeEeEeEeEeEeLEeEeEelEeKE': 1,\n",
       "  'cCcCcCcLlLlLEeEeDEedEeEeDEdeEleEeEeEeEeEeEeLEeEeEelEeKEe': 1,\n",
       "  'cCcCcCcLlLlLEeEeDEedEeEeDEdeEleEeEeEeEeEeEeLEeEeEelEeKEeE': 1,\n",
       "  'cCcCcCcLlLlLEeEeDEedEeEeDEdeEleEeEeEeEeEeEeLEeEeEelEeKEeEe': 1,\n",
       "  'cCcCcCcLlLlLEeEeDEedEeEeDEdeEleEeEeEeEeEeEeLEeEeEelEeKEeEeE': 1,\n",
       "  'cCcCcCcLlLlLEeEeDEedEeEeDEdeEleEeEeEeEeEeEeLEeEeEelEeKEeEeEe': 1,\n",
       "  'cCcCcCcLlLlLEeEeDEedEeEeDEdeEleEeEeEeEeEeEeLEeEeEelEeKEeEeEeE': 1,\n",
       "  'cCcCcCcLlLlLEeEeDEedEeEeDEdeEleEeEeEeEeEeEeLEeEeEelEeKEeEeEeEe': 1,\n",
       "  'cCcCcCcLlLlLEeEeDEedEeEeDEdeEleEeEeEeEeEeEeLEeEeEelEeKEeEeEeEeE': 1,\n",
       "  'cCcCcCcLlLlLEeEeDEedEeEeDEdeEleEeEeEeEeEeEeLEeEeEelEeKEeEeEeEeEe': 1,\n",
       "  'cCcCcCcLlLlLEeEeDEedEeEeDEdeEleEeEeEeEeEeEeLEeEeEelEeKEeEeEeEeEea': 1,\n",
       "  'LlE': 1,\n",
       "  'LlEL': 1,\n",
       "  'LlELe': 1,\n",
       "  'LlELeD': 1,\n",
       "  'LlELeDd': 1,\n",
       "  'LlELeDdE': 1,\n",
       "  'LlELeDdEl': 1,\n",
       "  'LlELeDdEle': 1,\n",
       "  'LlELeDdEleE': 1,\n",
       "  'LlELeDdEleEe': 1,\n",
       "  'LlELeDdEleEeL': 1,\n",
       "  'LlELeDdEleEeLE': 1,\n",
       "  'LlELeDdEleEeLED': 1,\n",
       "  'LlELeDdEleEeLEDe': 1,\n",
       "  'LlELeDdEleEeLEDeE': 1,\n",
       "  'LlELeDdEleEeLEDeEd': 1,\n",
       "  'LlELeDdEleEeLEDeEde': 1,\n",
       "  'LlELeDdEleEeLEDeEdel': 1,\n",
       "  'LlELeDdEleEeLEDeEdelE': 1,\n",
       "  'LlELeDdEleEeLEDeEdelEe': 1,\n",
       "  'LlELeDdEleEeLEDeEdelEeE': 1,\n",
       "  'LlELeDdEleEeLEDeEdelEeEe': 1,\n",
       "  'LlELeDdEleEeLEDeEdelEeEeE': 1,\n",
       "  'LlELeDdEleEeLEDeEdelEeEeEe': 1,\n",
       "  'LlELeDdEleEeLEDeEdelEeEeEeE': 1,\n",
       "  'LlELeDdEleEeLEDeEdelEeEeEeEe': 1,\n",
       "  'LlELeDdEleEeLEDeEdelEeEeEeEeL': 1,\n",
       "  'LlELeDdEleEeLEDeEdelEeEeEeEeLl': 1,\n",
       "  'LlELeDdEleEeLEDeEdelEeEeEeEeLlE': 1,\n",
       "  'LlELeDdEleEeLEDeEdelEeEeEeEeLlEe': 1,\n",
       "  'LlELeDdEleEeLEDeEdelEeEeEeEeLlEeE': 1,\n",
       "  'LlELeDdEleEeLEDeEdelEeEeEeEeLlEeEe': 1,\n",
       "  'LlELeDdEleEeLEDeEdelEeEeEeEeLlEeEeE': 1,\n",
       "  'LlELeDdEleEeLEDeEdelEeEeEeEeLlEeEeEe': 1,\n",
       "  'LlELeDdEleEeLEDeEdelEeEeEeEeLlEeEeEeE': 1,\n",
       "  'LlELeDdEleEeLEDeEdelEeEeEeEeLlEeEeEeEe': 1,\n",
       "  'LlELeDdEleEeLEDeEdelEeEeEeEeLlEeEeEeEeE': 1,\n",
       "  'LlELeDdEleEeLEDeEdelEeEeEeEeLlEeEeEeEeEe': 1,\n",
       "  'LlELeDdEleEeLEDeEdelEeEeEeEeLlEeEeEeEeEea': 1,\n",
       "  'LFDda': 1,\n",
       "  'Ddf': 1,\n",
       "  'DdfD': 1,\n",
       "  'DdfDd': 1,\n",
       "  'DdfDdD': 1,\n",
       "  'DdfDdDd': 1,\n",
       "  'DdfDdDdD': 1,\n",
       "  'DdfDdDdDd': 1,\n",
       "  'DdfDdDdDdl': 1,\n",
       "  'DdfDdDdDdlF': 1,\n",
       "  'DdfDdDdDdlFL': 1,\n",
       "  'DdfDdDdDdlFLf': 1,\n",
       "  'DdfDdDdDdlFLfD': 1,\n",
       "  'DdfDdDdDdlFLfDd': 1,\n",
       "  'DdfDdDdDdlFLfDdl': 1,\n",
       "  'DdfDdDdDdlFLfDdlL': 1,\n",
       "  'DdfDdDdDdlFLfDdlLl': 1,\n",
       "  'DdfDdDdDdlFLfDdlLlL': 1,\n",
       "  'DdfDdDdDdlFLfDdlLlLl': 1,\n",
       "  'DdfDdDdDdlFLfDdlLlLla': 1,\n",
       "  'LE': 4,\n",
       "  'LED': 3,\n",
       "  'LEDd': 2,\n",
       "  'LEDde': 2,\n",
       "  'LEDdeD': 1,\n",
       "  'LEDdeDl': 1,\n",
       "  'LEDdeDld': 1,\n",
       "  'LEDdeDldE': 1,\n",
       "  'LEDdeDldEe': 1,\n",
       "  'LEDdeDldEeE': 1,\n",
       "  'LEDdeDldEeEe': 1,\n",
       "  'LEDdeDldEeEeE': 1,\n",
       "  'LEDdeDldEeEeEe': 1,\n",
       "  'LEDdeDldEeEeEeE': 1,\n",
       "  'LEDdeDldEeEeEeEe': 1,\n",
       "  'LEDdeDldEeEeEeEeE': 1,\n",
       "  'LEDdeDldEeEeEeEeEe': 1,\n",
       "  'LEDdeDldEeEeEeEeEeE': 1,\n",
       "  'LEDdeDldEeEeEeEeEeEe': 1,\n",
       "  'LEDdeDldEeEeEeEeEeEeL': 1,\n",
       "  'LEDdeDldEeEeEeEeEeEeLE': 1,\n",
       "  'LEDdeDldEeEeEeEeEeEeLEe': 1,\n",
       "  'LEDdeDldEeEeEeEeEeEeLEeE': 1,\n",
       "  'LEDdeDldEeEeEeEeEeEeLEeEe': 1,\n",
       "  'LEDdeDldEeEeEeEeEeEeLEeEel': 1,\n",
       "  'LEDdeDldEeEeEeEeEeEeLEeEelE': 1,\n",
       "  'LEDdeDldEeEeEeEeEeEeLEeEelEe': 1,\n",
       "  'LEDdeDldEeEeEeEeEeEeLEeEelEeE': 1,\n",
       "  'LEDdeDldEeEeEeEeEeEeLEeEelEeEe': 1,\n",
       "  'LEDdeDldEeEeEeEeEeEeLEeEelEeEeE': 1,\n",
       "  'LEDdeDldEeEeEeEeEeEeLEeEelEeEeEe': 1,\n",
       "  'LEDdeDldEeEeEeEeEeEeLEeEelEeEeEeK': 1,\n",
       "  'LEDdeDldEeEeEeEeEeEeLEeEelEeEeEeKk': 1,\n",
       "  'LEDdeDldEeEeEeEeEeEeLEeEelEeEeEeKkE': 1,\n",
       "  'LEDdeDldEeEeEeEeEeEeLEeEelEeEeEeKkEe': 1,\n",
       "  'LEDdeDldEeEeEeEeEeEeLEeEelEeEeEeKkEeK': 1,\n",
       "  'LEDdeDldEeEeEeEeEeEeLEeEelEeEeEeKkEeKa': 1,\n",
       "  'kKa': 13,\n",
       "  'IiIiIiIiIiIiIiIiIiIiIiIiIiIiIiIiIi': 6,\n",
       "  'IiIiIiIiIiIiIiIiIiIiIiIiIiIiIiIiIiI': 5,\n",
       "  'IiIiIiIiIiIiIiIiIiIiIiIiIiIiIiIiIiIi': 5,\n",
       "  'IiIiIiIiIiIiIiIiIiIiIiIiIiIiIiIiIiIiI': 4,\n",
       "  'IiIiIiIiIiIiIiIiIiIiIiIiIiIiIiIiIiIiIi': 4,\n",
       "  'IiIiIiIiIiIiIiIiIiIiIiIiIiIiIiIiIiIiIiI': 4,\n",
       "  'IiIiIiIiIiIiIiIiIiIiIiIiIiIiIiIiIiIiIiIa': 1,\n",
       "  'LilL': 3,\n",
       "  'LilLD': 1,\n",
       "  'LilLDd': 1,\n",
       "  'LilLDdD': 1,\n",
       "  'LilLDdDd': 1,\n",
       "  'LilLDdDdD': 1,\n",
       "  'LilLDdDdDd': 1,\n",
       "  'LilLDdDdDdD': 1,\n",
       "  'LilLDdDdDdDd': 1,\n",
       "  'LilLDdDdDdDdD': 1,\n",
       "  'LilLDdDdDdDdDd': 1,\n",
       "  'LilLDdDdDdDdDdD': 1,\n",
       "  'LilLDdDdDdDdDdDd': 1,\n",
       "  'LilLDdDdDdDdDdDdD': 1,\n",
       "  'LilLDdDdDdDdDdDdDd': 1,\n",
       "  'LilLDdDdDdDdDdDdDdI': 1,\n",
       "  'LilLDdDdDdDdDdDdDdIl': 1,\n",
       "  'LilLDdDdDdDdDdDdDdIla': 1,\n",
       "  'LlCcCcCcCa': 2,\n",
       "  'iIiIiIiIiIiIia': 3,\n",
       "  'cCcCcCcC': 7,\n",
       "  'cCcCcCcCc': 7,\n",
       "  'cCcCcCcCcC': 5,\n",
       "  'cCcCcCcCcCc': 5,\n",
       "  'cCcCcCcCcCcC': 3,\n",
       "  'cCcCcCcCcCcCc': 2,\n",
       "  'cCcCcCcCcCcCcC': 1,\n",
       "  'cCcCcCcCcCcCcCc': 1,\n",
       "  'cCcCcCcCcCcCcCca': 1,\n",
       "  'cj': 1,\n",
       "  'cja': 1,\n",
       "  'LlLF': 2,\n",
       "  'LlLFf': 1,\n",
       "  'LlLFfE': 1,\n",
       "  'LlLFfED': 1,\n",
       "  'LlLFfEDd': 1,\n",
       "  'LlLFfEDde': 1,\n",
       "  'LlLFfEDdeE': 1,\n",
       "  'LlLFfEDdeEe': 1,\n",
       "  'LlLFfEDdeEeD': 1,\n",
       "  'LlLFfEDdeEeDE': 1,\n",
       "  'LlLFfEDdeEeDEd': 1,\n",
       "  'LlLFfEDdeEeDEde': 1,\n",
       "  'LlLFfEDdeEeDEdeE': 1,\n",
       "  'LlLFfEDdeEeDEdeEe': 1,\n",
       "  'LlLFfEDdeEeDEdeEeE': 1,\n",
       "  'LlLFfEDdeEeDEdeEeEe': 1,\n",
       "  'LlLFfEDdeEeDEdeEeEeE': 1,\n",
       "  'LlLFfEDdeEeDEdeEeEeEe': 1,\n",
       "  'LlLFfEDdeEeDEdeEeEeEeE': 1,\n",
       "  'LlLFfEDdeEeDEdeEeEeEeEe': 1,\n",
       "  'LlLFfEDdeEeDEdeEeEeEeEeE': 1,\n",
       "  'LlLFfEDdeEeDEdeEeEeEeEeEe': 1,\n",
       "  'LlLFfEDdeEeDEdeEeEeEeEeEeE': 1,\n",
       "  'LlLFfEDdeEeDEdeEeEeEeEeEeEe': 1,\n",
       "  'LlLFfEDdeEeDEdeEeEeEeEeEeEeF': 1,\n",
       "  'LlLFfEDdeEeDEdeEeEeEeEeEeEeFD': 1,\n",
       "  'LlLFfEDdeEeDEdeEeEeEeEeEeEeFDd': 1,\n",
       "  'LlLFfEDdeEeDEdeEeEeEeEeEeEeFDdD': 1,\n",
       "  'LlLFfEDdeEeDEdeEeEeEeEeEeEeFDdDd': 1,\n",
       "  'LlLFfEDdeEeDEdeEeEeEeEeEeEeFDdDdD': 1,\n",
       "  'LlLFfEDdeEeDEdeEeEeEeEeEeEeFDdDdDd': 1,\n",
       "  'LlLFfEDdeEeDEdeEeEeEeEeEeEeFDdDdDdE': 1,\n",
       "  'LlLFfEDdeEeDEdeEeEeEeEeEeEeFDdDdDdEe': 1,\n",
       "  'LlLFfEDdeEeDEdeEeEeEeEeEeEeFDdDdDdEeD': 1,\n",
       "  'LlLFfEDdeEeDEdeEeEeEeEeEeEeFDdDdDdEeDE': 1,\n",
       "  'LlLFfEDdeEeDEdeEeEeEeEeEeEeFDdDdDdEeDEd': 1,\n",
       "  'LlLFfEDdeEeDEdeEeEeEeEeEeEeFDdDdDdEeDEde': 1,\n",
       "  'LlLFfEDdeEeDEdeEeEeEeEeEeEeFDdDdDdEeDEdef': 1,\n",
       "  'LlLFfEDdeEeDEdeEeEeEeEeEeEeFDdDdDdEeDEdefl': 1,\n",
       "  'LlLFfEDdeEeDEdeEeEeEeEeEeEeFDdDdDdEeDEdefla': 1,\n",
       "  'LDdlLD': 2,\n",
       "  'LDdlLDd': 2,\n",
       "  'LDdlLDdl': 1,\n",
       "  'LDdlLDdlC': 1,\n",
       "  'LDdlLDdlCc': 1,\n",
       "  'LDdlLDdlCcL': 1,\n",
       "  'LDdlLDdlCcLl': 1,\n",
       "  'LDdlLDdlCcLlI': 1,\n",
       "  'LDdlLDdlCcLlIi': 1,\n",
       "  'LDdlLDdlCcLlIiI': 1,\n",
       "  'LDdlLDdlCcLlIiIa': 1,\n",
       "  'LilLl': 2,\n",
       "  'LilLlL': 2,\n",
       "  'LilLlLl': 2,\n",
       "  'LilLlLlL': 2,\n",
       "  'LilLlLlLl': 1,\n",
       "  'LilLlLlLlL': 1,\n",
       "  'LilLlLlLlLl': 1,\n",
       "  'LilLlLlLlLlL': 1,\n",
       "  'LilLlLlLlLlLl': 1,\n",
       "  'LilLlLlLlLlLlL': 1,\n",
       "  'LilLlLlLlLlLlLl': 1,\n",
       "  'LilLlLlLlLlLlLlL': 1,\n",
       "  'LilLlLlLlLlLlLlLl': 1,\n",
       "  'LilLlLlLlLlLlLlLlL': 1,\n",
       "  'LilLlLlLlLlLlLlLlLl': 1,\n",
       "  'LilLlLlLlLlLlLlLlLlL': 1,\n",
       "  'LilLlLlLlLlLlLlLlLlLl': 1,\n",
       "  'LilLlLlLlLlLlLlLlLlLlL': 1,\n",
       "  'LilLlLlLlLlLlLlLlLlLlLl': 1,\n",
       "  'LilLlLlLlLlLlLlLlLlLlLlL': 1,\n",
       "  'LilLlLlLlLlLlLlLlLlLlLlLD': 1,\n",
       "  'LilLlLlLlLlLlLlLlLlLlLlLDd': 1,\n",
       "  'LilLlLlLlLlLlLlLlLlLlLlLDdD': 1,\n",
       "  'LilLlLlLlLlLlLlLlLlLlLlLDdDd': 1,\n",
       "  'LilLlLlLlLlLlLlLlLlLlLlLDdDdl': 1,\n",
       "  'LilLlLlLlLlLlLlLlLlLlLlLDdDdlL': 1,\n",
       "  'LilLlLlLlLlLlLlLlLlLlLlLDdDdlLl': 1,\n",
       "  'LilLlLlLlLlLlLlLlLlLlLlLDdDdlLlL': 1,\n",
       "  'LilLlLlLlLlLlLlLlLlLlLlLDdDdlLlLa': 1,\n",
       "  'lLlLlLlLD': 1,\n",
       "  'lLlLlLlLDd': 1,\n",
       "  'lLlLlLlLDdF': 1,\n",
       "  'lLlLlLlLDdFD': 1,\n",
       "  'lLlLlLlLDdFDd': 1,\n",
       "  'lLlLlLlLDdFDdf': 1,\n",
       "  'lLlLlLlLDdFDdfD': 1,\n",
       "  'lLlLlLlLDdFDdfDd': 1,\n",
       "  'lLlLlLlLDdFDdfDdD': 1,\n",
       "  'lLlLlLlLDdFDdfDdDd': 1,\n",
       "  'lLlLlLlLDdFDdfDdDdF': 1,\n",
       "  'lLlLlLlLDdFDdfDdDdFf': 1,\n",
       "  'lLlLlLlLDdFDdfDdDdFfD': 1,\n",
       "  'lLlLlLlLDdFDdfDdDdFfDd': 1,\n",
       "  'lLlLlLlLDdFDdfDdDdFfDdl': 1,\n",
       "  'lLlLlLlLDdFDdfDdDdFfDdlL': 1,\n",
       "  'lLlLlLlLDdFDdfDdDdFfDdlLl': 1,\n",
       "  'lLlLlLlLDdFDdfDdDdFfDdlLlL': 1,\n",
       "  'lLlLlLlLDdFDdfDdDdFfDdlLlLl': 1,\n",
       "  'lLlLlLlLDdFDdfDdDdFfDdlLlLlL': 1,\n",
       "  'lLlLlLlLDdFDdfDdDdFfDdlLlLlLl': 1,\n",
       "  'lLlLlLlLDdFDdfDdDdFfDdlLlLlLlL': 1,\n",
       "  'lLlLlLlLDdFDdfDdDdFfDdlLlLlLlLl': 1,\n",
       "  'lLlLlLlLDdFDdfDdDdFfDdlLlLlLlLlL': 1,\n",
       "  'lLlLlLlLDdFDdfDdDdFfDdlLlLlLlLlLl': 1,\n",
       "  'lLlLlLlLDdFDdfDdDdFfDdlLlLlLlLlLlL': 1,\n",
       "  'lLlLlLlLDdFDdfDdDdFfDdlLlLlLlLlLlLl': 1,\n",
       "  'lLlLlLlLDdFDdfDdDdFfDdlLlLlLlLlLlLlL': 1,\n",
       "  'lLlLlLlLDdFDdfDdDdFfDdlLlLlLlLlLlLlLl': 1,\n",
       "  'lLlLlLlLDdFDdfDdDdFfDdlLlLlLlLlLlLlLlL': 1,\n",
       "  'lLlLlLlLDdFDdfDdDdFfDdlLlLlLlLlLlLlLlLl': 1,\n",
       "  'lLlLlLlLDdFDdfDdDdFfDdlLlLlLlLlLlLlLlLlL': 1,\n",
       "  'lLlLlLlLDdFDdfDdDdFfDdlLlLlLlLlLlLlLlLlLl': 1,\n",
       "  'lLlLlLlLDdFDdfDdDdFfDdlLlLlLlLlLlLlLlLlLlL': 1,\n",
       "  'lLlLlLlLDdFDdfDdDdFfDdlLlLlLlLlLlLlLlLlLlLl': 1,\n",
       "  'lLlLlLlLDdFDdfDdDdFfDdlLlLlLlLlLlLlLlLlLlLlL': 1,\n",
       "  'lLlLlLlLDdFDdfDdDdFfDdlLlLlLlLlLlLlLlLlLlLlLl': 1,\n",
       "  'lLlLlLlLDdFDdfDdDdFfDdlLlLlLlLlLlLlLlLlLlLlLlL': 1,\n",
       "  'lLlLlLlLDdFDdfDdDdFfDdlLlLlLlLlLlLlLlLlLlLlLlLl': 1,\n",
       "  'lLlLlLlLDdFDdfDdDdFfDdlLlLlLlLlLlLlLlLlLlLlLlLlL': 1,\n",
       "  'lLlLlLlLDdFDdfDdDdFfDdlLlLlLlLlLlLlLlLlLlLlLlLlLI': 1,\n",
       "  'lLlLlLlLDdFDdfDdDdFfDdlLlLlLlLlLlLlLlLlLlLlLlLlLIl': 1,\n",
       "  'lLlLlLlLDdFDdfDdDdFfDdlLlLlLlLlLlLlLlLlLlLlLlLlLIlK': 1,\n",
       "  'lLlLlLlLDdFDdfDdDdFfDdlLlLlLlLlLlLlLlLlLlLlLlLlLIlKa': 1,\n",
       "  'lK': 1,\n",
       "  'lKL': 1,\n",
       "  'lKLl': 1,\n",
       "  'lKLla': 1,\n",
       "  'kC': 6,\n",
       "  'kCc': 4,\n",
       "  'kCcC': 3,\n",
       "  'kCcCc': 3,\n",
       "  'kCcCca': 1,\n",
       "  'iIiIiIiIiIiIiIiC': 1,\n",
       "  'iIiIiIiIiIiIiIiCa': 1,\n",
       "  'LDdlE': 2,\n",
       "  'LDdlEe': 2,\n",
       "  'LDdlEeL': 2,\n",
       "  'LDdlEeLE': 2,\n",
       "  'LDdlEeLEe': 2,\n",
       "  'LDdlEeLEeE': 2,\n",
       "  'LDdlEeLEeEe': 2,\n",
       "  'LDdlEeLEeEeE': 2,\n",
       "  'LDdlEeLEeEeEe': 2,\n",
       "  'LDdlEeLEeEeEeE': 2,\n",
       "  'LDdlEeLEeEeEeEe': 2,\n",
       "  'LDdlEeLEeEeEeEeE': 2,\n",
       "  'LDdlEeLEeEeEeEeEe': 1,\n",
       "  'LDdlEeLEeEeEeEeEeE': 1,\n",
       "  'LDdlEeLEeEeEeEeEeEe': 1,\n",
       "  'LDdlEeLEeEeEeEeEeEeE': 1,\n",
       "  'LDdlEeLEeEeEeEeEeEeEe': 1,\n",
       "  'LDdlEeLEeEeEeEeEeEeEeD': 1,\n",
       "  'LDdlEeLEeEeEeEeEeEeEeDE': 1,\n",
       "  'LDdlEeLEeEeEeEeEeEeEeDEe': 1,\n",
       "  'LDdlEeLEeEeEeEeEeEeEeDEeE': 1,\n",
       "  'LDdlEeLEeEeEeEeEeEeEeDEeEe': 1,\n",
       "  'LDdlEeLEeEeEeEeEeEeEeDEeEeE': 1,\n",
       "  'LDdlEeLEeEeEeEeEeEeEeDEeEeEe': 1,\n",
       "  'LDdlEeLEeEeEeEeEeEeEeDEeEeEeE': 1,\n",
       "  'LDdlEeLEeEeEeEeEeEeEeDEeEeEeEe': 1,\n",
       "  'LDdlEeLEeEeEeEeEeEeEeDEeEeEeEed': 1,\n",
       "  'LDdlEeLEeEeEeEeEeEeEeDEeEeEeEedD': 1,\n",
       "  'LDdlEeLEeEeEeEeEeEeEeDEeEeEeEedDE': 1,\n",
       "  'LDdlEeLEeEeEeEeEeEeEeDEeEeEeEedDEe': 1,\n",
       "  'LDdlEeLEeEeEeEeEeEeEeDEeEeEeEedDEeE': 1,\n",
       "  'LDdlEeLEeEeEeEeEeEeEeDEeEeEeEedDEeEe': 1,\n",
       "  'LDdlEeLEeEeEeEeEeEeEeDEeEeEeEedDEeEed': 1,\n",
       "  'LDdlEeLEeEeEeEeEeEeEeDEeEeEeEedDEeEedE': 1,\n",
       "  'LDdlEeLEeEeEeEeEeEeEeDEeEeEeEedDEeEedEe': 1,\n",
       "  'LDdlEeLEeEeEeEeEeEeEeDEeEeEeEedDEeEedEeE': 1,\n",
       "  'LDdlEeLEeEeEeEeEeEeEeDEeEeEeEedDEeEedEeEe': 1,\n",
       "  'LDdlEeLEeEeEeEeEeEeEeDEeEeEeEedDEeEedEeEeD': 1,\n",
       "  'LDdlEeLEeEeEeEeEeEeEeDEeEeEeEedDEeEedEeEeDd': 1,\n",
       "  'LDdlEeLEeEeEeEeEeEeEeDEeEeEeEedDEeEedEeEeDdE': 1,\n",
       "  'LDdlEeLEeEeEeEeEeEeEeDEeEeEeEedDEeEedEeEeDdEe': 1,\n",
       "  'LDdlEeLEeEeEeEeEeEeEeDEeEeEeEedDEeEedEeEeDdEeD': 1,\n",
       "  'LDdlEeLEeEeEeEeEeEeEeDEeEeEeEedDEeEedEeEeDdEeDd': 1,\n",
       "  'LDdlEeLEeEeEeEeEeEeEeDEeEeEeEedDEeEedEeEeDdEeDdl': 1,\n",
       "  'LDdlEeLEeEeEeEeEeEeEeDEeEeEeEedDEeEedEeEeDdEeDdlE': 1,\n",
       "  'LDdlEeLEeEeEeEeEeEeEeDEeEeEeEedDEeEedEeEeDdEeDdlEe': 1,\n",
       "  'LDdlEeLEeEeEeEeEeEeEeDEeEeEeEedDEeEedEeEeDdEeDdlEeE': 1,\n",
       "  'LDdlEeLEeEeEeEeEeEeEeDEeEeEeEedDEeEedEeEeDdEeDdlEeEe': 1,\n",
       "  'LDdlEeLEeEeEeEeEeEeEeDEeEeEeEedDEeEedEeEeDdEeDdlEeEeE': 1,\n",
       "  'LDdlEeLEeEeEeEeEeEeEeDEeEeEeEedDEeEedEeEeDdEeDdlEeEeEe': 1,\n",
       "  'LDdlEeLEeEeEeEeEeEeEeDEeEeEeEedDEeEedEeEeDdEeDdlEeEeEeE': 1,\n",
       "  'LDdlEeLEeEeEeEeEeEeEeDEeEeEeEedDEeEedEeEeDdEeDdlEeEeEeEe': 1,\n",
       "  'LDdlEeLEeEeEeEeEeEeEeDEeEeEeEedDEeEedEeEeDdEeDdlEeEeEeEeE': 1,\n",
       "  'LDdlEeLEeEeEeEeEeEeEeDEeEeEeEedDEeEedEeEeDdEeDdlEeEeEeEeEe': 1,\n",
       "  'LDdlEeLEeEeEeEeEeEeEeDEeEeEeEedDEeEedEeEeDdEeDdlEeEeEeEeEeE': 1,\n",
       "  'LDdlEeLEeEeEeEeEeEeEeDEeEeEeEedDEeEedEeEeDdEeDdlEeEeEeEeEeEe': 1,\n",
       "  'LDdlEeLEeEeEeEeEeEeEeDEeEeEeEedDEeEedEeEeDdEeDdlEeEeEeEeEeEeE': 1,\n",
       "  'LDdlEeLEeEeEeEeEeEeEeDEeEeEeEedDEeEedEeEeDdEeDdlEeEeEeEeEeEeEe': 1,\n",
       "  'LDdlEeLEeEeEeEeEeEeEeDEeEeEeEedDEeEedEeEeDdEeDdlEeEeEeEeEeEeEeE': 1,\n",
       "  'LDdlEeLEeEeEeEeEeEeEeDEeEeEeEedDEeEedEeEeDdEeDdlEeEeEeEeEeEeEeEe': 1,\n",
       "  'LDdlEeLEeEeEeEeEeEeEeDEeEeEeEedDEeEedEeEeDdEeDdlEeEeEeEeEeEeEeEeL': 1,\n",
       "  'LDdlEeLEeEeEeEeEeEeEeDEeEeEeEedDEeEedEeEeDdEeDdlEeEeEeEeEeEeEeEeLl': 1,\n",
       "  'LDdlEeLEeEeEeEeEeEeEeDEeEeEeEedDEeEedEeEeDdEeDdlEeEeEeEeEeEeEeEeLlE': 1,\n",
       "  'LDdlEeLEeEeEeEeEeEeEeDEeEeEeEedDEeEedEeEeDdEeDdlEeEeEeEeEeEeEeEeLlEe': 1,\n",
       "  'LDdlEeLEeEeEeEeEeEeEeDEeEeEeEedDEeEedEeEeDdEeDdlEeEeEeEeEeEeEeEeLlEeE': 1,\n",
       "  'LDdlEeLEeEeEeEeEeEeEeDEeEeEeEedDEeEedEeEeDdEeDdlEeEeEeEeEeEeEeEeLlEeEe': 1,\n",
       "  'LDdlEeLEeEeEeEeEeEeEeDEeEeEeEedDEeEedEeEeDdEeDdlEeEeEeEeEeEeEeEeLlEeEeE': 1,\n",
       "  'LDdlEeLEeEeEeEeEeEeEeDEeEeEeEedDEeEedEeEeDdEeDdlEeEeEeEeEeEeEeEeLlEeEeEe': 1,\n",
       "  'LDdlEeLEeEeEeEeEeEeEeDEeEeEeEedDEeEedEeEeDdEeDdlEeEeEeEeEeEeEeEeLlEeEeEeE': 1,\n",
       "  'LDdlEeLEeEeEeEeEeEeEeDEeEeEeEedDEeEedEeEeDdEeDdlEeEeEeEeEeEeEeEeLlEeEeEeEe': 1,\n",
       "  'LDdlEeLEeEeEeEeEeEeEeDEeEeEeEedDEeEedEeEeDdEeDdlEeEeEeEeEeEeEeEeLlEeEeEeEeE': 1,\n",
       "  'LDdlEeLEeEeEeEeEeEeEeDEeEeEeEedDEeEedEeEeDdEeDdlEeEeEeEeEeEeEeEeLlEeEeEeEeEe': 1,\n",
       "  'LDdlEeLEeEeEeEeEeEeEeDEeEeEeEedDEeEedEeEeDdEeDdlEeEeEeEeEeEeEeEeLlEeEeEeEeEeL': 1,\n",
       "  'LDdlEeLEeEeEeEeEeEeEeDEeEeEeEedDEeEedEeEeDdEeDdlEeEeEeEeEeEeEeEeLlEeEeEeEeEeLl': 1,\n",
       "  'LDdlEeLEeEeEeEeEeEeEeDEeEeEeEedDEeEedEeEeDdEeDdlEeEeEeEeEeEeEeEeLlEeEeEeEeEeLlL': 1,\n",
       "  'LDdlEeLEeEeEeEeEeEeEeDEeEeEeEedDEeEedEeEeDdEeDdlEeEeEeEeEeEeEeEeLlEeEeEeEeEeLlLl': 1,\n",
       "  'LDdlEeLEeEeEeEeEeEeEeDEeEeEeEedDEeEedEeEeDdEeDdlEeEeEeEeEeEeEeEeLlEeEeEeEeEeLlLlL': 1,\n",
       "  'LDdlEeLEeEeEeEeEeEeEeDEeEeEeEedDEeEedEeEeDdEeDdlEeEeEeEeEeEeEeEeLlEeEeEeEeEeLlLlLl': 1,\n",
       "  'LDdlEeLEeEeEeEeEeEeEeDEeEeEeEedDEeEedEeEeDdEeDdlEeEeEeEeEeEeEeEeLlEeEeEeEeEeLlLlLlL': 1,\n",
       "  'LDdlEeLEeEeEeEeEeEeEeDEeEeEeEedDEeEedEeEeDdEeDdlEeEeEeEeEeEeEeEeLlEeEeEeEeEeLlLlLlLl': 1,\n",
       "  'LDdlEeLEeEeEeEeEeEeEeDEeEeEeEedDEeEedEeEeDdEeDdlEeEeEeEeEeEeEeEeLlEeEeEeEeEeLlLlLlLlc': 1,\n",
       "  'LDdlEeLEeEeEeEeEeEeEeDEeEeEeEedDEeEedEeEeDdEeDdlEeEeEeEeEeEeEeEeLlEeEeEeEeEeLlLlLlLlca': 1,\n",
       "  'CcL': 6,\n",
       "  'CcLE': 1,\n",
       "  'CcLEe': 1,\n",
       "  'CcLEeE': 1,\n",
       "  'CcLEeEe': 1,\n",
       "  'CcLEeEeE': 1,\n",
       "  'CcLEeEeEe': 1,\n",
       "  'CcLEeEeEeE': 1,\n",
       "  'CcLEeEeEeED': 1,\n",
       "  'CcLEeEeEeEDd': 1,\n",
       "  'CcLEeEeEeEDde': 1,\n",
       "  'CcLEeEeEeEDdeE': 1,\n",
       "  'CcLEeEeEeEDdeEe': 1,\n",
       "  'CcLEeEeEeEDdeEeE': 1,\n",
       "  'CcLEeEeEeEDdeEeEe': 1,\n",
       "  'CcLEeEeEeEDdeEeEeE': 1,\n",
       "  'CcLEeEeEeEDdeEeEeEe': 1,\n",
       "  'CcLEeEeEeEDdeEeEeEeE': 1,\n",
       "  'CcLEeEeEeEDdeEeEeEeED': 1,\n",
       "  'CcLEeEeEeEDdeEeEeEeEDe': 1,\n",
       "  'CcLEeEeEeEDdeEeEeEeEDed': 1,\n",
       "  'CcLEeEeEeEDdeEeEeEeEDedE': 1,\n",
       "  'CcLEeEeEeEDdeEeEeEeEDedEe': 1,\n",
       "  'CcLEeEeEeEDdeEeEeEeEDedEeE': 1,\n",
       "  'CcLEeEeEeEDdeEeEeEeEDedEeEe': 1,\n",
       "  'CcLEeEeEeEDdeEeEeEeEDedEeEeE': 1,\n",
       "  'CcLEeEeEeEDdeEeEeEeEDedEeEeEe': 1,\n",
       "  'CcLEeEeEeEDdeEeEeEeEDedEeEeEel': 1,\n",
       "  'CcLEeEeEeEDdeEeEeEeEDedEeEeEelL': 1,\n",
       "  'CcLEeEeEeEDdeEeEeEeEDedEeEeEelLE': 1,\n",
       "  'CcLEeEeEeEDdeEeEeEeEDedEeEeEelLEe': 1,\n",
       "  'CcLEeEeEeEDdeEeEeEeEDedEeEeEelLEeE': 1,\n",
       "  'CcLEeEeEeEDdeEeEeEeEDedEeEeEelLEeEe': 1,\n",
       "  'CcLEeEeEeEDdeEeEeEeEDedEeEeEelLEeEeE': 1,\n",
       "  'CcLEeEeEeEDdeEeEeEeEDedEeEeEelLEeEeEe': 1,\n",
       "  'CcLEeEeEeEDdeEeEeEeEDedEeEeEelLEeEeEeE': 1,\n",
       "  'CcLEeEeEeEDdeEeEeEeEDedEeEeEelLEeEeEeEe': 1,\n",
       "  'CcLEeEeEeEDdeEeEeEeEDedEeEeEelLEeEeEeEeE': 1,\n",
       "  'CcLEeEeEeEDdeEeEeEeEDedEeEeEelLEeEeEeEeEe': 1,\n",
       "  'CcLEeEeEeEDdeEeEeEeEDedEeEeEelLEeEeEeEeEel': 1,\n",
       "  'CcLEeEeEeEDdeEeEeEeEDedEeEeEelLEeEeEeEeEelE': 1,\n",
       "  'CcLEeEeEeEDdeEeEeEeEDedEeEeEelLEeEeEeEeEelEe': 1,\n",
       "  'CcLEeEeEeEDdeEeEeEeEDedEeEeEelLEeEeEeEeEelEeE': 1,\n",
       "  'CcLEeEeEeEDdeEeEeEeEDedEeEeEelLEeEeEeEeEelEeEe': 1,\n",
       "  'CcLEeEeEeEDdeEeEeEeEDedEeEeEelLEeEeEeEeEelEeEeL': 1,\n",
       "  'CcLEeEeEeEDdeEeEeEeEDedEeEeEelLEeEeEeEeEelEeEeLE': 1,\n",
       "  'CcLEeEeEeEDdeEeEeEeEDedEeEeEelLEeEeEeEeEelEeEeLEe': 1,\n",
       "  'CcLEeEeEeEDdeEeEeEeEDedEeEeEelLEeEeEeEeEelEeEeLEel': 1,\n",
       "  'CcLEeEeEeEDdeEeEeEeEDedEeEeEelLEeEeEeEeEelEeEeLEelE': 1,\n",
       "  'CcLEeEeEeEDdeEeEeEeEDedEeEeEelLEeEeEeEeEelEeEeLEelEe': 1,\n",
       "  'CcLEeEeEeEDdeEeEeEeEDedEeEeEelLEeEeEeEeEelEeEeLEelEeE': 1,\n",
       "  'CcLEeEeEeEDdeEeEeEeEDedEeEeEelLEeEeEeEeEelEeEeLEelEeEe': 1,\n",
       "  'CcLEeEeEeEDdeEeEeEeEDedEeEeEelLEeEeEeEeEelEeEeLEelEeEeE': 1,\n",
       "  'CcLEeEeEeEDdeEeEeEeEDedEeEeEelLEeEeEeEeEelEeEeLEelEeEeEL': 1,\n",
       "  'CcLEeEeEeEDdeEeEeEeEDedEeEeEelLEeEeEeEeEelEeEeLEelEeEeELe': 1,\n",
       "  'CcLEeEeEeEDdeEeEeEeEDedEeEeEelLEeEeEeEeEelEeEeLEelEeEeELel': 1,\n",
       "  'CcLEeEeEeEDdeEeEeEeEDedEeEeEelLEeEeEeEeEelEeEeLEelEeEeELelL': 1,\n",
       "  'CcLEeEeEeEDdeEeEeEeEDedEeEeEelLEeEeEeEeEelEeEeLEelEeEeELelLl': 1,\n",
       "  'CcLEeEeEeEDdeEeEeEeEDedEeEeEelLEeEeEeEeEelEeEeLEelEeEeELelLla': 1,\n",
       "  'LDdlEeLEeEeEeEeEF': 1,\n",
       "  'LDdlEeLEeEeEeEeEFe': 1,\n",
       "  'LDdlEeLEeEeEeEeEFeD': 1,\n",
       "  'LDdlEeLEeEeEeEeEFeDE': 1,\n",
       "  'LDdlEeLEeEeEeEeEFeDEe': 1,\n",
       "  'LDdlEeLEeEeEeEeEFeDEed': 1,\n",
       "  'LDdlEeLEeEeEeEeEFeDEedE': 1,\n",
       "  'LDdlEeLEeEeEeEeEFeDEedEe': 1,\n",
       "  'LDdlEeLEeEeEeEeEFeDEedEeE': 1,\n",
       "  'LDdlEeLEeEeEeEeEFeDEedEeEe': 1,\n",
       "  'LDdlEeLEeEeEeEeEFeDEedEeEeE': 1,\n",
       "  'LDdlEeLEeEeEeEeEFeDEedEeEeEe': 1,\n",
       "  'LDdlEeLEeEeEeEeEFeDEedEeEeEeE': 1,\n",
       "  'LDdlEeLEeEeEeEeEFeDEedEeEeEeEe': 1,\n",
       "  'LDdlEeLEeEeEeEeEFeDEedEeEeEeEeE': 1,\n",
       "  'LDdlEeLEeEeEeEeEFeDEedEeEeEeEeEe': 1,\n",
       "  'LDdlEeLEeEeEeEeEFeDEedEeEeEeEeEef': 1,\n",
       "  'LDdlEeLEeEeEeEeEFeDEedEeEeEeEeEefD': 1,\n",
       "  ...}]"
      ]
     },
     "metadata": {},
     "execution_count": 23
    }
   ]
  },
  {
   "cell_type": "code",
   "source": [
    "def tree_search(tree, parent_seq, node_char, node_count):\n",
    "  # tree =   [str, int, list] or [str, int]\n",
    "  check_layer = tree\n",
    "  for char in parent_seq:\n",
    "    for item in check_layer:\n",
    "      #print(\"now layer: \", check_layer, \"item: \", item, \"matching char: \", char, \"parent seq: \", parent_seq)\n",
    "      if type(item) == list and item[0] == char:\n",
    "        if type(item[-1]) == list:\n",
    "          #print(\"append to: \", item, \"check layer: \", check_layer, \"TRIGGERED HERE**\")   # next layer would be deeper in the tree\n",
    "          check_layer = check_layer[-1]\n",
    "        else:\n",
    "          #print(\"append to: \", item, \"check layer: \", check_layer, \"TRIGGERED HERE\")     # next layer would be the most shallow subtree layer\n",
    "          item.append([node_char, node_count])\n",
    "  return tree"
   ],
   "metadata": {
    "id": "fCIvhe0wANfP",
    "executionInfo": {
     "status": "ok",
     "timestamp": 1643538888901,
     "user_tz": -60,
     "elapsed": 3,
     "user": {
      "displayName": "Seminar ahmias",
      "photoUrl": "https://lh3.googleusercontent.com/a/default-user=s64",
      "userId": "08863251838733967153"
     }
    }
   },
   "execution_count": 24,
   "outputs": []
  },
  {
   "cell_type": "code",
   "source": [
    "def count_nodes(node_dict, node):\n",
    "  if node in caps or node in lows:\n",
    "    if node in node_dict:\n",
    "      node_dict[node] += 1\n",
    "    else:\n",
    "      node_dict[node] = 1\n",
    "  return node_dict"
   ],
   "metadata": {
    "id": "e03SGQ-KAQxx",
    "executionInfo": {
     "status": "ok",
     "timestamp": 1643538888901,
     "user_tz": -60,
     "elapsed": 2,
     "user": {
      "displayName": "Seminar ahmias",
      "photoUrl": "https://lh3.googleusercontent.com/a/default-user=s64",
      "userId": "08863251838733967153"
     }
    }
   },
   "execution_count": 25,
   "outputs": []
  },
  {
   "cell_type": "markdown",
   "source": [
    "# The Tree"
   ],
   "metadata": {
    "id": "CZCtvdPTBXH4"
   }
  },
  {
   "cell_type": "code",
   "source": [
    "the_tree = list()\n",
    "count_of_all_nodes = dict()\n",
    "#root_dict = dict()\n",
    "\n",
    "print(\"root nodes\", \"\\t[subtrees]\")\n",
    "\n",
    "for key, item in dict_tree.items(): # key: root node (always caps eg. ABC, one of the 12)\n",
    "  key_list = item[1].keys()\n",
    "  sub_tree = list()\n",
    "  checking = []\n",
    "  check_now = \"\"\n",
    "  count_nodes(count_of_all_nodes, key)\n",
    "  for sub_key in key_list:  # sub_key: the first alphabet following the root (could be upper/lower case)\n",
    "    if len(checking) == 0 or len(sub_key) == 1:   # adding the first node after the root\n",
    "        checking.append(sub_key)    # add into the list of existing nodes (for later checking)\n",
    "        check_now = sub_key\n",
    "        sub_tree.append([check_now, item[1][sub_key]])    # adds to subtree\n",
    "        count_nodes(count_of_all_nodes, item[1][sub_key])\n",
    "    elif sub_key.startswith(checking[-1]):        # match to the last node, if True the next node should be a child of the last one\n",
    "      append_node_char = sub_key[len(checking[-1]):]\n",
    "      if len(append_node_char) == 1:\n",
    "        #print(\"sub_key: \", sub_key, \"checking: \", check_now, \"append: \", append_node_char, \"occur: \", item[1][sub_key])\n",
    "        sub_tree = tree_search(sub_tree, check_now, append_node_char, item[1][sub_key])\n",
    "        count_nodes(count_of_all_nodes, append_node_char)\n",
    "      check_now = sub_key\n",
    "      checking.append(check_now)\n",
    "    elif sub_key.startswith(checking[-1]) == False:\n",
    "      re_check_id = -2  #check one more index back\n",
    "      check_now = checking[re_check_id]\n",
    "      while check_now != checking[0]:\n",
    "        if sub_key.startswith(checking[re_check_id]):\n",
    "          append_node_char = sub_key[len(checking[re_check_id]):]\n",
    "          sub_tree = tree_search(sub_tree, check_now, append_node_char, item[1][sub_key])\n",
    "          count_nodes(count_of_all_nodes, append_node_char)\n",
    "          check_now = sub_key\n",
    "          checking.append(check_now)\n",
    "          break\n",
    "        else:\n",
    "          #print(\"*RECHECK*\", \"sub_key: \", sub_key, \"checking: \", check_now, \"append: \", \"nothing\")\n",
    "          re_check_id -= 1\n",
    "          check_now = checking[re_check_id]\n",
    "  the_tree.append([key, count_of_all_nodes[key], sub_tree])\n",
    "  #root_dict[key] = sub_tree\n",
    "\n",
    "  print(key, \"\\t\", sub_tree)\n",
    "\n",
    "print(\"count of all nodes\")\n",
    "count_of_all_nodes"
   ],
   "metadata": {
    "colab": {
     "base_uri": "https://localhost:8080/"
    },
    "id": "Ke4u_C9_BXnm",
    "executionInfo": {
     "status": "ok",
     "timestamp": 1643538917321,
     "user_tz": -60,
     "elapsed": 26642,
     "user": {
      "displayName": "Seminar ahmias",
      "photoUrl": "https://lh3.googleusercontent.com/a/default-user=s64",
      "userId": "08863251838733967153"
     }
    },
    "outputId": "1ccb5d92-a266-4570-8e03-8d4d4af31592"
   },
   "execution_count": 26,
   "outputs": [
    {
     "output_type": "stream",
     "name": "stdout",
     "text": [
      "root nodes \t[subtrees]\n",
      "A \t [['L', 185, ['l', 112, ['a', 17]]], ['a', 3205], ['i', 34, ['I', 31, ['i', 29, ['I', 29, ['a', 1]]]]], ['e', 3, ['g', 1, ['f', 1, ['a', 1]]]], ['c', 74, ['C', 43, ['a', 18]]], ['C', 63, ['a', 15]], ['I', 28, ['i', 24, ['I', 23, ['i', 23, ['I', 20, ['i', 20, ['I', 19, ['i', 19, ['I', 16, ['i', 15, ['I', 15, ['i', 15, ['a', 2]]]]]]]]]]]]], ['E', 5, ['e', 4, ['L', 1, ['l', 1, ['a', 1]]]]], ['l', 58, ['L', 38, ['l', 30, ['L', 25, ['l', 18, ['L', 17, ['l', 16, ['L', 11, ['l', 10, ['L', 8, ['l', 7, ['L', 7, ['l', 7, ['L', 6, ['l', 4, ['L', 4, ['l', 4, ['L', 4, ['l', 4, ['L', 3, ['l', 3, ['L', 3, ['l', 3, ['L', 2, ['l', 2, ['a', 1]]]]]]]]]]]]]]]]]]]]]]]]]], ['D', 28, ['d', 26, ['F', 1, ['D', 1, ['d', 1, ['D', 1, ['d', 1, ['f', 1, ['D', 1, ['d', 1, ['l', 1, ['L', 1, ['l', 1, ['L', 1, ['l', 1, ['a', 1]]]]]]]]]]]]]]]], ['F', 1, ['a', 1]], ['k', 70, ['L', 16, ['a', 1]]], ['K', 23, ['k', 20, ['K', 17, ['k', 15, ['L', 1, ['D', 1, ['d', 1, ['l', 1, ['L', 1, ['i', 1, ['D', 1, ['d', 1, ['D', 1, ['d', 1, ['I', 1, ['l', 1, ['a', 1]]]]]]]]]]]]]]]]], ['J', 32, ['j', 28, ['J', 4, ['j', 4, ['J', 3, ['j', 3, ['J', 1, ['j', 1, ['J', 1, ['j', 1, ['J', 1, ['j', 1, ['J', 1, ['j', 1, ['J', 1, ['K', 1, ['j', 1, ['L', 1, ['l', 1, ['L', 1, ['l', 1, ['L', 1, ['l', 1, ['L', 1, ['a', 1]]]]]]]]]]]]]]]]]]]]]]]]], ['d', 3, ['a', 1]], ['j', 1, ['L', 1, ['l', 1, ['L', 1, ['F', 1, ['l', 1, ['L', 1, ['D', 1, ['d', 1, ['D', 1, ['d', 1, ['D', 1, ['d', 1, ['f', 1, ['F', 1, ['f', 1, ['F', 1, ['f', 1, ['l', 1, ['L', 1, ['l', 1, ['L', 1, ['l', 1, ['L', 1, ['l', 1, ['L', 1, ['l', 1, ['L', 1, ['l', 1, ['L', 1, ['l', 1, ['I', 1, ['i', 1, ['I', 1, ['i', 1, ['I', 1, ['i', 1, ['I', 1, ['i', 1, ['I', 1, ['i', 1, ['I', 1, ['i', 1, ['I', 1, ['i', 1, ['I', 1, ['i', 1, ['I', 1, ['i', 1, ['I', 1, ['i', 1, ['I', 1, ['i', 1, ['I', 1, ['i', 1, ['I', 1, ['i', 1, ['I', 1, ['i', 1, ['I', 1, ['i', 1, ['I', 1, ['i', 1, ['I', 1, ['i', 1, ['I', 1, ['i', 1, ['I', 1, ['i', 1, ['I', 1, ['i', 1, ['I', 1, ['i', 1, ['I', 1, ['i', 1, ['I', 1, ['i', 1, ['I', 1, ['i', 1, ['I', 1, ['a', 1]]]]]]]]]]]]]]]]]]]]]]]]]]]]]]]]]]]]]]]]]]]]]]]]]]]]]]]]]]]]]]]]]]]]]]]]]]]]]]]]]]\n",
      "L \t [['l', 1999], ['D', 293, ['d', 282, ['D', 118, ['d', 117, ['l', 43]]]]], ['i', 74, ['D', 19, ['d', 19, ['l', 2]]]], ['a', 54, ['l', 27]], ['A', 42, ['l', 24]], ['F', 28, ['D', 11, ['d', 11, ['D', 3, ['d', 3, ['a', 1, ['D', 1, ['d', 1, ['f', 1, ['A', 1, ['D', 1, ['d', 1, ['F', 1, ['D', 1, ['d', 1, ['D', 1, ['d', 1, ['f', 1, ['D', 1, ['d', 1, ['l', 1]]]]]]]]]]]]]]]]]]]]], ['I', 53, ['l', 25]], ['G', 4, ['g', 3, ['A', 1, ['a', 1, ['A', 1, ['a', 1, ['A', 1, ['a', 1, ['F', 1, ['A', 1, ['a', 1, ['f', 1, ['A', 1, ['D', 1, ['a', 1, ['d', 1, ['A', 1, ['a', 1, ['A', 1, ['a', 1, ['A', 1, ['F', 1, ['a', 1, ['f', 1, ['A', 1, ['D', 1, ['d', 1, ['D', 1, ['d', 1, ['D', 1, ['d', 1, ['l', 1]]]]]]]]]]]]]]]]]]]]]]]]]]]]]]]], ['E', 74, ['e', 57, ['D', 5, ['E', 5, ['e', 3, ['E', 3, ['e', 2, ['E', 1, ['e', 1, ['d', 1, ['E', 1, ['e', 1, ['E', 1, ['e', 1, ['E', 1, ['e', 1, ['E', 1, ['e', 1, ['E', 1, ['e', 1, ['E', 1, ['e', 1, ['E', 1, ['e', 1, ['E', 1, ['e', 1, ['l', 1]]]]]]]]]]]]]]]]]]]]]]]]]]], ['f', 10, ['E', 2, ['e', 1, ['E', 1, ['e', 1, ['E', 1, ['e', 1, ['F', 1, ['f', 1, ['l', 1]]]]]]]]]], ['e', 13, ['D', 1, ['d', 1, ['E', 1, ['l', 1]]]]], ['C', 4, ['I', 1, ['l', 1]]], ['J', 11, ['j', 9, ['l', 6]]], ['j', 4, ['D', 1, ['d', 1, ['D', 1, ['d', 1, ['l', 1]]]]]], ['k', 10, ['i', 2, ['K', 1, ['k', 1, ['K', 1, ['k', 1, ['K', 1, ['k', 1, ['K', 1, ['k', 1, ['K', 1, ['k', 1, ['K', 1, ['k', 1, ['K', 1, ['a', 1, ['k', 1, ['K', 1, ['A', 1, ['D', 1, ['d', 1, ['D', 1, ['d', 1, ['D', 1, ['d', 1, ['a', 1, ['l', 1]]]]]]]]]]]]]]]]]]]]]]]]]]], ['K', 7, ['l', 4]], ['c', 7, ['C', 2, ['l', 1]]], ['H', 6, ['h', 3, ['D', 3, ['d', 3, ['D', 2, ['d', 2, ['D', 2, ['d', 2, ['D', 1, ['l', 1]]]]]]]]]], ['d', 1, ['H', 1, ['h', 1, ['H', 1, ['h', 1, ['l', 1]]]]]], ['h', 4, ['H', 1, ['l', 1]]], ['b', 7, ['l', 3]], ['g', 1, ['I', 1, ['l', 1]]], ['B', 5, ['l', 4]]]\n",
      "D \t [['d', 854], ['e', 30, ['E', 15, ['d', 7]]], ['a', 3, ['d', 3]], ['E', 41, ['e', 29, ['E', 17, ['e', 9, ['E', 2, ['e', 2, ['d', 1]]]]]]], ['l', 2, ['d', 1]], ['A', 3, ['d', 2]], ['C', 1, ['d', 1]], ['I', 1, ['d', 1]], ['h', 1, ['d', 1]], ['f', 6, ['d', 6]], ['J', 1, ['d', 1]], ['k', 1, ['K', 1, ['d', 1]]], ['F', 2, ['f', 1, ['d', 1]]], ['K', 4, ['d', 4]]]\n",
      "I \t [['i', 2342], ['A', 16, ['a', 7, ['i', 1]]], ['a', 29, ['A', 21, ['a', 12, ['A', 11, ['a', 7, ['A', 7, ['a', 6, ['A', 6, ['a', 5, ['A', 5, ['a', 5, ['A', 5, ['a', 4, ['A', 4, ['a', 4, ['A', 4, ['a', 4, ['A', 4, ['a', 4, ['A', 4, ['a', 4, ['A', 4, ['a', 4, ['A', 4, ['a', 4, ['A', 4, ['a', 3, ['A', 3, ['a', 3, ['A', 3, ['a', 3, ['A', 3, ['a', 3, ['A', 3, ['a', 3, ['A', 2, ['a', 2, ['A', 2, ['a', 2, ['A', 2, ['a', 2, ['A', 2, ['a', 2, ['A', 2, ['a', 2, ['A', 2, ['a', 2, ['A', 2, ['a', 2, ['A', 2, ['a', 2, ['A', 2, ['a', 2, ['A', 2, ['a', 2, ['A', 2, ['a', 2, ['A', 2, ['a', 2, ['A', 2, ['a', 2, ['A', 2, ['a', 2, ['A', 2, ['a', 2, ['A', 2, ['a', 2, ['A', 2, ['a', 2, ['A', 2, ['a', 2, ['A', 2, ['a', 2, ['A', 2, ['a', 2, ['A', 2, ['a', 2, ['A', 2, ['a', 2, ['A', 2, ['a', 1, ['A', 1, ['a', 1, ['A', 1, ['a', 1, ['A', 1, ['a', 1, ['A', 1, ['a', 1, ['A', 1, ['a', 1, ['A', 1, ['a', 1, ['A', 1, ['a', 1, ['A', 1, ['L', 1, ['i', 1]]]]]]]]]]]]]]]]]]]]]]]]]]]]]]]]]]]]]]]]]]]]]]]]]]]]]]]]]]]]]]]]]]]]]]]]]]]]]]]]]]]]]]]]]]]]]]]]]], ['l', 83, ['a', 17, ['A', 15, ['a', 9, ['A', 9, ['a', 8, ['A', 8, ['a', 8, ['A', 8, ['a', 6, ['A', 6, ['a', 4, ['A', 3, ['a', 3, ['A', 3, ['a', 3, ['A', 3, ['a', 2, ['A', 2, ['a', 2, ['A', 2, ['a', 2, ['A', 2, ['a', 2, ['A', 2, ['a', 2, ['A', 2, ['a', 2, ['A', 2, ['a', 2, ['A', 2, ['a', 2, ['A', 2, ['a', 2, ['A', 2, ['a', 2, ['A', 2, ['a', 1, ['A', 1, ['a', 1, ['A', 1, ['a', 1, ['A', 1, ['C', 1, ['a', 1, ['A', 1, ['c', 1, ['a', 1, ['A', 1, ['a', 1, ['A', 1, ['L', 1, ['i', 1]]]]]]]]]]]]]]]]]]]]]]]]]]]]]]]]]]]]]]]]]]]]]]]]]]]]], ['L', 10, ['l', 6, ['a', 2, ['A', 2, ['a', 2, ['A', 2, ['a', 2, ['A', 2, ['a', 2, ['A', 2, ['k', 1, ['K', 1, ['L', 1, ['l', 1, ['a', 1, ['A', 1, ['a', 1, ['A', 1, ['a', 1, ['A', 1, ['a', 1, ['A', 1, ['a', 1, ['A', 1, ['a', 1, ['A', 1, ['a', 1, ['A', 1, ['a', 1, ['A', 1, ['a', 1, ['A', 1, ['a', 1, ['k', 1, ['K', 1, ['A', 1, ['a', 1, ['A', 1, ['a', 1, ['A', 1, ['a', 1, ['A', 1, ['k', 1, ['a', 1, ['A', 1, ['K', 1, ['k', 1, ['K', 1, ['k', 1, ['L', 1, ['D', 1, ['d', 1, ['l', 1, ['L', 1, ['i', 1]]]]]]]]]]]]]]]]]]]]]]]]]]]]]]]]]]]]]]]]]]]]]]]]]]]]]]], ['c', 2, ['a', 1, ['A', 1, ['L', 1, ['i', 1]]]]], ['k', 15, ['L', 4, ['i', 2]]], ['K', 22, ['a', 2, ['A', 2, ['a', 2, ['A', 2, ['a', 2, ['A', 2, ['a', 2, ['A', 2, ['k', 2, ['a', 1, ['K', 1, ['k', 1, ['A', 1, ['C', 1, ['c', 1, ['C', 1, ['c', 1, ['C', 1, ['c', 1, ['a', 1, ['A', 1, ['a', 1, ['A', 1, ['a', 1, ['A', 1, ['K', 1, ['k', 1, ['K', 1, ['k', 1, ['K', 1, ['k', 1, ['K', 1, ['k', 1, ['K', 1, ['k', 1, ['K', 1, ['k', 1, ['K', 1, ['k', 1, ['K', 1, ['k', 1, ['K', 1, ['k', 1, ['K', 1, ['k', 1, ['K', 1, ['k', 1, ['K', 1, ['k', 1, ['K', 1, ['k', 1, ['K', 1, ['k', 1, ['K', 1, ['k', 1, ['K', 1, ['k', 1, ['K', 1, ['k', 1, ['K', 1, ['k', 1, ['K', 1, ['k', 1, ['K', 1, ['k', 1, ['K', 1, ['k', 1, ['K', 1, ['k', 1, ['K', 1, ['k', 1, ['K', 1, ['k', 1, ['K', 1, ['k', 1, ['K', 1, ['k', 1, ['K', 1, ['k', 1, ['K', 1, ['a', 1, ['k', 1, ['K', 1, ['k', 1, ['K', 1, ['k', 1, ['K', 1, ['k', 1, ['K', 1, ['k', 1, ['K', 1, ['k', 1, ['K', 1, ['k', 1, ['K', 1, ['k', 1, ['K', 1, ['k', 1, ['K', 1, ['k', 1, ['K', 1, ['k', 1, ['K', 1, ['k', 1, ['K', 1, ['k', 1, ['K', 1, ['A', 1, ['k', 1, ['K', 1, ['k', 1, ['K', 1, ['k', 1, ['K', 1, ['k', 1, ['K', 1, ['k', 1, ['K', 1, ['k', 1, ['K', 1, ['k', 1, ['K', 1, ['k', 1, ['K', 1, ['k', 1, ['K', 1, ['k', 1, ['K', 1, ['k', 1, ['K', 1, ['k', 1, ['K', 1, ['k', 1, ['K', 1, ['k', 1, ['K', 1, ['k', 1, ['K', 1, ['k', 1, ['K', 1, ['k', 1, ['K', 1, ['k', 1, ['K', 1, ['k', 1, ['K', 1, ['k', 1, ['K', 1, ['k', 1, ['K', 1, ['k', 1, ['K', 1, ['k', 1, ['K', 1, ['k', 1, ['K', 1, ['k', 1, ['K', 1, ['k', 1, ['K', 1, ['L', 1, ['k', 1, ['i', 1]]]]]]]]]]]]]]]]]]]]]]]]]]]]]]]]]]]]]]]]]]]]]]]]]]]]]]]]]]]]]]]]]]]]]]]]]]]]]]]]]]]]]]]]]]]]]]]]]]]]]]]]]]]]]]]]]]]]]]]]]]]]]]]]]]]]]]]]]]]]]]]]]]]]]]]]]]]]]]]]]]]], ['C', 7, ['c', 5, ['C', 3, ['c', 2, ['a', 1, ['A', 1, ['a', 1, ['A', 1, ['a', 1, ['A', 1, ['K', 1, ['k', 1, ['K', 1, ['k', 1, ['K', 1, ['k', 1, ['K', 1, ['k', 1, ['K', 1, ['k', 1, ['K', 1, ['k', 1, ['K', 1, ['k', 1, ['K', 1, ['k', 1, ['K', 1, ['k', 1, ['K', 1, ['k', 1, ['K', 1, ['k', 1, ['K', 1, ['k', 1, ['K', 1, ['k', 1, ['K', 1, ['k', 1, ['K', 1, ['k', 1, ['K', 1, ['k', 1, ['K', 1, ['k', 1, ['K', 1, ['k', 1, ['K', 1, ['k', 1, ['K', 1, ['k', 1, ['K', 1, ['k', 1, ['K', 1, ['k', 1, ['K', 1, ['k', 1, ['K', 1, ['k', 1, ['K', 1, ['k', 1, ['K', 1, ['k', 1, ['K', 1, ['k', 1, ['K', 1, ['k', 1, ['K', 1, ['k', 1, ['K', 1, ['k', 1, ['K', 1, ['k', 1, ['K', 1, ['k', 1, ['K', 1, ['k', 1, ['K', 1, ['k', 1, ['K', 1, ['k', 1, ['K', 1, ['k', 1, ['K', 1, ['k', 1, ['K', 1, ['k', 1, ['K', 1, ['k', 1, ['K', 1, ['k', 1, ['K', 1, ['k', 1, ['K', 1, ['k', 1, ['K', 1, ['k', 1, ['K', 1, ['k', 1, ['K', 1, ['k', 1, ['K', 1, ['k', 1, ['K', 1, ['k', 1, ['K', 1, ['k', 1, ['K', 1, ['k', 1, ['K', 1, ['k', 1, ['K', 1, ['k', 1, ['K', 1, ['k', 1, ['K', 1, ['k', 1, ['K', 1, ['k', 1, ['K', 1, ['k', 1, ['K', 1, ['k', 1, ['K', 1, ['k', 1, ['K', 1, ['k', 1, ['K', 1, ['k', 1, ['K', 1, ['k', 1, ['K', 1, ['k', 1, ['K', 1, ['k', 1, ['K', 1, ['C', 1, ['a', 1, ['A', 1, ['a', 1, ['A', 1, ['a', 1, ['A', 1, ['a', 1, ['A', 1, ['a', 1, ['A', 1, ['a', 1, ['A', 1, ['c', 1, ['C', 1, ['a', 1, ['A', 1, ['a', 1, ['A', 1, ['c', 1, ['L', 1, ['i', 1]]]]]]]]]]]]]]]]]]]]]]]]]]]]]]]]]]]]]]]]]]]]]]]]]]]]]]]]]]]]]]]]]]]]]]]]]]]]]]]]]]]]]]]]]]]]]]]]]]]]]]]]]]]]]]]]]]]]]]]]]]]]]]]]]]]]]]]]]]]]]]]]]]]]]]]]]]]]], ['J', 8, ['j', 8, ['L', 1, ['l', 1, ['k', 1, ['L', 1, ['i', 1]]]]]]], ['d', 1, ['i', 1]], ['B', 6, ['b', 3, ['B', 2, ['i', 1]]]], ['b', 9, ['B', 6, ['b', 2, ['G', 1, ['g', 1, ['C', 1, ['c', 1, ['B', 1, ['C', 1, ['c', 1, ['i', 1]]]]]]]]]]]]\n",
      "C \t [['a', 80, ['A', 72, ['a', 51, ['A', 49, ['a', 41, ['c', 2]]]]]], ['c', 1197], ['I', 5, ['a', 1, ['A', 1, ['a', 1, ['A', 1, ['c', 1]]]]]], ['L', 18, ['l', 12, ['a', 3, ['A', 3, ['a', 3, ['A', 3, ['a', 2, ['A', 2, ['a', 2, ['A', 2, ['a', 2, ['A', 2, ['a', 2, ['A', 2, ['a', 2, ['A', 2, ['a', 2, ['A', 2, ['a', 2, ['A', 2, ['a', 2, ['A', 2, ['a', 2, ['A', 2, ['a', 2, ['A', 2, ['a', 2, ['A', 2, ['a', 2, ['A', 2, ['a', 2, ['A', 2, ['a', 2, ['A', 2, ['a', 2, ['A', 2, ['a', 2, ['A', 2, ['a', 2, ['A', 2, ['a', 2, ['A', 2, ['a', 2, ['A', 2, ['a', 2, ['A', 2, ['a', 2, ['A', 1, ['a', 1, ['A', 1, ['a', 1, ['A', 1, ['a', 1, ['A', 1, ['a', 1, ['A', 1, ['a', 1, ['A', 1, ['a', 1, ['A', 1, ['a', 1, ['A', 1, ['a', 1, ['A', 1, ['a', 1, ['A', 1, ['a', 1, ['A', 1, ['a', 1, ['A', 1, ['a', 1, ['A', 1, ['a', 1, ['A', 1, ['a', 1, ['A', 1, ['a', 1, ['A', 1, ['a', 1, ['A', 1, ['a', 1, ['A', 1, ['a', 1, ['A', 1, ['a', 1, ['A', 1, ['a', 1, ['A', 1, ['a', 1, ['A', 1, ['a', 1, ['A', 1, ['a', 1, ['A', 1, ['a', 1, ['A', 1, ['a', 1, ['A', 1, ['a', 1, ['A', 1, ['a', 1, ['A', 1, ['a', 1, ['A', 1, ['a', 1, ['A', 1, ['a', 1, ['A', 1, ['a', 1, ['A', 1, ['a', 1, ['A', 1, ['a', 1, ['A', 1, ['a', 1, ['A', 1, ['a', 1, ['A', 1, ['a', 1, ['A', 1, ['a', 1, ['A', 1, ['a', 1, ['A', 1, ['a', 1, ['A', 1, ['a', 1, ['A', 1, ['a', 1, ['A', 1, ['a', 1, ['A', 1, ['a', 1, ['A', 1, ['a', 1, ['A', 1, ['a', 1, ['A', 1, ['a', 1, ['A', 1, ['a', 1, ['A', 1, ['a', 1, ['A', 1, ['a', 1, ['A', 1, ['a', 1, ['A', 1, ['a', 1, ['A', 1, ['a', 1, ['A', 1, ['a', 1, ['A', 1, ['a', 1, ['A', 1, ['a', 1, ['A', 1, ['a', 1, ['A', 1, ['a', 1, ['A', 1, ['a', 1, ['i', 1, ['I', 1, ['A', 1, ['i', 1, ['a', 1, ['I', 1, ['i', 1, ['I', 1, ['i', 1, ['I', 1, ['i', 1, ['I', 1, ['i', 1, ['A', 1, ['I', 1, ['i', 1, ['I', 1, ['i', 1, ['I', 1, ['i', 1, ['I', 1, ['i', 1, ['I', 1, ['i', 1, ['I', 1, ['i', 1, ['a', 1, ['A', 1, ['a', 1, ['A', 1, ['a', 1, ['A', 1, ['a', 1, ['A', 1, ['a', 1, ['A', 1, ['a', 1, ['A', 1, ['a', 1, ['A', 1, ['a', 1, ['A', 1, ['a', 1, ['A', 1, ['a', 1, ['A', 1, ['a', 1, ['A', 1, ['a', 1, ['A', 1, ['a', 1, ['A', 1, ['a', 1, ['A', 1, ['a', 1, ['A', 1, ['a', 1, ['A', 1, ['a', 1, ['c', 1]]]]]]]]]]]]]]]]]]]]]]]]]]]]]]]]]]]]]]]]]]]]]]]]]]]]]]]]]]]]]]]]]]]]]]]]]]]]]]]]]]]]]]]]]]]]]]]]]]]]]]]]]]]]]]]]]]]]]]]]]]]]]]]]]]]]]]]]]]]]]]]]]]]]]]]]]]]]]]]]]]]]]]]]]]]]]]]]]]]]]]]]]]]]]]]]]]]]]]]]]]]]]]]]]]]]]]]]]]]]]]], ['A', 17, ['a', 7, ['A', 5, ['a', 4, ['A', 4, ['a', 4, ['A', 4, ['a', 3, ['A', 3, ['a', 3, ['A', 3, ['a', 2, ['A', 2, ['a', 2, ['A', 2, ['a', 2, ['A', 2, ['a', 2, ['A', 2, ['a', 2, ['A', 2, ['a', 2, ['A', 2, ['a', 2, ['A', 2, ['a', 2, ['A', 2, ['a', 2, ['A', 2, ['a', 2, ['A', 2, ['a', 2, ['A', 2, ['a', 2, ['A', 2, ['a', 2, ['A', 2, ['a', 2, ['A', 2, ['a', 2, ['A', 2, ['a', 2, ['A', 2, ['a', 2, ['A', 2, ['c', 1]]]]]]]]]]]]]]]]]]]]]]]]]]]]]]]]]]]]]]]]]]]]]], ['i', 8, ['I', 7, ['i', 7, ['I', 7, ['i', 7, ['I', 7, ['i', 7, ['I', 7, ['i', 6, ['I', 6, ['i', 6, ['I', 6, ['i', 6, ['I', 6, ['i', 6, ['I', 6, ['i', 6, ['I', 5, ['i', 5, ['I', 5, ['i', 5, ['I', 5, ['i', 5, ['a', 1, ['A', 1, ['c', 1]]]]]]]]]]]]]]]]]]]]]]]]]], ['D', 1, ['d', 1, ['D', 1, ['d', 1, ['l', 1, ['K', 1, ['c', 1]]]]]]], ['d', 1, ['c', 1]], ['l', 2, ['c', 2]], ['k', 2, ['K', 2, ['k', 2, ['K', 2, ['k', 2, ['K', 2, ['k', 2, ['K', 2, ['k', 2, ['K', 2, ['k', 2, ['K', 2, ['k', 2, ['K', 2, ['k', 1, ['K', 1, ['k', 1, ['K', 1, ['k', 1, ['K', 1, ['k', 1, ['K', 1, ['k', 1, ['K', 1, ['k', 1, ['K', 1, ['k', 1, ['K', 1, ['k', 1, ['K', 1, ['k', 1, ['K', 1, ['k', 1, ['K', 1, ['k', 1, ['K', 1, ['k', 1, ['K', 1, ['k', 1, ['K', 1, ['k', 1, ['K', 1, ['k', 1, ['K', 1, ['c', 1]]]]]]]]]]]]]]]]]]]]]]]]]]]]]]]]]]]]]]]]]]]]], ['K', 1, ['k', 1, ['K', 1, ['k', 1, ['K', 1, ['k', 1, ['K', 1, ['k', 1, ['K', 1, ['k', 1, ['K', 1, ['k', 1, ['K', 1, ['k', 1, ['K', 1, ['k', 1, ['K', 1, ['k', 1, ['K', 1, ['k', 1, ['K', 1, ['k', 1, ['K', 1, ['k', 1, ['K', 1, ['k', 1, ['K', 1, ['c', 1]]]]]]]]]]]]]]]]]]]]]]]]]]]], ['B', 6, ['c', 6]]]\n",
      "E \t [['D', 48, ['e', 27]], ['d', 30, ['e', 28]], ['e', 960], ['A', 3, ['e', 2]], ['l', 30, ['e', 30]], ['L', 18, ['e', 12]], ['F', 2, ['e', 1]], ['h', 2, ['e', 2]]]\n",
      "F \t [['D', 29, ['d', 23, ['D', 6, ['d', 6, ['f', 4]]]]], ['A', 1, ['a', 1, ['f', 1]]], ['a', 1, ['f', 1]], ['f', 40], ['L', 5, ['f', 4]], ['e', 1, ['D', 1, ['E', 1, ['e', 1, ['d', 1, ['E', 1, ['e', 1, ['E', 1, ['e', 1, ['E', 1, ['e', 1, ['E', 1, ['e', 1, ['E', 1, ['e', 1, ['f', 1]]]]]]]]]]]]]]]], ['l', 7, ['f', 1]], ['i', 2, ['D', 2, ['d', 2, ['D', 1, ['d', 1, ['f', 1]]]]]], ['k', 1, ['L', 1, ['f', 1]]], ['B', 1, ['D', 1, ['d', 1, ['f', 1]]]], ['E', 2, ['e', 2, ['f', 1]]], ['d', 1, ['f', 1]]]\n",
      "G \t [['g', 7], ['l', 1, ['L', 1, ['g', 1]]]]\n",
      "K \t [['a', 73, ['A', 56, ['a', 39, ['L', 1, ['A', 1, ['a', 1, ['l', 1, ['A', 1, ['a', 1, ['A', 1, ['a', 1, ['A', 1, ['a', 1, ['A', 1, ['L', 1, ['l', 1, ['a', 1, ['A', 1, ['a', 1, ['A', 1, ['a', 1, ['A', 1, ['a', 1, ['A', 1, ['a', 1, ['A', 1, ['a', 1, ['A', 1, ['L', 1, ['l', 1, ['L', 1, ['l', 1, ['a', 1, ['A', 1, ['a', 1, ['I', 1, ['i', 1, ['A', 1, ['I', 1, ['i', 1, ['I', 1, ['i', 1, ['I', 1, ['i', 1, ['I', 1, ['i', 1, ['I', 1, ['i', 1, ['I', 1, ['i', 1, ['I', 1, ['i', 1, ['I', 1, ['i', 1, ['I', 1, ['i', 1, ['I', 1, ['i', 1, ['I', 1, ['i', 1, ['I', 1, ['i', 1, ['I', 1, ['i', 1, ['I', 1, ['i', 1, ['I', 1, ['i', 1, ['I', 1, ['i', 1, ['I', 1, ['L', 1, ['l', 1, ['a', 1, ['A', 1, ['a', 1, ['A', 1, ['a', 1, ['A', 1, ['a', 1, ['A', 1, ['k', 1]]]]]]]]]]]]]]]]]]]]]]]]]]]]]]]]]]]]]]]]]]]]]]]]]]]]]]]]]]]]]]]]]]]]]]]]]]]]]]]]]], ['L', 42, ['l', 27, ['a', 4, ['A', 4, ['a', 2, ['A', 2, ['a', 2, ['A', 2, ['a', 2, ['A', 2, ['a', 2, ['A', 2, ['a', 2, ['A', 2, ['a', 2, ['A', 2, ['a', 2, ['A', 2, ['a', 2, ['A', 2, ['a', 2, ['k', 1]]]]]]]]]]]]]]]]]]]]]], ['A', 20, ['a', 6, ['A', 6, ['a', 3, ['A', 3, ['a', 2, ['A', 2, ['k', 1]]]]]]]], ['k', 4391], ['E', 4, ['e', 4, ['E', 3, ['e', 3, ['E', 3, ['e', 3, ['E', 3, ['e', 3, ['E', 2, ['e', 2, ['a', 1, ['A', 1, ['a', 1, ['A', 1, ['a', 1, ['A', 1, ['a', 1, ['A', 1, ['a', 1, ['A', 1, ['a', 1, ['A', 1, ['a', 1, ['A', 1, ['a', 1, ['k', 1]]]]]]]]]]]]]]]]]]]]]]]]]], ['C', 8, ['a', 2, ['A', 2, ['a', 2, ['A', 2, ['a', 2, ['A', 2, ['k', 1]]]]]]]], ['j', 1, ['L', 1, ['l', 1, ['L', 1, ['l', 1, ['L', 1, ['l', 1, ['L', 1, ['a', 1, ['l', 1, ['A', 1, ['L', 1, ['l', 1, ['L', 1, ['l', 1, ['L', 1, ['a', 1, ['A', 1, ['a', 1, ['l', 1, ['A', 1, ['L', 1, ['l', 1, ['L', 1, ['a', 1, ['l', 1, ['L', 1, ['A', 1, ['l', 1, ['L', 1, ['l', 1, ['k', 1]]]]]]]]]]]]]]]]]]]]]]]]]]]]]]]], ['J', 6, ['j', 6, ['k', 3]]], ['l', 14, ['a', 1, ['A', 1, ['a', 1, ['A', 1, ['a', 1, ['A', 1, ['a', 1, ['A', 1, ['a', 1, ['A', 1, ['a', 1, ['A', 1, ['a', 1, ['A', 1, ['a', 1, ['A', 1, ['a', 1, ['A', 1, ['a', 1, ['A', 1, ['L', 1, ['l', 1, ['L', 1, ['l', 1, ['L', 1, ['l', 1, ['k', 1]]]]]]]]]]]]]]]]]]]]]]]]]]]], ['I', 17, ['i', 10, ['I', 7, ['i', 7, ['I', 6, ['k', 1]]]]]], ['c', 6, ['C', 1, ['c', 1, ['C', 1, ['c', 1, ['L', 1, ['l', 1, ['L', 1, ['D', 1, ['d', 1, ['k', 1]]]]]]]]]]], ['D', 3, ['d', 3, ['D', 2, ['d', 2, ['l', 1, ['k', 1]]]]]], ['d', 5, ['l', 3, ['k', 1]]], ['F', 1, ['k', 1]], ['B', 3, ['L', 1, ['l', 1, ['L', 1, ['D', 1, ['d', 1, ['l', 1, ['L', 1, ['D', 1, ['d', 1, ['D', 1, ['d', 1, ['D', 1, ['d', 1, ['D', 1, ['d', 1, ['k', 1]]]]]]]]]]]]]]]]], ['h', 1, ['l', 1, ['L', 1, ['l', 1, ['b', 1, ['B', 1, ['L', 1, ['l', 1, ['b', 1, ['B', 1, ['L', 1, ['l', 1, ['L', 1, ['D', 1, ['d', 1, ['k', 1]]]]]]]]]]]]]]]], ['b', 2, ['B', 2, ['b', 1, ['k', 1]]]], ['i', 12, ['k', 10]]]\n",
      "J \t [['j', 253], ['K', 2, ['j', 1]], ['L', 12, ['j', 4]], ['d', 1, ['j', 1]], ['l', 3, ['j', 3]], ['a', 1, ['j', 1]]]\n",
      "H \t [['h', 16], ['D', 2, ['h', 1]], ['l', 6, ['h', 3]], ['L', 1, ['h', 1]], ['E', 4, ['h', 1]], ['K', 1, ['h', 1]], ['B', 1, ['l', 1, ['L', 1, ['h', 1]]]]]\n",
      "B \t [['b', 42], ['L', 59, ['l', 38, ['L', 19, ['l', 11, ['L', 4, ['l', 4, ['L', 3, ['l', 2, ['L', 2, ['l', 2, ['L', 2, ['b', 1]]]]]]]]]]]], ['i', 7, ['I', 6, ['i', 6, ['I', 6, ['i', 6, ['I', 6, ['i', 6, ['I', 6, ['i', 6, ['I', 6, ['i', 6, ['I', 6, ['i', 6, ['I', 6, ['i', 6, ['I', 6, ['i', 6, ['I', 6, ['i', 6, ['I', 6, ['i', 6, ['I', 6, ['i', 6, ['I', 6, ['i', 6, ['I', 6, ['i', 6, ['I', 5, ['i', 4, ['I', 4, ['i', 4, ['I', 4, ['i', 4, ['I', 3, ['i', 3, ['I', 3, ['i', 3, ['I', 3, ['i', 3, ['I', 3, ['i', 3, ['I', 3, ['i', 3, ['I', 2, ['i', 2, ['I', 2, ['i', 2, ['I', 2, ['i', 2, ['b', 1]]]]]]]]]]]]]]]]]]]]]]]]]]]]]]]]]]]]]]]]]]]]]]]]]], ['C', 47, ['c', 47, ['i', 5, ['I', 3, ['i', 3, ['I', 3, ['i', 3, ['I', 3, ['i', 3, ['I', 3, ['i', 3, ['I', 3, ['i', 3, ['I', 3, ['i', 3, ['I', 3, ['i', 3, ['I', 3, ['i', 3, ['I', 3, ['i', 3, ['I', 3, ['i', 3, ['I', 3, ['i', 3, ['I', 2, ['i', 2, ['I', 2, ['i', 2, ['I', 1, ['i', 1, ['I', 1, ['i', 1, ['I', 1, ['i', 1, ['I', 1, ['i', 1, ['I', 1, ['i', 1, ['I', 1, ['i', 1, ['I', 1, ['i', 1, ['I', 1, ['i', 1, ['I', 1, ['i', 1, ['I', 1, ['i', 1, ['I', 1, ['i', 1, ['I', 1, ['i', 1, ['I', 1, ['i', 1, ['I', 1, ['i', 1, ['I', 1, ['i', 1, ['I', 1, ['i', 1, ['I', 1, ['i', 1, ['I', 1, ['i', 1, ['I', 1, ['i', 1, ['I', 1, ['i', 1, ['I', 1, ['i', 1, ['I', 1, ['i', 1, ['I', 1, ['i', 1, ['C', 1, ['c', 1, ['b', 1]]]]]]]]]]]]]]]]]]]]]]]]]]]]]]]]]]]]]]]]]]]]]]]]]]]]]]]]]]]]]]]]]]]]]]]]]]]]]], ['J', 13, ['j', 13, ['J', 5, ['j', 5, ['b', 3]]]]], ['I', 5, ['i', 5, ['I', 5, ['i', 5, ['I', 5, ['i', 5, ['I', 5, ['i', 5, ['I', 5, ['i', 5, ['I', 5, ['i', 5, ['I', 5, ['i', 5, ['I', 5, ['i', 5, ['I', 5, ['i', 5, ['I', 5, ['i', 4, ['I', 4, ['i', 4, ['I', 4, ['i', 4, ['I', 4, ['i', 4, ['I', 4, ['i', 4, ['I', 4, ['i', 4, ['I', 4, ['i', 4, ['I', 4, ['i', 4, ['I', 4, ['i', 4, ['I', 4, ['i', 4, ['I', 4, ['i', 4, ['I', 4, ['i', 4, ['I', 4, ['i', 4, ['I', 4, ['i', 4, ['I', 4, ['b', 1]]]]]]]]]]]]]]]]]]]]]]]]]]]]]]]]]]]]]]]]]]]]]]]], ['D', 6, ['d', 6, ['E', 2, ['D', 1, ['e', 1, ['d', 1, ['E', 1, ['e', 1, ['E', 1, ['e', 1, ['E', 1, ['e', 1, ['E', 1, ['e', 1, ['E', 1, ['e', 1, ['D', 1, ['E', 1, ['e', 1, ['d', 1, ['E', 1, ['e', 1, ['E', 1, ['e', 1, ['E', 1, ['e', 1, ['D', 1, ['d', 1, ['l', 1, ['E', 1, ['e', 1, ['E', 1, ['e', 1, ['E', 1, ['e', 1, ['b', 1]]]]]]]]]]]]]]]]]]]]]]]]]]]]]]]]]]]], ['c', 6, ['L', 1, ['l', 1, ['b', 1]]]], ['l', 6, ['L', 5, ['D', 1, ['d', 1, ['l', 1, ['b', 1]]]]]], ['E', 1, ['e', 1, ['E', 1, ['e', 1, ['E', 1, ['D', 1, ['d', 1, ['e', 1, ['E', 1, ['e', 1, ['E', 1, ['e', 1, ['D', 1, ['d', 1, ['E', 1, ['e', 1, ['E', 1, ['e', 1, ['E', 1, ['e', 1, ['l', 1, ['L', 1, ['E', 1, ['e', 1, ['E', 1, ['e', 1, ['l', 1, ['L', 1, ['l', 1, ['L', 1, ['l', 1, ['E', 1, ['e', 1, ['E', 1, ['e', 1, ['J', 1, ['j', 1, ['L', 1, ['l', 1, ['J', 1, ['j', 1, ['b', 1]]]]]]]]]]]]]]]]]]]]]]]]]]]]]]]]]]]]]]]]]], ['K', 8, ['k', 8, ['J', 1, ['j', 1, ['J', 1, ['j', 1, ['I', 1, ['i', 1, ['I', 1, ['i', 1, ['I', 1, ['i', 1, ['I', 1, ['i', 1, ['I', 1, ['i', 1, ['I', 1, ['i', 1, ['I', 1, ['i', 1, ['I', 1, ['i', 1, ['I', 1, ['i', 1, ['I', 1, ['i', 1, ['I', 1, ['i', 1, ['I', 1, ['i', 1, ['I', 1, ['i', 1, ['I', 1, ['i', 1, ['I', 1, ['i', 1, ['I', 1, ['i', 1, ['I', 1, ['i', 1, ['I', 1, ['i', 1, ['I', 1, ['i', 1, ['I', 1, ['i', 1, ['I', 1, ['i', 1, ['I', 1, ['i', 1, ['I', 1, ['i', 1, ['I', 1, ['i', 1, ['I', 1, ['i', 1, ['I', 1, ['i', 1, ['I', 1, ['i', 1, ['I', 1, ['i', 1, ['I', 1, ['i', 1, ['I', 1, ['i', 1, ['I', 1, ['i', 1, ['I', 1, ['i', 1, ['I', 1, ['i', 1, ['I', 1, ['i', 1, ['I', 1, ['K', 1, ['k', 1, ['K', 1, ['k', 1, ['K', 1, ['k', 1, ['K', 1, ['k', 1, ['K', 1, ['k', 1, ['K', 1, ['k', 1, ['K', 1, ['k', 1, ['K', 1, ['k', 1, ['K', 1, ['k', 1, ['K', 1, ['k', 1, ['K', 1, ['k', 1, ['K', 1, ['k', 1, ['K', 1, ['k', 1, ['K', 1, ['k', 1, ['K', 1, ['k', 1, ['K', 1, ['k', 1, ['K', 1, ['k', 1, ['K', 1, ['k', 1, ['K', 1, ['k', 1, ['K', 1, ['k', 1, ['K', 1, ['k', 1, ['K', 1, ['k', 1, ['K', 1, ['k', 1, ['K', 1, ['k', 1, ['K', 1, ['k', 1, ['K', 1, ['k', 1, ['K', 1, ['k', 1, ['K', 1, ['k', 1, ['K', 1, ['k', 1, ['K', 1, ['k', 1, ['K', 1, ['k', 1, ['K', 1, ['k', 1, ['K', 1, ['k', 1, ['K', 1, ['k', 1, ['K', 1, ['k', 1, ['K', 1, ['k', 1, ['K', 1, ['k', 1, ['K', 1, ['k', 1, ['K', 1, ['k', 1, ['K', 1, ['k', 1, ['K', 1, ['k', 1, ['K', 1, ['k', 1, ['K', 1, ['k', 1, ['K', 1, ['k', 1, ['K', 1, ['k', 1, ['K', 1, ['k', 1, ['K', 1, ['k', 1, ['K', 1, ['k', 1, ['K', 1, ['k', 1, ['K', 1, ['k', 1, ['K', 1, ['k', 1, ['K', 1, ['k', 1, ['K', 1, ['k', 1, ['K', 1, ['k', 1, ['K', 1, ['k', 1, ['K', 1, ['k', 1, ['K', 1, ['k', 1, ['K', 1, ['k', 1, ['K', 1, ['k', 1, ['K', 1, ['k', 1, ['K', 1, ['k', 1, ['K', 1, ['k', 1, ['K', 1, ['k', 1, ['K', 1, ['k', 1, ['K', 1, ['k', 1, ['K', 1, ['k', 1, ['K', 1, ['k', 1, ['K', 1, ['k', 1, ['K', 1, ['k', 1, ['K', 1, ['k', 1, ['K', 1, ['k', 1, ['K', 1, ['k', 1, ['K', 1, ['k', 1, ['K', 1, ['k', 1, ['K', 1, ['k', 1, ['K', 1, ['k', 1, ['K', 1, ['k', 1, ['K', 1, ['k', 1, ['K', 1, ['k', 1, ['K', 1, ['k', 1, ['K', 1, ['k', 1, ['K', 1, ['k', 1, ['K', 1, ['k', 1, ['K', 1, ['k', 1, ['K', 1, ['k', 1, ['K', 1, ['k', 1, ['K', 1, ['k', 1, ['K', 1, ['k', 1, ['K', 1, ['k', 1, ['K', 1, ['k', 1, ['K', 1, ['k', 1, ['K', 1, ['k', 1, ['K', 1, ['k', 1, ['K', 1, ['k', 1, ['K', 1, ['k', 1, ['K', 1, ['k', 1, ['K', 1, ['k', 1, ['K', 1, ['k', 1, ['K', 1, ['k', 1, ['K', 1, ['k', 1, ['K', 1, ['k', 1, ['K', 1, ['k', 1, ['K', 1, ['k', 1, ['K', 1, ['k', 1, ['K', 1, ['k', 1, ['K', 1, ['k', 1, ['K', 1, ['k', 1, ['K', 1, ['k', 1, ['K', 1, ['k', 1, ['K', 1, ['k', 1, ['K', 1, ['k', 1, ['K', 1, ['k', 1, ['K', 1, ['k', 1, ['K', 1, ['k', 1, ['K', 1, ['k', 1, ['K', 1, ['k', 1, ['K', 1, ['k', 1, ['K', 1, ['k', 1, ['K', 1, ['k', 1, ['K', 1, ['k', 1, ['K', 1, ['k', 1, ['K', 1, ['k', 1, ['K', 1, ['k', 1, ['K', 1, ['k', 1, ['K', 1, ['k', 1, ['K', 1, ['k', 1, ['K', 1, ['k', 1, ['K', 1, ['k', 1, ['K', 1, ['k', 1, ['K', 1, ['k', 1, ['K', 1, ['k', 1, ['K', 1, ['k', 1, ['K', 1, ['k', 1, ['K', 1, ['k', 1, ['K', 1, ['k', 1, ['K', 1, ['k', 1, ['K', 1, ['k', 1, ['K', 1, ['k', 1, ['K', 1, ['k', 1, ['K', 1, ['k', 1, ['K', 1, ['k', 1, ['K', 1, ['k', 1, ['K', 1, ['k', 1, ['K', 1, ['k', 1, ['K', 1, ['k', 1, ['K', 1, ['k', 1, ['K', 1, ['k', 1, ['K', 1, ['k', 1, ['K', 1, ['k', 1, ['K', 1, ['k', 1, ['K', 1, ['k', 1, ['K', 1, ['k', 1, ['K', 1, ['k', 1, ['K', 1, ['k', 1, ['K', 1, ['k', 1, ['K', 1, ['k', 1, ['K', 1, ['k', 1, ['K', 1, ['k', 1, ['K', 1, ['k', 1, ['K', 1, ['k', 1, ['K', 1, ['k', 1, ['K', 1, ['k', 1, ['K', 1, ['k', 1, ['K', 1, ['k', 1, ['K', 1, ['k', 1, ['K', 1, ['k', 1, ['K', 1, ['k', 1, ['K', 1, ['k', 1, ['K', 1, ['k', 1, ['K', 1, ['k', 1, ['K', 1, ['k', 1, ['K', 1, ['k', 1, ['K', 1, ['k', 1, ['K', 1, ['k', 1, ['K', 1, ['k', 1, ['K', 1, ['k', 1, ['K', 1, ['k', 1, ['K', 1, ['k', 1, ['K', 1, ['k', 1, ['K', 1, ['k', 1, ['K', 1, ['k', 1, ['K', 1, ['k', 1, ['K', 1, ['k', 1, ['K', 1, ['k', 1, ['K', 1, ['k', 1, ['K', 1, ['k', 1, ['K', 1, ['k', 1, ['K', 1, ['k', 1, ['K', 1, ['k', 1, ['K', 1, ['k', 1, ['K', 1, ['k', 1, ['K', 1, ['k', 1, ['K', 1, ['k', 1, ['K', 1, ['k', 1, ['K', 1, ['k', 1, ['K', 1, ['k', 1, ['K', 1, ['k', 1, ['K', 1, ['k', 1, ['K', 1, ['k', 1, ['K', 1, ['k', 1, ['K', 1, ['k', 1, ['K', 1, ['k', 1, ['K', 1, ['k', 1, ['K', 1, ['k', 1, ['K', 1, ['k', 1, ['K', 1, ['k', 1, ['K', 1, ['k', 1, ['K', 1, ['k', 1, ['K', 1, ['k', 1, ['K', 1, ['k', 1, ['K', 1, ['k', 1, ['K', 1, ['k', 1, ['K', 1, ['k', 1, ['K', 1, ['k', 1, ['K', 1, ['k', 1, ['K', 1, ['k', 1, ['K', 1, ['k', 1, ['K', 1, ['k', 1, ['K', 1, ['k', 1, ['K', 1, ['k', 1, ['K', 1, ['k', 1, ['K', 1, ['k', 1, ['K', 1, ['k', 1, ['K', 1, ['k', 1, ['K', 1, ['k', 1, ['K', 1, ['k', 1, ['K', 1, ['k', 1, ['K', 1, ['k', 1, ['K', 1, ['k', 1, ['K', 1, ['k', 1, ['K', 1, ['k', 1, ['K', 1, ['k', 1, ['K', 1, ['k', 1, ['K', 1, ['k', 1, ['K', 1, ['k', 1, ['K', 1, ['k', 1, ['K', 1, ['k', 1, ['K', 1, ['k', 1, ['K', 1, ['k', 1, ['K', 1, ['k', 1, ['K', 1, ['k', 1, ['K', 1, ['k', 1, ['K', 1, ['k', 1, ['K', 1, ['k', 1, ['K', 1, ['k', 1, ['K', 1, ['k', 1, ['K', 1, ['k', 1, ['K', 1, ['k', 1, ['K', 1, ['k', 1, ['K', 1, ['k', 1, ['K', 1, ['k', 1, ['K', 1, ['k', 1, ['K', 1, ['k', 1, ['K', 1, ['k', 1, ['K', 1, ['k', 1, ['K', 1, ['k', 1, ['K', 1, ['k', 1, ['K', 1, ['k', 1, ['K', 1, ['k', 1, ['K', 1, ['k', 1, ['K', 1, ['k', 1, ['K', 1, ['k', 1, ['K', 1, ['k', 1, ['K', 1, ['k', 1, ['K', 1, ['k', 1, ['K', 1, ['k', 1, ['K', 1, ['k', 1, ['K', 1, ['k', 1, ['K', 1, ['k', 1, ['K', 1, ['k', 1, ['K', 1, ['k', 1, ['K', 1, ['k', 1, ['K', 1, ['k', 1, ['K', 1, ['k', 1, ['K', 1, ['k', 1, ['K', 1, ['k', 1, ['K', 1, ['k', 1, ['K', 1, ['k', 1, ['K', 1, ['k', 1, ['K', 1, ['k', 1, ['K', 1, ['k', 1, ['K', 1, ['k', 1, ['K', 1, ['k', 1, ['K', 1, ['k', 1, ['K', 1, ['k', 1, ['K', 1, ['k', 1, ['K', 1, ['k', 1, ['K', 1, ['k', 1, ['K', 1, ['k', 1, ['K', 1, ['k', 1, ['K', 1, ['k', 1, ['K', 1, ['k', 1, ['K', 1, ['k', 1, ['K', 1, ['k', 1, ['K', 1, ['k', 1, ['K', 1, ['k', 1, ['K', 1, ['k', 1, ['K', 1, ['k', 1, ['K', 1, ['k', 1, ['K', 1, ['k', 1, ['K', 1, ['k', 1, ['K', 1, ['k', 1, ['K', 1, ['k', 1, ['K', 1, ['k', 1, ['K', 1, ['k', 1, ['K', 1, ['k', 1, ['K', 1, ['k', 1, ['K', 1, ['k', 1, ['K', 1, ['k', 1, ['K', 1, ['k', 1, ['K', 1, ['k', 1, ['K', 1, ['k', 1, ['K', 1, ['k', 1, ['K', 1, ['k', 1, ['K', 1, ['k', 1, ['K', 1, ['k', 1, ['K', 1, ['k', 1, ['K', 1, ['k', 1, ['K', 1, ['k', 1, ['K', 1, ['k', 1, ['K', 1, ['k', 1, ['K', 1, ['k', 1, ['K', 1, ['J', 1, ['j', 1, ['b', 1]]]]]]]]]]]]]]]]]]]]]]]]]]]]]]]]]]]]]]]]]]]]]]]]]]]]]]]]]]]]]]]]]]]]]]]]]]]]]]]]]]]]]]]]]]]]]]]]]]]]]]]]]]]]]]]]]]]]]]]]]]]]]]]]]]]]]]]]]]]]]]]]]]]]]]]]]]]]]]]]]]]]]]]]]]]]]]]]]]]]]]]]]]]]]]]]]]]]]]]]]]]]]]]]]]]]]]]]]]]]]]]]]]]]]]]]]]]]]]]]]]]]]]]]]]]]]]]]]]]]]]]]]]]]]]]]]]]]]]]]]]]]]]]]]]]]]]]]]]]]]]]]]]]]]]]]]]]]]]]]]]]]]]]]]]]]]]]]]]]]]]]]]]]]]]]]]]]]]]]]]]]]]]]]]]]]]]]]]]]]]]]]]]]]]]]]]]]]]]]]]]]]]]]]]]]]]]]]]]]]]]]]]]]]]]]]]]]]]]]]]]]]]]]]]]]]]]]]]]]]]]]]]]]]]]]]]]]]]]]]]]]]]]]]]]]]]]]]]]]]]]]]]]]]]]]]]]]]]]]]]]]]]]]]]]]]]]]]]]]]]]]]]]]]]]]]]]]]]]]]]]]]]]]]]]]]]]]]]]]]]]]]]]]]]]]]]]]]]]]]]]]]]]]]]]]]]]]]]]]]]]]]]]]]]]]]]]]]]]]]]]]]]]]]]]]]]]]]]]]]]]]]]]]]]]]]]]]]]]]]]]]]]]]]]]]]]]]]]]]]]]]]]]]]]]]]]]]]]]]]]]], ['k', 4, ['K', 3, ['L', 1, ['l', 1, ['L', 1, ['D', 1, ['d', 1, ['k', 1, ['l', 1, ['K', 1, ['L', 1, ['l', 1, ['L', 1, ['l', 1, ['L', 1, ['l', 1, ['L', 1, ['H', 1, ['D', 1, ['d', 1, ['h', 1, ['l', 1, ['k', 1, ['K', 1, ['L', 1, ['l', 1, ['L', 1, ['l', 1, ['k', 1, ['J', 1, ['j', 1, ['J', 1, ['j', 1, ['K', 1, ['L', 1, ['k', 1, ['l', 1, ['K', 1, ['L', 1, ['l', 1, ['L', 1, ['l', 1, ['L', 1, ['l', 1, ['k', 1, ['K', 1, ['k', 1, ['K', 1, ['L', 1, ['l', 1, ['k', 1, ['b', 1]]]]]]]]]]]]]]]]]]]]]]]]]]]]]]]]]]]]]]]]]]]]]]]]]]]]]\n",
      "count of all nodes\n"
     ]
    },
    {
     "output_type": "execute_result",
     "data": {
      "text/plain": [
       "{'A': 4036,\n",
       " 'B': 212,\n",
       " 'C': 1901,\n",
       " 'D': 1332,\n",
       " 'E': 1960,\n",
       " 'F': 135,\n",
       " 'G': 18,\n",
       " 'H': 49,\n",
       " 'I': 2965,\n",
       " 'J': 337,\n",
       " 'K': 6180,\n",
       " 'L': 2860,\n",
       " 'a': 4400,\n",
       " 'b': 333,\n",
       " 'c': 1972,\n",
       " 'd': 1391,\n",
       " 'e': 1998,\n",
       " 'f': 173,\n",
       " 'g': 21,\n",
       " 'h': 63,\n",
       " 'i': 3117,\n",
       " 'j': 351,\n",
       " 'k': 6266,\n",
       " 'l': 3190}"
      ]
     },
     "metadata": {},
     "execution_count": 26
    }
   ]
  },
  {
   "cell_type": "code",
   "source": [
    "the_tree[1]"
   ],
   "metadata": {
    "colab": {
     "base_uri": "https://localhost:8080/"
    },
    "id": "ug0s6ig5CB_s",
    "executionInfo": {
     "status": "ok",
     "timestamp": 1643538917321,
     "user_tz": -60,
     "elapsed": 12,
     "user": {
      "displayName": "Seminar ahmias",
      "photoUrl": "https://lh3.googleusercontent.com/a/default-user=s64",
      "userId": "08863251838733967153"
     }
    },
    "outputId": "72353066-89f0-43bd-95b2-5666e877506b"
   },
   "execution_count": 27,
   "outputs": [
    {
     "output_type": "execute_result",
     "data": {
      "text/plain": [
       "['L',\n",
       " 1051,\n",
       " [['l', 1999],\n",
       "  ['D', 293, ['d', 282, ['D', 118, ['d', 117, ['l', 43]]]]],\n",
       "  ['i', 74, ['D', 19, ['d', 19, ['l', 2]]]],\n",
       "  ['a', 54, ['l', 27]],\n",
       "  ['A', 42, ['l', 24]],\n",
       "  ['F',\n",
       "   28,\n",
       "   ['D',\n",
       "    11,\n",
       "    ['d',\n",
       "     11,\n",
       "     ['D',\n",
       "      3,\n",
       "      ['d',\n",
       "       3,\n",
       "       ['a',\n",
       "        1,\n",
       "        ['D',\n",
       "         1,\n",
       "         ['d',\n",
       "          1,\n",
       "          ['f',\n",
       "           1,\n",
       "           ['A',\n",
       "            1,\n",
       "            ['D',\n",
       "             1,\n",
       "             ['d',\n",
       "              1,\n",
       "              ['F',\n",
       "               1,\n",
       "               ['D',\n",
       "                1,\n",
       "                ['d',\n",
       "                 1,\n",
       "                 ['D',\n",
       "                  1,\n",
       "                  ['d',\n",
       "                   1,\n",
       "                   ['f', 1, ['D', 1, ['d', 1, ['l', 1]]]]]]]]]]]]]]]]]]]]],\n",
       "  ['I', 53, ['l', 25]],\n",
       "  ['G',\n",
       "   4,\n",
       "   ['g',\n",
       "    3,\n",
       "    ['A',\n",
       "     1,\n",
       "     ['a',\n",
       "      1,\n",
       "      ['A',\n",
       "       1,\n",
       "       ['a',\n",
       "        1,\n",
       "        ['A',\n",
       "         1,\n",
       "         ['a',\n",
       "          1,\n",
       "          ['F',\n",
       "           1,\n",
       "           ['A',\n",
       "            1,\n",
       "            ['a',\n",
       "             1,\n",
       "             ['f',\n",
       "              1,\n",
       "              ['A',\n",
       "               1,\n",
       "               ['D',\n",
       "                1,\n",
       "                ['a',\n",
       "                 1,\n",
       "                 ['d',\n",
       "                  1,\n",
       "                  ['A',\n",
       "                   1,\n",
       "                   ['a',\n",
       "                    1,\n",
       "                    ['A',\n",
       "                     1,\n",
       "                     ['a',\n",
       "                      1,\n",
       "                      ['A',\n",
       "                       1,\n",
       "                       ['F',\n",
       "                        1,\n",
       "                        ['a',\n",
       "                         1,\n",
       "                         ['f',\n",
       "                          1,\n",
       "                          ['A',\n",
       "                           1,\n",
       "                           ['D',\n",
       "                            1,\n",
       "                            ['d',\n",
       "                             1,\n",
       "                             ['D',\n",
       "                              1,\n",
       "                              ['d',\n",
       "                               1,\n",
       "                               ['D',\n",
       "                                1,\n",
       "                                ['d',\n",
       "                                 1,\n",
       "                                 ['l', 1]]]]]]]]]]]]]]]]]]]]]]]]]]]]]]]],\n",
       "  ['E',\n",
       "   74,\n",
       "   ['e',\n",
       "    57,\n",
       "    ['D',\n",
       "     5,\n",
       "     ['E',\n",
       "      5,\n",
       "      ['e',\n",
       "       3,\n",
       "       ['E',\n",
       "        3,\n",
       "        ['e',\n",
       "         2,\n",
       "         ['E',\n",
       "          1,\n",
       "          ['e',\n",
       "           1,\n",
       "           ['d',\n",
       "            1,\n",
       "            ['E',\n",
       "             1,\n",
       "             ['e',\n",
       "              1,\n",
       "              ['E',\n",
       "               1,\n",
       "               ['e',\n",
       "                1,\n",
       "                ['E',\n",
       "                 1,\n",
       "                 ['e',\n",
       "                  1,\n",
       "                  ['E',\n",
       "                   1,\n",
       "                   ['e',\n",
       "                    1,\n",
       "                    ['E',\n",
       "                     1,\n",
       "                     ['e',\n",
       "                      1,\n",
       "                      ['E',\n",
       "                       1,\n",
       "                       ['e',\n",
       "                        1,\n",
       "                        ['E',\n",
       "                         1,\n",
       "                         ['e',\n",
       "                          1,\n",
       "                          ['E', 1, ['e', 1, ['l', 1]]]]]]]]]]]]]]]]]]]]]]]]]]],\n",
       "  ['f',\n",
       "   10,\n",
       "   ['E',\n",
       "    2,\n",
       "    ['e',\n",
       "     1,\n",
       "     ['E', 1, ['e', 1, ['E', 1, ['e', 1, ['F', 1, ['f', 1, ['l', 1]]]]]]]]]],\n",
       "  ['e', 13, ['D', 1, ['d', 1, ['E', 1, ['l', 1]]]]],\n",
       "  ['C', 4, ['I', 1, ['l', 1]]],\n",
       "  ['J', 11, ['j', 9, ['l', 6]]],\n",
       "  ['j', 4, ['D', 1, ['d', 1, ['D', 1, ['d', 1, ['l', 1]]]]]],\n",
       "  ['k',\n",
       "   10,\n",
       "   ['i',\n",
       "    2,\n",
       "    ['K',\n",
       "     1,\n",
       "     ['k',\n",
       "      1,\n",
       "      ['K',\n",
       "       1,\n",
       "       ['k',\n",
       "        1,\n",
       "        ['K',\n",
       "         1,\n",
       "         ['k',\n",
       "          1,\n",
       "          ['K',\n",
       "           1,\n",
       "           ['k',\n",
       "            1,\n",
       "            ['K',\n",
       "             1,\n",
       "             ['k',\n",
       "              1,\n",
       "              ['K',\n",
       "               1,\n",
       "               ['k',\n",
       "                1,\n",
       "                ['K',\n",
       "                 1,\n",
       "                 ['a',\n",
       "                  1,\n",
       "                  ['k',\n",
       "                   1,\n",
       "                   ['K',\n",
       "                    1,\n",
       "                    ['A',\n",
       "                     1,\n",
       "                     ['D',\n",
       "                      1,\n",
       "                      ['d',\n",
       "                       1,\n",
       "                       ['D',\n",
       "                        1,\n",
       "                        ['d',\n",
       "                         1,\n",
       "                         ['D',\n",
       "                          1,\n",
       "                          ['d', 1, ['a', 1, ['l', 1]]]]]]]]]]]]]]]]]]]]]]]]]]],\n",
       "  ['K', 7, ['l', 4]],\n",
       "  ['c', 7, ['C', 2, ['l', 1]]],\n",
       "  ['H',\n",
       "   6,\n",
       "   ['h',\n",
       "    3,\n",
       "    ['D',\n",
       "     3,\n",
       "     ['d', 3, ['D', 2, ['d', 2, ['D', 2, ['d', 2, ['D', 1, ['l', 1]]]]]]]]]],\n",
       "  ['d', 1, ['H', 1, ['h', 1, ['H', 1, ['h', 1, ['l', 1]]]]]],\n",
       "  ['h', 4, ['H', 1, ['l', 1]]],\n",
       "  ['b', 7, ['l', 3]],\n",
       "  ['g', 1, ['I', 1, ['l', 1]]],\n",
       "  ['B', 5, ['l', 4]]]]"
      ]
     },
     "metadata": {},
     "execution_count": 27
    }
   ]
  },
  {
   "cell_type": "markdown",
   "source": [
    "#Visualisation of the tree"
   ],
   "metadata": {
    "id": "VorPXrbpCG35"
   }
  },
  {
   "cell_type": "code",
   "source": [
    "import sys\n",
    "sys.setrecursionlimit(10000)"
   ],
   "metadata": {
    "id": "T9AkWrPCCIAQ",
    "executionInfo": {
     "status": "ok",
     "timestamp": 1643538918962,
     "user_tz": -60,
     "elapsed": 4,
     "user": {
      "displayName": "Seminar ahmias",
      "photoUrl": "https://lh3.googleusercontent.com/a/default-user=s64",
      "userId": "08863251838733967153"
     }
    }
   },
   "execution_count": 28,
   "outputs": []
  },
  {
   "cell_type": "code",
   "source": [
    "pip install treelib"
   ],
   "metadata": {
    "colab": {
     "base_uri": "https://localhost:8080/"
    },
    "id": "-XFYM1LeCLy0",
    "executionInfo": {
     "status": "ok",
     "timestamp": 1643538923975,
     "user_tz": -60,
     "elapsed": 5016,
     "user": {
      "displayName": "Seminar ahmias",
      "photoUrl": "https://lh3.googleusercontent.com/a/default-user=s64",
      "userId": "08863251838733967153"
     }
    },
    "outputId": "1546cbc9-adf7-4b60-a84f-a98db9364683"
   },
   "execution_count": 29,
   "outputs": [
    {
     "output_type": "stream",
     "name": "stdout",
     "text": [
      "Collecting treelib\n",
      "  Downloading treelib-1.6.1.tar.gz (24 kB)\n",
      "Requirement already satisfied: future in /usr/local/lib/python3.7/dist-packages (from treelib) (0.16.0)\n",
      "Building wheels for collected packages: treelib\n",
      "  Building wheel for treelib (setup.py) ... \u001B[?25l\u001B[?25hdone\n",
      "  Created wheel for treelib: filename=treelib-1.6.1-py3-none-any.whl size=18385 sha256=6e464436e260e0be933613b3b93b3f6b63f6898d7a6d8f7b50b2ef9e6be5e6bb\n",
      "  Stored in directory: /root/.cache/pip/wheels/89/be/94/2c6d949ce599d1443426d83ba4dc93cd35c0f4638260930a53\n",
      "Successfully built treelib\n",
      "Installing collected packages: treelib\n",
      "Successfully installed treelib-1.6.1\n"
     ]
    }
   ]
  },
  {
   "cell_type": "code",
   "source": [
    "from treelib import Node, Tree"
   ],
   "metadata": {
    "id": "0alKn4prCOKG",
    "executionInfo": {
     "status": "ok",
     "timestamp": 1643538923976,
     "user_tz": -60,
     "elapsed": 14,
     "user": {
      "displayName": "Seminar ahmias",
      "photoUrl": "https://lh3.googleusercontent.com/a/default-user=s64",
      "userId": "08863251838733967153"
     }
    }
   },
   "execution_count": 30,
   "outputs": []
  },
  {
   "cell_type": "code",
   "source": [
    "def nested_change(item, func):\n",
    "    if isinstance(item, list):\n",
    "        return [nested_change(x, func) for x in item]\n",
    "    return func(item)"
   ],
   "metadata": {
    "id": "1kGv7KASCSGV",
    "executionInfo": {
     "status": "ok",
     "timestamp": 1643538923976,
     "user_tz": -60,
     "elapsed": 13,
     "user": {
      "displayName": "Seminar ahmias",
      "photoUrl": "https://lh3.googleusercontent.com/a/default-user=s64",
      "userId": "08863251838733967153"
     }
    }
   },
   "execution_count": 31,
   "outputs": []
  },
  {
   "cell_type": "code",
   "source": [
    "total_count_of_nodes = 0\n",
    "\n",
    "for key, item in count_of_all_nodes.items():\n",
    "  total_count_of_nodes += item\n",
    "\n",
    "print(count_of_all_nodes)\n",
    "print(total_count_of_nodes)"
   ],
   "metadata": {
    "colab": {
     "base_uri": "https://localhost:8080/"
    },
    "id": "12zf0dIKCXEp",
    "executionInfo": {
     "status": "ok",
     "timestamp": 1643538923976,
     "user_tz": -60,
     "elapsed": 11,
     "user": {
      "displayName": "Seminar ahmias",
      "photoUrl": "https://lh3.googleusercontent.com/a/default-user=s64",
      "userId": "08863251838733967153"
     }
    },
    "outputId": "8007b40e-4af7-4ffe-9c42-c30aeb4de9b0"
   },
   "execution_count": 32,
   "outputs": [
    {
     "output_type": "stream",
     "name": "stdout",
     "text": [
      "{'A': 4036, 'l': 3190, 'a': 4400, 'I': 2965, 'i': 3117, 'g': 21, 'f': 173, 'C': 1901, 'c': 1972, 'L': 2860, 'D': 1332, 'd': 1391, 'E': 1960, 'e': 1998, 'F': 135, 'K': 6180, 'k': 6266, 'j': 351, 'J': 337, 'h': 63, 'H': 49, 'G': 18, 'b': 333, 'B': 212}\n",
      "45260\n"
     ]
    }
   ]
  },
  {
   "cell_type": "code",
   "source": [
    "# we have a problem here\n",
    "the_tree_for_show = nested_change(the_tree, str)\n",
    "for thing in the_tree_for_show:\n",
    "  print(thing[0], thing[1], thing[2])"
   ],
   "metadata": {
    "colab": {
     "base_uri": "https://localhost:8080/"
    },
    "id": "rL1k9jvvCaHk",
    "executionInfo": {
     "status": "ok",
     "timestamp": 1643539179539,
     "user_tz": -60,
     "elapsed": 5,
     "user": {
      "displayName": "Seminar ahmias",
      "photoUrl": "https://lh3.googleusercontent.com/a/default-user=s64",
      "userId": "08863251838733967153"
     }
    },
    "outputId": "340d7c4c-421c-40d4-8b36-6f0ea3b76eed"
   },
   "execution_count": 38,
   "outputs": [
    {
     "output_type": "stream",
     "name": "stdout",
     "text": [
      "A 1 [['L', '185', ['l', '112', ['a', '17']]], ['a', '3205'], ['i', '34', ['I', '31', ['i', '29', ['I', '29', ['a', '1']]]]], ['e', '3', ['g', '1', ['f', '1', ['a', '1']]]], ['c', '74', ['C', '43', ['a', '18']]], ['C', '63', ['a', '15']], ['I', '28', ['i', '24', ['I', '23', ['i', '23', ['I', '20', ['i', '20', ['I', '19', ['i', '19', ['I', '16', ['i', '15', ['I', '15', ['i', '15', ['a', '2']]]]]]]]]]]]], ['E', '5', ['e', '4', ['L', '1', ['l', '1', ['a', '1']]]]], ['l', '58', ['L', '38', ['l', '30', ['L', '25', ['l', '18', ['L', '17', ['l', '16', ['L', '11', ['l', '10', ['L', '8', ['l', '7', ['L', '7', ['l', '7', ['L', '6', ['l', '4', ['L', '4', ['l', '4', ['L', '4', ['l', '4', ['L', '3', ['l', '3', ['L', '3', ['l', '3', ['L', '2', ['l', '2', ['a', '1']]]]]]]]]]]]]]]]]]]]]]]]]], ['D', '28', ['d', '26', ['F', '1', ['D', '1', ['d', '1', ['D', '1', ['d', '1', ['f', '1', ['D', '1', ['d', '1', ['l', '1', ['L', '1', ['l', '1', ['L', '1', ['l', '1', ['a', '1']]]]]]]]]]]]]]]], ['F', '1', ['a', '1']], ['k', '70', ['L', '16', ['a', '1']]], ['K', '23', ['k', '20', ['K', '17', ['k', '15', ['L', '1', ['D', '1', ['d', '1', ['l', '1', ['L', '1', ['i', '1', ['D', '1', ['d', '1', ['D', '1', ['d', '1', ['I', '1', ['l', '1', ['a', '1']]]]]]]]]]]]]]]]], ['J', '32', ['j', '28', ['J', '4', ['j', '4', ['J', '3', ['j', '3', ['J', '1', ['j', '1', ['J', '1', ['j', '1', ['J', '1', ['j', '1', ['J', '1', ['j', '1', ['J', '1', ['K', '1', ['j', '1', ['L', '1', ['l', '1', ['L', '1', ['l', '1', ['L', '1', ['l', '1', ['L', '1', ['a', '1']]]]]]]]]]]]]]]]]]]]]]]]], ['d', '3', ['a', '1']], ['j', '1', ['L', '1', ['l', '1', ['L', '1', ['F', '1', ['l', '1', ['L', '1', ['D', '1', ['d', '1', ['D', '1', ['d', '1', ['D', '1', ['d', '1', ['f', '1', ['F', '1', ['f', '1', ['F', '1', ['f', '1', ['l', '1', ['L', '1', ['l', '1', ['L', '1', ['l', '1', ['L', '1', ['l', '1', ['L', '1', ['l', '1', ['L', '1', ['l', '1', ['L', '1', ['l', '1', ['I', '1', ['i', '1', ['I', '1', ['i', '1', ['I', '1', ['i', '1', ['I', '1', ['i', '1', ['I', '1', ['i', '1', ['I', '1', ['i', '1', ['I', '1', ['i', '1', ['I', '1', ['i', '1', ['I', '1', ['i', '1', ['I', '1', ['i', '1', ['I', '1', ['i', '1', ['I', '1', ['i', '1', ['I', '1', ['i', '1', ['I', '1', ['i', '1', ['I', '1', ['i', '1', ['I', '1', ['i', '1', ['I', '1', ['i', '1', ['I', '1', ['i', '1', ['I', '1', ['i', '1', ['I', '1', ['i', '1', ['I', '1', ['i', '1', ['I', '1', ['i', '1', ['I', '1', ['i', '1', ['I', '1', ['i', '1', ['I', '1', ['a', '1']]]]]]]]]]]]]]]]]]]]]]]]]]]]]]]]]]]]]]]]]]]]]]]]]]]]]]]]]]]]]]]]]]]]]]]]]]]]]]]]]]\n",
      "L 1051 [['l', '1999'], ['D', '293', ['d', '282', ['D', '118', ['d', '117', ['l', '43']]]]], ['i', '74', ['D', '19', ['d', '19', ['l', '2']]]], ['a', '54', ['l', '27']], ['A', '42', ['l', '24']], ['F', '28', ['D', '11', ['d', '11', ['D', '3', ['d', '3', ['a', '1', ['D', '1', ['d', '1', ['f', '1', ['A', '1', ['D', '1', ['d', '1', ['F', '1', ['D', '1', ['d', '1', ['D', '1', ['d', '1', ['f', '1', ['D', '1', ['d', '1', ['l', '1']]]]]]]]]]]]]]]]]]]]], ['I', '53', ['l', '25']], ['G', '4', ['g', '3', ['A', '1', ['a', '1', ['A', '1', ['a', '1', ['A', '1', ['a', '1', ['F', '1', ['A', '1', ['a', '1', ['f', '1', ['A', '1', ['D', '1', ['a', '1', ['d', '1', ['A', '1', ['a', '1', ['A', '1', ['a', '1', ['A', '1', ['F', '1', ['a', '1', ['f', '1', ['A', '1', ['D', '1', ['d', '1', ['D', '1', ['d', '1', ['D', '1', ['d', '1', ['l', '1']]]]]]]]]]]]]]]]]]]]]]]]]]]]]]]], ['E', '74', ['e', '57', ['D', '5', ['E', '5', ['e', '3', ['E', '3', ['e', '2', ['E', '1', ['e', '1', ['d', '1', ['E', '1', ['e', '1', ['E', '1', ['e', '1', ['E', '1', ['e', '1', ['E', '1', ['e', '1', ['E', '1', ['e', '1', ['E', '1', ['e', '1', ['E', '1', ['e', '1', ['E', '1', ['e', '1', ['l', '1']]]]]]]]]]]]]]]]]]]]]]]]]]], ['f', '10', ['E', '2', ['e', '1', ['E', '1', ['e', '1', ['E', '1', ['e', '1', ['F', '1', ['f', '1', ['l', '1']]]]]]]]]], ['e', '13', ['D', '1', ['d', '1', ['E', '1', ['l', '1']]]]], ['C', '4', ['I', '1', ['l', '1']]], ['J', '11', ['j', '9', ['l', '6']]], ['j', '4', ['D', '1', ['d', '1', ['D', '1', ['d', '1', ['l', '1']]]]]], ['k', '10', ['i', '2', ['K', '1', ['k', '1', ['K', '1', ['k', '1', ['K', '1', ['k', '1', ['K', '1', ['k', '1', ['K', '1', ['k', '1', ['K', '1', ['k', '1', ['K', '1', ['a', '1', ['k', '1', ['K', '1', ['A', '1', ['D', '1', ['d', '1', ['D', '1', ['d', '1', ['D', '1', ['d', '1', ['a', '1', ['l', '1']]]]]]]]]]]]]]]]]]]]]]]]]]], ['K', '7', ['l', '4']], ['c', '7', ['C', '2', ['l', '1']]], ['H', '6', ['h', '3', ['D', '3', ['d', '3', ['D', '2', ['d', '2', ['D', '2', ['d', '2', ['D', '1', ['l', '1']]]]]]]]]], ['d', '1', ['H', '1', ['h', '1', ['H', '1', ['h', '1', ['l', '1']]]]]], ['h', '4', ['H', '1', ['l', '1']]], ['b', '7', ['l', '3']], ['g', '1', ['I', '1', ['l', '1']]], ['B', '5', ['l', '4']]]\n",
      "D 728 [['d', '854'], ['e', '30', ['E', '15', ['d', '7']]], ['a', '3', ['d', '3']], ['E', '41', ['e', '29', ['E', '17', ['e', '9', ['E', '2', ['e', '2', ['d', '1']]]]]]], ['l', '2', ['d', '1']], ['A', '3', ['d', '2']], ['C', '1', ['d', '1']], ['I', '1', ['d', '1']], ['h', '1', ['d', '1']], ['f', '6', ['d', '6']], ['J', '1', ['d', '1']], ['k', '1', ['K', '1', ['d', '1']]], ['F', '2', ['f', '1', ['d', '1']]], ['K', '4', ['d', '4']]]\n",
      "I 499 [['i', '2342'], ['A', '16', ['a', '7', ['i', '1']]], ['a', '29', ['A', '21', ['a', '12', ['A', '11', ['a', '7', ['A', '7', ['a', '6', ['A', '6', ['a', '5', ['A', '5', ['a', '5', ['A', '5', ['a', '4', ['A', '4', ['a', '4', ['A', '4', ['a', '4', ['A', '4', ['a', '4', ['A', '4', ['a', '4', ['A', '4', ['a', '4', ['A', '4', ['a', '4', ['A', '4', ['a', '3', ['A', '3', ['a', '3', ['A', '3', ['a', '3', ['A', '3', ['a', '3', ['A', '3', ['a', '3', ['A', '2', ['a', '2', ['A', '2', ['a', '2', ['A', '2', ['a', '2', ['A', '2', ['a', '2', ['A', '2', ['a', '2', ['A', '2', ['a', '2', ['A', '2', ['a', '2', ['A', '2', ['a', '2', ['A', '2', ['a', '2', ['A', '2', ['a', '2', ['A', '2', ['a', '2', ['A', '2', ['a', '2', ['A', '2', ['a', '2', ['A', '2', ['a', '2', ['A', '2', ['a', '2', ['A', '2', ['a', '2', ['A', '2', ['a', '2', ['A', '2', ['a', '2', ['A', '2', ['a', '2', ['A', '2', ['a', '2', ['A', '2', ['a', '2', ['A', '2', ['a', '2', ['A', '2', ['a', '1', ['A', '1', ['a', '1', ['A', '1', ['a', '1', ['A', '1', ['a', '1', ['A', '1', ['a', '1', ['A', '1', ['a', '1', ['A', '1', ['a', '1', ['A', '1', ['a', '1', ['A', '1', ['L', '1', ['i', '1']]]]]]]]]]]]]]]]]]]]]]]]]]]]]]]]]]]]]]]]]]]]]]]]]]]]]]]]]]]]]]]]]]]]]]]]]]]]]]]]]]]]]]]]]]]]]]]]]], ['l', '83', ['a', '17', ['A', '15', ['a', '9', ['A', '9', ['a', '8', ['A', '8', ['a', '8', ['A', '8', ['a', '6', ['A', '6', ['a', '4', ['A', '3', ['a', '3', ['A', '3', ['a', '3', ['A', '3', ['a', '2', ['A', '2', ['a', '2', ['A', '2', ['a', '2', ['A', '2', ['a', '2', ['A', '2', ['a', '2', ['A', '2', ['a', '2', ['A', '2', ['a', '2', ['A', '2', ['a', '2', ['A', '2', ['a', '2', ['A', '2', ['a', '2', ['A', '2', ['a', '1', ['A', '1', ['a', '1', ['A', '1', ['a', '1', ['A', '1', ['C', '1', ['a', '1', ['A', '1', ['c', '1', ['a', '1', ['A', '1', ['a', '1', ['A', '1', ['L', '1', ['i', '1']]]]]]]]]]]]]]]]]]]]]]]]]]]]]]]]]]]]]]]]]]]]]]]]]]]]], ['L', '10', ['l', '6', ['a', '2', ['A', '2', ['a', '2', ['A', '2', ['a', '2', ['A', '2', ['a', '2', ['A', '2', ['k', '1', ['K', '1', ['L', '1', ['l', '1', ['a', '1', ['A', '1', ['a', '1', ['A', '1', ['a', '1', ['A', '1', ['a', '1', ['A', '1', ['a', '1', ['A', '1', ['a', '1', ['A', '1', ['a', '1', ['A', '1', ['a', '1', ['A', '1', ['a', '1', ['A', '1', ['a', '1', ['k', '1', ['K', '1', ['A', '1', ['a', '1', ['A', '1', ['a', '1', ['A', '1', ['a', '1', ['A', '1', ['k', '1', ['a', '1', ['A', '1', ['K', '1', ['k', '1', ['K', '1', ['k', '1', ['L', '1', ['D', '1', ['d', '1', ['l', '1', ['L', '1', ['i', '1']]]]]]]]]]]]]]]]]]]]]]]]]]]]]]]]]]]]]]]]]]]]]]]]]]]]]]], ['c', '2', ['a', '1', ['A', '1', ['L', '1', ['i', '1']]]]], ['k', '15', ['L', '4', ['i', '2']]], ['K', '22', ['a', '2', ['A', '2', ['a', '2', ['A', '2', ['a', '2', ['A', '2', ['a', '2', ['A', '2', ['k', '2', ['a', '1', ['K', '1', ['k', '1', ['A', '1', ['C', '1', ['c', '1', ['C', '1', ['c', '1', ['C', '1', ['c', '1', ['a', '1', ['A', '1', ['a', '1', ['A', '1', ['a', '1', ['A', '1', ['K', '1', ['k', '1', ['K', '1', ['k', '1', ['K', '1', ['k', '1', ['K', '1', ['k', '1', ['K', '1', ['k', '1', ['K', '1', ['k', '1', ['K', '1', ['k', '1', ['K', '1', ['k', '1', ['K', '1', ['k', '1', ['K', '1', ['k', '1', ['K', '1', ['k', '1', ['K', '1', ['k', '1', ['K', '1', ['k', '1', ['K', '1', ['k', '1', ['K', '1', ['k', '1', ['K', '1', ['k', '1', ['K', '1', ['k', '1', ['K', '1', ['k', '1', ['K', '1', ['k', '1', ['K', '1', ['k', '1', ['K', '1', ['k', '1', ['K', '1', ['k', '1', ['K', '1', ['k', '1', ['K', '1', ['k', '1', ['K', '1', ['k', '1', ['K', '1', ['k', '1', ['K', '1', ['k', '1', ['K', '1', ['a', '1', ['k', '1', ['K', '1', ['k', '1', ['K', '1', ['k', '1', ['K', '1', ['k', '1', ['K', '1', ['k', '1', ['K', '1', ['k', '1', ['K', '1', ['k', '1', ['K', '1', ['k', '1', ['K', '1', ['k', '1', ['K', '1', ['k', '1', ['K', '1', ['k', '1', ['K', '1', ['k', '1', ['K', '1', ['k', '1', ['K', '1', ['A', '1', ['k', '1', ['K', '1', ['k', '1', ['K', '1', ['k', '1', ['K', '1', ['k', '1', ['K', '1', ['k', '1', ['K', '1', ['k', '1', ['K', '1', ['k', '1', ['K', '1', ['k', '1', ['K', '1', ['k', '1', ['K', '1', ['k', '1', ['K', '1', ['k', '1', ['K', '1', ['k', '1', ['K', '1', ['k', '1', ['K', '1', ['k', '1', ['K', '1', ['k', '1', ['K', '1', ['k', '1', ['K', '1', ['k', '1', ['K', '1', ['k', '1', ['K', '1', ['k', '1', ['K', '1', ['k', '1', ['K', '1', ['k', '1', ['K', '1', ['k', '1', ['K', '1', ['k', '1', ['K', '1', ['k', '1', ['K', '1', ['k', '1', ['K', '1', ['k', '1', ['K', '1', ['L', '1', ['k', '1', ['i', '1']]]]]]]]]]]]]]]]]]]]]]]]]]]]]]]]]]]]]]]]]]]]]]]]]]]]]]]]]]]]]]]]]]]]]]]]]]]]]]]]]]]]]]]]]]]]]]]]]]]]]]]]]]]]]]]]]]]]]]]]]]]]]]]]]]]]]]]]]]]]]]]]]]]]]]]]]]]]]]]]]]]], ['C', '7', ['c', '5', ['C', '3', ['c', '2', ['a', '1', ['A', '1', ['a', '1', ['A', '1', ['a', '1', ['A', '1', ['K', '1', ['k', '1', ['K', '1', ['k', '1', ['K', '1', ['k', '1', ['K', '1', ['k', '1', ['K', '1', ['k', '1', ['K', '1', ['k', '1', ['K', '1', ['k', '1', ['K', '1', ['k', '1', ['K', '1', ['k', '1', ['K', '1', ['k', '1', ['K', '1', ['k', '1', ['K', '1', ['k', '1', ['K', '1', ['k', '1', ['K', '1', ['k', '1', ['K', '1', ['k', '1', ['K', '1', ['k', '1', ['K', '1', ['k', '1', ['K', '1', ['k', '1', ['K', '1', ['k', '1', ['K', '1', ['k', '1', ['K', '1', ['k', '1', ['K', '1', ['k', '1', ['K', '1', ['k', '1', ['K', '1', ['k', '1', ['K', '1', ['k', '1', ['K', '1', ['k', '1', ['K', '1', ['k', '1', ['K', '1', ['k', '1', ['K', '1', ['k', '1', ['K', '1', ['k', '1', ['K', '1', ['k', '1', ['K', '1', ['k', '1', ['K', '1', ['k', '1', ['K', '1', ['k', '1', ['K', '1', ['k', '1', ['K', '1', ['k', '1', ['K', '1', ['k', '1', ['K', '1', ['k', '1', ['K', '1', ['k', '1', ['K', '1', ['k', '1', ['K', '1', ['k', '1', ['K', '1', ['k', '1', ['K', '1', ['k', '1', ['K', '1', ['k', '1', ['K', '1', ['k', '1', ['K', '1', ['k', '1', ['K', '1', ['k', '1', ['K', '1', ['k', '1', ['K', '1', ['k', '1', ['K', '1', ['k', '1', ['K', '1', ['k', '1', ['K', '1', ['k', '1', ['K', '1', ['k', '1', ['K', '1', ['k', '1', ['K', '1', ['k', '1', ['K', '1', ['k', '1', ['K', '1', ['k', '1', ['K', '1', ['k', '1', ['K', '1', ['k', '1', ['K', '1', ['k', '1', ['K', '1', ['k', '1', ['K', '1', ['k', '1', ['K', '1', ['C', '1', ['a', '1', ['A', '1', ['a', '1', ['A', '1', ['a', '1', ['A', '1', ['a', '1', ['A', '1', ['a', '1', ['A', '1', ['a', '1', ['A', '1', ['c', '1', ['C', '1', ['a', '1', ['A', '1', ['a', '1', ['A', '1', ['c', '1', ['L', '1', ['i', '1']]]]]]]]]]]]]]]]]]]]]]]]]]]]]]]]]]]]]]]]]]]]]]]]]]]]]]]]]]]]]]]]]]]]]]]]]]]]]]]]]]]]]]]]]]]]]]]]]]]]]]]]]]]]]]]]]]]]]]]]]]]]]]]]]]]]]]]]]]]]]]]]]]]]]]]]]]]]], ['J', '8', ['j', '8', ['L', '1', ['l', '1', ['k', '1', ['L', '1', ['i', '1']]]]]]], ['d', '1', ['i', '1']], ['B', '6', ['b', '3', ['B', '2', ['i', '1']]]], ['b', '9', ['B', '6', ['b', '2', ['G', '1', ['g', '1', ['C', '1', ['c', '1', ['B', '1', ['C', '1', ['c', '1', ['i', '1']]]]]]]]]]]]\n",
      "C 810 [['a', '80', ['A', '72', ['a', '51', ['A', '49', ['a', '41', ['c', '2']]]]]], ['c', '1197'], ['I', '5', ['a', '1', ['A', '1', ['a', '1', ['A', '1', ['c', '1']]]]]], ['L', '18', ['l', '12', ['a', '3', ['A', '3', ['a', '3', ['A', '3', ['a', '2', ['A', '2', ['a', '2', ['A', '2', ['a', '2', ['A', '2', ['a', '2', ['A', '2', ['a', '2', ['A', '2', ['a', '2', ['A', '2', ['a', '2', ['A', '2', ['a', '2', ['A', '2', ['a', '2', ['A', '2', ['a', '2', ['A', '2', ['a', '2', ['A', '2', ['a', '2', ['A', '2', ['a', '2', ['A', '2', ['a', '2', ['A', '2', ['a', '2', ['A', '2', ['a', '2', ['A', '2', ['a', '2', ['A', '2', ['a', '2', ['A', '2', ['a', '2', ['A', '2', ['a', '2', ['A', '2', ['a', '2', ['A', '1', ['a', '1', ['A', '1', ['a', '1', ['A', '1', ['a', '1', ['A', '1', ['a', '1', ['A', '1', ['a', '1', ['A', '1', ['a', '1', ['A', '1', ['a', '1', ['A', '1', ['a', '1', ['A', '1', ['a', '1', ['A', '1', ['a', '1', ['A', '1', ['a', '1', ['A', '1', ['a', '1', ['A', '1', ['a', '1', ['A', '1', ['a', '1', ['A', '1', ['a', '1', ['A', '1', ['a', '1', ['A', '1', ['a', '1', ['A', '1', ['a', '1', ['A', '1', ['a', '1', ['A', '1', ['a', '1', ['A', '1', ['a', '1', ['A', '1', ['a', '1', ['A', '1', ['a', '1', ['A', '1', ['a', '1', ['A', '1', ['a', '1', ['A', '1', ['a', '1', ['A', '1', ['a', '1', ['A', '1', ['a', '1', ['A', '1', ['a', '1', ['A', '1', ['a', '1', ['A', '1', ['a', '1', ['A', '1', ['a', '1', ['A', '1', ['a', '1', ['A', '1', ['a', '1', ['A', '1', ['a', '1', ['A', '1', ['a', '1', ['A', '1', ['a', '1', ['A', '1', ['a', '1', ['A', '1', ['a', '1', ['A', '1', ['a', '1', ['A', '1', ['a', '1', ['A', '1', ['a', '1', ['A', '1', ['a', '1', ['A', '1', ['a', '1', ['A', '1', ['a', '1', ['A', '1', ['a', '1', ['A', '1', ['a', '1', ['A', '1', ['a', '1', ['A', '1', ['a', '1', ['A', '1', ['a', '1', ['A', '1', ['a', '1', ['A', '1', ['a', '1', ['A', '1', ['a', '1', ['A', '1', ['a', '1', ['A', '1', ['a', '1', ['A', '1', ['a', '1', ['A', '1', ['a', '1', ['A', '1', ['a', '1', ['i', '1', ['I', '1', ['A', '1', ['i', '1', ['a', '1', ['I', '1', ['i', '1', ['I', '1', ['i', '1', ['I', '1', ['i', '1', ['I', '1', ['i', '1', ['A', '1', ['I', '1', ['i', '1', ['I', '1', ['i', '1', ['I', '1', ['i', '1', ['I', '1', ['i', '1', ['I', '1', ['i', '1', ['I', '1', ['i', '1', ['a', '1', ['A', '1', ['a', '1', ['A', '1', ['a', '1', ['A', '1', ['a', '1', ['A', '1', ['a', '1', ['A', '1', ['a', '1', ['A', '1', ['a', '1', ['A', '1', ['a', '1', ['A', '1', ['a', '1', ['A', '1', ['a', '1', ['A', '1', ['a', '1', ['A', '1', ['a', '1', ['A', '1', ['a', '1', ['A', '1', ['a', '1', ['A', '1', ['a', '1', ['A', '1', ['a', '1', ['A', '1', ['a', '1', ['c', '1']]]]]]]]]]]]]]]]]]]]]]]]]]]]]]]]]]]]]]]]]]]]]]]]]]]]]]]]]]]]]]]]]]]]]]]]]]]]]]]]]]]]]]]]]]]]]]]]]]]]]]]]]]]]]]]]]]]]]]]]]]]]]]]]]]]]]]]]]]]]]]]]]]]]]]]]]]]]]]]]]]]]]]]]]]]]]]]]]]]]]]]]]]]]]]]]]]]]]]]]]]]]]]]]]]]]]]]]]]]]]]], ['A', '17', ['a', '7', ['A', '5', ['a', '4', ['A', '4', ['a', '4', ['A', '4', ['a', '3', ['A', '3', ['a', '3', ['A', '3', ['a', '2', ['A', '2', ['a', '2', ['A', '2', ['a', '2', ['A', '2', ['a', '2', ['A', '2', ['a', '2', ['A', '2', ['a', '2', ['A', '2', ['a', '2', ['A', '2', ['a', '2', ['A', '2', ['a', '2', ['A', '2', ['a', '2', ['A', '2', ['a', '2', ['A', '2', ['a', '2', ['A', '2', ['a', '2', ['A', '2', ['a', '2', ['A', '2', ['a', '2', ['A', '2', ['a', '2', ['A', '2', ['a', '2', ['A', '2', ['c', '1']]]]]]]]]]]]]]]]]]]]]]]]]]]]]]]]]]]]]]]]]]]]]], ['i', '8', ['I', '7', ['i', '7', ['I', '7', ['i', '7', ['I', '7', ['i', '7', ['I', '7', ['i', '6', ['I', '6', ['i', '6', ['I', '6', ['i', '6', ['I', '6', ['i', '6', ['I', '6', ['i', '6', ['I', '5', ['i', '5', ['I', '5', ['i', '5', ['I', '5', ['i', '5', ['a', '1', ['A', '1', ['c', '1']]]]]]]]]]]]]]]]]]]]]]]]]], ['D', '1', ['d', '1', ['D', '1', ['d', '1', ['l', '1', ['K', '1', ['c', '1']]]]]]], ['d', '1', ['c', '1']], ['l', '2', ['c', '2']], ['k', '2', ['K', '2', ['k', '2', ['K', '2', ['k', '2', ['K', '2', ['k', '2', ['K', '2', ['k', '2', ['K', '2', ['k', '2', ['K', '2', ['k', '2', ['K', '2', ['k', '1', ['K', '1', ['k', '1', ['K', '1', ['k', '1', ['K', '1', ['k', '1', ['K', '1', ['k', '1', ['K', '1', ['k', '1', ['K', '1', ['k', '1', ['K', '1', ['k', '1', ['K', '1', ['k', '1', ['K', '1', ['k', '1', ['K', '1', ['k', '1', ['K', '1', ['k', '1', ['K', '1', ['k', '1', ['K', '1', ['k', '1', ['K', '1', ['k', '1', ['K', '1', ['c', '1']]]]]]]]]]]]]]]]]]]]]]]]]]]]]]]]]]]]]]]]]]]]], ['K', '1', ['k', '1', ['K', '1', ['k', '1', ['K', '1', ['k', '1', ['K', '1', ['k', '1', ['K', '1', ['k', '1', ['K', '1', ['k', '1', ['K', '1', ['k', '1', ['K', '1', ['k', '1', ['K', '1', ['k', '1', ['K', '1', ['k', '1', ['K', '1', ['k', '1', ['K', '1', ['k', '1', ['K', '1', ['k', '1', ['K', '1', ['c', '1']]]]]]]]]]]]]]]]]]]]]]]]]]]], ['B', '6', ['c', '6']]]\n",
      "E 1011 [['D', '48', ['e', '27']], ['d', '30', ['e', '28']], ['e', '960'], ['A', '3', ['e', '2']], ['l', '30', ['e', '30']], ['L', '18', ['e', '12']], ['F', '2', ['e', '1']], ['h', '2', ['e', '2']]]\n",
      "F 71 [['D', '29', ['d', '23', ['D', '6', ['d', '6', ['f', '4']]]]], ['A', '1', ['a', '1', ['f', '1']]], ['a', '1', ['f', '1']], ['f', '40'], ['L', '5', ['f', '4']], ['e', '1', ['D', '1', ['E', '1', ['e', '1', ['d', '1', ['E', '1', ['e', '1', ['E', '1', ['e', '1', ['E', '1', ['e', '1', ['E', '1', ['e', '1', ['E', '1', ['e', '1', ['f', '1']]]]]]]]]]]]]]]], ['l', '7', ['f', '1']], ['i', '2', ['D', '2', ['d', '2', ['D', '1', ['d', '1', ['f', '1']]]]]], ['k', '1', ['L', '1', ['f', '1']]], ['B', '1', ['D', '1', ['d', '1', ['f', '1']]]], ['E', '2', ['e', '2', ['f', '1']]], ['d', '1', ['f', '1']]]\n",
      "G 8 [['g', '7'], ['l', '1', ['L', '1', ['g', '1']]]]\n",
      "K 3454 [['a', '73', ['A', '56', ['a', '39', ['L', '1', ['A', '1', ['a', '1', ['l', '1', ['A', '1', ['a', '1', ['A', '1', ['a', '1', ['A', '1', ['a', '1', ['A', '1', ['L', '1', ['l', '1', ['a', '1', ['A', '1', ['a', '1', ['A', '1', ['a', '1', ['A', '1', ['a', '1', ['A', '1', ['a', '1', ['A', '1', ['a', '1', ['A', '1', ['L', '1', ['l', '1', ['L', '1', ['l', '1', ['a', '1', ['A', '1', ['a', '1', ['I', '1', ['i', '1', ['A', '1', ['I', '1', ['i', '1', ['I', '1', ['i', '1', ['I', '1', ['i', '1', ['I', '1', ['i', '1', ['I', '1', ['i', '1', ['I', '1', ['i', '1', ['I', '1', ['i', '1', ['I', '1', ['i', '1', ['I', '1', ['i', '1', ['I', '1', ['i', '1', ['I', '1', ['i', '1', ['I', '1', ['i', '1', ['I', '1', ['i', '1', ['I', '1', ['i', '1', ['I', '1', ['i', '1', ['I', '1', ['i', '1', ['I', '1', ['L', '1', ['l', '1', ['a', '1', ['A', '1', ['a', '1', ['A', '1', ['a', '1', ['A', '1', ['a', '1', ['A', '1', ['k', '1']]]]]]]]]]]]]]]]]]]]]]]]]]]]]]]]]]]]]]]]]]]]]]]]]]]]]]]]]]]]]]]]]]]]]]]]]]]]]]]]]], ['L', '42', ['l', '27', ['a', '4', ['A', '4', ['a', '2', ['A', '2', ['a', '2', ['A', '2', ['a', '2', ['A', '2', ['a', '2', ['A', '2', ['a', '2', ['A', '2', ['a', '2', ['A', '2', ['a', '2', ['A', '2', ['a', '2', ['A', '2', ['a', '2', ['k', '1']]]]]]]]]]]]]]]]]]]]]], ['A', '20', ['a', '6', ['A', '6', ['a', '3', ['A', '3', ['a', '2', ['A', '2', ['k', '1']]]]]]]], ['k', '4391'], ['E', '4', ['e', '4', ['E', '3', ['e', '3', ['E', '3', ['e', '3', ['E', '3', ['e', '3', ['E', '2', ['e', '2', ['a', '1', ['A', '1', ['a', '1', ['A', '1', ['a', '1', ['A', '1', ['a', '1', ['A', '1', ['a', '1', ['A', '1', ['a', '1', ['A', '1', ['a', '1', ['A', '1', ['a', '1', ['k', '1']]]]]]]]]]]]]]]]]]]]]]]]]], ['C', '8', ['a', '2', ['A', '2', ['a', '2', ['A', '2', ['a', '2', ['A', '2', ['k', '1']]]]]]]], ['j', '1', ['L', '1', ['l', '1', ['L', '1', ['l', '1', ['L', '1', ['l', '1', ['L', '1', ['a', '1', ['l', '1', ['A', '1', ['L', '1', ['l', '1', ['L', '1', ['l', '1', ['L', '1', ['a', '1', ['A', '1', ['a', '1', ['l', '1', ['A', '1', ['L', '1', ['l', '1', ['L', '1', ['a', '1', ['l', '1', ['L', '1', ['A', '1', ['l', '1', ['L', '1', ['l', '1', ['k', '1']]]]]]]]]]]]]]]]]]]]]]]]]]]]]]]], ['J', '6', ['j', '6', ['k', '3']]], ['l', '14', ['a', '1', ['A', '1', ['a', '1', ['A', '1', ['a', '1', ['A', '1', ['a', '1', ['A', '1', ['a', '1', ['A', '1', ['a', '1', ['A', '1', ['a', '1', ['A', '1', ['a', '1', ['A', '1', ['a', '1', ['A', '1', ['a', '1', ['A', '1', ['L', '1', ['l', '1', ['L', '1', ['l', '1', ['L', '1', ['l', '1', ['k', '1']]]]]]]]]]]]]]]]]]]]]]]]]]]], ['I', '17', ['i', '10', ['I', '7', ['i', '7', ['I', '6', ['k', '1']]]]]], ['c', '6', ['C', '1', ['c', '1', ['C', '1', ['c', '1', ['L', '1', ['l', '1', ['L', '1', ['D', '1', ['d', '1', ['k', '1']]]]]]]]]]], ['D', '3', ['d', '3', ['D', '2', ['d', '2', ['l', '1', ['k', '1']]]]]], ['d', '5', ['l', '3', ['k', '1']]], ['F', '1', ['k', '1']], ['B', '3', ['L', '1', ['l', '1', ['L', '1', ['D', '1', ['d', '1', ['l', '1', ['L', '1', ['D', '1', ['d', '1', ['D', '1', ['d', '1', ['D', '1', ['d', '1', ['D', '1', ['d', '1', ['k', '1']]]]]]]]]]]]]]]]], ['h', '1', ['l', '1', ['L', '1', ['l', '1', ['b', '1', ['B', '1', ['L', '1', ['l', '1', ['b', '1', ['B', '1', ['L', '1', ['l', '1', ['L', '1', ['D', '1', ['d', '1', ['k', '1']]]]]]]]]]]]]]]], ['b', '2', ['B', '2', ['b', '1', ['k', '1']]]], ['i', '12', ['k', '10']]]\n",
      "J 269 [['j', '253'], ['K', '2', ['j', '1']], ['L', '12', ['j', '4']], ['d', '1', ['j', '1']], ['l', '3', ['j', '3']], ['a', '1', ['j', '1']]]\n",
      "H 42 [['h', '16'], ['D', '2', ['h', '1']], ['l', '6', ['h', '3']], ['L', '1', ['h', '1']], ['E', '4', ['h', '1']], ['K', '1', ['h', '1']], ['B', '1', ['l', '1', ['L', '1', ['h', '1']]]]]\n",
      "B 212 [['b', '42'], ['L', '59', ['l', '38', ['L', '19', ['l', '11', ['L', '4', ['l', '4', ['L', '3', ['l', '2', ['L', '2', ['l', '2', ['L', '2', ['b', '1']]]]]]]]]]]], ['i', '7', ['I', '6', ['i', '6', ['I', '6', ['i', '6', ['I', '6', ['i', '6', ['I', '6', ['i', '6', ['I', '6', ['i', '6', ['I', '6', ['i', '6', ['I', '6', ['i', '6', ['I', '6', ['i', '6', ['I', '6', ['i', '6', ['I', '6', ['i', '6', ['I', '6', ['i', '6', ['I', '6', ['i', '6', ['I', '6', ['i', '6', ['I', '5', ['i', '4', ['I', '4', ['i', '4', ['I', '4', ['i', '4', ['I', '3', ['i', '3', ['I', '3', ['i', '3', ['I', '3', ['i', '3', ['I', '3', ['i', '3', ['I', '3', ['i', '3', ['I', '2', ['i', '2', ['I', '2', ['i', '2', ['I', '2', ['i', '2', ['b', '1']]]]]]]]]]]]]]]]]]]]]]]]]]]]]]]]]]]]]]]]]]]]]]]]]], ['C', '47', ['c', '47', ['i', '5', ['I', '3', ['i', '3', ['I', '3', ['i', '3', ['I', '3', ['i', '3', ['I', '3', ['i', '3', ['I', '3', ['i', '3', ['I', '3', ['i', '3', ['I', '3', ['i', '3', ['I', '3', ['i', '3', ['I', '3', ['i', '3', ['I', '3', ['i', '3', ['I', '3', ['i', '3', ['I', '2', ['i', '2', ['I', '2', ['i', '2', ['I', '1', ['i', '1', ['I', '1', ['i', '1', ['I', '1', ['i', '1', ['I', '1', ['i', '1', ['I', '1', ['i', '1', ['I', '1', ['i', '1', ['I', '1', ['i', '1', ['I', '1', ['i', '1', ['I', '1', ['i', '1', ['I', '1', ['i', '1', ['I', '1', ['i', '1', ['I', '1', ['i', '1', ['I', '1', ['i', '1', ['I', '1', ['i', '1', ['I', '1', ['i', '1', ['I', '1', ['i', '1', ['I', '1', ['i', '1', ['I', '1', ['i', '1', ['I', '1', ['i', '1', ['I', '1', ['i', '1', ['I', '1', ['i', '1', ['I', '1', ['i', '1', ['I', '1', ['i', '1', ['C', '1', ['c', '1', ['b', '1']]]]]]]]]]]]]]]]]]]]]]]]]]]]]]]]]]]]]]]]]]]]]]]]]]]]]]]]]]]]]]]]]]]]]]]]]]]]]], ['J', '13', ['j', '13', ['J', '5', ['j', '5', ['b', '3']]]]], ['I', '5', ['i', '5', ['I', '5', ['i', '5', ['I', '5', ['i', '5', ['I', '5', ['i', '5', ['I', '5', ['i', '5', ['I', '5', ['i', '5', ['I', '5', ['i', '5', ['I', '5', ['i', '5', ['I', '5', ['i', '5', ['I', '5', ['i', '4', ['I', '4', ['i', '4', ['I', '4', ['i', '4', ['I', '4', ['i', '4', ['I', '4', ['i', '4', ['I', '4', ['i', '4', ['I', '4', ['i', '4', ['I', '4', ['i', '4', ['I', '4', ['i', '4', ['I', '4', ['i', '4', ['I', '4', ['i', '4', ['I', '4', ['i', '4', ['I', '4', ['i', '4', ['I', '4', ['i', '4', ['I', '4', ['b', '1']]]]]]]]]]]]]]]]]]]]]]]]]]]]]]]]]]]]]]]]]]]]]]]], ['D', '6', ['d', '6', ['E', '2', ['D', '1', ['e', '1', ['d', '1', ['E', '1', ['e', '1', ['E', '1', ['e', '1', ['E', '1', ['e', '1', ['E', '1', ['e', '1', ['E', '1', ['e', '1', ['D', '1', ['E', '1', ['e', '1', ['d', '1', ['E', '1', ['e', '1', ['E', '1', ['e', '1', ['E', '1', ['e', '1', ['D', '1', ['d', '1', ['l', '1', ['E', '1', ['e', '1', ['E', '1', ['e', '1', ['E', '1', ['e', '1', ['b', '1']]]]]]]]]]]]]]]]]]]]]]]]]]]]]]]]]]]], ['c', '6', ['L', '1', ['l', '1', ['b', '1']]]], ['l', '6', ['L', '5', ['D', '1', ['d', '1', ['l', '1', ['b', '1']]]]]], ['E', '1', ['e', '1', ['E', '1', ['e', '1', ['E', '1', ['D', '1', ['d', '1', ['e', '1', ['E', '1', ['e', '1', ['E', '1', ['e', '1', ['D', '1', ['d', '1', ['E', '1', ['e', '1', ['E', '1', ['e', '1', ['E', '1', ['e', '1', ['l', '1', ['L', '1', ['E', '1', ['e', '1', ['E', '1', ['e', '1', ['l', '1', ['L', '1', ['l', '1', ['L', '1', ['l', '1', ['E', '1', ['e', '1', ['E', '1', ['e', '1', ['J', '1', ['j', '1', ['L', '1', ['l', '1', ['J', '1', ['j', '1', ['b', '1']]]]]]]]]]]]]]]]]]]]]]]]]]]]]]]]]]]]]]]]]], ['K', '8', ['k', '8', ['J', '1', ['j', '1', ['J', '1', ['j', '1', ['I', '1', ['i', '1', ['I', '1', ['i', '1', ['I', '1', ['i', '1', ['I', '1', ['i', '1', ['I', '1', ['i', '1', ['I', '1', ['i', '1', ['I', '1', ['i', '1', ['I', '1', ['i', '1', ['I', '1', ['i', '1', ['I', '1', ['i', '1', ['I', '1', ['i', '1', ['I', '1', ['i', '1', ['I', '1', ['i', '1', ['I', '1', ['i', '1', ['I', '1', ['i', '1', ['I', '1', ['i', '1', ['I', '1', ['i', '1', ['I', '1', ['i', '1', ['I', '1', ['i', '1', ['I', '1', ['i', '1', ['I', '1', ['i', '1', ['I', '1', ['i', '1', ['I', '1', ['i', '1', ['I', '1', ['i', '1', ['I', '1', ['i', '1', ['I', '1', ['i', '1', ['I', '1', ['i', '1', ['I', '1', ['i', '1', ['I', '1', ['i', '1', ['I', '1', ['i', '1', ['I', '1', ['i', '1', ['I', '1', ['i', '1', ['I', '1', ['i', '1', ['I', '1', ['i', '1', ['I', '1', ['K', '1', ['k', '1', ['K', '1', ['k', '1', ['K', '1', ['k', '1', ['K', '1', ['k', '1', ['K', '1', ['k', '1', ['K', '1', ['k', '1', ['K', '1', ['k', '1', ['K', '1', ['k', '1', ['K', '1', ['k', '1', ['K', '1', ['k', '1', ['K', '1', ['k', '1', ['K', '1', ['k', '1', ['K', '1', ['k', '1', ['K', '1', ['k', '1', ['K', '1', ['k', '1', ['K', '1', ['k', '1', ['K', '1', ['k', '1', ['K', '1', ['k', '1', ['K', '1', ['k', '1', ['K', '1', ['k', '1', ['K', '1', ['k', '1', ['K', '1', ['k', '1', ['K', '1', ['k', '1', ['K', '1', ['k', '1', ['K', '1', ['k', '1', ['K', '1', ['k', '1', ['K', '1', ['k', '1', ['K', '1', ['k', '1', ['K', '1', ['k', '1', ['K', '1', ['k', '1', ['K', '1', ['k', '1', ['K', '1', ['k', '1', ['K', '1', ['k', '1', ['K', '1', ['k', '1', ['K', '1', ['k', '1', ['K', '1', ['k', '1', ['K', '1', ['k', '1', ['K', '1', ['k', '1', ['K', '1', ['k', '1', ['K', '1', ['k', '1', ['K', '1', ['k', '1', ['K', '1', ['k', '1', ['K', '1', ['k', '1', ['K', '1', ['k', '1', ['K', '1', ['k', '1', ['K', '1', ['k', '1', ['K', '1', ['k', '1', ['K', '1', ['k', '1', ['K', '1', ['k', '1', ['K', '1', ['k', '1', ['K', '1', ['k', '1', ['K', '1', ['k', '1', ['K', '1', ['k', '1', ['K', '1', ['k', '1', ['K', '1', ['k', '1', ['K', '1', ['k', '1', ['K', '1', ['k', '1', ['K', '1', ['k', '1', ['K', '1', ['k', '1', ['K', '1', ['k', '1', ['K', '1', ['k', '1', ['K', '1', ['k', '1', ['K', '1', ['k', '1', ['K', '1', ['k', '1', ['K', '1', ['k', '1', ['K', '1', ['k', '1', ['K', '1', ['k', '1', ['K', '1', ['k', '1', ['K', '1', ['k', '1', ['K', '1', ['k', '1', ['K', '1', ['k', '1', ['K', '1', ['k', '1', ['K', '1', ['k', '1', ['K', '1', ['k', '1', ['K', '1', ['k', '1', ['K', '1', ['k', '1', ['K', '1', ['k', '1', ['K', '1', ['k', '1', ['K', '1', ['k', '1', ['K', '1', ['k', '1', ['K', '1', ['k', '1', ['K', '1', ['k', '1', ['K', '1', ['k', '1', ['K', '1', ['k', '1', ['K', '1', ['k', '1', ['K', '1', ['k', '1', ['K', '1', ['k', '1', ['K', '1', ['k', '1', ['K', '1', ['k', '1', ['K', '1', ['k', '1', ['K', '1', ['k', '1', ['K', '1', ['k', '1', ['K', '1', ['k', '1', ['K', '1', ['k', '1', ['K', '1', ['k', '1', ['K', '1', ['k', '1', ['K', '1', ['k', '1', ['K', '1', ['k', '1', ['K', '1', ['k', '1', ['K', '1', ['k', '1', ['K', '1', ['k', '1', ['K', '1', ['k', '1', ['K', '1', ['k', '1', ['K', '1', ['k', '1', ['K', '1', ['k', '1', ['K', '1', ['k', '1', ['K', '1', ['k', '1', ['K', '1', ['k', '1', ['K', '1', ['k', '1', ['K', '1', ['k', '1', ['K', '1', ['k', '1', ['K', '1', ['k', '1', ['K', '1', ['k', '1', ['K', '1', ['k', '1', ['K', '1', ['k', '1', ['K', '1', ['k', '1', ['K', '1', ['k', '1', ['K', '1', ['k', '1', ['K', '1', ['k', '1', ['K', '1', ['k', '1', ['K', '1', ['k', '1', ['K', '1', ['k', '1', ['K', '1', ['k', '1', ['K', '1', ['k', '1', ['K', '1', ['k', '1', ['K', '1', ['k', '1', ['K', '1', ['k', '1', ['K', '1', ['k', '1', ['K', '1', ['k', '1', ['K', '1', ['k', '1', ['K', '1', ['k', '1', ['K', '1', ['k', '1', ['K', '1', ['k', '1', ['K', '1', ['k', '1', ['K', '1', ['k', '1', ['K', '1', ['k', '1', ['K', '1', ['k', '1', ['K', '1', ['k', '1', ['K', '1', ['k', '1', ['K', '1', ['k', '1', ['K', '1', ['k', '1', ['K', '1', ['k', '1', ['K', '1', ['k', '1', ['K', '1', ['k', '1', ['K', '1', ['k', '1', ['K', '1', ['k', '1', ['K', '1', ['k', '1', ['K', '1', ['k', '1', ['K', '1', ['k', '1', ['K', '1', ['k', '1', ['K', '1', ['k', '1', ['K', '1', ['k', '1', ['K', '1', ['k', '1', ['K', '1', ['k', '1', ['K', '1', ['k', '1', ['K', '1', ['k', '1', ['K', '1', ['k', '1', ['K', '1', ['k', '1', ['K', '1', ['k', '1', ['K', '1', ['k', '1', ['K', '1', ['k', '1', ['K', '1', ['k', '1', ['K', '1', ['k', '1', ['K', '1', ['k', '1', ['K', '1', ['k', '1', ['K', '1', ['k', '1', ['K', '1', ['k', '1', ['K', '1', ['k', '1', ['K', '1', ['k', '1', ['K', '1', ['k', '1', ['K', '1', ['k', '1', ['K', '1', ['k', '1', ['K', '1', ['k', '1', ['K', '1', ['k', '1', ['K', '1', ['k', '1', ['K', '1', ['k', '1', ['K', '1', ['k', '1', ['K', '1', ['k', '1', ['K', '1', ['k', '1', ['K', '1', ['k', '1', ['K', '1', ['k', '1', ['K', '1', ['k', '1', ['K', '1', ['k', '1', ['K', '1', ['k', '1', ['K', '1', ['k', '1', ['K', '1', ['k', '1', ['K', '1', ['k', '1', ['K', '1', ['k', '1', ['K', '1', ['k', '1', ['K', '1', ['k', '1', ['K', '1', ['k', '1', ['K', '1', ['k', '1', ['K', '1', ['k', '1', ['K', '1', ['k', '1', ['K', '1', ['k', '1', ['K', '1', ['k', '1', ['K', '1', ['k', '1', ['K', '1', ['k', '1', ['K', '1', ['k', '1', ['K', '1', ['k', '1', ['K', '1', ['k', '1', ['K', '1', ['k', '1', ['K', '1', ['k', '1', ['K', '1', ['k', '1', ['K', '1', ['k', '1', ['K', '1', ['k', '1', ['K', '1', ['k', '1', ['K', '1', ['k', '1', ['K', '1', ['k', '1', ['K', '1', ['k', '1', ['K', '1', ['k', '1', ['K', '1', ['k', '1', ['K', '1', ['k', '1', ['K', '1', ['k', '1', ['K', '1', ['k', '1', ['K', '1', ['k', '1', ['K', '1', ['k', '1', ['K', '1', ['k', '1', ['K', '1', ['k', '1', ['K', '1', ['k', '1', ['K', '1', ['k', '1', ['K', '1', ['k', '1', ['K', '1', ['k', '1', ['K', '1', ['k', '1', ['K', '1', ['k', '1', ['K', '1', ['k', '1', ['K', '1', ['k', '1', ['K', '1', ['k', '1', ['K', '1', ['k', '1', ['K', '1', ['k', '1', ['K', '1', ['k', '1', ['K', '1', ['k', '1', ['K', '1', ['k', '1', ['K', '1', ['k', '1', ['K', '1', ['k', '1', ['K', '1', ['k', '1', ['K', '1', ['k', '1', ['K', '1', ['k', '1', ['K', '1', ['k', '1', ['K', '1', ['k', '1', ['K', '1', ['k', '1', ['K', '1', ['k', '1', ['K', '1', ['k', '1', ['K', '1', ['k', '1', ['K', '1', ['k', '1', ['K', '1', ['k', '1', ['K', '1', ['k', '1', ['K', '1', ['k', '1', ['K', '1', ['k', '1', ['K', '1', ['k', '1', ['K', '1', ['k', '1', ['K', '1', ['k', '1', ['K', '1', ['k', '1', ['K', '1', ['k', '1', ['K', '1', ['k', '1', ['K', '1', ['k', '1', ['K', '1', ['k', '1', ['K', '1', ['k', '1', ['K', '1', ['k', '1', ['K', '1', ['k', '1', ['K', '1', ['k', '1', ['K', '1', ['k', '1', ['K', '1', ['k', '1', ['K', '1', ['k', '1', ['K', '1', ['k', '1', ['K', '1', ['k', '1', ['K', '1', ['k', '1', ['K', '1', ['k', '1', ['K', '1', ['k', '1', ['K', '1', ['k', '1', ['K', '1', ['k', '1', ['K', '1', ['k', '1', ['K', '1', ['k', '1', ['K', '1', ['k', '1', ['K', '1', ['k', '1', ['K', '1', ['k', '1', ['K', '1', ['k', '1', ['K', '1', ['k', '1', ['K', '1', ['k', '1', ['K', '1', ['k', '1', ['K', '1', ['k', '1', ['K', '1', ['k', '1', ['K', '1', ['k', '1', ['K', '1', ['k', '1', ['K', '1', ['k', '1', ['K', '1', ['k', '1', ['K', '1', ['k', '1', ['K', '1', ['k', '1', ['K', '1', ['k', '1', ['K', '1', ['k', '1', ['K', '1', ['k', '1', ['K', '1', ['k', '1', ['K', '1', ['k', '1', ['K', '1', ['k', '1', ['K', '1', ['k', '1', ['K', '1', ['k', '1', ['K', '1', ['k', '1', ['K', '1', ['k', '1', ['K', '1', ['k', '1', ['K', '1', ['k', '1', ['K', '1', ['k', '1', ['K', '1', ['k', '1', ['K', '1', ['k', '1', ['K', '1', ['k', '1', ['K', '1', ['k', '1', ['K', '1', ['k', '1', ['K', '1', ['k', '1', ['K', '1', ['k', '1', ['K', '1', ['k', '1', ['K', '1', ['k', '1', ['K', '1', ['k', '1', ['K', '1', ['k', '1', ['K', '1', ['k', '1', ['K', '1', ['k', '1', ['K', '1', ['k', '1', ['K', '1', ['k', '1', ['K', '1', ['k', '1', ['K', '1', ['k', '1', ['K', '1', ['k', '1', ['K', '1', ['k', '1', ['K', '1', ['k', '1', ['K', '1', ['k', '1', ['K', '1', ['J', '1', ['j', '1', ['b', '1']]]]]]]]]]]]]]]]]]]]]]]]]]]]]]]]]]]]]]]]]]]]]]]]]]]]]]]]]]]]]]]]]]]]]]]]]]]]]]]]]]]]]]]]]]]]]]]]]]]]]]]]]]]]]]]]]]]]]]]]]]]]]]]]]]]]]]]]]]]]]]]]]]]]]]]]]]]]]]]]]]]]]]]]]]]]]]]]]]]]]]]]]]]]]]]]]]]]]]]]]]]]]]]]]]]]]]]]]]]]]]]]]]]]]]]]]]]]]]]]]]]]]]]]]]]]]]]]]]]]]]]]]]]]]]]]]]]]]]]]]]]]]]]]]]]]]]]]]]]]]]]]]]]]]]]]]]]]]]]]]]]]]]]]]]]]]]]]]]]]]]]]]]]]]]]]]]]]]]]]]]]]]]]]]]]]]]]]]]]]]]]]]]]]]]]]]]]]]]]]]]]]]]]]]]]]]]]]]]]]]]]]]]]]]]]]]]]]]]]]]]]]]]]]]]]]]]]]]]]]]]]]]]]]]]]]]]]]]]]]]]]]]]]]]]]]]]]]]]]]]]]]]]]]]]]]]]]]]]]]]]]]]]]]]]]]]]]]]]]]]]]]]]]]]]]]]]]]]]]]]]]]]]]]]]]]]]]]]]]]]]]]]]]]]]]]]]]]]]]]]]]]]]]]]]]]]]]]]]]]]]]]]]]]]]]]]]]]]]]]]]]]]]]]]]]]]]]]]]]]]]]]]]]]]]]]]]]]]]]]]]]]]]]]]]]]]]]]]]]]]]]]]]]]]]]]]]]]]]]]]]], ['k', '4', ['K', '3', ['L', '1', ['l', '1', ['L', '1', ['D', '1', ['d', '1', ['k', '1', ['l', '1', ['K', '1', ['L', '1', ['l', '1', ['L', '1', ['l', '1', ['L', '1', ['l', '1', ['L', '1', ['H', '1', ['D', '1', ['d', '1', ['h', '1', ['l', '1', ['k', '1', ['K', '1', ['L', '1', ['l', '1', ['L', '1', ['l', '1', ['k', '1', ['J', '1', ['j', '1', ['J', '1', ['j', '1', ['K', '1', ['L', '1', ['k', '1', ['l', '1', ['K', '1', ['L', '1', ['l', '1', ['L', '1', ['l', '1', ['L', '1', ['l', '1', ['k', '1', ['K', '1', ['k', '1', ['K', '1', ['L', '1', ['l', '1', ['k', '1', ['b', '1']]]]]]]]]]]]]]]]]]]]]]]]]]]]]]]]]]]]]]]]]]]]]]]]]]]]]\n"
     ]
    }
   ]
  },
  {
   "cell_type": "code",
   "source": [
    "root, *tail = the_tree_for_show\n",
    "tree = Tree()\n",
    "node = Node(root)\n",
    "tree.add_node(node)\n",
    "\n",
    "q = [[node, *tail]]\n",
    "while q:\n",
    "    parent, *children = q.pop()\n",
    "    for child in children:\n",
    "        if isinstance(child, list):\n",
    "            head, *tail = child\n",
    "            node = tree.create_node(head, parent=parent)\n",
    "            q.append([node, *tail])\n",
    "        else:\n",
    "            tree.create_node(child, parent=parent)\n",
    "tree.show()"
   ],
   "metadata": {
    "colab": {
     "base_uri": "https://localhost:8080/",
     "height": 346
    },
    "id": "HL_sIWmkCdQq",
    "executionInfo": {
     "status": "error",
     "timestamp": 1643538924350,
     "user_tz": -60,
     "elapsed": 383,
     "user": {
      "displayName": "Seminar ahmias",
      "photoUrl": "https://lh3.googleusercontent.com/a/default-user=s64",
      "userId": "08863251838733967153"
     }
    },
    "outputId": "1027eee5-0bff-49da-db6c-423112dcd7b0"
   },
   "execution_count": 34,
   "outputs": [
    {
     "output_type": "error",
     "ename": "TypeError",
     "evalue": "ignored",
     "traceback": [
      "\u001B[0;31m---------------------------------------------------------------------------\u001B[0m",
      "\u001B[0;31mTypeError\u001B[0m                                 Traceback (most recent call last)",
      "\u001B[0;32m<ipython-input-34-64fb7e9cbec0>\u001B[0m in \u001B[0;36m<module>\u001B[0;34m()\u001B[0m\n\u001B[1;32m     14\u001B[0m         \u001B[0;32melse\u001B[0m\u001B[0;34m:\u001B[0m\u001B[0;34m\u001B[0m\u001B[0;34m\u001B[0m\u001B[0m\n\u001B[1;32m     15\u001B[0m             \u001B[0mtree\u001B[0m\u001B[0;34m.\u001B[0m\u001B[0mcreate_node\u001B[0m\u001B[0;34m(\u001B[0m\u001B[0mchild\u001B[0m\u001B[0;34m,\u001B[0m \u001B[0mparent\u001B[0m\u001B[0;34m=\u001B[0m\u001B[0mparent\u001B[0m\u001B[0;34m)\u001B[0m\u001B[0;34m\u001B[0m\u001B[0;34m\u001B[0m\u001B[0m\n\u001B[0;32m---> 16\u001B[0;31m \u001B[0mtree\u001B[0m\u001B[0;34m.\u001B[0m\u001B[0mshow\u001B[0m\u001B[0;34m(\u001B[0m\u001B[0;34m)\u001B[0m\u001B[0;34m\u001B[0m\u001B[0;34m\u001B[0m\u001B[0m\n\u001B[0m",
      "\u001B[0;32m/usr/local/lib/python3.7/dist-packages/treelib/tree.py\u001B[0m in \u001B[0;36mshow\u001B[0;34m(self, nid, level, idhidden, filter, key, reverse, line_type, data_property, stdout)\u001B[0m\n\u001B[1;32m    847\u001B[0m         \u001B[0;32mtry\u001B[0m\u001B[0;34m:\u001B[0m\u001B[0;34m\u001B[0m\u001B[0;34m\u001B[0m\u001B[0m\n\u001B[1;32m    848\u001B[0m             self.__print_backend(nid, level, idhidden, filter,\n\u001B[0;32m--> 849\u001B[0;31m                                  key, reverse, line_type, data_property, func=write)\n\u001B[0m\u001B[1;32m    850\u001B[0m         \u001B[0;32mexcept\u001B[0m \u001B[0mNodeIDAbsentError\u001B[0m\u001B[0;34m:\u001B[0m\u001B[0;34m\u001B[0m\u001B[0;34m\u001B[0m\u001B[0m\n\u001B[1;32m    851\u001B[0m             \u001B[0mprint\u001B[0m\u001B[0;34m(\u001B[0m\u001B[0;34m'Tree is empty'\u001B[0m\u001B[0;34m)\u001B[0m\u001B[0;34m\u001B[0m\u001B[0;34m\u001B[0m\u001B[0m\n",
      "\u001B[0;32m/usr/local/lib/python3.7/dist-packages/treelib/tree.py\u001B[0m in \u001B[0;36m__print_backend\u001B[0;34m(self, nid, level, idhidden, filter, key, reverse, line_type, data_property, func)\u001B[0m\n\u001B[1;32m    218\u001B[0m         \u001B[0;31m# iter with func\u001B[0m\u001B[0;34m\u001B[0m\u001B[0;34m\u001B[0m\u001B[0;34m\u001B[0m\u001B[0m\n\u001B[1;32m    219\u001B[0m         for pre, node in self.__get(nid, level, filter, key, reverse,\n\u001B[0;32m--> 220\u001B[0;31m                                     line_type):\n\u001B[0m\u001B[1;32m    221\u001B[0m             \u001B[0mlabel\u001B[0m \u001B[0;34m=\u001B[0m \u001B[0mget_label\u001B[0m\u001B[0;34m(\u001B[0m\u001B[0mnode\u001B[0m\u001B[0;34m)\u001B[0m\u001B[0;34m\u001B[0m\u001B[0;34m\u001B[0m\u001B[0m\n\u001B[1;32m    222\u001B[0m             \u001B[0mfunc\u001B[0m\u001B[0;34m(\u001B[0m\u001B[0;34m'{0}{1}'\u001B[0m\u001B[0;34m.\u001B[0m\u001B[0mformat\u001B[0m\u001B[0;34m(\u001B[0m\u001B[0mpre\u001B[0m\u001B[0;34m,\u001B[0m \u001B[0mlabel\u001B[0m\u001B[0;34m)\u001B[0m\u001B[0;34m.\u001B[0m\u001B[0mencode\u001B[0m\u001B[0;34m(\u001B[0m\u001B[0;34m'utf-8'\u001B[0m\u001B[0;34m)\u001B[0m\u001B[0;34m)\u001B[0m\u001B[0;34m\u001B[0m\u001B[0;34m\u001B[0m\u001B[0m\n",
      "\u001B[0;32m/usr/local/lib/python3.7/dist-packages/treelib/tree.py\u001B[0m in \u001B[0;36m__get_iter\u001B[0;34m(self, nid, level, filter_, key, reverse, dt, is_last)\u001B[0m\n\u001B[1;32m    268\u001B[0m                 \u001B[0mis_last\u001B[0m\u001B[0;34m.\u001B[0m\u001B[0mappend\u001B[0m\u001B[0;34m(\u001B[0m\u001B[0midx\u001B[0m \u001B[0;34m==\u001B[0m \u001B[0midxlast\u001B[0m\u001B[0;34m)\u001B[0m\u001B[0;34m\u001B[0m\u001B[0;34m\u001B[0m\u001B[0m\n\u001B[1;32m    269\u001B[0m                 for item in self.__get_iter(child.identifier, level, filter_,\n\u001B[0;32m--> 270\u001B[0;31m                                             key, reverse, dt, is_last):\n\u001B[0m\u001B[1;32m    271\u001B[0m                     \u001B[0;32myield\u001B[0m \u001B[0mitem\u001B[0m\u001B[0;34m\u001B[0m\u001B[0;34m\u001B[0m\u001B[0m\n\u001B[1;32m    272\u001B[0m                 \u001B[0mis_last\u001B[0m\u001B[0;34m.\u001B[0m\u001B[0mpop\u001B[0m\u001B[0;34m(\u001B[0m\u001B[0;34m)\u001B[0m\u001B[0;34m\u001B[0m\u001B[0;34m\u001B[0m\u001B[0m\n",
      "\u001B[0;32m/usr/local/lib/python3.7/dist-packages/treelib/tree.py\u001B[0m in \u001B[0;36m__get_iter\u001B[0;34m(self, nid, level, filter_, key, reverse, dt, is_last)\u001B[0m\n\u001B[1;32m    261\u001B[0m             \u001B[0midxlast\u001B[0m \u001B[0;34m=\u001B[0m \u001B[0mlen\u001B[0m\u001B[0;34m(\u001B[0m\u001B[0mchildren\u001B[0m\u001B[0;34m)\u001B[0m \u001B[0;34m-\u001B[0m \u001B[0;36m1\u001B[0m\u001B[0;34m\u001B[0m\u001B[0;34m\u001B[0m\u001B[0m\n\u001B[1;32m    262\u001B[0m             \u001B[0;32mif\u001B[0m \u001B[0mkey\u001B[0m\u001B[0;34m:\u001B[0m\u001B[0;34m\u001B[0m\u001B[0;34m\u001B[0m\u001B[0m\n\u001B[0;32m--> 263\u001B[0;31m                 \u001B[0mchildren\u001B[0m\u001B[0;34m.\u001B[0m\u001B[0msort\u001B[0m\u001B[0;34m(\u001B[0m\u001B[0mkey\u001B[0m\u001B[0;34m=\u001B[0m\u001B[0mkey\u001B[0m\u001B[0;34m,\u001B[0m \u001B[0mreverse\u001B[0m\u001B[0;34m=\u001B[0m\u001B[0mreverse\u001B[0m\u001B[0;34m)\u001B[0m\u001B[0;34m\u001B[0m\u001B[0;34m\u001B[0m\u001B[0m\n\u001B[0m\u001B[1;32m    264\u001B[0m             \u001B[0;32melif\u001B[0m \u001B[0mreverse\u001B[0m\u001B[0;34m:\u001B[0m\u001B[0;34m\u001B[0m\u001B[0;34m\u001B[0m\u001B[0m\n\u001B[1;32m    265\u001B[0m                 \u001B[0mchildren\u001B[0m \u001B[0;34m=\u001B[0m \u001B[0mreversed\u001B[0m\u001B[0;34m(\u001B[0m\u001B[0mchildren\u001B[0m\u001B[0;34m)\u001B[0m\u001B[0;34m\u001B[0m\u001B[0;34m\u001B[0m\u001B[0m\n",
      "\u001B[0;32m/usr/local/lib/python3.7/dist-packages/treelib/node.py\u001B[0m in \u001B[0;36m__lt__\u001B[0;34m(self, other)\u001B[0m\n\u001B[1;32m     73\u001B[0m \u001B[0;34m\u001B[0m\u001B[0m\n\u001B[1;32m     74\u001B[0m     \u001B[0;32mdef\u001B[0m \u001B[0m__lt__\u001B[0m\u001B[0;34m(\u001B[0m\u001B[0mself\u001B[0m\u001B[0;34m,\u001B[0m \u001B[0mother\u001B[0m\u001B[0;34m)\u001B[0m\u001B[0;34m:\u001B[0m\u001B[0;34m\u001B[0m\u001B[0;34m\u001B[0m\u001B[0m\n\u001B[0;32m---> 75\u001B[0;31m         \u001B[0;32mreturn\u001B[0m \u001B[0mself\u001B[0m\u001B[0;34m.\u001B[0m\u001B[0mtag\u001B[0m \u001B[0;34m<\u001B[0m \u001B[0mother\u001B[0m\u001B[0;34m.\u001B[0m\u001B[0mtag\u001B[0m\u001B[0;34m\u001B[0m\u001B[0;34m\u001B[0m\u001B[0m\n\u001B[0m\u001B[1;32m     76\u001B[0m \u001B[0;34m\u001B[0m\u001B[0m\n\u001B[1;32m     77\u001B[0m     \u001B[0;32mdef\u001B[0m \u001B[0mset_initial_tree_id\u001B[0m\u001B[0;34m(\u001B[0m\u001B[0mself\u001B[0m\u001B[0;34m,\u001B[0m \u001B[0mtree_id\u001B[0m\u001B[0;34m)\u001B[0m\u001B[0;34m:\u001B[0m\u001B[0;34m\u001B[0m\u001B[0;34m\u001B[0m\u001B[0m\n",
      "\u001B[0;31mTypeError\u001B[0m: '<' not supported between instances of 'list' and 'str'"
     ]
    }
   ]
  },
  {
   "cell_type": "markdown",
   "source": [
    "#Prediction with reference to tree"
   ],
   "metadata": {
    "id": "urDMR4y4CjD3"
   }
  },
  {
   "cell_type": "code",
   "source": [
    "def stored_for_prob(target_count_in_term_node, check_seq, target, the_tree):\n",
    "  for root in the_tree:\n",
    "    if root[0] == check_seq[0]:\n",
    "      #print(root[0], root)\n",
    "      root_subtree = root\n",
    "      #print(\"branches to\", root[0], \":\", len(root[2]))\n",
    "\n",
    "      check_subseq = check_seq[1:]\n",
    "      counter = len(check_subseq)\n",
    "      check_layer = root[2]\n",
    "\n",
    "      while counter != -1:\n",
    "        #print(\"counter: \", counter, \"check_subseq: \", check_subseq, \"check layer: \", check_layer)\n",
    "        for id, thing in enumerate(check_layer):\n",
    "          if counter == 0:\n",
    "            if thing == target:\n",
    "              #print(\"target: \", thing, check_layer[id+1])\n",
    "              target_count_in_term_node = check_layer[id+1]\n",
    "              break\n",
    "          \n",
    "          if type(thing) == str:\n",
    "            if thing == check_subseq[0]:\n",
    "              #print(\"found match: \", thing, \"in node\", check_layer)\n",
    "              # store numbers\n",
    "              store_for_prob.append((thing, check_layer[1]))\n",
    "              #print(\"append:\", (thing, check_layer[1]))\n",
    "          elif type(thing) == int:\n",
    "            continue\n",
    "          elif type(thing[-1]) == list:\n",
    "            if thing[0] == check_subseq[0]:\n",
    "              check_layer = thing[2]\n",
    "              #print(\"found match: \", thing)\n",
    "              # store nums\n",
    "              store_for_prob.append((thing[0],thing[1]))\n",
    "              #print(\"append:\", (thing[0],thing[1]))\n",
    "        check_subseq = check_subseq[1:]\n",
    "        counter -= 1\n",
    "  return(store_for_prob, target_count_in_term_node, root_subtree)"
   ],
   "metadata": {
    "id": "ZVZlmmr6CyuN",
    "executionInfo": {
     "status": "ok",
     "timestamp": 1643540639000,
     "user_tz": -60,
     "elapsed": 221,
     "user": {
      "displayName": "Seminar ahmias",
      "photoUrl": "https://lh3.googleusercontent.com/a/default-user=s64",
      "userId": "08863251838733967153"
     }
    }
   },
   "execution_count": 87,
   "outputs": []
  },
  {
   "cell_type": "code",
   "source": [
    "def prob(root, target, check_seq, stored_for_prob):\n",
    "  target_in_all_nodes = count_of_all_nodes[target]/total_count_of_nodes\n",
    "  prob = (target_count_in_term_node/root_subtree[1])*target_in_all_nodes\n",
    "  prob_output = prob\n",
    "\n",
    "  for item in store_for_prob:\n",
    "    new_prob = (target_count_in_term_node/item[1])*prob_output\n",
    "    #print(item, \"update:\", target_count_in_term_node, \"/\", item[1], \"*\", prob_output)\n",
    "    prob_output = new_prob\n",
    "    #print(\"prob:\" , prob_output)\n",
    "\n",
    "  return prob_output"
   ],
   "metadata": {
    "id": "XXPqibm5C_zf",
    "executionInfo": {
     "status": "ok",
     "timestamp": 1643540814355,
     "user_tz": -60,
     "elapsed": 262,
     "user": {
      "displayName": "Seminar ahmias",
      "photoUrl": "https://lh3.googleusercontent.com/a/default-user=s64",
      "userId": "08863251838733967153"
     }
    }
   },
   "execution_count": 101,
   "outputs": []
  },
  {
   "cell_type": "code",
   "source": [
    "def prob_of_target(check_seq, target, the_tree, total_count_of_nodes):\n",
    "  root = check_seq[0]\n",
    "  root_subtree = list()\n",
    "  store_for_prob = list()\n",
    "  target_count_in_term_node = 0\n",
    "\n",
    "  store_for_prob, target_count_in_term_node, root_subtree = stored_for_prob(target_count_in_term_node, check_seq, target, the_tree)\n",
    "\n",
    "  target_in_all_nodes = count_of_all_nodes[target]/total_count_of_nodes\n",
    "  #print(target_in_all_nodes)\n",
    "  '''\n",
    "  print(\"Given sequence:\", check_seq)\n",
    "  print(\"Predict probability for:\", target)\n",
    "  print(\"subtree node counts stored for calculation:\", store_for_prob)\n",
    "  print(\"total number of nodes in the tree:\", total_count_of_nodes)\n",
    "  print(\"count of target node following the subtree:\", target_count_in_term_node)\n",
    "  print(\"count of target in the entire tree:\", count_of_all_nodes[target])\n",
    "  print(root_subtree[0], root_subtree[1], len(root_subtree[2]))\n",
    "  '''\n",
    "\n",
    "  prob_output = prob(root, target, check_seq, stored_for_prob)\n",
    "\n",
    "  return prob_output"
   ],
   "metadata": {
    "id": "LOdTgXzDk7aV",
    "executionInfo": {
     "status": "ok",
     "timestamp": 1643540858711,
     "user_tz": -60,
     "elapsed": 222,
     "user": {
      "displayName": "Seminar ahmias",
      "photoUrl": "https://lh3.googleusercontent.com/a/default-user=s64",
      "userId": "08863251838733967153"
     }
    }
   },
   "execution_count": 104,
   "outputs": []
  },
  {
   "cell_type": "code",
   "source": [
    "'''\n",
    "check_seq = \"LiDd\"\n",
    "target = \"l\"\n",
    "root_subtree = list()\n",
    "\n",
    "store_for_prob = list()\n",
    "target_count_in_term_node = 0\n",
    "'''"
   ],
   "metadata": {
    "colab": {
     "base_uri": "https://localhost:8080/",
     "height": 35
    },
    "id": "vktMW6_VC4AP",
    "executionInfo": {
     "status": "ok",
     "timestamp": 1643539632429,
     "user_tz": -60,
     "elapsed": 564,
     "user": {
      "displayName": "Seminar ahmias",
      "photoUrl": "https://lh3.googleusercontent.com/a/default-user=s64",
      "userId": "08863251838733967153"
     }
    },
    "outputId": "4466ad38-31b5-4645-90ee-35c2958e0aea"
   },
   "execution_count": 54,
   "outputs": [
    {
     "output_type": "execute_result",
     "data": {
      "application/vnd.google.colaboratory.intrinsic+json": {
       "type": "string"
      },
      "text/plain": [
       "'\\ncheck_seq = \"LiDd\"\\ntarget = \"l\"\\nroot_subtree = list()\\n\\nstore_for_prob = list()\\ntarget_count_in_term_node = 0\\n'"
      ]
     },
     "metadata": {},
     "execution_count": 54
    }
   ]
  },
  {
   "cell_type": "code",
   "source": [
    "'''\n",
    "store_for_prob, target_count_in_term_node, root_subtree = stored_for_prob(target_count_in_term_node, check_seq, target, the_tree)\n",
    "print(store_for_prob)\n",
    "print(target_count_in_term_node)\n",
    "'''"
   ],
   "metadata": {
    "colab": {
     "base_uri": "https://localhost:8080/",
     "height": 53
    },
    "id": "VxG7qrLXC6nw",
    "executionInfo": {
     "status": "ok",
     "timestamp": 1643540107584,
     "user_tz": -60,
     "elapsed": 378,
     "user": {
      "displayName": "Seminar ahmias",
      "photoUrl": "https://lh3.googleusercontent.com/a/default-user=s64",
      "userId": "08863251838733967153"
     }
    },
    "outputId": "6278a777-99b8-4352-cd35-478834a42fef"
   },
   "execution_count": 71,
   "outputs": [
    {
     "output_type": "execute_result",
     "data": {
      "application/vnd.google.colaboratory.intrinsic+json": {
       "type": "string"
      },
      "text/plain": [
       "'\\nstore_for_prob, target_count_in_term_node, root_subtree = stored_for_prob(target_count_in_term_node, check_seq, target, the_tree)\\nprint(store_for_prob)\\nprint(target_count_in_term_node)\\n'"
      ]
     },
     "metadata": {},
     "execution_count": 71
    }
   ]
  },
  {
   "cell_type": "code",
   "source": [
    "'''\n",
    "print(\"Given sequence:\", check_seq)\n",
    "print(\"Predict probability for:\", target)\n",
    "print(\"subtree node counts stored for calculation:\", store_for_prob)\n",
    "print(\"total number of nodes in the tree:\", total_count_of_nodes)\n",
    "print(\"count of target node following the subtree:\", target_count_in_term_node)\n",
    "print(\"count of target in the entire tree:\", count_of_all_nodes[target])\n",
    "\n",
    "print(root_subtree[0], root_subtree[1], len(root_subtree[2]))\n",
    "'''"
   ],
   "metadata": {
    "colab": {
     "base_uri": "https://localhost:8080/"
    },
    "id": "RkVCgMIuC9I0",
    "executionInfo": {
     "status": "ok",
     "timestamp": 1643540862138,
     "user_tz": -60,
     "elapsed": 357,
     "user": {
      "displayName": "Seminar ahmias",
      "photoUrl": "https://lh3.googleusercontent.com/a/default-user=s64",
      "userId": "08863251838733967153"
     }
    },
    "outputId": "054d8c3a-8432-46d5-bc47-b0302a11d9b5"
   },
   "execution_count": 105,
   "outputs": [
    {
     "output_type": "stream",
     "name": "stdout",
     "text": [
      "Given sequence: LiDd\n",
      "Predict probability for: l\n",
      "subtree node counts stored for calculation: [('i', 74), ('D', 19), ('d', 19), ('i', 74), ('D', 19), ('d', 19), ('i', 74), ('D', 19), ('d', 19), ('i', 74), ('D', 19), ('d', 19), ('i', 74), ('D', 19), ('d', 19), ('i', 74), ('D', 19), ('d', 19), ('i', 74), ('D', 19), ('d', 19), ('i', 74), ('D', 19), ('d', 19), ('i', 74), ('D', 19), ('d', 19), ('i', 74), ('D', 19), ('d', 19), ('i', 74), ('D', 19), ('d', 19), ('i', 74), ('D', 19), ('d', 19), ('i', 74), ('D', 19), ('d', 19)]\n",
      "total number of nodes in the tree: 45260\n",
      "count of target node following the subtree: 2\n",
      "count of target in the entire tree: 3190\n",
      "L 1051 23\n"
     ]
    }
   ]
  },
  {
   "cell_type": "code",
   "source": [
    "'''\n",
    "target_in_all_nodes = count_of_all_nodes[target]/total_count_of_nodes\n",
    "#print(target_in_all_nodes)\n",
    "\n",
    "prob_output = prob(root, target, check_seq, stored_for_prob)\n",
    "\n",
    "print(\"target_count_in_term_node:\", target_count_in_term_node)\n",
    "print(\"target in all nodes:\", count_of_all_nodes[target])\n",
    "print(\"prob of target in all nodes:\", count_of_all_nodes[target], \"/\", total_count_of_nodes, \"=\", target_in_all_nodes)\n",
    "print(\"\")\n",
    "'''"
   ],
   "metadata": {
    "colab": {
     "base_uri": "https://localhost:8080/",
     "height": 70
    },
    "id": "roIK7T6VDDR5",
    "executionInfo": {
     "status": "ok",
     "timestamp": 1643540920068,
     "user_tz": -60,
     "elapsed": 229,
     "user": {
      "displayName": "Seminar ahmias",
      "photoUrl": "https://lh3.googleusercontent.com/a/default-user=s64",
      "userId": "08863251838733967153"
     }
    },
    "outputId": "b58fb0d1-d563-4216-c959-6b5c86519b67"
   },
   "execution_count": 107,
   "outputs": [
    {
     "output_type": "execute_result",
     "data": {
      "application/vnd.google.colaboratory.intrinsic+json": {
       "type": "string"
      },
      "text/plain": [
       "'\\ntarget_in_all_nodes = count_of_all_nodes[target]/total_count_of_nodes\\n#print(target_in_all_nodes)\\n\\nprob_output = prob(root, target, check_seq, stored_for_prob)\\n\\nprint(\"target_count_in_term_node:\", target_count_in_term_node)\\nprint(\"target in all nodes:\", count_of_all_nodes[target])\\nprint(\"prob of target in all nodes:\", count_of_all_nodes[target], \"/\", total_count_of_nodes, \"=\", target_in_all_nodes)\\nprint(\"\")\\n'"
      ]
     },
     "metadata": {},
     "execution_count": 107
    }
   ]
  },
  {
   "cell_type": "code",
   "source": [
    "check_seq = \"LiDd\"\n",
    "target = \"l\"\n",
    "the_prob = prob_of_target(check_seq, target, the_tree, total_count_of_nodes)\n",
    "print(the_prob)"
   ],
   "metadata": {
    "colab": {
     "base_uri": "https://localhost:8080/"
    },
    "id": "9NAk0khpnHNB",
    "executionInfo": {
     "status": "ok",
     "timestamp": 1643540821643,
     "user_tz": -60,
     "elapsed": 392,
     "user": {
      "displayName": "Seminar ahmias",
      "photoUrl": "https://lh3.googleusercontent.com/a/default-user=s64",
      "userId": "08863251838733967153"
     }
    },
    "outputId": "7522a363-482b-4997-c5c3-4cd2fd15508c"
   },
   "execution_count": 103,
   "outputs": [
    {
     "output_type": "stream",
     "name": "stdout",
     "text": [
      "Given sequence: LiDd\n",
      "Predict probability for: l\n",
      "subtree node counts stored for calculation: [('i', 74), ('D', 19), ('d', 19), ('i', 74), ('D', 19), ('d', 19), ('i', 74), ('D', 19), ('d', 19), ('i', 74), ('D', 19), ('d', 19), ('i', 74), ('D', 19), ('d', 19), ('i', 74), ('D', 19), ('d', 19), ('i', 74), ('D', 19), ('d', 19), ('i', 74), ('D', 19), ('d', 19), ('i', 74), ('D', 19), ('d', 19), ('i', 74), ('D', 19), ('d', 19), ('i', 74), ('D', 19), ('d', 19), ('i', 74), ('D', 19), ('d', 19), ('i', 74), ('D', 19), ('d', 19)]\n",
      "total number of nodes in the tree: 45260\n",
      "count of target node following the subtree: 2\n",
      "count of target in the entire tree: 3190\n",
      "L 1051 23\n",
      "2.0896197420758704e-50\n"
     ]
    }
   ]
  },
  {
   "cell_type": "markdown",
   "source": [
    "# Looping through the dataset for accuracy scores"
   ],
   "metadata": {
    "id": "OrPF1ULtDHOk"
   }
  },
  {
   "cell_type": "code",
   "source": [
    "print(\"number of episodes:\", len(episode_list))\n",
    "print(\"length of the sequence:\", len(episode_seq))"
   ],
   "metadata": {
    "id": "JIz6gCKWDIGI"
   },
   "execution_count": null,
   "outputs": []
  }
 ]
}