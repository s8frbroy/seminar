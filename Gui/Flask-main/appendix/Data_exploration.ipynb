{
 "nbformat": 4,
 "nbformat_minor": 0,
 "metadata": {
  "colab": {
   "name": "Data_exploration.ipynb",
   "provenance": [],
   "authorship_tag": "ABX9TyOQE+ru06BanFtDfgYBF+ii"
  },
  "kernelspec": {
   "name": "python3",
   "display_name": "Python 3"
  },
  "language_info": {
   "name": "python"
  }
 },
 "cells": [
  {
   "cell_type": "code",
   "source": [
    "import matplotlib.pyplot as plt\n",
    "import pandas as pd\n",
    "import numpy as np"
   ],
   "metadata": {
    "id": "CQH3dxO8Fkji",
    "executionInfo": {
     "status": "ok",
     "timestamp": 1644940494404,
     "user_tz": -60,
     "elapsed": 9,
     "user": {
      "displayName": "Seminar ahmias",
      "photoUrl": "https://lh3.googleusercontent.com/a/default-user=s64",
      "userId": "08863251838733967153"
     }
    }
   },
   "execution_count": 1,
   "outputs": []
  },
  {
   "cell_type": "markdown",
   "source": [
    "# Aras"
   ],
   "metadata": {
    "id": "O2vKzzxF5wbA"
   }
  },
  {
   "cell_type": "code",
   "source": [
    "aras_A = pd.read_csv(\"processed_data/Aras_HouseA.csv\")\n",
    "#aras_A = pd.read_csv(\"/content/gdrive/My Drive/Colab Notebooks/processed_data/HouseA_final1.csv\")"
   ],
   "metadata": {
    "id": "AZQXv4u451h-",
    "executionInfo": {
     "status": "ok",
     "timestamp": 1644940497333,
     "user_tz": -60,
     "elapsed": 228,
     "user": {
      "displayName": "Seminar ahmias",
      "photoUrl": "https://lh3.googleusercontent.com/a/default-user=s64",
      "userId": "08863251838733967153"
     }
    }
   },
   "execution_count": 2,
   "outputs": []
  },
  {
   "cell_type": "code",
   "source": [
    "aras = aras_A"
   ],
   "metadata": {
    "id": "7aL4Hq_O5964",
    "executionInfo": {
     "status": "ok",
     "timestamp": 1644940498183,
     "user_tz": -60,
     "elapsed": 2,
     "user": {
      "displayName": "Seminar ahmias",
      "photoUrl": "https://lh3.googleusercontent.com/a/default-user=s64",
      "userId": "08863251838733967153"
     }
    }
   },
   "execution_count": 20,
   "outputs": []
  },
  {
   "cell_type": "code",
   "source": [
    "x = aras[\"sensor_id\"].value_counts(sort = True)\n",
    "x"
   ],
   "metadata": {
    "colab": {
     "base_uri": "https://localhost:8080/"
    },
    "id": "jQgpBhOt6M3X",
    "executionInfo": {
     "status": "ok",
     "timestamp": 1644940498816,
     "user_tz": -60,
     "elapsed": 2,
     "user": {
      "displayName": "Seminar ahmias",
      "photoUrl": "https://lh3.googleusercontent.com/a/default-user=s64",
      "userId": "08863251838733967153"
     }
    },
    "outputId": "e5af88e3-a4c6-47cd-a6dc-7009d70adb7d"
   },
   "execution_count": 21,
   "outputs": [
    {
     "output_type": "execute_result",
     "data": {
      "text/plain": [
       "7125    6928\n",
       "5893    6830\n",
       "5889    3313\n",
       "5896    2172\n",
       "6253    1240\n",
       "5895    1206\n",
       "5888     466\n",
       "Name: sensor_id, dtype: int64"
      ]
     },
     "metadata": {},
     "execution_count": 21
    }
   ]
  },
  {
   "cell_type": "code",
   "source": [
    "l = []\n",
    "for i in x.index:\n",
    "  l.append(str(i))"
   ],
   "metadata": {
    "id": "iaY2iz536M57",
    "executionInfo": {
     "status": "ok",
     "timestamp": 1644940500284,
     "user_tz": -60,
     "elapsed": 205,
     "user": {
      "displayName": "Seminar ahmias",
      "photoUrl": "https://lh3.googleusercontent.com/a/default-user=s64",
      "userId": "08863251838733967153"
     }
    }
   },
   "execution_count": 22,
   "outputs": []
  },
  {
   "cell_type": "code",
   "source": [
    "plt.bar(l, np.log(x.values))\n",
    "plt.axhline(y=np.log(x.values).mean(), color='r', linestyle='-')\n",
    "plt.xticks(rotation='vertical')\n",
    "plt.title(\"Number count of each sensor\")\n",
    "plt.xlabel(\"sensor\")\n",
    "plt.ylabel(\"log number count\")\n",
    "plt.show()"
   ],
   "metadata": {
    "colab": {
     "base_uri": "https://localhost:8080/",
     "height": 311
    },
    "id": "CvWk7LWt6M8a",
    "executionInfo": {
     "status": "ok",
     "timestamp": 1644940501477,
     "user_tz": -60,
     "elapsed": 320,
     "user": {
      "displayName": "Seminar ahmias",
      "photoUrl": "https://lh3.googleusercontent.com/a/default-user=s64",
      "userId": "08863251838733967153"
     }
    },
    "outputId": "16dfbbfe-e84d-405b-952b-eeca0a6bc83e"
   },
   "execution_count": 23,
   "outputs": [
    {
     "output_type": "display_data",
     "data": {
      "image/png": "[encoded data removed]",
      "text/plain": [
       "<Figure size 432x288 with 1 Axes>"
      ]
     },
     "metadata": {
      "needs_background": "light"
     }
    }
   ]
  },
  {
   "cell_type": "code",
   "source": [
    "aras_B = pd.read_csv(\"/content/gdrive/My Drive/Colab Notebooks/processed_data/HouseB_final1.csv\")\n",
    "\n",
    "x = aras_B[\"sensor_id\"].value_counts(sort = True)\n",
    "x\n",
    "\n"
   ],
   "metadata": {
    "colab": {
     "base_uri": "https://localhost:8080/"
    },
    "id": "TZ_Fanbf6M-6",
    "executionInfo": {
     "status": "ok",
     "timestamp": 1644940528467,
     "user_tz": -60,
     "elapsed": 562,
     "user": {
      "displayName": "Seminar ahmias",
      "photoUrl": "https://lh3.googleusercontent.com/a/default-user=s64",
      "userId": "08863251838733967153"
     }
    },
    "outputId": "4efab046-31cf-4619-e636-4b3abde9580d"
   },
   "execution_count": 24,
   "outputs": [
    {
     "output_type": "execute_result",
     "data": {
      "text/plain": [
       "5893    2174\n",
       "5889    1656\n",
       "7125    1420\n",
       "5895    1262\n",
       "6253     504\n",
       "5888     118\n",
       "5896      78\n",
       "Name: sensor_id, dtype: int64"
      ]
     },
     "metadata": {},
     "execution_count": 24
    }
   ]
  },
  {
   "cell_type": "code",
   "source": [
    "l = []\n",
    "for i in x.index:\n",
    "  l.append(str(i))"
   ],
   "metadata": {
    "id": "gnbEoCOL754H",
    "executionInfo": {
     "status": "ok",
     "timestamp": 1644940529973,
     "user_tz": -60,
     "elapsed": 261,
     "user": {
      "displayName": "Seminar ahmias",
      "photoUrl": "https://lh3.googleusercontent.com/a/default-user=s64",
      "userId": "08863251838733967153"
     }
    }
   },
   "execution_count": 25,
   "outputs": []
  },
  {
   "cell_type": "code",
   "source": [
    "plt.bar(l, np.log(x.values))\n",
    "plt.axhline(y=np.log(x.values).mean(), color='r', linestyle='-')\n",
    "plt.xticks(rotation='vertical')\n",
    "plt.title(\"Number count of each sensor\")\n",
    "plt.xlabel(\"sensor\")\n",
    "plt.ylabel(\"log number count\")\n",
    "plt.show()"
   ],
   "metadata": {
    "colab": {
     "base_uri": "https://localhost:8080/",
     "height": 311
    },
    "id": "eqCysNT-6NBd",
    "executionInfo": {
     "status": "ok",
     "timestamp": 1644940531321,
     "user_tz": -60,
     "elapsed": 476,
     "user": {
      "displayName": "Seminar ahmias",
      "photoUrl": "https://lh3.googleusercontent.com/a/default-user=s64",
      "userId": "08863251838733967153"
     }
    },
    "outputId": "eb0e15bc-ab50-46bf-d1a2-8d2e47bf7db0"
   },
   "execution_count": 26,
   "outputs": [
    {
     "output_type": "display_data",
     "data": {
      "image/png": "[encoded data removed]",
      "text/plain": [
       "<Figure size 432x288 with 1 Axes>"
      ]
     },
     "metadata": {
      "needs_background": "light"
     }
    }
   ]
  },
  {
   "cell_type": "markdown",
   "source": [
    "# Multi data set"
   ],
   "metadata": {
    "id": "lNKITdXyodPa"
   }
  },
  {
   "cell_type": "code",
   "source": [
    "import matplotlib.pyplot as plt\n",
    "import pandas as pd\n",
    "import numpy as np"
   ],
   "metadata": {
    "id": "cjsleKtkobwT"
   },
   "execution_count": null,
   "outputs": []
  },
  {
   "cell_type": "code",
   "source": [
    "#multi = pd.read_csv(\"/content/gdrive/My Drive/Colab Notebooks/processed_data/3_months_data_with_weekday.csv\")\n",
    "multi = pd.read_csv(\"/content/gdrive/My Drive/Colab Notebooks/processed_data/multi_final1.csv\")"
   ],
   "metadata": {
    "id": "VjoV7Of-o5Zc",
    "executionInfo": {
     "status": "ok",
     "timestamp": 1644940596652,
     "user_tz": -60,
     "elapsed": 743,
     "user": {
      "displayName": "Seminar ahmias",
      "photoUrl": "https://lh3.googleusercontent.com/a/default-user=s64",
      "userId": "08863251838733967153"
     }
    }
   },
   "execution_count": 27,
   "outputs": []
  },
  {
   "cell_type": "code",
   "source": [
    "t = multi\n",
    "timestamp = pd.to_datetime(t[\"timestamp\"])\n",
    "week = timestamp.dt.week\n",
    "t[\"timestamp\"] = timestamp\n",
    "t[\"week\"] = week\n"
   ],
   "metadata": {
    "colab": {
     "base_uri": "https://localhost:8080/"
    },
    "id": "ivPCJQkipj3f",
    "executionInfo": {
     "status": "ok",
     "timestamp": 1644940598817,
     "user_tz": -60,
     "elapsed": 285,
     "user": {
      "displayName": "Seminar ahmias",
      "photoUrl": "https://lh3.googleusercontent.com/a/default-user=s64",
      "userId": "08863251838733967153"
     }
    },
    "outputId": "7ddf7ebe-fcc5-4b01-a59c-4e5d1da55a1c"
   },
   "execution_count": 28,
   "outputs": [
    {
     "output_type": "stream",
     "name": "stderr",
     "text": [
      "/usr/local/lib/python3.7/dist-packages/ipykernel_launcher.py:3: FutureWarning: Series.dt.weekofyear and Series.dt.week have been deprecated.  Please use Series.dt.isocalendar().week instead.\n",
      "  This is separate from the ipykernel package so we can avoid doing imports until\n"
     ]
    }
   ]
  },
  {
   "cell_type": "code",
   "source": [
    "day = timestamp.dt.dayofyear\n",
    "t[\"day\"] = day"
   ],
   "metadata": {
    "id": "Hzl9q_tpzlx8",
    "executionInfo": {
     "status": "ok",
     "timestamp": 1644940600573,
     "user_tz": -60,
     "elapsed": 195,
     "user": {
      "displayName": "Seminar ahmias",
      "photoUrl": "https://lh3.googleusercontent.com/a/default-user=s64",
      "userId": "08863251838733967153"
     }
    }
   },
   "execution_count": 29,
   "outputs": []
  },
  {
   "cell_type": "code",
   "source": [
    "t.iloc[:1000]"
   ],
   "metadata": {
    "colab": {
     "base_uri": "https://localhost:8080/",
     "height": 424
    },
    "id": "VvRDXyf8tj40",
    "executionInfo": {
     "status": "ok",
     "timestamp": 1644940602984,
     "user_tz": -60,
     "elapsed": 233,
     "user": {
      "displayName": "Seminar ahmias",
      "photoUrl": "https://lh3.googleusercontent.com/a/default-user=s64",
      "userId": "08863251838733967153"
     }
    },
    "outputId": "a6f80b5a-950d-49b7-b835-5238cb13be62"
   },
   "execution_count": 30,
   "outputs": [
    {
     "output_type": "execute_result",
     "data": {
      "text/html": [
       "\n",
       "  <div id=\"df-a69a46b2-55eb-47b4-80b2-eec50cb2a0e6\">\n",
       "    <div class=\"colab-df-container\">\n",
       "      <div>\n",
       "<style scoped>\n",
       "    .dataframe tbody tr th:only-of-type {\n",
       "        vertical-align: middle;\n",
       "    }\n",
       "\n",
       "    .dataframe tbody tr th {\n",
       "        vertical-align: top;\n",
       "    }\n",
       "\n",
       "    .dataframe thead th {\n",
       "        text-align: right;\n",
       "    }\n",
       "</style>\n",
       "<table border=\"1\" class=\"dataframe\">\n",
       "  <thead>\n",
       "    <tr style=\"text-align: right;\">\n",
       "      <th></th>\n",
       "      <th>Unnamed: 0</th>\n",
       "      <th>Unnamed: 0.1</th>\n",
       "      <th>sensor_id</th>\n",
       "      <th>value</th>\n",
       "      <th>time_scal</th>\n",
       "      <th>timestamp</th>\n",
       "      <th>weekday</th>\n",
       "      <th>time</th>\n",
       "      <th>event</th>\n",
       "      <th>week</th>\n",
       "      <th>day</th>\n",
       "    </tr>\n",
       "  </thead>\n",
       "  <tbody>\n",
       "    <tr>\n",
       "      <th>0</th>\n",
       "      <td>0</td>\n",
       "      <td>0</td>\n",
       "      <td>5895</td>\n",
       "      <td>0.0</td>\n",
       "      <td>0.702025</td>\n",
       "      <td>2020-03-24 16:50:55.754753</td>\n",
       "      <td>1</td>\n",
       "      <td>60655.0</td>\n",
       "      <td>0</td>\n",
       "      <td>13</td>\n",
       "      <td>84</td>\n",
       "    </tr>\n",
       "    <tr>\n",
       "      <th>1</th>\n",
       "      <td>1</td>\n",
       "      <td>1</td>\n",
       "      <td>5889</td>\n",
       "      <td>0.0</td>\n",
       "      <td>0.702037</td>\n",
       "      <td>2020-03-24 16:50:56.015072</td>\n",
       "      <td>1</td>\n",
       "      <td>60656.0</td>\n",
       "      <td>20</td>\n",
       "      <td>13</td>\n",
       "      <td>84</td>\n",
       "    </tr>\n",
       "    <tr>\n",
       "      <th>2</th>\n",
       "      <td>2</td>\n",
       "      <td>2</td>\n",
       "      <td>5896</td>\n",
       "      <td>0.0</td>\n",
       "      <td>0.702037</td>\n",
       "      <td>2020-03-24 16:50:56.068567</td>\n",
       "      <td>1</td>\n",
       "      <td>60656.0</td>\n",
       "      <td>4</td>\n",
       "      <td>13</td>\n",
       "      <td>84</td>\n",
       "    </tr>\n",
       "    <tr>\n",
       "      <th>3</th>\n",
       "      <td>3</td>\n",
       "      <td>3</td>\n",
       "      <td>6253</td>\n",
       "      <td>0.0</td>\n",
       "      <td>0.702037</td>\n",
       "      <td>2020-03-24 16:50:56.114845</td>\n",
       "      <td>1</td>\n",
       "      <td>60656.0</td>\n",
       "      <td>6</td>\n",
       "      <td>13</td>\n",
       "      <td>84</td>\n",
       "    </tr>\n",
       "    <tr>\n",
       "      <th>4</th>\n",
       "      <td>4</td>\n",
       "      <td>4</td>\n",
       "      <td>5887</td>\n",
       "      <td>0.0</td>\n",
       "      <td>0.702037</td>\n",
       "      <td>2020-03-24 16:50:56.145422</td>\n",
       "      <td>1</td>\n",
       "      <td>60656.0</td>\n",
       "      <td>16</td>\n",
       "      <td>13</td>\n",
       "      <td>84</td>\n",
       "    </tr>\n",
       "    <tr>\n",
       "      <th>...</th>\n",
       "      <td>...</td>\n",
       "      <td>...</td>\n",
       "      <td>...</td>\n",
       "      <td>...</td>\n",
       "      <td>...</td>\n",
       "      <td>...</td>\n",
       "      <td>...</td>\n",
       "      <td>...</td>\n",
       "      <td>...</td>\n",
       "      <td>...</td>\n",
       "      <td>...</td>\n",
       "    </tr>\n",
       "    <tr>\n",
       "      <th>995</th>\n",
       "      <td>994</td>\n",
       "      <td>944</td>\n",
       "      <td>5895</td>\n",
       "      <td>1.0</td>\n",
       "      <td>0.860903</td>\n",
       "      <td>2020-03-25 20:39:42.247327</td>\n",
       "      <td>2</td>\n",
       "      <td>74382.0</td>\n",
       "      <td>1</td>\n",
       "      <td>13</td>\n",
       "      <td>85</td>\n",
       "    </tr>\n",
       "    <tr>\n",
       "      <th>996</th>\n",
       "      <td>995</td>\n",
       "      <td>945</td>\n",
       "      <td>5896</td>\n",
       "      <td>0.0</td>\n",
       "      <td>0.864190</td>\n",
       "      <td>2020-03-25 20:44:26.595960</td>\n",
       "      <td>2</td>\n",
       "      <td>74666.0</td>\n",
       "      <td>4</td>\n",
       "      <td>13</td>\n",
       "      <td>85</td>\n",
       "    </tr>\n",
       "    <tr>\n",
       "      <th>997</th>\n",
       "      <td>996</td>\n",
       "      <td>946</td>\n",
       "      <td>5895</td>\n",
       "      <td>0.0</td>\n",
       "      <td>0.917847</td>\n",
       "      <td>2020-03-25 22:01:42.199759</td>\n",
       "      <td>2</td>\n",
       "      <td>79302.0</td>\n",
       "      <td>0</td>\n",
       "      <td>13</td>\n",
       "      <td>85</td>\n",
       "    </tr>\n",
       "    <tr>\n",
       "      <th>998</th>\n",
       "      <td>997</td>\n",
       "      <td>947</td>\n",
       "      <td>5895</td>\n",
       "      <td>1.0</td>\n",
       "      <td>0.918438</td>\n",
       "      <td>2020-03-25 22:02:33.208363</td>\n",
       "      <td>2</td>\n",
       "      <td>79353.0</td>\n",
       "      <td>1</td>\n",
       "      <td>13</td>\n",
       "      <td>85</td>\n",
       "    </tr>\n",
       "    <tr>\n",
       "      <th>999</th>\n",
       "      <td>998</td>\n",
       "      <td>948</td>\n",
       "      <td>5895</td>\n",
       "      <td>0.0</td>\n",
       "      <td>0.930312</td>\n",
       "      <td>2020-03-25 22:19:39.215854</td>\n",
       "      <td>2</td>\n",
       "      <td>80379.0</td>\n",
       "      <td>0</td>\n",
       "      <td>13</td>\n",
       "      <td>85</td>\n",
       "    </tr>\n",
       "  </tbody>\n",
       "</table>\n",
       "<p>1000 rows × 11 columns</p>\n",
       "</div>\n",
       "      <button class=\"colab-df-convert\" onclick=\"convertToInteractive('df-a69a46b2-55eb-47b4-80b2-eec50cb2a0e6')\"\n",
       "              title=\"Convert this dataframe to an interactive table.\"\n",
       "              style=\"display:none;\">\n",
       "        \n",
       "  <svg xmlns=\"http://www.w3.org/2000/svg\" height=\"24px\"viewBox=\"0 0 24 24\"\n",
       "       width=\"24px\">\n",
       "    <path d=\"M0 0h24v24H0V0z\" fill=\"none\"/>\n",
       "    <path d=\"M18.56 5.44l.94 2.06.94-2.06 2.06-.94-2.06-.94-.94-2.06-.94 2.06-2.06.94zm-11 1L8.5 8.5l.94-2.06 2.06-.94-2.06-.94L8.5 2.5l-.94 2.06-2.06.94zm10 10l.94 2.06.94-2.06 2.06-.94-2.06-.94-.94-2.06-.94 2.06-2.06.94z\"/><path d=\"M17.41 7.96l-1.37-1.37c-.4-.4-.92-.59-1.43-.59-.52 0-1.04.2-1.43.59L10.3 9.45l-7.72 7.72c-.78.78-.78 2.05 0 2.83L4 21.41c.39.39.9.59 1.41.59.51 0 1.02-.2 1.41-.59l7.78-7.78 2.81-2.81c.8-.78.8-2.07 0-2.86zM5.41 20L4 18.59l7.72-7.72 1.47 1.35L5.41 20z\"/>\n",
       "  </svg>\n",
       "      </button>\n",
       "      \n",
       "  <style>\n",
       "    .colab-df-container {\n",
       "      display:flex;\n",
       "      flex-wrap:wrap;\n",
       "      gap: 12px;\n",
       "    }\n",
       "\n",
       "    .colab-df-convert {\n",
       "      background-color: #E8F0FE;\n",
       "      border: none;\n",
       "      border-radius: 50%;\n",
       "      cursor: pointer;\n",
       "      display: none;\n",
       "      fill: #1967D2;\n",
       "      height: 32px;\n",
       "      padding: 0 0 0 0;\n",
       "      width: 32px;\n",
       "    }\n",
       "\n",
       "    .colab-df-convert:hover {\n",
       "      background-color: #E2EBFA;\n",
       "      box-shadow: 0px 1px 2px rgba(60, 64, 67, 0.3), 0px 1px 3px 1px rgba(60, 64, 67, 0.15);\n",
       "      fill: #174EA6;\n",
       "    }\n",
       "\n",
       "    [theme=dark] .colab-df-convert {\n",
       "      background-color: #3B4455;\n",
       "      fill: #D2E3FC;\n",
       "    }\n",
       "\n",
       "    [theme=dark] .colab-df-convert:hover {\n",
       "      background-color: #434B5C;\n",
       "      box-shadow: 0px 1px 3px 1px rgba(0, 0, 0, 0.15);\n",
       "      filter: drop-shadow(0px 1px 2px rgba(0, 0, 0, 0.3));\n",
       "      fill: #FFFFFF;\n",
       "    }\n",
       "  </style>\n",
       "\n",
       "      <script>\n",
       "        const buttonEl =\n",
       "          document.querySelector('#df-a69a46b2-55eb-47b4-80b2-eec50cb2a0e6 button.colab-df-convert');\n",
       "        buttonEl.style.display =\n",
       "          google.colab.kernel.accessAllowed ? 'block' : 'none';\n",
       "\n",
       "        async function convertToInteractive(key) {\n",
       "          const element = document.querySelector('#df-a69a46b2-55eb-47b4-80b2-eec50cb2a0e6');\n",
       "          const dataTable =\n",
       "            await google.colab.kernel.invokeFunction('convertToInteractive',\n",
       "                                                     [key], {});\n",
       "          if (!dataTable) return;\n",
       "\n",
       "          const docLinkHtml = 'Like what you see? Visit the ' +\n",
       "            '<a target=\"_blank\" href=https://colab.research.google.com/notebooks/data_table.ipynb>data table notebook</a>'\n",
       "            + ' to learn more about interactive tables.';\n",
       "          element.innerHTML = '';\n",
       "          dataTable['output_type'] = 'display_data';\n",
       "          await google.colab.output.renderOutput(dataTable, element);\n",
       "          const docLink = document.createElement('div');\n",
       "          docLink.innerHTML = docLinkHtml;\n",
       "          element.appendChild(docLink);\n",
       "        }\n",
       "      </script>\n",
       "    </div>\n",
       "  </div>\n",
       "  "
      ],
      "text/plain": [
       "     Unnamed: 0  Unnamed: 0.1  sensor_id  value  ...     time event  week  day\n",
       "0             0             0       5895    0.0  ...  60655.0     0    13   84\n",
       "1             1             1       5889    0.0  ...  60656.0    20    13   84\n",
       "2             2             2       5896    0.0  ...  60656.0     4    13   84\n",
       "3             3             3       6253    0.0  ...  60656.0     6    13   84\n",
       "4             4             4       5887    0.0  ...  60656.0    16    13   84\n",
       "..          ...           ...        ...    ...  ...      ...   ...   ...  ...\n",
       "995         994           944       5895    1.0  ...  74382.0     1    13   85\n",
       "996         995           945       5896    0.0  ...  74666.0     4    13   85\n",
       "997         996           946       5895    0.0  ...  79302.0     0    13   85\n",
       "998         997           947       5895    1.0  ...  79353.0     1    13   85\n",
       "999         998           948       5895    0.0  ...  80379.0     0    13   85\n",
       "\n",
       "[1000 rows x 11 columns]"
      ]
     },
     "metadata": {},
     "execution_count": 30
    }
   ]
  },
  {
   "cell_type": "markdown",
   "source": [
    "## sensors"
   ],
   "metadata": {
    "id": "kVVuYIKyt-G4"
   }
  },
  {
   "cell_type": "code",
   "source": [
    "x = t[\"sensor_id\"].value_counts()"
   ],
   "metadata": {
    "id": "mI6uY7B7uAXh",
    "executionInfo": {
     "status": "ok",
     "timestamp": 1644940618868,
     "user_tz": -60,
     "elapsed": 194,
     "user": {
      "displayName": "Seminar ahmias",
      "photoUrl": "https://lh3.googleusercontent.com/a/default-user=s64",
      "userId": "08863251838733967153"
     }
    }
   },
   "execution_count": 35,
   "outputs": []
  },
  {
   "cell_type": "code",
   "source": [
    "x"
   ],
   "metadata": {
    "colab": {
     "base_uri": "https://localhost:8080/"
    },
    "id": "OlxSkR__6rNv",
    "executionInfo": {
     "status": "ok",
     "timestamp": 1644940619630,
     "user_tz": -60,
     "elapsed": 4,
     "user": {
      "displayName": "Seminar ahmias",
      "photoUrl": "https://lh3.googleusercontent.com/a/default-user=s64",
      "userId": "08863251838733967153"
     }
    },
    "outputId": "703869ca-7408-4afe-e8a3-91aca7eeaae5"
   },
   "execution_count": 36,
   "outputs": [
    {
     "output_type": "execute_result",
     "data": {
      "text/plain": [
       "5895    7505\n",
       "5893    6115\n",
       "5887    2317\n",
       "6253    2069\n",
       "5896    1731\n",
       "5889    1603\n",
       "6632     873\n",
       "7125     736\n",
       "5888     675\n",
       "6633     219\n",
       "6896      65\n",
       "6635      21\n",
       "Name: sensor_id, dtype: int64"
      ]
     },
     "metadata": {},
     "execution_count": 36
    }
   ]
  },
  {
   "cell_type": "code",
   "source": [
    "l = []\n",
    "for i in x.index:\n",
    "  l.append(str(i))"
   ],
   "metadata": {
    "id": "oMVby4oG3bwC",
    "executionInfo": {
     "status": "ok",
     "timestamp": 1644940619838,
     "user_tz": -60,
     "elapsed": 2,
     "user": {
      "displayName": "Seminar ahmias",
      "photoUrl": "https://lh3.googleusercontent.com/a/default-user=s64",
      "userId": "08863251838733967153"
     }
    }
   },
   "execution_count": 37,
   "outputs": []
  },
  {
   "cell_type": "code",
   "source": [
    "plt.bar(l, np.log(x.values))\n",
    "plt.axhline(y=np.log(x.values).mean(), color='r', linestyle='-')\n",
    "plt.xticks(rotation='vertical')\n",
    "plt.title(\"Number count of each sensor\")\n",
    "plt.xlabel(\"sensor\")\n",
    "plt.ylabel(\"log number count\")\n",
    "plt.show()"
   ],
   "metadata": {
    "colab": {
     "base_uri": "https://localhost:8080/",
     "height": 311
    },
    "id": "MhIPPjOru-Zm",
    "executionInfo": {
     "status": "ok",
     "timestamp": 1644940621473,
     "user_tz": -60,
     "elapsed": 902,
     "user": {
      "displayName": "Seminar ahmias",
      "photoUrl": "https://lh3.googleusercontent.com/a/default-user=s64",
      "userId": "08863251838733967153"
     }
    },
    "outputId": "2f071d7f-6e44-4abb-e88c-a1e02773ce96"
   },
   "execution_count": 38,
   "outputs": [
    {
     "output_type": "display_data",
     "data": {
      "image/png": "[encoded data removed]",
      "text/plain": [
       "<Figure size 432x288 with 1 Axes>"
      ]
     },
     "metadata": {
      "needs_background": "light"
     }
    }
   ]
  },
  {
   "cell_type": "markdown",
   "source": [
    "# weekday"
   ],
   "metadata": {
    "id": "noOXnMlwwfJM"
   }
  },
  {
   "cell_type": "code",
   "source": [
    "g_weekday = t.groupby([\"weekday\"])"
   ],
   "metadata": {
    "id": "aHiXsNMIsRYv",
    "executionInfo": {
     "status": "ok",
     "timestamp": 1644940635932,
     "user_tz": -60,
     "elapsed": 255,
     "user": {
      "displayName": "Seminar ahmias",
      "photoUrl": "https://lh3.googleusercontent.com/a/default-user=s64",
      "userId": "08863251838733967153"
     }
    }
   },
   "execution_count": 39,
   "outputs": []
  },
  {
   "cell_type": "code",
   "source": [
    "x = g_weekday.size()"
   ],
   "metadata": {
    "id": "640ZkDCys2QI",
    "executionInfo": {
     "status": "ok",
     "timestamp": 1644940636222,
     "user_tz": -60,
     "elapsed": 2,
     "user": {
      "displayName": "Seminar ahmias",
      "photoUrl": "https://lh3.googleusercontent.com/a/default-user=s64",
      "userId": "08863251838733967153"
     }
    }
   },
   "execution_count": 40,
   "outputs": []
  },
  {
   "cell_type": "code",
   "source": [
    "plt.bar([\"Monday\", \"Tuesday\", \"Wednesday\", \"Thursday\", \"Friday\", \"Saturday\", \"Sunday\"], x.values)\n",
    "plt.axhline(y=g_weekday.size().mean(), color='r', linestyle='-')\n",
    "plt.xticks(rotation='vertical')\n",
    "plt.title(\"Number of activities on each weekday\")\n",
    "plt.xlabel(\"weekday\")\n",
    "plt.ylabel(\"number count\")\n",
    "plt.show()"
   ],
   "metadata": {
    "colab": {
     "base_uri": "https://localhost:8080/",
     "height": 343
    },
    "id": "Vw-oaMbMtVJA",
    "executionInfo": {
     "status": "ok",
     "timestamp": 1644940637275,
     "user_tz": -60,
     "elapsed": 532,
     "user": {
      "displayName": "Seminar ahmias",
      "photoUrl": "https://lh3.googleusercontent.com/a/default-user=s64",
      "userId": "08863251838733967153"
     }
    },
    "outputId": "259655d0-3421-42d7-da62-edc0238f0889"
   },
   "execution_count": 41,
   "outputs": [
    {
     "output_type": "display_data",
     "data": {
      "image/png": "[encoded data removed]",
      "text/plain": [
       "<Figure size 432x288 with 1 Axes>"
      ]
     },
     "metadata": {
      "needs_background": "light"
     }
    }
   ]
  },
  {
   "cell_type": "markdown",
   "source": [
    "# Week"
   ],
   "metadata": {
    "id": "74wvCTvPxWnN"
   }
  },
  {
   "cell_type": "code",
   "source": [
    "g_week = t.groupby([\"week\"])"
   ],
   "metadata": {
    "id": "1eKsSnelwoqW",
    "executionInfo": {
     "status": "ok",
     "timestamp": 1644940644332,
     "user_tz": -60,
     "elapsed": 272,
     "user": {
      "displayName": "Seminar ahmias",
      "photoUrl": "https://lh3.googleusercontent.com/a/default-user=s64",
      "userId": "08863251838733967153"
     }
    }
   },
   "execution_count": 42,
   "outputs": []
  },
  {
   "cell_type": "code",
   "source": [
    "x = g_week.size()\n"
   ],
   "metadata": {
    "id": "V_Ddrqp0wu1Y",
    "executionInfo": {
     "status": "ok",
     "timestamp": 1644940644902,
     "user_tz": -60,
     "elapsed": 316,
     "user": {
      "displayName": "Seminar ahmias",
      "photoUrl": "https://lh3.googleusercontent.com/a/default-user=s64",
      "userId": "08863251838733967153"
     }
    }
   },
   "execution_count": 43,
   "outputs": []
  },
  {
   "cell_type": "code",
   "source": [
    "plt.bar(x.index, x.values)\n",
    "plt.axhline(y=g_week.size().mean(), color='r', linestyle='-')\n",
    "plt.title(\"Number of activities on each week\")\n",
    "plt.xlabel(\"week\")\n",
    "plt.ylabel(\"number count\")\n",
    "plt.xticks()\n",
    "plt.show()"
   ],
   "metadata": {
    "colab": {
     "base_uri": "https://localhost:8080/",
     "height": 295
    },
    "id": "K_NXPccFypOd",
    "executionInfo": {
     "status": "ok",
     "timestamp": 1644940645530,
     "user_tz": -60,
     "elapsed": 376,
     "user": {
      "displayName": "Seminar ahmias",
      "photoUrl": "https://lh3.googleusercontent.com/a/default-user=s64",
      "userId": "08863251838733967153"
     }
    },
    "outputId": "e1c17aca-0796-4709-adea-a89a3d0c4b7d"
   },
   "execution_count": 44,
   "outputs": [
    {
     "output_type": "display_data",
     "data": {
      "image/png": "[encoded data removed]",
      "text/plain": [
       "<Figure size 432x288 with 1 Axes>"
      ]
     },
     "metadata": {
      "needs_background": "light"
     }
    }
   ]
  },
  {
   "cell_type": "markdown",
   "source": [
    "# day"
   ],
   "metadata": {
    "id": "4e5Wtt0Q0ENm"
   }
  },
  {
   "cell_type": "code",
   "source": [
    "g_day = t.groupby([\"day\"])\n",
    "x = g_day.size()"
   ],
   "metadata": {
    "id": "XRmTx0P_y0St",
    "executionInfo": {
     "status": "ok",
     "timestamp": 1644940654367,
     "user_tz": -60,
     "elapsed": 305,
     "user": {
      "displayName": "Seminar ahmias",
      "photoUrl": "https://lh3.googleusercontent.com/a/default-user=s64",
      "userId": "08863251838733967153"
     }
    }
   },
   "execution_count": 45,
   "outputs": []
  },
  {
   "cell_type": "code",
   "source": [
    "plt.bar(x.index, x.values)\n",
    "plt.axhline(y=g_day.size().mean(), color='r', linestyle='-')\n",
    "plt.xticks()\n",
    "plt.title(\"Number of activities each day\")\n",
    "plt.xlabel(\"day\")\n",
    "plt.ylabel(\"number count\")\n",
    "plt.show()"
   ],
   "metadata": {
    "colab": {
     "base_uri": "https://localhost:8080/",
     "height": 295
    },
    "id": "Fh3dd3Ir0PDf",
    "executionInfo": {
     "status": "ok",
     "timestamp": 1644940655421,
     "user_tz": -60,
     "elapsed": 760,
     "user": {
      "displayName": "Seminar ahmias",
      "photoUrl": "https://lh3.googleusercontent.com/a/default-user=s64",
      "userId": "08863251838733967153"
     }
    },
    "outputId": "54bfd66d-c194-4def-ef51-b38c13922da9"
   },
   "execution_count": 46,
   "outputs": [
    {
     "output_type": "display_data",
     "data": {
      "image/png": "[encoded data removed]",
      "text/plain": [
       "<Figure size 432x288 with 1 Axes>"
      ]
     },
     "metadata": {
      "needs_background": "light"
     }
    }
   ]
  },
  {
   "cell_type": "markdown",
   "source": [
    "### Peak is 147"
   ],
   "metadata": {
    "id": "POZyee_RMiLh"
   }
  },
  {
   "cell_type": "code",
   "source": [
    "g_day.size().idxmax()"
   ],
   "metadata": {
    "colab": {
     "base_uri": "https://localhost:8080/"
    },
    "id": "sU2a3Gr70SiW",
    "executionInfo": {
     "status": "ok",
     "timestamp": 1643829191904,
     "user_tz": -60,
     "elapsed": 240,
     "user": {
      "displayName": "Seminar ahmias",
      "photoUrl": "https://lh3.googleusercontent.com/a/default-user=s64",
      "userId": "08863251838733967153"
     }
    },
    "outputId": "311a6048-a7a2-4f79-f56d-ff6ed6f5e260"
   },
   "execution_count": null,
   "outputs": [
    {
     "output_type": "execute_result",
     "data": {
      "text/plain": [
       "147"
      ]
     },
     "metadata": {},
     "execution_count": 33
    }
   ]
  },
  {
   "cell_type": "code",
   "source": [
    "day147 = g_day.get_group(130)"
   ],
   "metadata": {
    "id": "7tF-TUiz0Z5U"
   },
   "execution_count": null,
   "outputs": []
  },
  {
   "cell_type": "code",
   "source": [
    "day147[\"sensor_id\"].value_counts()"
   ],
   "metadata": {
    "colab": {
     "base_uri": "https://localhost:8080/"
    },
    "id": "n7aL1KXdMsoS",
    "executionInfo": {
     "status": "ok",
     "timestamp": 1643829192328,
     "user_tz": -60,
     "elapsed": 31,
     "user": {
      "displayName": "Seminar ahmias",
      "photoUrl": "https://lh3.googleusercontent.com/a/default-user=s64",
      "userId": "08863251838733967153"
     }
    },
    "outputId": "9f5757b4-94a4-4138-e3e8-2d789e069bc2"
   },
   "execution_count": null,
   "outputs": [
    {
     "output_type": "execute_result",
     "data": {
      "text/plain": [
       "5893    156\n",
       "5887     78\n",
       "5896     56\n",
       "5888     14\n",
       "7125     10\n",
       "Name: sensor_id, dtype: int64"
      ]
     },
     "metadata": {},
     "execution_count": 35
    }
   ]
  },
  {
   "cell_type": "code",
   "source": [
    "pd.set_option(\"max_rows\", None)\n",
    "x = day147[day147[\"sensor_id\"] == 5893]"
   ],
   "metadata": {
    "id": "iC-rDPD_M38A"
   },
   "execution_count": null,
   "outputs": []
  },
  {
   "cell_type": "code",
   "source": [
    "plt.figure(figsize=(30,3))\n",
    "plt.plot(x[\"time_scal\"],x[\"value\"] )"
   ],
   "metadata": {
    "colab": {
     "base_uri": "https://localhost:8080/",
     "height": 228
    },
    "id": "GO9xYp4vNR7d",
    "executionInfo": {
     "status": "ok",
     "timestamp": 1643829192809,
     "user_tz": -60,
     "elapsed": 496,
     "user": {
      "displayName": "Seminar ahmias",
      "photoUrl": "https://lh3.googleusercontent.com/a/default-user=s64",
      "userId": "08863251838733967153"
     }
    },
    "outputId": "5347683e-c8cb-4536-ca51-b5a835a1ef3b"
   },
   "execution_count": null,
   "outputs": [
    {
     "output_type": "execute_result",
     "data": {
      "text/plain": [
       "[<matplotlib.lines.Line2D at 0x7f8cb3a84e10>]"
      ]
     },
     "metadata": {},
     "execution_count": 37
    },
    {
     "output_type": "display_data",
     "data": {
      "image/png": "[encoded data removed]",
      "text/plain": [
       "<Figure size 2160x216 with 1 Axes>"
      ]
     },
     "metadata": {
      "needs_background": "light"
     }
    }
   ]
  },
  {
   "cell_type": "code",
   "source": [
    "g_day = t.groupby([\"day\"])"
   ],
   "metadata": {
    "id": "Fl4qQShvOUd2"
   },
   "execution_count": null,
   "outputs": []
  },
  {
   "cell_type": "code",
   "source": [
    "max = 0\n",
    "ind = 0\n",
    "for name, group in g_day:\n",
    "    a = len(pd.unique(group[\"sensor_id\"]))\n",
    "    if a > max:\n",
    "      print(a)\n",
    "      max = a\n",
    "      ind = name"
   ],
   "metadata": {
    "colab": {
     "base_uri": "https://localhost:8080/"
    },
    "id": "oK5TrZuKQVD-",
    "executionInfo": {
     "status": "ok",
     "timestamp": 1643829192811,
     "user_tz": -60,
     "elapsed": 38,
     "user": {
      "displayName": "Seminar ahmias",
      "photoUrl": "https://lh3.googleusercontent.com/a/default-user=s64",
      "userId": "08863251838733967153"
     }
    },
    "outputId": "4480bddc-3841-4997-efa0-52182d86b25b"
   },
   "execution_count": null,
   "outputs": [
    {
     "output_type": "stream",
     "name": "stdout",
     "text": [
      "9\n",
      "10\n"
     ]
    }
   ]
  },
  {
   "cell_type": "code",
   "source": [
    "n = pd.unique(g_day.get_group(ind)[\"sensor_id\"])"
   ],
   "metadata": {
    "id": "SuN8h8joSzSK"
   },
   "execution_count": null,
   "outputs": []
  },
  {
   "cell_type": "code",
   "source": [
    "max_sensor = g_day.get_group(ind)"
   ],
   "metadata": {
    "id": "Q80rxlg6UgPv"
   },
   "execution_count": null,
   "outputs": []
  },
  {
   "cell_type": "code",
   "source": [
    "max_sensor[max_sensor[\"timestamp\"].dt.hour == 11]"
   ],
   "metadata": {
    "id": "Uu9CkNUDmhvz"
   },
   "execution_count": null,
   "outputs": []
  },
  {
   "cell_type": "markdown",
   "source": [
    "# One day of data"
   ],
   "metadata": {
    "id": "xsXTuJCze-W0"
   }
  },
  {
   "cell_type": "code",
   "source": [
    "plt.figure(figsize=(13,3))\n",
    "plt.title(f\"Plot of a day\")\n",
    "plt.xlabel(\"scaled time\")\n",
    "plt.xlim([0,1])\n",
    "\n",
    "## bed pressure\n",
    "x = max_sensor[max_sensor[\"sensor_id\"] == n[1]]\n",
    "plt.scatter(x[\"time_scal\"],x[\"value\"]-0.1, label = \"bed\", c = \"green\", alpha = 1)\n",
    "\n",
    "## coffee maker\n",
    "x = max_sensor[max_sensor[\"sensor_id\"] == n[4]]\n",
    "plt.scatter(x[\"time_scal\"],x[\"value\"]-0.2, c =\"purple\", label= \"coffee\")\n",
    "\n",
    "## fridge\n",
    "x = max_sensor[max_sensor[\"sensor_id\"] == n[5]]\n",
    "plt.scatter(x[\"time_scal\"],x[\"value\"]-0.3, c = \"violet\", label = \"fridge\")\n",
    "\n",
    "## microwave\n",
    "x = max_sensor[max_sensor[\"sensor_id\"] == n[6]]\n",
    "plt.scatter(x[\"time_scal\"],x[\"value\"]-0.4, c = \"black\", label = \"microwave\")\n",
    "\n",
    "plt.legend()\n",
    "plt.show()\n"
   ],
   "metadata": {
    "colab": {
     "base_uri": "https://localhost:8080/",
     "height": 241
    },
    "id": "QFeq43BBe6bp",
    "executionInfo": {
     "status": "ok",
     "timestamp": 1643829844960,
     "user_tz": -60,
     "elapsed": 680,
     "user": {
      "displayName": "Seminar ahmias",
      "photoUrl": "https://lh3.googleusercontent.com/a/default-user=s64",
      "userId": "08863251838733967153"
     }
    },
    "outputId": "f6d2e100-d80b-4c2c-ae2a-d2c51b1ea603"
   },
   "execution_count": null,
   "outputs": [
    {
     "output_type": "display_data",
     "data": {
      "image/png": "[encoded data removed]",
      "text/plain": [
       "<Figure size 936x216 with 1 Axes>"
      ]
     },
     "metadata": {
      "needs_background": "light"
     }
    }
   ]
  },
  {
   "cell_type": "code",
   "source": [
    "x = max_sensor[max_sensor[\"sensor_id\"] == n[1]]\n",
    "\n",
    "plt.figure(figsize=(15,3))\n",
    "plt.title(f\"bed pressure: {n[1]}\")\n",
    "plt.xlim([-0.5,24.5])\n",
    "\n",
    "plt.scatter(x[\"timestamp\"].dt.hour,x[\"value\"])\n",
    "\n",
    "plt.show()"
   ],
   "metadata": {
    "colab": {
     "base_uri": "https://localhost:8080/",
     "height": 227
    },
    "id": "6AQdbZ0fXQqr",
    "executionInfo": {
     "status": "ok",
     "timestamp": 1643318919689,
     "user_tz": -60,
     "elapsed": 720,
     "user": {
      "displayName": "Seminar ahmias",
      "photoUrl": "https://lh3.googleusercontent.com/a/default-user=s64",
      "userId": "08863251838733967153"
     }
    },
    "outputId": "bf1d6b80-e2d2-46e9-da9f-e7cdd701cfe8"
   },
   "execution_count": null,
   "outputs": [
    {
     "output_type": "display_data",
     "data": {
      "image/png": "[encoded data removed]",
      "text/plain": [
       "<Figure size 1080x216 with 1 Axes>"
      ]
     },
     "metadata": {
      "needs_background": "light"
     }
    }
   ]
  },
  {
   "cell_type": "code",
   "source": [
    "x = max_sensor[max_sensor[\"sensor_id\"] == n[2]]\n",
    "\n",
    "plt.figure(figsize=(15,3))\n",
    "plt.title(f\"kitchen stove: {n[2]}\")\n",
    "plt.xlim([-0.5,24.5])\n",
    "\n",
    "plt.scatter(x[\"timestamp\"].dt.hour,x[\"value\"])\n",
    "\n",
    "x = max_sensor[max_sensor[\"sensor_id\"] == n[3]]\n",
    "plt.scatter(x[\"timestamp\"].dt.hour,x[\"value\"])\n",
    "\n",
    "\n",
    "plt.show()"
   ],
   "metadata": {
    "colab": {
     "base_uri": "https://localhost:8080/",
     "height": 227
    },
    "id": "B-hSSHf4YQ50",
    "executionInfo": {
     "status": "ok",
     "timestamp": 1643319610278,
     "user_tz": -60,
     "elapsed": 678,
     "user": {
      "displayName": "Seminar ahmias",
      "photoUrl": "https://lh3.googleusercontent.com/a/default-user=s64",
      "userId": "08863251838733967153"
     }
    },
    "outputId": "91535de8-c3f0-4448-a1e2-2cd6702c7e8d"
   },
   "execution_count": null,
   "outputs": [
    {
     "output_type": "display_data",
     "data": {
      "image/png": "[encoded data removed]",
      "text/plain": [
       "<Figure size 1080x216 with 1 Axes>"
      ]
     },
     "metadata": {
      "needs_background": "light"
     }
    }
   ]
  },
  {
   "cell_type": "code",
   "source": [
    "x = max_sensor[max_sensor[\"sensor_id\"] == n[3]]\n",
    "\n",
    "plt.figure(figsize=(15,3))\n",
    "plt.title(f\"kitchen ambience motion: {n[3]}\")\n",
    "plt.xlim([-0.5,24.5])\n",
    "\n",
    "plt.scatter(x[\"timestamp\"].dt.hour,x[\"value\"])\n",
    "\n",
    "plt.show()"
   ],
   "metadata": {
    "colab": {
     "base_uri": "https://localhost:8080/",
     "height": 227
    },
    "id": "C96s5JIjYocA",
    "executionInfo": {
     "status": "ok",
     "timestamp": 1643319046344,
     "user_tz": -60,
     "elapsed": 602,
     "user": {
      "displayName": "Seminar ahmias",
      "photoUrl": "https://lh3.googleusercontent.com/a/default-user=s64",
      "userId": "08863251838733967153"
     }
    },
    "outputId": "118a65ad-e785-40e9-f4e9-55aad24d570c"
   },
   "execution_count": null,
   "outputs": [
    {
     "output_type": "display_data",
     "data": {
      "image/png": "[encoded data removed]",
      "text/plain": [
       "<Figure size 1080x216 with 1 Axes>"
      ]
     },
     "metadata": {
      "needs_background": "light"
     }
    }
   ]
  },
  {
   "cell_type": "code",
   "source": [
    "x = max_sensor[max_sensor[\"sensor_id\"] == n[4]]\n",
    "plt.scatter(x[\"timestamp\"].dt.hour,x[\"value\"])\n",
    "plt.figure(figsize=(15,3))\n",
    "plt.title(f\"coffe maker: {n[4]}\")\n",
    "plt.xlim([-0.5,24.5])\n",
    "\n",
    "plt.scatter(x[\"timestamp\"].dt.hour,x[\"value\"])\n",
    "\n",
    "plt.show()"
   ],
   "metadata": {
    "colab": {
     "base_uri": "https://localhost:8080/",
     "height": 227
    },
    "id": "soIBvY2cYxRE",
    "executionInfo": {
     "status": "ok",
     "timestamp": 1643319100445,
     "user_tz": -60,
     "elapsed": 658,
     "user": {
      "displayName": "Seminar ahmias",
      "photoUrl": "https://lh3.googleusercontent.com/a/default-user=s64",
      "userId": "08863251838733967153"
     }
    },
    "outputId": "f04a35fd-659e-48e3-abbd-45fe561c1882"
   },
   "execution_count": null,
   "outputs": [
    {
     "output_type": "display_data",
     "data": {
      "image/png": "[encoded data removed]",
      "text/plain": [
       "<Figure size 1080x216 with 1 Axes>"
      ]
     },
     "metadata": {
      "needs_background": "light"
     }
    }
   ]
  },
  {
   "cell_type": "code",
   "source": [
    "x = max_sensor[max_sensor[\"sensor_id\"] == n[5]]\n",
    "plt.scatter(x[\"timestamp\"].dt.hour,x[\"value\"])\n",
    "\n",
    "plt.figure(figsize=(15,3))\n",
    "plt.title(f\"kitchen fridge contact: {n[5]}\")\n",
    "plt.xlim([-0.5,24.5])\n",
    "\n",
    "plt.scatter(x[\"timestamp\"].dt.hour,x[\"value\"])\n",
    "\n",
    "plt.show()"
   ],
   "metadata": {
    "colab": {
     "base_uri": "https://localhost:8080/",
     "height": 227
    },
    "id": "xcEHUW3QY79d",
    "executionInfo": {
     "status": "ok",
     "timestamp": 1643319255352,
     "user_tz": -60,
     "elapsed": 705,
     "user": {
      "displayName": "Seminar ahmias",
      "photoUrl": "https://lh3.googleusercontent.com/a/default-user=s64",
      "userId": "08863251838733967153"
     }
    },
    "outputId": "df37d2fd-7f7e-4938-809f-294c89117dbc"
   },
   "execution_count": null,
   "outputs": [
    {
     "output_type": "display_data",
     "data": {
      "image/png": "[encoded data removed]",
      "text/plain": [
       "<Figure size 1080x216 with 1 Axes>"
      ]
     },
     "metadata": {
      "needs_background": "light"
     }
    }
   ]
  },
  {
   "cell_type": "code",
   "source": [
    "x = max_sensor[max_sensor[\"sensor_id\"] == n[6]]\n",
    "\n",
    "plt.figure(figsize=(15,3))\n",
    "plt.title(f\"kitchen microwave: {n[6]}\")\n",
    "plt.xlim([-0.5,24.5])\n",
    "\n",
    "plt.scatter(x[\"timestamp\"].dt.hour,x[\"value\"])\n",
    "\n",
    "plt.show()"
   ],
   "metadata": {
    "colab": {
     "base_uri": "https://localhost:8080/",
     "height": 227
    },
    "id": "SxmQvSXWdWLi",
    "executionInfo": {
     "status": "ok",
     "timestamp": 1643319313103,
     "user_tz": -60,
     "elapsed": 675,
     "user": {
      "displayName": "Seminar ahmias",
      "photoUrl": "https://lh3.googleusercontent.com/a/default-user=s64",
      "userId": "08863251838733967153"
     }
    },
    "outputId": "4c2ce96f-9547-48de-d4c4-f06665138cb1"
   },
   "execution_count": null,
   "outputs": [
    {
     "output_type": "display_data",
     "data": {
      "image/png": "[encoded data removed]",
      "text/plain": [
       "<Figure size 1080x216 with 1 Axes>"
      ]
     },
     "metadata": {
      "needs_background": "light"
     }
    }
   ]
  },
  {
   "cell_type": "code",
   "source": [
    "x = max_sensor[max_sensor[\"sensor_id\"] == n[7]]\n",
    "\n",
    "plt.figure(figsize=(15,3))\n",
    "plt.title(f\"entrance door: {n[7]}\")\n",
    "plt.xlim([-0.5,24.5])\n",
    "\n",
    "plt.scatter(x[\"timestamp\"].dt.hour,x[\"value\"])\n",
    "\n",
    "plt.show()"
   ],
   "metadata": {
    "colab": {
     "base_uri": "https://localhost:8080/",
     "height": 227
    },
    "id": "2FmlZ3uidoFp",
    "executionInfo": {
     "status": "ok",
     "timestamp": 1643319375028,
     "user_tz": -60,
     "elapsed": 496,
     "user": {
      "displayName": "Seminar ahmias",
      "photoUrl": "https://lh3.googleusercontent.com/a/default-user=s64",
      "userId": "08863251838733967153"
     }
    },
    "outputId": "2e8a1e70-79a5-4101-815b-60dd58211d3a"
   },
   "execution_count": null,
   "outputs": [
    {
     "output_type": "display_data",
     "data": {
      "image/png": "[encoded data removed]",
      "text/plain": [
       "<Figure size 1080x216 with 1 Axes>"
      ]
     },
     "metadata": {
      "needs_background": "light"
     }
    }
   ]
  },
  {
   "cell_type": "code",
   "source": [
    "x = max_sensor[max_sensor[\"sensor_id\"] == n[8]]\n",
    "\n",
    "plt.figure(figsize=(15,3))\n",
    "plt.title(f\"living couch pressure: {n[8]}\")\n",
    "plt.xlim([-0.5,24.5])\n",
    "\n",
    "plt.scatter(x[\"timestamp\"].dt.hour,x[\"value\"])\n",
    "\n",
    "plt.show()"
   ],
   "metadata": {
    "colab": {
     "base_uri": "https://localhost:8080/",
     "height": 227
    },
    "id": "9MMYXZdDd0pT",
    "executionInfo": {
     "status": "ok",
     "timestamp": 1643319423661,
     "user_tz": -60,
     "elapsed": 687,
     "user": {
      "displayName": "Seminar ahmias",
      "photoUrl": "https://lh3.googleusercontent.com/a/default-user=s64",
      "userId": "08863251838733967153"
     }
    },
    "outputId": "943ddfd7-69a4-47ef-900c-a086d67a0690"
   },
   "execution_count": null,
   "outputs": [
    {
     "output_type": "display_data",
     "data": {
      "image/png": "[encoded data removed]",
      "text/plain": [
       "<Figure size 1080x216 with 1 Axes>"
      ]
     },
     "metadata": {
      "needs_background": "light"
     }
    }
   ]
  },
  {
   "cell_type": "code",
   "source": [
    "x = max_sensor[max_sensor[\"sensor_id\"] == n[9]]\n",
    "\n",
    "plt.figure(figsize=(15,3))\n",
    "plt.title(f\"sandwichmaker: {n[9]}\")\n",
    "plt.xlim([-0.5,24.5])\n",
    "\n",
    "plt.scatter(x[\"timestamp\"].dt.hour,x[\"value\"])\n",
    "\n",
    "plt.show()"
   ],
   "metadata": {
    "colab": {
     "base_uri": "https://localhost:8080/",
     "height": 227
    },
    "id": "WpBKv9B7eBez",
    "executionInfo": {
     "status": "ok",
     "timestamp": 1643319467928,
     "user_tz": -60,
     "elapsed": 663,
     "user": {
      "displayName": "Seminar ahmias",
      "photoUrl": "https://lh3.googleusercontent.com/a/default-user=s64",
      "userId": "08863251838733967153"
     }
    },
    "outputId": "aa91fd59-8d8f-4aee-8296-de0a318ede71",
    "pycharm": {
     "name": "#%%\n"
    }
   },
   "execution_count": null,
   "outputs": [
    {
     "output_type": "display_data",
     "data": {
      "image/png": "[encoded data removed]",
      "text/plain": [
       "<Figure size 1080x216 with 1 Axes>"
      ]
     },
     "metadata": {
      "needs_background": "light"
     }
    }
   ]
  }
 ]
}